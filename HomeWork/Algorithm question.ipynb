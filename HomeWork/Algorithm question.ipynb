{
  "nbformat": 4,
  "nbformat_minor": 0,
  "metadata": {
    "colab": {
      "name": "22p21c0247_สรยุทธ_A. Thanaruk's Quiz.ipynb",
      "provenance": [],
      "collapsed_sections": [
        "cpEQDiqscWgw",
        "fcwwpagpcjF3"
      ]
    },
    "kernelspec": {
      "name": "python3",
      "display_name": "Python 3"
    }
  },
  "cells": [
    {
      "cell_type": "markdown",
      "metadata": {
        "id": "cpEQDiqscWgw"
      },
      "source": [
        "# **ข้อ 0** \n",
        "เขียนโปรแกรมหาค่าสูงสุดในลิสต์ \n",
        "ส่วนตัวใช้ insertion sorting algorithm"
      ]
    },
    {
      "cell_type": "code",
      "metadata": {
        "id": "iC7ouXTa3Cz0"
      },
      "source": [
        "# ข้อ 0\n",
        "def max_valus_with_insertion_sort(values_list): \n",
        "  for i in range(len(values_list)):\n",
        "      checking_value = values_list[i]\n",
        "\n",
        "      while i > 0 and values_list[i - 1] > checking_value: # ตัวที่ i-1 ไปเทียบกับ checking_value จากนั้น เอา i-2 ไปเช็ค จนกระทั่ง i = 0 (ตัวแรก)\n",
        "          values_list[i] = values_list[i - 1] # สลับค่าน้อยเป็นค่าที่มากกว่า\n",
        "          i = i - 1 # ขยับไป ตัวก่อนหน้า\n",
        "\n",
        "      values_list[i] = checking_value # assign ค่าตัว แรก เพราะ pos = 0 ถึงออกจาก while loop\n",
        "  print(values_list)\n",
        "  return values_list[len(values_list)-1]"
      ],
      "execution_count": null,
      "outputs": []
    },
    {
      "cell_type": "code",
      "metadata": {
        "id": "X3NgnbUP3IBT"
      },
      "source": [
        "import numpy as np\n",
        "# สร้าง list แบบสุ่ม\n",
        "values = np.random.randint(0,10,(1,10))\n",
        "values_list2D = values.tolist()\n",
        "values_list = values_list2D[0]\n",
        "values_list"
      ],
      "execution_count": null,
      "outputs": []
    },
    {
      "cell_type": "code",
      "metadata": {
        "id": "4TDpKuXy3tzz"
      },
      "source": [
        "max_valus_with_insertion_sort(values_list)"
      ],
      "execution_count": null,
      "outputs": []
    },
    {
      "cell_type": "markdown",
      "metadata": {
        "id": "fcwwpagpcjF3"
      },
      "source": [
        "# **ข้อ 1** \n",
        "เขียน 8 puzzle ส่วนตัวใช้ A* *algorithm*"
      ]
    },
    {
      "cell_type": "code",
      "metadata": {
        "id": "cJKvyEBq6Uhp"
      },
      "source": [
        "# ข้อ 1\n",
        "import copy\n",
        "import random \n",
        "\n",
        "def win(puzzle, goal): # ถูกแล้วหรือยัง\n",
        "  return goal == puzzle # ถ้าถูก return True\n",
        "\n",
        "def find(puzzle,t): # หาตำแหน่งของค่า t ใน puzzle\n",
        "    for i in range(len(puzzle)):\n",
        "      for j in range(len(puzzle[i])):\n",
        "        if t == puzzle[i][j]:\n",
        "          return i,j\n",
        "\n",
        "def fScore(puzzle,goal): # คำนวณ f score จาก g score () + h score\n",
        "  count = 0\n",
        "  for i in range(len(puzzle)):\n",
        "    for j in range(len(puzzle[i])):\n",
        "      if puzzle[i][j] == 0:\n",
        "        continue\n",
        "      if puzzle[i][j] != goal[i][j]: # h score\n",
        "        count += 1  \n",
        "      k,l = find(goal,puzzle[i][j])\n",
        "      count += abs(k-i) + abs(l-j) # g score\n",
        "  return count\n",
        "\n",
        "def genOp(puzzle): # หาโอกาสที่ 0 จะเคลื่อนที่ไปได้ทั้งหมด \n",
        "  ops = []\n",
        "  i,j = find(puzzle,0)\n",
        "  for p in [(-1,0),(+1,0),(0,-1),(0,+1)]:\n",
        "    if not ((i+p[0] > 2) or (i+p[0] < 0) or (j+p[1] > 2) or (j+p[1] < 0)):\n",
        "      ops.append([i+p[0],j+p[1]])\n",
        "  return ops\n",
        "\n",
        "def swap0(puzzles,pos):\n",
        "  puzzle = copy.deepcopy(puzzles)\n",
        "  i,j = find(puzzle,0)\n",
        "  puzzle[i][j] = puzzle[pos[0]][pos[1]]\n",
        "  puzzle[pos[0]][pos[1]] = 0\n",
        "  return puzzle\n",
        "\n",
        "def solve(puzzles, goal):\n",
        "  total_list = []\n",
        "  puzzle = copy.deepcopy(puzzles)\n",
        "  last = find(puzzle,0)\n",
        "  while not win(puzzle,goal):\n",
        "    ops = genOp(puzzle)\n",
        "    for i in range(len(ops)):\n",
        "      if list(ops[i]) != list(last):\n",
        "        ops.append(ops[i])\n",
        "    less = swap0(puzzle, ops[0])\n",
        "    for i,v in enumerate(ops):\n",
        "      if fScore(swap0(puzzle, v),goal) < fScore(less,goal):\n",
        "        less = swap0(puzzle, v)\n",
        "    last = find(puzzle,0)\n",
        "    puzzle = less\n",
        "    total_list.append(puzzle)\n",
        "  return total_list\n"
      ],
      "execution_count": null,
      "outputs": []
    },
    {
      "cell_type": "code",
      "metadata": {
        "id": "mYMuNssUjeZl"
      },
      "source": [
        "goal = [[1,2,3],\n",
        "        [4,5,6],\n",
        "        [7,8,0]]\n",
        "        \n",
        "pb = [[4,1,2],\n",
        "        [7,0,3],\n",
        "        [8,5,6]]\n",
        "print(\"Goal\")\n",
        "for i in goal:\n",
        "  print(i)\n",
        "print(\"-----------\")\n",
        "print(\"Problem\")\n",
        "for i in pb:\n",
        "  print(i)\n",
        "print(\"-----------\\n\")\n",
        "total_list = solve(pb, goal)\n",
        "\n",
        "for i in total_list:\n",
        "  print(\"    |\")\n",
        "  print(\"    V\")\n",
        "  for j in i:\n",
        "    print(j)\n"
      ],
      "execution_count": null,
      "outputs": []
    },
    {
      "cell_type": "markdown",
      "metadata": {
        "id": "hiUQl8D3nUL-"
      },
      "source": [
        "# **ข้อ 2**\n",
        "\n",
        "\n",
        "\n",
        "เขียน depth-first search พร้อม อะนิเมชั่น"
      ]
    },
    {
      "cell_type": "code",
      "metadata": {
        "id": "zcxBpZTQv1jU"
      },
      "source": [
        "# another solution of ข้อ 1 ใช้ simpleai\n",
        "\n",
        "from __future__ import print_function\n",
        "from simpleai.search import astar, SearchProblem\n",
        "from simpleai.search.viewers import WebViewer\n",
        "\n",
        "\n",
        "GOAL = '''1-2-3\n",
        "4-5-6\n",
        "7-8-e'''\n",
        "\n",
        "INITIAL = '''4-1-2\n",
        "7-e-3\n",
        "8-5-6'''\n",
        "\n",
        "def list_to_string(list_):\n",
        "    return '\\n'.join(['-'.join(row) for row in list_])\n",
        "\n",
        "\n",
        "def string_to_list(string_):\n",
        "    return [row.split('-') for row in string_.split('\\n')]\n",
        "\n",
        "\n",
        "def find_location(rows, element_to_find):\n",
        "    for ir, row in enumerate(rows):\n",
        "        for ic, element in enumerate(row):\n",
        "            if element == element_to_find:\n",
        "                return ir, ic\n",
        "\n",
        "goal_positions = {}\n",
        "rows_goal = string_to_list(GOAL)\n",
        "for number in '12345678e':\n",
        "    goal_positions[number] = find_location(rows_goal, number)"
      ],
      "execution_count": null,
      "outputs": []
    },
    {
      "cell_type": "code",
      "metadata": {
        "id": "I5b910wJwGfx"
      },
      "source": [
        "class EigthPuzzleProblem(SearchProblem):\n",
        "    def actions(self, state):\n",
        "        rows = string_to_list(state)\n",
        "        row_e, col_e = find_location(rows, 'e')\n",
        "\n",
        "        actions = []\n",
        "        if row_e > 0:\n",
        "            actions.append(rows[row_e - 1][col_e])\n",
        "        if row_e < 2:\n",
        "            actions.append(rows[row_e + 1][col_e])\n",
        "        if col_e > 0:\n",
        "            actions.append(rows[row_e][col_e - 1])\n",
        "        if col_e < 2:\n",
        "            actions.append(rows[row_e][col_e + 1])\n",
        "\n",
        "        return actions\n",
        "\n",
        "    def result(self, state, action):\n",
        "        rows = string_to_list(state)\n",
        "        row_e, col_e = find_location(rows, 'e')\n",
        "        row_n, col_n = find_location(rows, action)\n",
        "\n",
        "        rows[row_e][col_e], rows[row_n][col_n] = rows[row_n][col_n], rows[row_e][col_e]\n",
        "\n",
        "        return list_to_string(rows)\n",
        "\n",
        "    def is_goal(self, state):\n",
        "        '''Returns true if a state is the goal state.'''\n",
        "        return state == GOAL\n",
        "\n",
        "    def cost(self, state1, action, state2):\n",
        "        '''Returns the cost of performing an action. No useful on this problem, i\n",
        "           but needed.\n",
        "        '''\n",
        "        return 1\n",
        "\n",
        "    def heuristic(self, state):\n",
        "        '''Returns an *estimation* of the distance from a state to the goal.\n",
        "           We are using the manhattan distance.\n",
        "        '''\n",
        "        rows = string_to_list(state)\n",
        "\n",
        "        distance = 0\n",
        "\n",
        "        for number in '12345678e':\n",
        "            row_n, col_n = find_location(rows, number)\n",
        "            row_n_goal, col_n_goal = goal_positions[number]\n",
        "\n",
        "            distance += abs(row_n - row_n_goal) + abs(col_n - col_n_goal)\n",
        "\n",
        "        return distance"
      ],
      "execution_count": null,
      "outputs": []
    },
    {
      "cell_type": "code",
      "metadata": {
        "id": "xKmp5rRu5MxG"
      },
      "source": [
        "from google.colab.output import  serve_kernel_port_as_window\n",
        "serve_kernel_port_as_window(8000)"
      ],
      "execution_count": null,
      "outputs": []
    },
    {
      "cell_type": "code",
      "metadata": {
        "id": "z3-wuNfLwKGN"
      },
      "source": [
        "# ข้อ 2 \n",
        "# Animation of DFS\n",
        "result = astar(EigthPuzzleProblem(INITIAL), viewer=WebViewer())"
      ],
      "execution_count": null,
      "outputs": []
    },
    {
      "cell_type": "markdown",
      "metadata": {
        "id": "aw7WraMDnwzD"
      },
      "source": [
        "# **ข้อ 3** \n",
        "เลือกข้อมูล 1 อย่างจาก \n",
        "     Kaggle มาทำการ visualize\n",
        "     ข้อมูลในรูปแบบกราฟต่างๆ"
      ]
    },
    {
      "cell_type": "code",
      "metadata": {
        "id": "nVa5DBvPnrjD",
        "outputId": "2e2403a3-7dd9-48bd-9091-7201b5008015",
        "colab": {
          "base_uri": "https://localhost:8080/",
          "height": 84
        }
      },
      "source": [
        "!pip install -U kora"
      ],
      "execution_count": null,
      "outputs": [
        {
          "output_type": "stream",
          "text": [
            "Collecting kora\n",
            "  Downloading https://files.pythonhosted.org/packages/d2/ae/b4f586f68b38cc60d2e1907e78faf88c3a96d27961ea39c08e4c7c3e43d0/kora-0.6.14-py3-none-any.whl\n",
            "Installing collected packages: kora\n",
            "Successfully installed kora-0.6.14\n"
          ],
          "name": "stdout"
        }
      ]
    },
    {
      "cell_type": "code",
      "metadata": {
        "id": "Y6bPCVdyn-Ue",
        "outputId": "aa125065-9c13-4ee7-8e30-29ec0748f1cc",
        "colab": {
          "base_uri": "https://localhost:8080/",
          "height": 34
        }
      },
      "source": [
        "from google.colab import drive\n",
        "drive.mount('/content/drive')"
      ],
      "execution_count": null,
      "outputs": [
        {
          "output_type": "stream",
          "text": [
            "Mounted at /content/drive\n"
          ],
          "name": "stdout"
        }
      ]
    },
    {
      "cell_type": "code",
      "metadata": {
        "id": "qTaEGPsGn-kF"
      },
      "source": [
        "from kora import kaggle"
      ],
      "execution_count": null,
      "outputs": []
    },
    {
      "cell_type": "code",
      "metadata": {
        "id": "LgXJnwgun-H-",
        "outputId": "c8a4d362-dac5-4e58-e01c-f695e7c2b734",
        "colab": {
          "base_uri": "https://localhost:8080/",
          "height": 487
        }
      },
      "source": [
        "kaggle.search('cat')"
      ],
      "execution_count": null,
      "outputs": [
        {
          "output_type": "execute_result",
          "data": {
            "application/vnd.google.colaboratory.module+javascript": "\n      import \"https://ssl.gstatic.com/colaboratory/data_table/a6224c040fa35dcf/data_table.js\";\n\n      window.createDataTable({\n        data: [[{\n            'v': 0,\n            'f': \"0\",\n        },\n\"crawford/cat-dataset\",\n\"Cat Dataset\",\n\"4GB\",\n\"2018-02-16 23:41:25\",\n{\n            'v': 11333,\n            'f': \"11333\",\n        }],\n [{\n            'v': 1,\n            'f': \"1\",\n        },\n\"tongpython/cat-and-dog\",\n\"Cat and Dog\",\n\"218MB\",\n\"2018-04-26 10:56:50\",\n{\n            'v': 23611,\n            'f': \"23611\",\n        }],\n [{\n            'v': 2,\n            'f': \"2\",\n        },\n\"rmisra/news-category-dataset\",\n\"News Category Dataset\",\n\"25MB\",\n\"2018-12-02 04:09:45\",\n{\n            'v': 15212,\n            'f': \"15212\",\n        }],\n [{\n            'v': 3,\n            'f': \"3\",\n        },\n\"harriken/bias-media-cat\",\n\"Bias Media CAT\",\n\"17MB\",\n\"2017-10-27 22:46:25\",\n{\n            'v': 348,\n            'f': \"348\",\n        }],\n [{\n            'v': 4,\n            'f': \"4\",\n        },\n\"mrisdal/open-exoplanet-catalogue\",\n\"Open Exoplanet Catalogue\",\n\"123KB\",\n\"2017-06-08 19:59:22\",\n{\n            'v': 2805,\n            'f': \"2805\",\n        }],\n [{\n            'v': 5,\n            'f': \"5\",\n        },\n\"mkechinov/ecommerce-behavior-data-from-multi-category-store\",\n\"eCommerce behavior data from multi category store\",\n\"4GB\",\n\"2019-12-09 20:43:39\",\n{\n            'v': 4397,\n            'f': \"4397\",\n        }],\n [{\n            'v': 6,\n            'f': \"6\",\n        },\n\"shayanfazeli/heartbeat\",\n\"ECG Heartbeat Categorization Dataset\",\n\"99MB\",\n\"2018-05-31 18:47:34\",\n{\n            'v': 16617,\n            'f': \"16617\",\n        }],\n [{\n            'v': 7,\n            'f': \"7\",\n        },\n\"mmoreaux/audio-cats-and-dogs\",\n\"Audio Cats and Dogs\",\n\"97MB\",\n\"2017-10-05 09:40:26\",\n{\n            'v': 5187,\n            'f': \"5187\",\n        }],\n [{\n            'v': 8,\n            'f': \"8\",\n        },\n\"chetankv/dogs-cats-images\",\n\"Dogs & Cats Images\",\n\"435MB\",\n\"2018-04-19 18:20:08\",\n{\n            'v': 12862,\n            'f': \"12862\",\n        }],\n [{\n            'v': 9,\n            'f': \"9\",\n        },\n\"mriganksingh/cat-images-dataset\",\n\"Cat images Dataset\",\n\"3MB\",\n\"2019-04-13 20:24:18\",\n{\n            'v': 972,\n            'f': \"972\",\n        }],\n [{\n            'v': 10,\n            'f': \"10\",\n        },\n\"bharadwaj6/kindle-reviews\",\n\"Amazon reviews: Kindle Store Category\",\n\"525MB\",\n\"2018-05-22 04:50:16\",\n{\n            'v': 3569,\n            'f': \"3569\",\n        }],\n [{\n            'v': 11,\n            'f': \"11\",\n        },\n\"ma7555/cat-breeds-dataset\",\n\"Cat Breeds Dataset \",\n\"2GB\",\n\"2019-12-12 12:42:00\",\n{\n            'v': 911,\n            'f': \"911\",\n        }],\n [{\n            'v': 12,\n            'f': \"12\",\n        },\n\"therohk/examine-the-examiner\",\n\"The Examiner - Spam Clickbait Catalog\",\n\"142MB\",\n\"2020-06-14 10:40:21\",\n{\n            'v': 1551,\n            'f': \"1551\",\n        }],\n [{\n            'v': 13,\n            'f': \"13\",\n        },\n\"hocop1/cat-and-dog-breeds-parameters\",\n\"Cat and dog breeds parameters\",\n\"15KB\",\n\"2019-01-26 16:39:25\",\n{\n            'v': 624,\n            'f': \"624\",\n        }],\n [{\n            'v': 14,\n            'f': \"14\",\n        },\n\"jessicali9530/animal-crossing-new-horizons-nookplaza-dataset\",\n\"Animal Crossing New Horizons Catalog\",\n\"577KB\",\n\"2020-05-18 22:50:26\",\n{\n            'v': 740,\n            'f': \"740\",\n        }],\n [{\n            'v': 15,\n            'f': \"15\",\n        },\n\"biaiscience/dogs-vs-cats\",\n\"Dogs vs Cats\",\n\"817MB\",\n\"2017-12-05 14:03:33\",\n{\n            'v': 6333,\n            'f': \"6333\",\n        }],\n [{\n            'v': 16,\n            'f': \"16\",\n        },\n\"lepchenkov/usedcarscatalog\",\n\"Used-cars-catalog\",\n\"824KB\",\n\"2019-12-02 12:02:05\",\n{\n            'v': 1035,\n            'f': \"1035\",\n        }],\n [{\n            'v': 17,\n            'f': \"17\",\n        },\n\"lumins/settlers-of-catan-games\",\n\"My Settlers of Catan Games\",\n\"5KB\",\n\"2016-08-29 19:52:21\",\n{\n            'v': 893,\n            'f': \"893\",\n        }],\n [{\n            'v': 18,\n            'f': \"18\",\n        },\n\"uciml/ct-slice-localization\",\n\"CAT Scan Localization\",\n\"18MB\",\n\"2017-09-06 22:01:03\",\n{\n            'v': 418,\n            'f': \"418\",\n        }],\n [{\n            'v': 19,\n            'f': \"19\",\n        },\n\"victorgenin/ices-fish-catch\",\n\"Annual Nominal Fish Catches\",\n\"741KB\",\n\"2019-11-17 23:33:04\",\n{\n            'v': 1442,\n            'f': \"1442\",\n        }]],\n        columns: [[\"number\", \"index\"], [\"string\", \"ref\"], [\"string\", \"title\"], [\"string\", \"size\"], [\"string\", \"lastUpdated\"], [\"number\", \"downloadCount\"]],\n        columnOptions: [{\"width\": \"1px\", \"className\": \"index_column\"}],\n        rowsPerPage: 25,\n        helpUrl: \"https://colab.research.google.com/notebooks/data_table.ipynb\",\n        suppressOutputScrolling: true,\n        minimumWidth: \"0\",\n      });\n    ",
            "text/html": [
              "<div>\n",
              "<style scoped>\n",
              "    .dataframe tbody tr th:only-of-type {\n",
              "        vertical-align: middle;\n",
              "    }\n",
              "\n",
              "    .dataframe tbody tr th {\n",
              "        vertical-align: top;\n",
              "    }\n",
              "\n",
              "    .dataframe thead th {\n",
              "        text-align: right;\n",
              "    }\n",
              "</style>\n",
              "<table border=\"1\" class=\"dataframe\">\n",
              "  <thead>\n",
              "    <tr style=\"text-align: right;\">\n",
              "      <th></th>\n",
              "      <th>ref</th>\n",
              "      <th>title</th>\n",
              "      <th>size</th>\n",
              "      <th>lastUpdated</th>\n",
              "      <th>downloadCount</th>\n",
              "    </tr>\n",
              "  </thead>\n",
              "  <tbody>\n",
              "    <tr>\n",
              "      <th>0</th>\n",
              "      <td>crawford/cat-dataset</td>\n",
              "      <td>Cat Dataset</td>\n",
              "      <td>4GB</td>\n",
              "      <td>2018-02-16 23:41:25</td>\n",
              "      <td>11333</td>\n",
              "    </tr>\n",
              "    <tr>\n",
              "      <th>1</th>\n",
              "      <td>tongpython/cat-and-dog</td>\n",
              "      <td>Cat and Dog</td>\n",
              "      <td>218MB</td>\n",
              "      <td>2018-04-26 10:56:50</td>\n",
              "      <td>23611</td>\n",
              "    </tr>\n",
              "    <tr>\n",
              "      <th>2</th>\n",
              "      <td>rmisra/news-category-dataset</td>\n",
              "      <td>News Category Dataset</td>\n",
              "      <td>25MB</td>\n",
              "      <td>2018-12-02 04:09:45</td>\n",
              "      <td>15212</td>\n",
              "    </tr>\n",
              "    <tr>\n",
              "      <th>3</th>\n",
              "      <td>harriken/bias-media-cat</td>\n",
              "      <td>Bias Media CAT</td>\n",
              "      <td>17MB</td>\n",
              "      <td>2017-10-27 22:46:25</td>\n",
              "      <td>348</td>\n",
              "    </tr>\n",
              "    <tr>\n",
              "      <th>4</th>\n",
              "      <td>mrisdal/open-exoplanet-catalogue</td>\n",
              "      <td>Open Exoplanet Catalogue</td>\n",
              "      <td>123KB</td>\n",
              "      <td>2017-06-08 19:59:22</td>\n",
              "      <td>2805</td>\n",
              "    </tr>\n",
              "    <tr>\n",
              "      <th>5</th>\n",
              "      <td>mkechinov/ecommerce-behavior-data-from-multi-c...</td>\n",
              "      <td>eCommerce behavior data from multi category store</td>\n",
              "      <td>4GB</td>\n",
              "      <td>2019-12-09 20:43:39</td>\n",
              "      <td>4397</td>\n",
              "    </tr>\n",
              "    <tr>\n",
              "      <th>6</th>\n",
              "      <td>shayanfazeli/heartbeat</td>\n",
              "      <td>ECG Heartbeat Categorization Dataset</td>\n",
              "      <td>99MB</td>\n",
              "      <td>2018-05-31 18:47:34</td>\n",
              "      <td>16617</td>\n",
              "    </tr>\n",
              "    <tr>\n",
              "      <th>7</th>\n",
              "      <td>mmoreaux/audio-cats-and-dogs</td>\n",
              "      <td>Audio Cats and Dogs</td>\n",
              "      <td>97MB</td>\n",
              "      <td>2017-10-05 09:40:26</td>\n",
              "      <td>5187</td>\n",
              "    </tr>\n",
              "    <tr>\n",
              "      <th>8</th>\n",
              "      <td>chetankv/dogs-cats-images</td>\n",
              "      <td>Dogs &amp; Cats Images</td>\n",
              "      <td>435MB</td>\n",
              "      <td>2018-04-19 18:20:08</td>\n",
              "      <td>12862</td>\n",
              "    </tr>\n",
              "    <tr>\n",
              "      <th>9</th>\n",
              "      <td>mriganksingh/cat-images-dataset</td>\n",
              "      <td>Cat images Dataset</td>\n",
              "      <td>3MB</td>\n",
              "      <td>2019-04-13 20:24:18</td>\n",
              "      <td>972</td>\n",
              "    </tr>\n",
              "    <tr>\n",
              "      <th>10</th>\n",
              "      <td>bharadwaj6/kindle-reviews</td>\n",
              "      <td>Amazon reviews: Kindle Store Category</td>\n",
              "      <td>525MB</td>\n",
              "      <td>2018-05-22 04:50:16</td>\n",
              "      <td>3569</td>\n",
              "    </tr>\n",
              "    <tr>\n",
              "      <th>11</th>\n",
              "      <td>ma7555/cat-breeds-dataset</td>\n",
              "      <td>Cat Breeds Dataset</td>\n",
              "      <td>2GB</td>\n",
              "      <td>2019-12-12 12:42:00</td>\n",
              "      <td>911</td>\n",
              "    </tr>\n",
              "    <tr>\n",
              "      <th>12</th>\n",
              "      <td>therohk/examine-the-examiner</td>\n",
              "      <td>The Examiner - Spam Clickbait Catalog</td>\n",
              "      <td>142MB</td>\n",
              "      <td>2020-06-14 10:40:21</td>\n",
              "      <td>1551</td>\n",
              "    </tr>\n",
              "    <tr>\n",
              "      <th>13</th>\n",
              "      <td>hocop1/cat-and-dog-breeds-parameters</td>\n",
              "      <td>Cat and dog breeds parameters</td>\n",
              "      <td>15KB</td>\n",
              "      <td>2019-01-26 16:39:25</td>\n",
              "      <td>624</td>\n",
              "    </tr>\n",
              "    <tr>\n",
              "      <th>14</th>\n",
              "      <td>jessicali9530/animal-crossing-new-horizons-noo...</td>\n",
              "      <td>Animal Crossing New Horizons Catalog</td>\n",
              "      <td>577KB</td>\n",
              "      <td>2020-05-18 22:50:26</td>\n",
              "      <td>740</td>\n",
              "    </tr>\n",
              "    <tr>\n",
              "      <th>15</th>\n",
              "      <td>biaiscience/dogs-vs-cats</td>\n",
              "      <td>Dogs vs Cats</td>\n",
              "      <td>817MB</td>\n",
              "      <td>2017-12-05 14:03:33</td>\n",
              "      <td>6333</td>\n",
              "    </tr>\n",
              "    <tr>\n",
              "      <th>16</th>\n",
              "      <td>lepchenkov/usedcarscatalog</td>\n",
              "      <td>Used-cars-catalog</td>\n",
              "      <td>824KB</td>\n",
              "      <td>2019-12-02 12:02:05</td>\n",
              "      <td>1035</td>\n",
              "    </tr>\n",
              "    <tr>\n",
              "      <th>17</th>\n",
              "      <td>lumins/settlers-of-catan-games</td>\n",
              "      <td>My Settlers of Catan Games</td>\n",
              "      <td>5KB</td>\n",
              "      <td>2016-08-29 19:52:21</td>\n",
              "      <td>893</td>\n",
              "    </tr>\n",
              "    <tr>\n",
              "      <th>18</th>\n",
              "      <td>uciml/ct-slice-localization</td>\n",
              "      <td>CAT Scan Localization</td>\n",
              "      <td>18MB</td>\n",
              "      <td>2017-09-06 22:01:03</td>\n",
              "      <td>418</td>\n",
              "    </tr>\n",
              "    <tr>\n",
              "      <th>19</th>\n",
              "      <td>victorgenin/ices-fish-catch</td>\n",
              "      <td>Annual Nominal Fish Catches</td>\n",
              "      <td>741KB</td>\n",
              "      <td>2019-11-17 23:33:04</td>\n",
              "      <td>1442</td>\n",
              "    </tr>\n",
              "  </tbody>\n",
              "</table>\n",
              "</div>"
            ],
            "text/plain": [
              "                                                  ref  ... downloadCount\n",
              "0                                crawford/cat-dataset  ...         11333\n",
              "1                              tongpython/cat-and-dog  ...         23611\n",
              "2                        rmisra/news-category-dataset  ...         15212\n",
              "3                             harriken/bias-media-cat  ...           348\n",
              "4                    mrisdal/open-exoplanet-catalogue  ...          2805\n",
              "5   mkechinov/ecommerce-behavior-data-from-multi-c...  ...          4397\n",
              "6                              shayanfazeli/heartbeat  ...         16617\n",
              "7                        mmoreaux/audio-cats-and-dogs  ...          5187\n",
              "8                           chetankv/dogs-cats-images  ...         12862\n",
              "9                     mriganksingh/cat-images-dataset  ...           972\n",
              "10                          bharadwaj6/kindle-reviews  ...          3569\n",
              "11                          ma7555/cat-breeds-dataset  ...           911\n",
              "12                       therohk/examine-the-examiner  ...          1551\n",
              "13               hocop1/cat-and-dog-breeds-parameters  ...           624\n",
              "14  jessicali9530/animal-crossing-new-horizons-noo...  ...           740\n",
              "15                           biaiscience/dogs-vs-cats  ...          6333\n",
              "16                         lepchenkov/usedcarscatalog  ...          1035\n",
              "17                     lumins/settlers-of-catan-games  ...           893\n",
              "18                        uciml/ct-slice-localization  ...           418\n",
              "19                        victorgenin/ices-fish-catch  ...          1442\n",
              "\n",
              "[20 rows x 5 columns]"
            ]
          },
          "metadata": {
            "tags": []
          },
          "execution_count": 39
        }
      ]
    },
    {
      "cell_type": "code",
      "metadata": {
        "id": "j72jkZXXomHW",
        "outputId": "f5e50344-7014-41fb-b353-f1089583dee5",
        "colab": {
          "base_uri": "https://localhost:8080/",
          "height": 207
        }
      },
      "source": [
        "kaggle.ls('harriken/bias-media-cat')  # list all files"
      ],
      "execution_count": null,
      "outputs": [
        {
          "output_type": "execute_result",
          "data": {
            "application/vnd.google.colaboratory.module+javascript": "\n      import \"https://ssl.gstatic.com/colaboratory/data_table/a6224c040fa35dcf/data_table.js\";\n\n      window.createDataTable({\n        data: [[{\n            'v': 0,\n            'f': \"0\",\n        },\n\"Requerimiento-Rajoy-Generalitat-11oct2017.pdf\",\n\"632KB\",\n\"2017-10-27 22:46:25\"],\n [{\n            'v': 1,\n            'f': \"1\",\n        },\n\"all2.csv\",\n\"19MB\",\n\"2017-10-27 22:46:25\"],\n [{\n            'v': 2,\n            'f': \"2\",\n        },\n\"all.csv\",\n\"17MB\",\n\"2017-10-27 22:46:25\"],\n [{\n            'v': 3,\n            'f': \"3\",\n        },\n\"news_on_catalonia_oct_11_2017.csv\",\n\"279KB\",\n\"2017-10-27 22:46:25\"],\n [{\n            'v': 4,\n            'f': \"4\",\n        },\n\"all3.csv\",\n\"35MB\",\n\"2017-10-27 22:46:25\"],\n [{\n            'v': 5,\n            'f': \"5\",\n        },\n\"news_on_catalonia_oct_11_2017_original.xlsx\",\n\"73KB\",\n\"2017-10-27 22:46:25\"]],\n        columns: [[\"number\", \"index\"], [\"string\", \"name\"], [\"string\", \"size\"], [\"string\", \"creationDate\"]],\n        columnOptions: [{\"width\": \"1px\", \"className\": \"index_column\"}],\n        rowsPerPage: 25,\n        helpUrl: \"https://colab.research.google.com/notebooks/data_table.ipynb\",\n        suppressOutputScrolling: true,\n        minimumWidth: \"0\",\n      });\n    ",
            "text/html": [
              "<div>\n",
              "<style scoped>\n",
              "    .dataframe tbody tr th:only-of-type {\n",
              "        vertical-align: middle;\n",
              "    }\n",
              "\n",
              "    .dataframe tbody tr th {\n",
              "        vertical-align: top;\n",
              "    }\n",
              "\n",
              "    .dataframe thead th {\n",
              "        text-align: right;\n",
              "    }\n",
              "</style>\n",
              "<table border=\"1\" class=\"dataframe\">\n",
              "  <thead>\n",
              "    <tr style=\"text-align: right;\">\n",
              "      <th></th>\n",
              "      <th>name</th>\n",
              "      <th>size</th>\n",
              "      <th>creationDate</th>\n",
              "    </tr>\n",
              "  </thead>\n",
              "  <tbody>\n",
              "    <tr>\n",
              "      <th>0</th>\n",
              "      <td>Requerimiento-Rajoy-Generalitat-11oct2017.pdf</td>\n",
              "      <td>632KB</td>\n",
              "      <td>2017-10-27 22:46:25</td>\n",
              "    </tr>\n",
              "    <tr>\n",
              "      <th>1</th>\n",
              "      <td>all2.csv</td>\n",
              "      <td>19MB</td>\n",
              "      <td>2017-10-27 22:46:25</td>\n",
              "    </tr>\n",
              "    <tr>\n",
              "      <th>2</th>\n",
              "      <td>all.csv</td>\n",
              "      <td>17MB</td>\n",
              "      <td>2017-10-27 22:46:25</td>\n",
              "    </tr>\n",
              "    <tr>\n",
              "      <th>3</th>\n",
              "      <td>news_on_catalonia_oct_11_2017.csv</td>\n",
              "      <td>279KB</td>\n",
              "      <td>2017-10-27 22:46:25</td>\n",
              "    </tr>\n",
              "    <tr>\n",
              "      <th>4</th>\n",
              "      <td>all3.csv</td>\n",
              "      <td>35MB</td>\n",
              "      <td>2017-10-27 22:46:25</td>\n",
              "    </tr>\n",
              "    <tr>\n",
              "      <th>5</th>\n",
              "      <td>news_on_catalonia_oct_11_2017_original.xlsx</td>\n",
              "      <td>73KB</td>\n",
              "      <td>2017-10-27 22:46:25</td>\n",
              "    </tr>\n",
              "  </tbody>\n",
              "</table>\n",
              "</div>"
            ],
            "text/plain": [
              "                                            name   size         creationDate\n",
              "0  Requerimiento-Rajoy-Generalitat-11oct2017.pdf  632KB  2017-10-27 22:46:25\n",
              "1                                       all2.csv   19MB  2017-10-27 22:46:25\n",
              "2                                        all.csv   17MB  2017-10-27 22:46:25\n",
              "3              news_on_catalonia_oct_11_2017.csv  279KB  2017-10-27 22:46:25\n",
              "4                                       all3.csv   35MB  2017-10-27 22:46:25\n",
              "5    news_on_catalonia_oct_11_2017_original.xlsx   73KB  2017-10-27 22:46:25"
            ]
          },
          "metadata": {
            "tags": []
          },
          "execution_count": 40
        }
      ]
    },
    {
      "cell_type": "code",
      "metadata": {
        "id": "Z5zlyYUTo5pH",
        "outputId": "0bc18fc6-05c1-49f4-b962-4a1b5ce25e5e",
        "colab": {
          "base_uri": "https://localhost:8080/",
          "height": 67
        }
      },
      "source": [
        "kaggle.download('harriken/bias-media-cat/all.csv') "
      ],
      "execution_count": null,
      "outputs": [
        {
          "output_type": "stream",
          "text": [
            "Downloading bias-media-cat.zip to /content\n",
            " 30% 5.00M/16.7M [00:00<00:00, 52.0MB/s]\n",
            "100% 16.7M/16.7M [00:00<00:00, 81.2MB/s]\n"
          ],
          "name": "stdout"
        }
      ]
    },
    {
      "cell_type": "code",
      "metadata": {
        "id": "dgjLbvPspeVp"
      },
      "source": [
        "import pandas as pd\n",
        "import matplotlib.pyplot as plt\n",
        "\n",
        "df = pd.read_csv('all.csv')"
      ],
      "execution_count": null,
      "outputs": []
    },
    {
      "cell_type": "code",
      "metadata": {
        "id": "49a2kg1op8fg",
        "outputId": "d94cdb87-f926-46ec-d1ff-1031e38d95d1",
        "colab": {
          "base_uri": "https://localhost:8080/",
          "height": 379
        }
      },
      "source": [
        "df.sample(5)"
      ],
      "execution_count": null,
      "outputs": [
        {
          "output_type": "execute_result",
          "data": {
            "application/vnd.google.colaboratory.module+javascript": "\n      import \"https://ssl.gstatic.com/colaboratory/data_table/a6224c040fa35dcf/data_table.js\";\n\n      window.createDataTable({\n        data: [[{\n            'v': 45836,\n            'f': \"45836\",\n        },\n\"elmundotoday\",\n\"El Mundo Today\",\n\"38381308\",\n\"La actualidad del ma\\u00f1ana.\",\n\"2017\",\n\"7\",\n\"25\",\n\"11.58\",\n\"889817160494837760\",\n\"\\u201cJuego de Tronos\\u201d 7\\u00d72: Bajo la tormenta de spoilers https://t.co/K7D3JDpEFp https://t.co/GU6cZ9R7sT\"],\n [{\n            'v': 32396,\n            'f': \"32396\",\n        },\n\"CNN\",\n\"CNN\",\n\"759251\",\n\"It\\u2019s our job to #GoThere & tell the most difficult stories. Join us! For more breaking news updates follow @CNNBRK  & Download our app \\ud83d\\udcf2https://t.co/Xgo5kjIt8c\",\n\"2017\",\n\"10\",\n\"16\",\n\"5.20\",\n\"919795054440566784\",\n\"British actor Lysette Anthony accuses Weinstein of rape https://t.co/RTCBRWo8ey https://t.co/919CXXH15O\"],\n [{\n            'v': 53408,\n            'f': \"53408\",\n        },\n\"LaVanguardia\",\n\"La Vanguardia\",\n\"74453123\",\n\"Twitter oficial de 'La Vanguardia' Informaci\\u00f3n al minuto nacional e internacional\",\n\"2017\",\n\"10\",\n\"25\",\n\"12.41\",\n\"923167539558887424\",\n\"Societat Civil responde al v\\u00eddeo de \\u2018Help Catalonia\\u2019 con una versi\\u00f3n ir\\u00f3nica https://t.co/yvoazmDQpT https://t.co/aTKOT4QWhG\"],\n [{\n            'v': 2051,\n            'f': \"2051\",\n        },\n\"BBCBreaking\",\n\"BBC Breaking News\",\n\"5402612\",\n\"Breaking news alerts and updates from the BBC. For news, features, analysis follow @BBCWorld (international) or @BBCNews (UK). Latest sport news @BBCSport.\",\n\"2017\",\n\"2\",\n\"17\",\n\"12.31\",\n\"832568036922109952\",\n\"The former leader of Hong Kong, Donald Tsang, convicted of misconduct in office relating to rent of luxury flat https://t.co/pbkv9rhEv1\"],\n [{\n            'v': 53615,\n            'f': \"53615\",\n        },\n\"LaVanguardia\",\n\"La Vanguardia\",\n\"74453123\",\n\"Twitter oficial de 'La Vanguardia' Informaci\\u00f3n al minuto nacional e internacional\",\n\"2017\",\n\"10\",\n\"24\",\n\"23.39\",\n\"922970749572284416\",\n\"Diez documentales imperdibles del Festival In-Edit https://t.co/oYXNO4kbmi https://t.co/zMgEJ8z7l5\"]],\n        columns: [[\"number\", \"index\"], [\"string\", \"screen_name\"], [\"string\", \"name\"], [\"string\", \"twitter_id\"], [\"string\", \"description\"], [\"string\", \"year\"], [\"string\", \"month\"], [\"string\", \"date\"], [\"string\", \"time\"], [\"string\", \"tweet_id\"], [\"string\", \"tweet\"]],\n        columnOptions: [{\"width\": \"1px\", \"className\": \"index_column\"}],\n        rowsPerPage: 25,\n        helpUrl: \"https://colab.research.google.com/notebooks/data_table.ipynb\",\n        suppressOutputScrolling: true,\n        minimumWidth: \"0\",\n      });\n    ",
            "text/html": [
              "<div>\n",
              "<style scoped>\n",
              "    .dataframe tbody tr th:only-of-type {\n",
              "        vertical-align: middle;\n",
              "    }\n",
              "\n",
              "    .dataframe tbody tr th {\n",
              "        vertical-align: top;\n",
              "    }\n",
              "\n",
              "    .dataframe thead th {\n",
              "        text-align: right;\n",
              "    }\n",
              "</style>\n",
              "<table border=\"1\" class=\"dataframe\">\n",
              "  <thead>\n",
              "    <tr style=\"text-align: right;\">\n",
              "      <th></th>\n",
              "      <th>screen_name</th>\n",
              "      <th>name</th>\n",
              "      <th>twitter_id</th>\n",
              "      <th>description</th>\n",
              "      <th>year</th>\n",
              "      <th>month</th>\n",
              "      <th>date</th>\n",
              "      <th>time</th>\n",
              "      <th>tweet_id</th>\n",
              "      <th>tweet</th>\n",
              "    </tr>\n",
              "  </thead>\n",
              "  <tbody>\n",
              "    <tr>\n",
              "      <th>45836</th>\n",
              "      <td>elmundotoday</td>\n",
              "      <td>El Mundo Today</td>\n",
              "      <td>38381308</td>\n",
              "      <td>La actualidad del mañana.</td>\n",
              "      <td>2017</td>\n",
              "      <td>7</td>\n",
              "      <td>25</td>\n",
              "      <td>11.58</td>\n",
              "      <td>889817160494837760</td>\n",
              "      <td>“Juego de Tronos” 7×2: Bajo la tormenta de spo...</td>\n",
              "    </tr>\n",
              "    <tr>\n",
              "      <th>32396</th>\n",
              "      <td>CNN</td>\n",
              "      <td>CNN</td>\n",
              "      <td>759251</td>\n",
              "      <td>It’s our job to #GoThere &amp; tell the most diffi...</td>\n",
              "      <td>2017</td>\n",
              "      <td>10</td>\n",
              "      <td>16</td>\n",
              "      <td>5.20</td>\n",
              "      <td>919795054440566784</td>\n",
              "      <td>British actor Lysette Anthony accuses Weinstei...</td>\n",
              "    </tr>\n",
              "    <tr>\n",
              "      <th>53408</th>\n",
              "      <td>LaVanguardia</td>\n",
              "      <td>La Vanguardia</td>\n",
              "      <td>74453123</td>\n",
              "      <td>Twitter oficial de 'La Vanguardia' Información...</td>\n",
              "      <td>2017</td>\n",
              "      <td>10</td>\n",
              "      <td>25</td>\n",
              "      <td>12.41</td>\n",
              "      <td>923167539558887424</td>\n",
              "      <td>Societat Civil responde al vídeo de ‘Help Cata...</td>\n",
              "    </tr>\n",
              "    <tr>\n",
              "      <th>2051</th>\n",
              "      <td>BBCBreaking</td>\n",
              "      <td>BBC Breaking News</td>\n",
              "      <td>5402612</td>\n",
              "      <td>Breaking news alerts and updates from the BBC....</td>\n",
              "      <td>2017</td>\n",
              "      <td>2</td>\n",
              "      <td>17</td>\n",
              "      <td>12.31</td>\n",
              "      <td>832568036922109952</td>\n",
              "      <td>The former leader of Hong Kong, Donald Tsang, ...</td>\n",
              "    </tr>\n",
              "    <tr>\n",
              "      <th>53615</th>\n",
              "      <td>LaVanguardia</td>\n",
              "      <td>La Vanguardia</td>\n",
              "      <td>74453123</td>\n",
              "      <td>Twitter oficial de 'La Vanguardia' Información...</td>\n",
              "      <td>2017</td>\n",
              "      <td>10</td>\n",
              "      <td>24</td>\n",
              "      <td>23.39</td>\n",
              "      <td>922970749572284416</td>\n",
              "      <td>Diez documentales imperdibles del Festival In-...</td>\n",
              "    </tr>\n",
              "  </tbody>\n",
              "</table>\n",
              "</div>"
            ],
            "text/plain": [
              "        screen_name  ...                                              tweet\n",
              "45836  elmundotoday  ...  “Juego de Tronos” 7×2: Bajo la tormenta de spo...\n",
              "32396           CNN  ...  British actor Lysette Anthony accuses Weinstei...\n",
              "53408  LaVanguardia  ...  Societat Civil responde al vídeo de ‘Help Cata...\n",
              "2051    BBCBreaking  ...  The former leader of Hong Kong, Donald Tsang, ...\n",
              "53615  LaVanguardia  ...  Diez documentales imperdibles del Festival In-...\n",
              "\n",
              "[5 rows x 10 columns]"
            ]
          },
          "metadata": {
            "tags": []
          },
          "execution_count": 54
        }
      ]
    },
    {
      "cell_type": "code",
      "metadata": {
        "id": "wr1Crx7mqzCC",
        "outputId": "b3c4edff-1921-4501-f1f6-a4bbe5d55326",
        "colab": {
          "base_uri": "https://localhost:8080/",
          "height": 265
        }
      },
      "source": [
        "df['month'].hist(bins=50)\n",
        "plt.show()"
      ],
      "execution_count": null,
      "outputs": [
        {
          "output_type": "display_data",
          "data": {
            "image/png": "[encoded data removed]",
            "text/plain": [
              "<Figure size 432x288 with 1 Axes>"
            ]
          },
          "metadata": {
            "tags": [],
            "needs_background": "light"
          }
        }
      ]
    }
  ]
}