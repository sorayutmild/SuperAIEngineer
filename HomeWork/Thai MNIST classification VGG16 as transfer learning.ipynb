{
  "nbformat": 4,
  "nbformat_minor": 0,
  "metadata": {
    "colab": {
      "name": "22p21c0247_สรยุทธ_W4HW1.ipynb",
      "provenance": []
    },
    "kernelspec": {
      "name": "python3",
      "display_name": "Python 3"
    },
    "accelerator": "GPU"
  },
  "cells": [
    {
      "cell_type": "code",
      "metadata": {
        "id": "pahJtcN03vPw"
      },
      "source": [
        "!unzip \"/content/drive/My Drive/thai-mnist-classification.zip\" -d \"/content/dataset\""
      ],
      "execution_count": null,
      "outputs": []
    },
    {
      "cell_type": "code",
      "metadata": {
        "id": "R2jeOXs1TSXX",
        "outputId": "f3a1191e-18ae-4515-df27-24002dc9b5b3",
        "colab": {
          "base_uri": "https://localhost:8080/",
          "height": 34
        }
      },
      "source": [
        "!nvidia-smi -L"
      ],
      "execution_count": null,
      "outputs": [
        {
          "output_type": "stream",
          "text": [
            "GPU 0: Tesla P100-PCIE-16GB (UUID: GPU-5f9a0d1e-c95a-44eb-84e1-ada90cb3f19e)\n"
          ],
          "name": "stdout"
        }
      ]
    },
    {
      "cell_type": "markdown",
      "metadata": {
        "id": "b1iBgciKfIKI"
      },
      "source": [
        "Note:\n",
        "create folder \n",
        "1. dataset\n",
        "2. cropped data\n",
        "3. test cropped data"
      ]
    },
    {
      "cell_type": "code",
      "metadata": {
        "id": "7-wBmVWf4DIH"
      },
      "source": [
        "from keras_preprocessing.image import ImageDataGenerator\n",
        "from keras.layers import Dense, Activation, Flatten, Dropout, BatchNormalization\n",
        "from keras.layers import Conv2D, MaxPooling2D\n",
        "from keras import regularizers, optimizers\n",
        "import pandas as pd\n",
        "import numpy as np"
      ],
      "execution_count": null,
      "outputs": []
    },
    {
      "cell_type": "code",
      "metadata": {
        "id": "fv6WgxisEcfS",
        "outputId": "960499e3-9bad-447f-a8e6-f29f118630cc",
        "colab": {
          "base_uri": "https://localhost:8080/",
          "height": 195
        }
      },
      "source": [
        "train_df = pd.read_csv(\"/content/dataset/mnist.train.map.csv\", dtype=str)\n",
        "train_df.head()"
      ],
      "execution_count": null,
      "outputs": [
        {
          "output_type": "execute_result",
          "data": {
            "text/html": [
              "<div>\n",
              "<style scoped>\n",
              "    .dataframe tbody tr th:only-of-type {\n",
              "        vertical-align: middle;\n",
              "    }\n",
              "\n",
              "    .dataframe tbody tr th {\n",
              "        vertical-align: top;\n",
              "    }\n",
              "\n",
              "    .dataframe thead th {\n",
              "        text-align: right;\n",
              "    }\n",
              "</style>\n",
              "<table border=\"1\" class=\"dataframe\">\n",
              "  <thead>\n",
              "    <tr style=\"text-align: right;\">\n",
              "      <th></th>\n",
              "      <th>id</th>\n",
              "      <th>category</th>\n",
              "    </tr>\n",
              "  </thead>\n",
              "  <tbody>\n",
              "    <tr>\n",
              "      <th>0</th>\n",
              "      <td>75606737-d17d-43eb-86e6-6735b6f45a52.png</td>\n",
              "      <td>8</td>\n",
              "    </tr>\n",
              "    <tr>\n",
              "      <th>1</th>\n",
              "      <td>800e3baf-9ab1-48c0-a9ce-46c5fac9ff69.png</td>\n",
              "      <td>1</td>\n",
              "    </tr>\n",
              "    <tr>\n",
              "      <th>2</th>\n",
              "      <td>c40b7fc4-07f1-4c78-abac-121bde38e267.png</td>\n",
              "      <td>0</td>\n",
              "    </tr>\n",
              "    <tr>\n",
              "      <th>3</th>\n",
              "      <td>1b2e1b3d-46f2-4c3f-b741-a8d5099ce710.png</td>\n",
              "      <td>4</td>\n",
              "    </tr>\n",
              "    <tr>\n",
              "      <th>4</th>\n",
              "      <td>b8fd3385-9403-48a4-9d9e-74bde635e688.png</td>\n",
              "      <td>9</td>\n",
              "    </tr>\n",
              "  </tbody>\n",
              "</table>\n",
              "</div>"
            ],
            "text/plain": [
              "                                         id category\n",
              "0  75606737-d17d-43eb-86e6-6735b6f45a52.png        8\n",
              "1  800e3baf-9ab1-48c0-a9ce-46c5fac9ff69.png        1\n",
              "2  c40b7fc4-07f1-4c78-abac-121bde38e267.png        0\n",
              "3  1b2e1b3d-46f2-4c3f-b741-a8d5099ce710.png        4\n",
              "4  b8fd3385-9403-48a4-9d9e-74bde635e688.png        9"
            ]
          },
          "metadata": {
            "tags": []
          },
          "execution_count": 7
        }
      ]
    },
    {
      "cell_type": "markdown",
      "metadata": {
        "id": "cjzGOfZcJzgH"
      },
      "source": [
        "# Image preparation for training"
      ]
    },
    {
      "cell_type": "code",
      "metadata": {
        "id": "lhf56y1jctjx"
      },
      "source": [
        "from skimage.morphology import convex_hull_image\n",
        "from skimage.util import invert\n",
        "from skimage import data, img_as_float\n",
        "import matplotlib.pyplot as plt\n",
        "import matplotlib.image as mpimg\n",
        "from keras.preprocessing.image import load_img\n",
        "from keras.preprocessing import image"
      ],
      "execution_count": null,
      "outputs": []
    },
    {
      "cell_type": "code",
      "metadata": {
        "id": "0LEuZF20c5Kx"
      },
      "source": [
        "class getdata():\n",
        "    def __init__(self,data_path,label_path):\n",
        "      self.dataPath = data_path\n",
        "      self.labelPath = label_path\n",
        "      self.label_df = pd.read_csv(label_path)\n",
        "      self.dataFile = self.label_df['id'].values\n",
        "      self.label = self.label_df['category'].values\n",
        "      self.n_index = len(self.dataFile)\n",
        "        \n",
        "    \n",
        "    def get1img(self,img_index,mode='rgb',label = False):\n",
        "      img = cv2.imread( os.path.join(self.dataPath,self.label_df.iloc[img_index]['id']) )\n",
        "      if mode == 'rgb':\n",
        "          img = cv2.cvtColor(img, cv2.COLOR_BGR2RGB)\n",
        "      elif mode == 'gray':\n",
        "          img = cv2.cvtColor(img,cv2.COLOR_BGR2GRAY)\n",
        "      if label:\n",
        "          return img,self.label_df.iloc[img_index]['category']\n",
        "      return img\n"
      ],
      "execution_count": null,
      "outputs": []
    },
    {
      "cell_type": "code",
      "metadata": {
        "id": "_itTA738dC49"
      },
      "source": [
        "gdt = getdata(\"/content/dataset/train\", \"/content/dataset/mnist.train.map.csv\")"
      ],
      "execution_count": null,
      "outputs": []
    },
    {
      "cell_type": "code",
      "metadata": {
        "id": "ypQ2aML_ofZK",
        "outputId": "1a810760-e194-4407-e3d0-f32301bac43e",
        "colab": {
          "base_uri": "https://localhost:8080/",
          "height": 34
        }
      },
      "source": [
        "plt.gray()"
      ],
      "execution_count": null,
      "outputs": [
        {
          "output_type": "display_data",
          "data": {
            "text/plain": [
              "<Figure size 432x288 with 0 Axes>"
            ]
          },
          "metadata": {
            "tags": []
          }
        }
      ]
    },
    {
      "cell_type": "code",
      "metadata": {
        "id": "aQzOQffzdUSh",
        "outputId": "f198d419-bb77-48b5-b89b-5b360b69d40e",
        "colab": {
          "base_uri": "https://localhost:8080/",
          "height": 221
        }
      },
      "source": [
        "import cv2\n",
        "import os \n",
        "temp_img = invert(gdt.get1img(0, 'gray'))\n",
        "fig, [ax1,ax2] = plt.subplots(1, 2)\n",
        "ax1.imshow(temp_img)\n",
        "cvh =  convex_hull_image(temp_img)\n",
        "ax2.imshow(cvh)"
      ],
      "execution_count": null,
      "outputs": [
        {
          "output_type": "execute_result",
          "data": {
            "text/plain": [
              "<matplotlib.image.AxesImage at 0x7f01929b1668>"
            ]
          },
          "metadata": {
            "tags": []
          },
          "execution_count": 12
        },
        {
          "output_type": "display_data",
          "data": {
            "image/png": "[encoded data removed]",
            "text/plain": [
              "<Figure size 432x288 with 2 Axes>"
            ]
          },
          "metadata": {
            "tags": [],
            "needs_background": "light"
          }
        }
      ]
    },
    {
      "cell_type": "code",
      "metadata": {
        "id": "D6INuGexeTzN",
        "outputId": "dcaa6582-07d5-42b8-9028-ed21dd974026",
        "colab": {
          "base_uri": "https://localhost:8080/",
          "height": 286
        }
      },
      "source": [
        "# Crop images\n",
        "def convex_crop(img,pad=20):\n",
        "    convex = convex_hull_image(img)\n",
        "    r,c = np.where(convex)\n",
        "    while (min(r)-pad < 0) or (max(r)+pad > img.shape[0]) or (min(c)-pad < 0) or (max(c)+pad > img.shape[1]):\n",
        "        pad = pad - 1\n",
        "    return img[min(r)-pad:max(r)+pad,min(c)-pad:max(c)+pad]\n",
        "\n",
        "crop_img = convex_crop(temp_img,pad=10)\n",
        "plt.imshow(crop_img)"
      ],
      "execution_count": null,
      "outputs": [
        {
          "output_type": "execute_result",
          "data": {
            "text/plain": [
              "<matplotlib.image.AxesImage at 0x7f019249f080>"
            ]
          },
          "metadata": {
            "tags": []
          },
          "execution_count": 13
        },
        {
          "output_type": "display_data",
          "data": {
            "image/png": "[encoded data removed]",
            "text/plain": [
              "<Figure size 432x288 with 1 Axes>"
            ]
          },
          "metadata": {
            "tags": [],
            "needs_background": "light"
          }
        }
      ]
    },
    {
      "cell_type": "code",
      "metadata": {
        "id": "1rv_OI7Fgt8R"
      },
      "source": [
        "img_h = 64\n",
        "img_w = 64"
      ],
      "execution_count": null,
      "outputs": []
    },
    {
      "cell_type": "code",
      "metadata": {
        "id": "nhog97lYgWC0"
      },
      "source": [
        "def convex_resize(img):\n",
        "    img = invert(img)\n",
        "    img = convex_crop(img,pad=20)\n",
        "    img = cv2.resize(img,(img_h, img_w))\n",
        "    return img\n",
        "\n",
        "def thes_resize(img,thes=40):\n",
        "    img = invert(img)\n",
        "    img = convex_crop(img,pad=20)\n",
        "    img = ((img > thes)*255).astype(np.uint8)\n",
        "    if(min(img.shape) > 300):\n",
        "        img = cv2.resize(img,(300,300))\n",
        "        img = ((img > thes)*255).astype(np.uint8)\n",
        "    if(min(img.shape) > 150):\n",
        "        img = cv2.resize(img,(150,150))\n",
        "        img = ((img > thes)*255).astype(np.uint8)\n",
        "    img = cv2.resize(img,(80,80))\n",
        "    img = ((img > thes)*255).astype(np.uint8)\n",
        "    img = cv2.resize(img,(50,50))\n",
        "    img = ((img > thes)*255).astype(np.uint8)\n",
        "    img = cv2.resize(img,(img_h, img_w))\n",
        "    img = ((img > thes)*255).astype(np.uint8)\n",
        "    return img"
      ],
      "execution_count": null,
      "outputs": []
    },
    {
      "cell_type": "code",
      "metadata": {
        "id": "UmIINdmvgcHP",
        "outputId": "b8d4dd63-4419-423f-e073-ee2cbb1699c6",
        "colab": {
          "base_uri": "https://localhost:8080/",
          "height": 335
        }
      },
      "source": [
        "temp_img = gdt.get1img(0, 'gray')\n",
        "fig, [ax1,ax2] = plt.subplots(1, 2,figsize=(10,7))\n",
        "ax1.imshow(convex_resize(temp_img))\n",
        "ax1.set_title('Without thresholding')\n",
        "ax2.imshow(thes_resize(temp_img))\n",
        "ax2.set_title('Thresholding')"
      ],
      "execution_count": null,
      "outputs": [
        {
          "output_type": "execute_result",
          "data": {
            "text/plain": [
              "Text(0.5, 1.0, 'Thresholding')"
            ]
          },
          "metadata": {
            "tags": []
          },
          "execution_count": 17
        },
        {
          "output_type": "display_data",
          "data": {
            "image/png": "[encoded data removed]",
            "text/plain": [
              "<Figure size 720x504 with 2 Axes>"
            ]
          },
          "metadata": {
            "tags": [],
            "needs_background": "light"
          }
        }
      ]
    },
    {
      "cell_type": "code",
      "metadata": {
        "id": "J6nkLoXMhBkQ",
        "outputId": "970e3ca7-2dc2-4234-b386-30cf34fcff94",
        "colab": {
          "base_uri": "https://localhost:8080/",
          "height": 591
        }
      },
      "source": [
        "fig, ax = plt.subplots(5, 5, figsize=(10,10))\n",
        "for i in range(5):\n",
        "    for j in range(5):\n",
        "        img_index = np.random.randint(0,gdt.n_index)\n",
        "        ax[i][j].imshow(thes_resize(gdt.get1img(img_index,'gray')))\n",
        "        ax[i][j].set_title('Class: '+str(gdt.label[img_index]))\n",
        "        ax[i][j].set_axis_off()"
      ],
      "execution_count": null,
      "outputs": [
        {
          "output_type": "display_data",
          "data": {
            "image/png": "[encoded data removed]",
            "text/plain": [
              "<Figure size 720x720 with 25 Axes>"
            ]
          },
          "metadata": {
            "tags": [],
            "needs_background": "light"
          }
        }
      ]
    },
    {
      "cell_type": "code",
      "metadata": {
        "id": "e7XV8o1Akbzr"
      },
      "source": [
        "# import matplotlib.image as mpimg\n",
        "# # img = mpimg.imread('../../doc/_static/stinkbug.png')\n",
        "\n",
        "# for fig in train_df[\"id\"]:\n",
        "#     im1 = mpimg.imread(\"/content/dataset/train/\"+fig)\n",
        "#     # im1 = cv2.cvtColor(img, cv2.COLOR_BGR2GRAY)\n",
        "#     # plt.imshow(img)\n",
        "#     im2 = (thes_resize(im1))\n",
        "#     plt.savefig('/content/image prepared dataset/'+'fig')\n",
        "#     # im2.save(r\"/content/image prepared dataset/\"+fig )\n"
      ],
      "execution_count": null,
      "outputs": []
    },
    {
      "cell_type": "code",
      "metadata": {
        "id": "fCgdofbMsawi",
        "outputId": "c1f45806-0f89-4f05-a3bb-60b28a1dcf21",
        "colab": {
          "base_uri": "https://localhost:8080/",
          "height": 185
        }
      },
      "source": [
        "!pip install pypng"
      ],
      "execution_count": null,
      "outputs": [
        {
          "output_type": "stream",
          "text": [
            "Collecting pypng\n",
            "\u001b[?25l  Downloading https://files.pythonhosted.org/packages/bc/fb/f719f1ac965e2101aa6ea6f54ef8b40f8fbb033f6ad07c017663467f5147/pypng-0.0.20.tar.gz (649kB)\n",
            "\r\u001b[K     |▌                               | 10kB 27.2MB/s eta 0:00:01\r\u001b[K     |█                               | 20kB 6.3MB/s eta 0:00:01\r\u001b[K     |█▌                              | 30kB 7.2MB/s eta 0:00:01\r\u001b[K     |██                              | 40kB 7.5MB/s eta 0:00:01\r\u001b[K     |██▌                             | 51kB 6.1MB/s eta 0:00:01\r\u001b[K     |███                             | 61kB 6.2MB/s eta 0:00:01\r\u001b[K     |███▌                            | 71kB 5.9MB/s eta 0:00:01\r\u001b[K     |████                            | 81kB 6.3MB/s eta 0:00:01\r\u001b[K     |████▌                           | 92kB 6.1MB/s eta 0:00:01\r\u001b[K     |█████                           | 102kB 6.0MB/s eta 0:00:01\r\u001b[K     |█████▌                          | 112kB 6.0MB/s eta 0:00:01\r\u001b[K     |██████                          | 122kB 6.0MB/s eta 0:00:01\r\u001b[K     |██████▋                         | 133kB 6.0MB/s eta 0:00:01\r\u001b[K     |███████                         | 143kB 6.0MB/s eta 0:00:01\r\u001b[K     |███████▋                        | 153kB 6.0MB/s eta 0:00:01\r\u001b[K     |████████                        | 163kB 6.0MB/s eta 0:00:01\r\u001b[K     |████████▋                       | 174kB 6.0MB/s eta 0:00:01\r\u001b[K     |█████████                       | 184kB 6.0MB/s eta 0:00:01\r\u001b[K     |█████████▋                      | 194kB 6.0MB/s eta 0:00:01\r\u001b[K     |██████████                      | 204kB 6.0MB/s eta 0:00:01\r\u001b[K     |██████████▋                     | 215kB 6.0MB/s eta 0:00:01\r\u001b[K     |███████████                     | 225kB 6.0MB/s eta 0:00:01\r\u001b[K     |███████████▋                    | 235kB 6.0MB/s eta 0:00:01\r\u001b[K     |████████████                    | 245kB 6.0MB/s eta 0:00:01\r\u001b[K     |████████████▋                   | 256kB 6.0MB/s eta 0:00:01\r\u001b[K     |█████████████▏                  | 266kB 6.0MB/s eta 0:00:01\r\u001b[K     |█████████████▋                  | 276kB 6.0MB/s eta 0:00:01\r\u001b[K     |██████████████▏                 | 286kB 6.0MB/s eta 0:00:01\r\u001b[K     |██████████████▋                 | 296kB 6.0MB/s eta 0:00:01\r\u001b[K     |███████████████▏                | 307kB 6.0MB/s eta 0:00:01\r\u001b[K     |███████████████▋                | 317kB 6.0MB/s eta 0:00:01\r\u001b[K     |████████████████▏               | 327kB 6.0MB/s eta 0:00:01\r\u001b[K     |████████████████▋               | 337kB 6.0MB/s eta 0:00:01\r\u001b[K     |█████████████████▏              | 348kB 6.0MB/s eta 0:00:01\r\u001b[K     |█████████████████▋              | 358kB 6.0MB/s eta 0:00:01\r\u001b[K     |██████████████████▏             | 368kB 6.0MB/s eta 0:00:01\r\u001b[K     |██████████████████▋             | 378kB 6.0MB/s eta 0:00:01\r\u001b[K     |███████████████████▏            | 389kB 6.0MB/s eta 0:00:01\r\u001b[K     |███████████████████▊            | 399kB 6.0MB/s eta 0:00:01\r\u001b[K     |████████████████████▏           | 409kB 6.0MB/s eta 0:00:01\r\u001b[K     |████████████████████▊           | 419kB 6.0MB/s eta 0:00:01\r\u001b[K     |█████████████████████▏          | 430kB 6.0MB/s eta 0:00:01\r\u001b[K     |█████████████████████▊          | 440kB 6.0MB/s eta 0:00:01\r\u001b[K     |██████████████████████▏         | 450kB 6.0MB/s eta 0:00:01\r\u001b[K     |██████████████████████▊         | 460kB 6.0MB/s eta 0:00:01\r\u001b[K     |███████████████████████▏        | 471kB 6.0MB/s eta 0:00:01\r\u001b[K     |███████████████████████▊        | 481kB 6.0MB/s eta 0:00:01\r\u001b[K     |████████████████████████▏       | 491kB 6.0MB/s eta 0:00:01\r\u001b[K     |████████████████████████▊       | 501kB 6.0MB/s eta 0:00:01\r\u001b[K     |█████████████████████████▎      | 512kB 6.0MB/s eta 0:00:01\r\u001b[K     |█████████████████████████▊      | 522kB 6.0MB/s eta 0:00:01\r\u001b[K     |██████████████████████████▎     | 532kB 6.0MB/s eta 0:00:01\r\u001b[K     |██████████████████████████▊     | 542kB 6.0MB/s eta 0:00:01\r\u001b[K     |███████████████████████████▎    | 552kB 6.0MB/s eta 0:00:01\r\u001b[K     |███████████████████████████▊    | 563kB 6.0MB/s eta 0:00:01\r\u001b[K     |████████████████████████████▎   | 573kB 6.0MB/s eta 0:00:01\r\u001b[K     |████████████████████████████▊   | 583kB 6.0MB/s eta 0:00:01\r\u001b[K     |█████████████████████████████▎  | 593kB 6.0MB/s eta 0:00:01\r\u001b[K     |█████████████████████████████▊  | 604kB 6.0MB/s eta 0:00:01\r\u001b[K     |██████████████████████████████▎ | 614kB 6.0MB/s eta 0:00:01\r\u001b[K     |██████████████████████████████▊ | 624kB 6.0MB/s eta 0:00:01\r\u001b[K     |███████████████████████████████▎| 634kB 6.0MB/s eta 0:00:01\r\u001b[K     |███████████████████████████████▉| 645kB 6.0MB/s eta 0:00:01\r\u001b[K     |████████████████████████████████| 655kB 6.0MB/s \n",
            "\u001b[?25hBuilding wheels for collected packages: pypng\n",
            "  Building wheel for pypng (setup.py) ... \u001b[?25l\u001b[?25hdone\n",
            "  Created wheel for pypng: filename=pypng-0.0.20-cp36-none-any.whl size=67162 sha256=2fbdc5fb670ceceb874b2c8d92a75120dbf3a798e8c5cbf4ea7aeae338289c14\n",
            "  Stored in directory: /root/.cache/pip/wheels/41/6b/ef/0493b536b6d4722c2ae9486691b1d49b922b9877922beeabb3\n",
            "Successfully built pypng\n",
            "Installing collected packages: pypng\n",
            "Successfully installed pypng-0.0.20\n"
          ],
          "name": "stdout"
        }
      ]
    },
    {
      "cell_type": "code",
      "metadata": {
        "id": "t20X-vsFhV2U",
        "outputId": "470f79de-67bb-4363-9c20-98b822cdbebf",
        "colab": {
          "base_uri": "https://localhost:8080/",
          "height": 1000
        }
      },
      "source": [
        "X = []\n",
        "import png\n",
        "for i in range(gdt.n_index):\n",
        "    X.append(thes_resize(gdt.get1img(i, 'gray')))\n",
        "    png.from_array(X[i], 'L').save(\"/content/cropped data/\" + gdt.dataFile[i])\n",
        "    if (i+1) % 100 == 0:\n",
        "        print(i)\n",
        "# X = np.array(X)"
      ],
      "execution_count": null,
      "outputs": [
        {
          "output_type": "stream",
          "text": [
            "99\n",
            "199\n",
            "299\n",
            "399\n",
            "499\n",
            "599\n",
            "699\n",
            "799\n",
            "899\n",
            "999\n",
            "1099\n",
            "1199\n",
            "1299\n",
            "1399\n",
            "1499\n",
            "1599\n",
            "1699\n",
            "1799\n",
            "1899\n",
            "1999\n",
            "2099\n",
            "2199\n",
            "2299\n",
            "2399\n",
            "2499\n",
            "2599\n",
            "2699\n",
            "2799\n",
            "2899\n",
            "2999\n",
            "3099\n",
            "3199\n",
            "3299\n",
            "3399\n",
            "3499\n",
            "3599\n",
            "3699\n",
            "3799\n",
            "3899\n",
            "3999\n",
            "4099\n",
            "4199\n",
            "4299\n",
            "4399\n",
            "4499\n",
            "4599\n",
            "4699\n",
            "4799\n",
            "4899\n",
            "4999\n",
            "5099\n",
            "5199\n",
            "5299\n",
            "5399\n",
            "5499\n",
            "5599\n",
            "5699\n",
            "5799\n",
            "5899\n",
            "5999\n",
            "6099\n",
            "6199\n",
            "6299\n",
            "6399\n",
            "6499\n",
            "6599\n",
            "6699\n",
            "6799\n",
            "6899\n",
            "6999\n",
            "7099\n",
            "7199\n",
            "7299\n",
            "7399\n",
            "7499\n",
            "7599\n",
            "7699\n",
            "7799\n",
            "7899\n",
            "7999\n",
            "8099\n",
            "8199\n"
          ],
          "name": "stdout"
        }
      ]
    },
    {
      "cell_type": "markdown",
      "metadata": {
        "id": "N98BNLBXJ52G"
      },
      "source": [
        "# data generator"
      ]
    },
    {
      "cell_type": "code",
      "metadata": {
        "id": "IApqf_-9srCn"
      },
      "source": [
        "# y = gdt.label\n",
        "# X = X.reshape((-1, img_h, img_w, 1))\n",
        "# X.shape,y.shape"
      ],
      "execution_count": null,
      "outputs": []
    },
    {
      "cell_type": "code",
      "metadata": {
        "id": "LjFlHI2hyBDx"
      },
      "source": [
        "# import tensorflow as tf\n",
        "# y_cat = tf.keras.utils.to_categorical(y)\n",
        "# y_cat.shape"
      ],
      "execution_count": null,
      "outputs": []
    },
    {
      "cell_type": "code",
      "metadata": {
        "id": "H9lZ7gYotKsk"
      },
      "source": [
        "# X.shape,y_cat.shape"
      ],
      "execution_count": null,
      "outputs": []
    },
    {
      "cell_type": "code",
      "metadata": {
        "id": "NQ5_9aVKyafR"
      },
      "source": [
        "# from sklearn.model_selection import train_test_split\n",
        "# X_train, X_test, y_train, y_test = train_test_split(X, y_cat, test_size=0.20, random_state=123)"
      ],
      "execution_count": null,
      "outputs": []
    },
    {
      "cell_type": "code",
      "metadata": {
        "id": "6Y54H-mGyge_"
      },
      "source": [
        "# # Normalized\n",
        "# X_train = X_train / 255.\n",
        "# X_test = X_test / 255."
      ],
      "execution_count": null,
      "outputs": []
    },
    {
      "cell_type": "code",
      "metadata": {
        "id": "Iot13wpkEWac"
      },
      "source": [
        "datagen=ImageDataGenerator(rescale=1./255.,validation_split=0.2)"
      ],
      "execution_count": null,
      "outputs": []
    },
    {
      "cell_type": "code",
      "metadata": {
        "id": "3F1NNbdPFtMr",
        "outputId": "80d11acc-8ec2-46b8-a028-048754d77154",
        "colab": {
          "base_uri": "https://localhost:8080/",
          "height": 50
        }
      },
      "source": [
        "train_generator=datagen.flow_from_dataframe(\n",
        "dataframe=train_df,\n",
        "directory=\"/content/cropped data\",\n",
        "x_col=\"id\",\n",
        "y_col=\"category\",\n",
        "subset=\"training\",\n",
        "color_mode='grayscale',\n",
        "batch_size=32,\n",
        "seed=42,\n",
        "shuffle=True,\n",
        "class_mode=\"categorical\",\n",
        "target_size=(img_h, img_w))\n",
        "\n",
        "valid_generator=datagen.flow_from_dataframe(\n",
        "dataframe=train_df,\n",
        "directory=\"/content/cropped data\",\n",
        "x_col=\"id\",\n",
        "y_col=\"category\",\n",
        "subset=\"validation\",\n",
        "color_mode='grayscale',\n",
        "batch_size=32,\n",
        "seed=42,\n",
        "shuffle=True,\n",
        "class_mode=\"categorical\",\n",
        "target_size=(img_h, img_w))"
      ],
      "execution_count": null,
      "outputs": [
        {
          "output_type": "stream",
          "text": [
            "Found 6604 validated image filenames belonging to 10 classes.\n",
            "Found 1651 validated image filenames belonging to 10 classes.\n"
          ],
          "name": "stdout"
        }
      ]
    },
    {
      "cell_type": "code",
      "metadata": {
        "id": "mU07B-pSj3Ar",
        "outputId": "6187bc86-cd17-47fb-a1d0-658daa28a308",
        "colab": {
          "base_uri": "https://localhost:8080/",
          "height": 34
        }
      },
      "source": [
        "train_generator.image_shape"
      ],
      "execution_count": null,
      "outputs": [
        {
          "output_type": "execute_result",
          "data": {
            "text/plain": [
              "(64, 64, 1)"
            ]
          },
          "metadata": {
            "tags": []
          },
          "execution_count": 23
        }
      ]
    },
    {
      "cell_type": "markdown",
      "metadata": {
        "id": "OlEC6LdnKFca"
      },
      "source": [
        "# Create Model and training"
      ]
    },
    {
      "cell_type": "code",
      "metadata": {
        "id": "2OiMl3EokEGT"
      },
      "source": [
        "# ResnetV2 \n",
        "# ไม่ค่อยดี\n",
        "\n",
        "# from tensorflow.keras.applications import InceptionResNetV2\n",
        "# from tensorflow.keras import layers, Model\n",
        "# from tensorflow.keras import optimizers\n",
        "\n",
        "# ires  = InceptionResNetV2(include_top=False, weights='imagenet', input_shape=(75,75,3))\n",
        "# for l in ires.layers[:]:\n",
        "#   l.trainable  = False\n",
        "# x = layers.Flatten()(ires.output)\n",
        "# x = layers.Dense(10 , activation='softmax')(x)\n",
        "# model = Model(ires.input, x)\n",
        "# model.summary()\n",
        "# model.compile(loss='categorical_crossentropy', optimizer='adam', metrics=['accuracy'])"
      ],
      "execution_count": null,
      "outputs": []
    },
    {
      "cell_type": "code",
      "metadata": {
        "id": "bQJkDUcDyMwT",
        "outputId": "599914ae-b5f2-4730-b2a2-f65ae560533a",
        "colab": {
          "base_uri": "https://localhost:8080/",
          "height": 353
        }
      },
      "source": [
        "from tensorflow.keras.applications.vgg16 import VGG16\n",
        "from tensorflow.keras import layers, Model \n",
        "\n",
        "vgg = VGG16(include_top=False, weights='imagenet')\n",
        "for l in vgg.layers[:]:\n",
        "  l.trainable  = False\n",
        "# fit input\n",
        "x_in = layers.Input(shape=(img_h, img_w, 1))\n",
        "x = layers.Conv2D(3, 1)(x_in)\n",
        "x = vgg(x)\n",
        "# fit output\n",
        "x = layers.Flatten()(x)\n",
        "x = layers.Dense(10, activation='softmax')(x) \n",
        "model = Model(x_in, x)\n",
        "model.summary()"
      ],
      "execution_count": null,
      "outputs": [
        {
          "output_type": "stream",
          "text": [
            "Downloading data from https://storage.googleapis.com/tensorflow/keras-applications/vgg16/vgg16_weights_tf_dim_ordering_tf_kernels_notop.h5\n",
            "58892288/58889256 [==============================] - 1s 0us/step\n",
            "Model: \"functional_1\"\n",
            "_________________________________________________________________\n",
            "Layer (type)                 Output Shape              Param #   \n",
            "=================================================================\n",
            "input_2 (InputLayer)         [(None, 64, 64, 1)]       0         \n",
            "_________________________________________________________________\n",
            "conv2d (Conv2D)              (None, 64, 64, 3)         6         \n",
            "_________________________________________________________________\n",
            "vgg16 (Functional)           (None, None, None, 512)   14714688  \n",
            "_________________________________________________________________\n",
            "flatten (Flatten)            (None, 2048)              0         \n",
            "_________________________________________________________________\n",
            "dense (Dense)                (None, 10)                20490     \n",
            "=================================================================\n",
            "Total params: 14,735,184\n",
            "Trainable params: 20,496\n",
            "Non-trainable params: 14,714,688\n",
            "_________________________________________________________________\n"
          ],
          "name": "stdout"
        }
      ]
    },
    {
      "cell_type": "code",
      "metadata": {
        "id": "yc4Y_l6Ny9FD"
      },
      "source": [
        "# learning_rate_reduction = tf.keras.callbacks.ReduceLROnPlateau(monitor='val_accuracy', \n",
        "#                                             patience=3, \n",
        "#                                             verbose=1, \n",
        "#                                             factor=0.5, \n",
        "#                                             min_lr=0.0000001)\n",
        "\n",
        "# early_stop = tf.keras.callbacks.EarlyStopping(monitor='val_accuracy', patience=10,verbose=1)"
      ],
      "execution_count": null,
      "outputs": []
    },
    {
      "cell_type": "code",
      "metadata": {
        "id": "5D3afV8VJWii",
        "outputId": "7775fe13-d124-4e4a-cf38-f671dedbf6a1",
        "colab": {
          "base_uri": "https://localhost:8080/",
          "height": 1000
        }
      },
      "source": [
        "model.compile(loss='categorical_crossentropy', optimizer='adam', metrics=['accuracy'])\n",
        "history = model.fit(train_generator, batch_size=128, validation_data=valid_generator, epochs=100)\n",
        "# history = model.fit(X_train, y_train, batch_size=64,validation_data=(X_test, y_test), epochs=100, callbacks=[early_stop])"
      ],
      "execution_count": null,
      "outputs": [
        {
          "output_type": "stream",
          "text": [
            "Epoch 1/100\n",
            "207/207 [==============================] - 8s 37ms/step - loss: 0.7117 - accuracy: 0.8213 - val_loss: 0.3155 - val_accuracy: 0.9231\n",
            "Epoch 2/100\n",
            "207/207 [==============================] - 7s 33ms/step - loss: 0.2818 - accuracy: 0.9317 - val_loss: 0.2270 - val_accuracy: 0.9455\n",
            "Epoch 3/100\n",
            "207/207 [==============================] - 7s 34ms/step - loss: 0.2086 - accuracy: 0.9487 - val_loss: 0.1950 - val_accuracy: 0.9534\n",
            "Epoch 4/100\n",
            "207/207 [==============================] - 7s 34ms/step - loss: 0.1759 - accuracy: 0.9584 - val_loss: 0.1773 - val_accuracy: 0.9558\n",
            "Epoch 5/100\n",
            "207/207 [==============================] - 7s 34ms/step - loss: 0.1522 - accuracy: 0.9640 - val_loss: 0.1621 - val_accuracy: 0.9588\n",
            "Epoch 6/100\n",
            "207/207 [==============================] - 7s 34ms/step - loss: 0.1352 - accuracy: 0.9687 - val_loss: 0.1464 - val_accuracy: 0.9661\n",
            "Epoch 7/100\n",
            "207/207 [==============================] - 7s 34ms/step - loss: 0.1237 - accuracy: 0.9724 - val_loss: 0.1532 - val_accuracy: 0.9618\n",
            "Epoch 8/100\n",
            "207/207 [==============================] - 7s 34ms/step - loss: 0.1133 - accuracy: 0.9753 - val_loss: 0.1372 - val_accuracy: 0.9673\n",
            "Epoch 9/100\n",
            "207/207 [==============================] - 7s 35ms/step - loss: 0.1045 - accuracy: 0.9782 - val_loss: 0.1330 - val_accuracy: 0.9679\n",
            "Epoch 10/100\n",
            "207/207 [==============================] - 7s 35ms/step - loss: 0.0969 - accuracy: 0.9794 - val_loss: 0.1300 - val_accuracy: 0.9661\n",
            "Epoch 11/100\n",
            "207/207 [==============================] - 7s 35ms/step - loss: 0.0898 - accuracy: 0.9800 - val_loss: 0.1267 - val_accuracy: 0.9661\n",
            "Epoch 12/100\n",
            "207/207 [==============================] - 7s 35ms/step - loss: 0.0829 - accuracy: 0.9836 - val_loss: 0.1293 - val_accuracy: 0.9685\n",
            "Epoch 13/100\n",
            "207/207 [==============================] - 7s 35ms/step - loss: 0.0792 - accuracy: 0.9820 - val_loss: 0.1382 - val_accuracy: 0.9661\n",
            "Epoch 14/100\n",
            "207/207 [==============================] - 7s 35ms/step - loss: 0.0739 - accuracy: 0.9855 - val_loss: 0.1425 - val_accuracy: 0.9606\n",
            "Epoch 15/100\n",
            "207/207 [==============================] - 7s 36ms/step - loss: 0.0680 - accuracy: 0.9850 - val_loss: 0.1384 - val_accuracy: 0.9624\n",
            "Epoch 16/100\n",
            "207/207 [==============================] - 7s 36ms/step - loss: 0.0647 - accuracy: 0.9870 - val_loss: 0.1176 - val_accuracy: 0.9703\n",
            "Epoch 17/100\n",
            "207/207 [==============================] - 7s 36ms/step - loss: 0.0609 - accuracy: 0.9879 - val_loss: 0.1253 - val_accuracy: 0.9685\n",
            "Epoch 18/100\n",
            "207/207 [==============================] - 7s 35ms/step - loss: 0.0562 - accuracy: 0.9889 - val_loss: 0.1136 - val_accuracy: 0.9709\n",
            "Epoch 19/100\n",
            "207/207 [==============================] - 7s 35ms/step - loss: 0.0530 - accuracy: 0.9892 - val_loss: 0.1188 - val_accuracy: 0.9679\n",
            "Epoch 20/100\n",
            "207/207 [==============================] - 7s 35ms/step - loss: 0.0513 - accuracy: 0.9882 - val_loss: 0.1191 - val_accuracy: 0.9709\n",
            "Epoch 21/100\n",
            "207/207 [==============================] - 7s 35ms/step - loss: 0.0470 - accuracy: 0.9912 - val_loss: 0.1197 - val_accuracy: 0.9691\n",
            "Epoch 22/100\n",
            "207/207 [==============================] - 7s 35ms/step - loss: 0.0438 - accuracy: 0.9908 - val_loss: 0.1132 - val_accuracy: 0.9715\n",
            "Epoch 23/100\n",
            "207/207 [==============================] - 7s 35ms/step - loss: 0.0415 - accuracy: 0.9921 - val_loss: 0.1176 - val_accuracy: 0.9697\n",
            "Epoch 24/100\n",
            "207/207 [==============================] - 7s 35ms/step - loss: 0.0392 - accuracy: 0.9926 - val_loss: 0.1182 - val_accuracy: 0.9697\n",
            "Epoch 25/100\n",
            "207/207 [==============================] - 7s 35ms/step - loss: 0.0362 - accuracy: 0.9936 - val_loss: 0.1165 - val_accuracy: 0.9691\n",
            "Epoch 26/100\n",
            "207/207 [==============================] - 7s 36ms/step - loss: 0.0337 - accuracy: 0.9939 - val_loss: 0.1249 - val_accuracy: 0.9649\n",
            "Epoch 27/100\n",
            "207/207 [==============================] - 7s 35ms/step - loss: 0.0321 - accuracy: 0.9945 - val_loss: 0.1228 - val_accuracy: 0.9673\n",
            "Epoch 28/100\n",
            "207/207 [==============================] - 7s 35ms/step - loss: 0.0313 - accuracy: 0.9941 - val_loss: 0.1164 - val_accuracy: 0.9721\n",
            "Epoch 29/100\n",
            "207/207 [==============================] - 7s 36ms/step - loss: 0.0291 - accuracy: 0.9949 - val_loss: 0.1201 - val_accuracy: 0.9703\n",
            "Epoch 30/100\n",
            "207/207 [==============================] - 7s 35ms/step - loss: 0.0274 - accuracy: 0.9956 - val_loss: 0.1226 - val_accuracy: 0.9697\n",
            "Epoch 31/100\n",
            "207/207 [==============================] - 7s 35ms/step - loss: 0.0258 - accuracy: 0.9955 - val_loss: 0.1179 - val_accuracy: 0.9709\n",
            "Epoch 32/100\n",
            "207/207 [==============================] - 7s 35ms/step - loss: 0.0248 - accuracy: 0.9958 - val_loss: 0.1244 - val_accuracy: 0.9679\n",
            "Epoch 33/100\n",
            "207/207 [==============================] - 7s 35ms/step - loss: 0.0231 - accuracy: 0.9974 - val_loss: 0.1119 - val_accuracy: 0.9733\n",
            "Epoch 34/100\n",
            "207/207 [==============================] - 7s 35ms/step - loss: 0.0223 - accuracy: 0.9973 - val_loss: 0.1204 - val_accuracy: 0.9721\n",
            "Epoch 35/100\n",
            "207/207 [==============================] - 7s 36ms/step - loss: 0.0214 - accuracy: 0.9974 - val_loss: 0.1235 - val_accuracy: 0.9709\n",
            "Epoch 36/100\n",
            "207/207 [==============================] - 7s 35ms/step - loss: 0.0198 - accuracy: 0.9970 - val_loss: 0.1203 - val_accuracy: 0.9673\n",
            "Epoch 37/100\n",
            "207/207 [==============================] - 7s 36ms/step - loss: 0.0192 - accuracy: 0.9976 - val_loss: 0.1194 - val_accuracy: 0.9715\n",
            "Epoch 38/100\n",
            "207/207 [==============================] - 7s 36ms/step - loss: 0.0182 - accuracy: 0.9982 - val_loss: 0.1226 - val_accuracy: 0.9703\n",
            "Epoch 39/100\n",
            "207/207 [==============================] - 7s 36ms/step - loss: 0.0171 - accuracy: 0.9988 - val_loss: 0.1239 - val_accuracy: 0.9691\n",
            "Epoch 40/100\n",
            "207/207 [==============================] - 7s 36ms/step - loss: 0.0160 - accuracy: 0.9991 - val_loss: 0.1261 - val_accuracy: 0.9685\n",
            "Epoch 41/100\n",
            "207/207 [==============================] - 7s 36ms/step - loss: 0.0153 - accuracy: 0.9989 - val_loss: 0.1314 - val_accuracy: 0.9703\n",
            "Epoch 42/100\n",
            "207/207 [==============================] - 7s 36ms/step - loss: 0.0148 - accuracy: 0.9988 - val_loss: 0.1228 - val_accuracy: 0.9715\n",
            "Epoch 43/100\n",
            "207/207 [==============================] - 7s 36ms/step - loss: 0.0139 - accuracy: 0.9991 - val_loss: 0.1188 - val_accuracy: 0.9721\n",
            "Epoch 44/100\n",
            "207/207 [==============================] - 7s 36ms/step - loss: 0.0137 - accuracy: 0.9991 - val_loss: 0.1210 - val_accuracy: 0.9727\n",
            "Epoch 45/100\n",
            "207/207 [==============================] - 7s 35ms/step - loss: 0.0129 - accuracy: 0.9992 - val_loss: 0.1286 - val_accuracy: 0.9691\n",
            "Epoch 46/100\n",
            "207/207 [==============================] - 7s 35ms/step - loss: 0.0121 - accuracy: 0.9992 - val_loss: 0.1298 - val_accuracy: 0.9691\n",
            "Epoch 47/100\n",
            "207/207 [==============================] - 7s 36ms/step - loss: 0.0113 - accuracy: 0.9995 - val_loss: 0.1210 - val_accuracy: 0.9721\n",
            "Epoch 48/100\n",
            "207/207 [==============================] - 7s 35ms/step - loss: 0.0111 - accuracy: 0.9994 - val_loss: 0.1186 - val_accuracy: 0.9721\n",
            "Epoch 49/100\n",
            "207/207 [==============================] - 7s 35ms/step - loss: 0.0102 - accuracy: 0.9994 - val_loss: 0.1223 - val_accuracy: 0.9715\n",
            "Epoch 50/100\n",
            "207/207 [==============================] - 7s 36ms/step - loss: 0.0098 - accuracy: 0.9997 - val_loss: 0.1218 - val_accuracy: 0.9733\n",
            "Epoch 51/100\n",
            "207/207 [==============================] - 7s 36ms/step - loss: 0.0096 - accuracy: 0.9995 - val_loss: 0.1280 - val_accuracy: 0.9715\n",
            "Epoch 52/100\n",
            "207/207 [==============================] - 7s 35ms/step - loss: 0.0097 - accuracy: 0.9995 - val_loss: 0.1326 - val_accuracy: 0.9667\n",
            "Epoch 53/100\n",
            "207/207 [==============================] - 7s 36ms/step - loss: 0.0087 - accuracy: 0.9998 - val_loss: 0.1254 - val_accuracy: 0.9727\n",
            "Epoch 54/100\n",
            "207/207 [==============================] - 7s 35ms/step - loss: 0.0083 - accuracy: 0.9998 - val_loss: 0.1309 - val_accuracy: 0.9715\n",
            "Epoch 55/100\n",
            "207/207 [==============================] - 7s 36ms/step - loss: 0.0081 - accuracy: 0.9998 - val_loss: 0.1233 - val_accuracy: 0.9709\n",
            "Epoch 56/100\n",
            "207/207 [==============================] - 7s 35ms/step - loss: 0.0073 - accuracy: 0.9997 - val_loss: 0.1509 - val_accuracy: 0.9667\n",
            "Epoch 57/100\n",
            "207/207 [==============================] - 7s 35ms/step - loss: 0.0074 - accuracy: 0.9998 - val_loss: 0.1417 - val_accuracy: 0.9673\n",
            "Epoch 58/100\n",
            "207/207 [==============================] - 7s 36ms/step - loss: 0.0068 - accuracy: 0.9998 - val_loss: 0.1321 - val_accuracy: 0.9709\n",
            "Epoch 59/100\n",
            "207/207 [==============================] - 7s 35ms/step - loss: 0.0067 - accuracy: 0.9998 - val_loss: 0.1387 - val_accuracy: 0.9685\n",
            "Epoch 60/100\n",
            "207/207 [==============================] - 7s 35ms/step - loss: 0.0066 - accuracy: 0.9998 - val_loss: 0.1424 - val_accuracy: 0.9697\n",
            "Epoch 61/100\n",
            "207/207 [==============================] - 7s 35ms/step - loss: 0.0062 - accuracy: 0.9997 - val_loss: 0.1444 - val_accuracy: 0.9685\n",
            "Epoch 62/100\n",
            "207/207 [==============================] - 7s 36ms/step - loss: 0.0057 - accuracy: 0.9997 - val_loss: 0.1380 - val_accuracy: 0.9703\n",
            "Epoch 63/100\n",
            "207/207 [==============================] - 7s 36ms/step - loss: 0.0055 - accuracy: 0.9998 - val_loss: 0.1389 - val_accuracy: 0.9697\n",
            "Epoch 64/100\n",
            "207/207 [==============================] - 7s 36ms/step - loss: 0.0051 - accuracy: 1.0000 - val_loss: 0.1388 - val_accuracy: 0.9709\n",
            "Epoch 65/100\n",
            "207/207 [==============================] - 7s 35ms/step - loss: 0.0050 - accuracy: 0.9998 - val_loss: 0.1403 - val_accuracy: 0.9715\n",
            "Epoch 66/100\n",
            "207/207 [==============================] - 7s 36ms/step - loss: 0.0046 - accuracy: 0.9998 - val_loss: 0.1485 - val_accuracy: 0.9691\n",
            "Epoch 67/100\n",
            "207/207 [==============================] - 7s 35ms/step - loss: 0.0044 - accuracy: 0.9998 - val_loss: 0.1360 - val_accuracy: 0.9727\n",
            "Epoch 68/100\n",
            "207/207 [==============================] - 7s 36ms/step - loss: 0.0042 - accuracy: 0.9998 - val_loss: 0.1401 - val_accuracy: 0.9703\n",
            "Epoch 69/100\n",
            "207/207 [==============================] - 7s 36ms/step - loss: 0.0041 - accuracy: 1.0000 - val_loss: 0.1446 - val_accuracy: 0.9691\n",
            "Epoch 70/100\n",
            "207/207 [==============================] - 7s 36ms/step - loss: 0.0038 - accuracy: 0.9998 - val_loss: 0.1502 - val_accuracy: 0.9679\n",
            "Epoch 71/100\n",
            "207/207 [==============================] - 7s 36ms/step - loss: 0.0039 - accuracy: 1.0000 - val_loss: 0.1413 - val_accuracy: 0.9709\n",
            "Epoch 72/100\n",
            "207/207 [==============================] - 7s 36ms/step - loss: 0.0034 - accuracy: 1.0000 - val_loss: 0.1583 - val_accuracy: 0.9667\n",
            "Epoch 73/100\n",
            "207/207 [==============================] - 7s 36ms/step - loss: 0.0034 - accuracy: 1.0000 - val_loss: 0.1488 - val_accuracy: 0.9703\n",
            "Epoch 74/100\n",
            "207/207 [==============================] - 7s 36ms/step - loss: 0.0034 - accuracy: 1.0000 - val_loss: 0.1487 - val_accuracy: 0.9691\n",
            "Epoch 75/100\n",
            "207/207 [==============================] - 7s 36ms/step - loss: 0.0031 - accuracy: 1.0000 - val_loss: 0.1467 - val_accuracy: 0.9715\n",
            "Epoch 76/100\n",
            "207/207 [==============================] - 7s 36ms/step - loss: 0.0032 - accuracy: 1.0000 - val_loss: 0.1559 - val_accuracy: 0.9679\n",
            "Epoch 77/100\n",
            "207/207 [==============================] - 7s 36ms/step - loss: 0.0027 - accuracy: 1.0000 - val_loss: 0.1557 - val_accuracy: 0.9679\n",
            "Epoch 78/100\n",
            "207/207 [==============================] - 7s 36ms/step - loss: 0.0027 - accuracy: 1.0000 - val_loss: 0.1574 - val_accuracy: 0.9685\n",
            "Epoch 79/100\n",
            "207/207 [==============================] - 7s 36ms/step - loss: 0.0026 - accuracy: 1.0000 - val_loss: 0.1525 - val_accuracy: 0.9691\n",
            "Epoch 80/100\n",
            "207/207 [==============================] - 7s 35ms/step - loss: 0.0024 - accuracy: 1.0000 - val_loss: 0.1594 - val_accuracy: 0.9667\n",
            "Epoch 81/100\n",
            "207/207 [==============================] - 7s 36ms/step - loss: 0.0028 - accuracy: 1.0000 - val_loss: 0.1626 - val_accuracy: 0.9685\n",
            "Epoch 82/100\n",
            "207/207 [==============================] - 7s 36ms/step - loss: 0.0023 - accuracy: 1.0000 - val_loss: 0.1521 - val_accuracy: 0.9715\n",
            "Epoch 83/100\n",
            "207/207 [==============================] - 7s 36ms/step - loss: 0.0025 - accuracy: 1.0000 - val_loss: 0.1569 - val_accuracy: 0.9691\n",
            "Epoch 84/100\n",
            "207/207 [==============================] - 7s 36ms/step - loss: 0.0021 - accuracy: 1.0000 - val_loss: 0.1600 - val_accuracy: 0.9679\n",
            "Epoch 85/100\n",
            "207/207 [==============================] - 7s 36ms/step - loss: 0.0020 - accuracy: 1.0000 - val_loss: 0.1569 - val_accuracy: 0.9703\n",
            "Epoch 86/100\n",
            "207/207 [==============================] - 7s 36ms/step - loss: 0.0020 - accuracy: 1.0000 - val_loss: 0.1629 - val_accuracy: 0.9679\n",
            "Epoch 87/100\n",
            "207/207 [==============================] - 7s 36ms/step - loss: 0.0019 - accuracy: 1.0000 - val_loss: 0.1688 - val_accuracy: 0.9685\n",
            "Epoch 88/100\n",
            "207/207 [==============================] - 7s 36ms/step - loss: 0.0018 - accuracy: 1.0000 - val_loss: 0.1580 - val_accuracy: 0.9691\n",
            "Epoch 89/100\n",
            "207/207 [==============================] - 7s 36ms/step - loss: 0.0016 - accuracy: 1.0000 - val_loss: 0.1691 - val_accuracy: 0.9685\n",
            "Epoch 90/100\n",
            "207/207 [==============================] - 7s 36ms/step - loss: 0.0015 - accuracy: 1.0000 - val_loss: 0.1668 - val_accuracy: 0.9691\n",
            "Epoch 91/100\n",
            "207/207 [==============================] - 7s 36ms/step - loss: 0.0016 - accuracy: 1.0000 - val_loss: 0.1723 - val_accuracy: 0.9673\n",
            "Epoch 92/100\n",
            "207/207 [==============================] - 7s 36ms/step - loss: 0.0015 - accuracy: 1.0000 - val_loss: 0.1608 - val_accuracy: 0.9715\n",
            "Epoch 93/100\n",
            "207/207 [==============================] - 7s 35ms/step - loss: 0.0014 - accuracy: 1.0000 - val_loss: 0.1713 - val_accuracy: 0.9679\n",
            "Epoch 94/100\n",
            "207/207 [==============================] - 7s 36ms/step - loss: 0.0013 - accuracy: 1.0000 - val_loss: 0.1722 - val_accuracy: 0.9679\n",
            "Epoch 95/100\n",
            "207/207 [==============================] - 7s 36ms/step - loss: 0.0015 - accuracy: 1.0000 - val_loss: 0.1713 - val_accuracy: 0.9679\n",
            "Epoch 96/100\n",
            "207/207 [==============================] - 7s 36ms/step - loss: 0.0013 - accuracy: 1.0000 - val_loss: 0.1688 - val_accuracy: 0.9715\n",
            "Epoch 97/100\n",
            "207/207 [==============================] - 7s 36ms/step - loss: 0.0012 - accuracy: 1.0000 - val_loss: 0.1737 - val_accuracy: 0.9679\n",
            "Epoch 98/100\n",
            "207/207 [==============================] - 7s 36ms/step - loss: 0.0011 - accuracy: 1.0000 - val_loss: 0.1678 - val_accuracy: 0.9709\n",
            "Epoch 99/100\n",
            "207/207 [==============================] - 7s 36ms/step - loss: 0.0010 - accuracy: 1.0000 - val_loss: 0.1697 - val_accuracy: 0.9697\n",
            "Epoch 100/100\n",
            "207/207 [==============================] - 7s 36ms/step - loss: 0.0011 - accuracy: 1.0000 - val_loss: 0.1835 - val_accuracy: 0.9661\n"
          ],
          "name": "stdout"
        }
      ]
    },
    {
      "cell_type": "code",
      "metadata": {
        "id": "DhazSiSt6kMN",
        "outputId": "c6b23fd1-40ad-4e14-d54f-5d7b094bd43b",
        "colab": {
          "base_uri": "https://localhost:8080/",
          "height": 279
        }
      },
      "source": [
        "plt.plot(history.history['loss'])\n",
        "plt.plot(history.history['val_loss'])\n",
        "plt.xlabel('Epoch')\n",
        "plt.show()"
      ],
      "execution_count": null,
      "outputs": [
        {
          "output_type": "display_data",
          "data": {
            "image/png": "[encoded data removed]",
            "text/plain": [
              "<Figure size 432x288 with 1 Axes>"
            ]
          },
          "metadata": {
            "tags": [],
            "needs_background": "light"
          }
        }
      ]
    },
    {
      "cell_type": "code",
      "metadata": {
        "id": "Yp-KB4J36ODT",
        "outputId": "2229952f-96ef-4b16-870e-3889c47825b2",
        "colab": {
          "base_uri": "https://localhost:8080/",
          "height": 279
        }
      },
      "source": [
        "plt.plot(history.history['accuracy'])\n",
        "plt.plot(history.history['val_accuracy'])\n",
        "plt.xlabel('Epoch')\n",
        "plt.show()"
      ],
      "execution_count": null,
      "outputs": [
        {
          "output_type": "display_data",
          "data": {
            "image/png": "[encoded data removed]",
            "text/plain": [
              "<Figure size 432x288 with 1 Axes>"
            ]
          },
          "metadata": {
            "tags": [],
            "needs_background": "light"
          }
        }
      ]
    },
    {
      "cell_type": "markdown",
      "metadata": {
        "id": "kPC3OzZrEX_h"
      },
      "source": [
        "# test predict with train.rule\n",
        "(no need to run)"
      ]
    },
    {
      "cell_type": "markdown",
      "metadata": {
        "id": "wRAfMtSYyUPF"
      },
      "source": [
        "test predict with train.rule"
      ]
    },
    {
      "cell_type": "code",
      "metadata": {
        "id": "QF7HLi9yx8X9",
        "outputId": "565eea6b-d1a7-4cb5-9487-6df829207ded",
        "colab": {
          "base_uri": "https://localhost:8080/",
          "height": 195
        }
      },
      "source": [
        "test_df = pd.read_csv('/content/dataset/train.rules.csv')\n",
        "test_df.head()"
      ],
      "execution_count": null,
      "outputs": [
        {
          "output_type": "execute_result",
          "data": {
            "text/html": [
              "<div>\n",
              "<style scoped>\n",
              "    .dataframe tbody tr th:only-of-type {\n",
              "        vertical-align: middle;\n",
              "    }\n",
              "\n",
              "    .dataframe tbody tr th {\n",
              "        vertical-align: top;\n",
              "    }\n",
              "\n",
              "    .dataframe thead th {\n",
              "        text-align: right;\n",
              "    }\n",
              "</style>\n",
              "<table border=\"1\" class=\"dataframe\">\n",
              "  <thead>\n",
              "    <tr style=\"text-align: right;\">\n",
              "      <th></th>\n",
              "      <th>id</th>\n",
              "      <th>feature1</th>\n",
              "      <th>feature2</th>\n",
              "      <th>feature3</th>\n",
              "      <th>predict</th>\n",
              "    </tr>\n",
              "  </thead>\n",
              "  <tbody>\n",
              "    <tr>\n",
              "      <th>0</th>\n",
              "      <td>7c5fda39-c4a6-4d49-a0f6-751c7cd72bb4</td>\n",
              "      <td>NaN</td>\n",
              "      <td>75606737-d17d-43eb-86e6-6735b6f45a52.png</td>\n",
              "      <td>800e3baf-9ab1-48c0-a9ce-46c5fac9ff69.png</td>\n",
              "      <td>9</td>\n",
              "    </tr>\n",
              "    <tr>\n",
              "      <th>1</th>\n",
              "      <td>7e15ec1b-fe36-4a9e-a1cd-7c160e6a1b9c</td>\n",
              "      <td>NaN</td>\n",
              "      <td>75606737-d17d-43eb-86e6-6735b6f45a52.png</td>\n",
              "      <td>800e3baf-9ab1-48c0-a9ce-46c5fac9ff69.png</td>\n",
              "      <td>9</td>\n",
              "    </tr>\n",
              "    <tr>\n",
              "      <th>2</th>\n",
              "      <td>96b5d8b6-61cd-49f2-b22f-16fe25483cbc</td>\n",
              "      <td>NaN</td>\n",
              "      <td>75606737-d17d-43eb-86e6-6735b6f45a52.png</td>\n",
              "      <td>800e3baf-9ab1-48c0-a9ce-46c5fac9ff69.png</td>\n",
              "      <td>9</td>\n",
              "    </tr>\n",
              "    <tr>\n",
              "      <th>3</th>\n",
              "      <td>84ce5493-7e0f-4aee-8bb7-f799d714b5b3</td>\n",
              "      <td>NaN</td>\n",
              "      <td>c40b7fc4-07f1-4c78-abac-121bde38e267.png</td>\n",
              "      <td>1b2e1b3d-46f2-4c3f-b741-a8d5099ce710.png</td>\n",
              "      <td>4</td>\n",
              "    </tr>\n",
              "    <tr>\n",
              "      <th>4</th>\n",
              "      <td>7cb117e7-d8f3-400b-aeb3-a84fa3fb54e8</td>\n",
              "      <td>NaN</td>\n",
              "      <td>c40b7fc4-07f1-4c78-abac-121bde38e267.png</td>\n",
              "      <td>1b2e1b3d-46f2-4c3f-b741-a8d5099ce710.png</td>\n",
              "      <td>4</td>\n",
              "    </tr>\n",
              "  </tbody>\n",
              "</table>\n",
              "</div>"
            ],
            "text/plain": [
              "                                     id  ... predict\n",
              "0  7c5fda39-c4a6-4d49-a0f6-751c7cd72bb4  ...       9\n",
              "1  7e15ec1b-fe36-4a9e-a1cd-7c160e6a1b9c  ...       9\n",
              "2  96b5d8b6-61cd-49f2-b22f-16fe25483cbc  ...       9\n",
              "3  84ce5493-7e0f-4aee-8bb7-f799d714b5b3  ...       4\n",
              "4  7cb117e7-d8f3-400b-aeb3-a84fa3fb54e8  ...       4\n",
              "\n",
              "[5 rows x 5 columns]"
            ]
          },
          "metadata": {
            "tags": []
          },
          "execution_count": 250
        }
      ]
    },
    {
      "cell_type": "code",
      "metadata": {
        "id": "A9oi-F9eGNPC",
        "outputId": "4416a826-d7d0-48b8-e73c-d8c29ceb5db8",
        "colab": {
          "base_uri": "https://localhost:8080/",
          "height": 195
        }
      },
      "source": [
        "test_df = test_df.fillna(\"-1\")\n",
        "test_df.head()"
      ],
      "execution_count": null,
      "outputs": [
        {
          "output_type": "execute_result",
          "data": {
            "text/html": [
              "<div>\n",
              "<style scoped>\n",
              "    .dataframe tbody tr th:only-of-type {\n",
              "        vertical-align: middle;\n",
              "    }\n",
              "\n",
              "    .dataframe tbody tr th {\n",
              "        vertical-align: top;\n",
              "    }\n",
              "\n",
              "    .dataframe thead th {\n",
              "        text-align: right;\n",
              "    }\n",
              "</style>\n",
              "<table border=\"1\" class=\"dataframe\">\n",
              "  <thead>\n",
              "    <tr style=\"text-align: right;\">\n",
              "      <th></th>\n",
              "      <th>id</th>\n",
              "      <th>feature1</th>\n",
              "      <th>feature2</th>\n",
              "      <th>feature3</th>\n",
              "      <th>predict</th>\n",
              "    </tr>\n",
              "  </thead>\n",
              "  <tbody>\n",
              "    <tr>\n",
              "      <th>0</th>\n",
              "      <td>7c5fda39-c4a6-4d49-a0f6-751c7cd72bb4</td>\n",
              "      <td>-1</td>\n",
              "      <td>75606737-d17d-43eb-86e6-6735b6f45a52.png</td>\n",
              "      <td>800e3baf-9ab1-48c0-a9ce-46c5fac9ff69.png</td>\n",
              "      <td>9</td>\n",
              "    </tr>\n",
              "    <tr>\n",
              "      <th>1</th>\n",
              "      <td>7e15ec1b-fe36-4a9e-a1cd-7c160e6a1b9c</td>\n",
              "      <td>-1</td>\n",
              "      <td>75606737-d17d-43eb-86e6-6735b6f45a52.png</td>\n",
              "      <td>800e3baf-9ab1-48c0-a9ce-46c5fac9ff69.png</td>\n",
              "      <td>9</td>\n",
              "    </tr>\n",
              "    <tr>\n",
              "      <th>2</th>\n",
              "      <td>96b5d8b6-61cd-49f2-b22f-16fe25483cbc</td>\n",
              "      <td>-1</td>\n",
              "      <td>75606737-d17d-43eb-86e6-6735b6f45a52.png</td>\n",
              "      <td>800e3baf-9ab1-48c0-a9ce-46c5fac9ff69.png</td>\n",
              "      <td>9</td>\n",
              "    </tr>\n",
              "    <tr>\n",
              "      <th>3</th>\n",
              "      <td>84ce5493-7e0f-4aee-8bb7-f799d714b5b3</td>\n",
              "      <td>-1</td>\n",
              "      <td>c40b7fc4-07f1-4c78-abac-121bde38e267.png</td>\n",
              "      <td>1b2e1b3d-46f2-4c3f-b741-a8d5099ce710.png</td>\n",
              "      <td>4</td>\n",
              "    </tr>\n",
              "    <tr>\n",
              "      <th>4</th>\n",
              "      <td>7cb117e7-d8f3-400b-aeb3-a84fa3fb54e8</td>\n",
              "      <td>-1</td>\n",
              "      <td>c40b7fc4-07f1-4c78-abac-121bde38e267.png</td>\n",
              "      <td>1b2e1b3d-46f2-4c3f-b741-a8d5099ce710.png</td>\n",
              "      <td>4</td>\n",
              "    </tr>\n",
              "  </tbody>\n",
              "</table>\n",
              "</div>"
            ],
            "text/plain": [
              "                                     id  ... predict\n",
              "0  7c5fda39-c4a6-4d49-a0f6-751c7cd72bb4  ...       9\n",
              "1  7e15ec1b-fe36-4a9e-a1cd-7c160e6a1b9c  ...       9\n",
              "2  96b5d8b6-61cd-49f2-b22f-16fe25483cbc  ...       9\n",
              "3  84ce5493-7e0f-4aee-8bb7-f799d714b5b3  ...       4\n",
              "4  7cb117e7-d8f3-400b-aeb3-a84fa3fb54e8  ...       4\n",
              "\n",
              "[5 rows x 5 columns]"
            ]
          },
          "metadata": {
            "tags": []
          },
          "execution_count": 251
        }
      ]
    },
    {
      "cell_type": "code",
      "metadata": {
        "id": "05gGHpVw7P_f",
        "outputId": "f1d8445e-224a-4845-8a35-1c0943c01b71",
        "colab": {
          "base_uri": "https://localhost:8080/",
          "height": 195
        }
      },
      "source": [
        "t_nan = test_df.loc[ test_df[\"feature1\"] == \"-1\"]\n",
        "t_nan.head()"
      ],
      "execution_count": null,
      "outputs": [
        {
          "output_type": "execute_result",
          "data": {
            "text/html": [
              "<div>\n",
              "<style scoped>\n",
              "    .dataframe tbody tr th:only-of-type {\n",
              "        vertical-align: middle;\n",
              "    }\n",
              "\n",
              "    .dataframe tbody tr th {\n",
              "        vertical-align: top;\n",
              "    }\n",
              "\n",
              "    .dataframe thead th {\n",
              "        text-align: right;\n",
              "    }\n",
              "</style>\n",
              "<table border=\"1\" class=\"dataframe\">\n",
              "  <thead>\n",
              "    <tr style=\"text-align: right;\">\n",
              "      <th></th>\n",
              "      <th>id</th>\n",
              "      <th>feature1</th>\n",
              "      <th>feature2</th>\n",
              "      <th>feature3</th>\n",
              "      <th>predict</th>\n",
              "    </tr>\n",
              "  </thead>\n",
              "  <tbody>\n",
              "    <tr>\n",
              "      <th>0</th>\n",
              "      <td>7c5fda39-c4a6-4d49-a0f6-751c7cd72bb4</td>\n",
              "      <td>-1</td>\n",
              "      <td>75606737-d17d-43eb-86e6-6735b6f45a52.png</td>\n",
              "      <td>800e3baf-9ab1-48c0-a9ce-46c5fac9ff69.png</td>\n",
              "      <td>9</td>\n",
              "    </tr>\n",
              "    <tr>\n",
              "      <th>1</th>\n",
              "      <td>7e15ec1b-fe36-4a9e-a1cd-7c160e6a1b9c</td>\n",
              "      <td>-1</td>\n",
              "      <td>75606737-d17d-43eb-86e6-6735b6f45a52.png</td>\n",
              "      <td>800e3baf-9ab1-48c0-a9ce-46c5fac9ff69.png</td>\n",
              "      <td>9</td>\n",
              "    </tr>\n",
              "    <tr>\n",
              "      <th>2</th>\n",
              "      <td>96b5d8b6-61cd-49f2-b22f-16fe25483cbc</td>\n",
              "      <td>-1</td>\n",
              "      <td>75606737-d17d-43eb-86e6-6735b6f45a52.png</td>\n",
              "      <td>800e3baf-9ab1-48c0-a9ce-46c5fac9ff69.png</td>\n",
              "      <td>9</td>\n",
              "    </tr>\n",
              "    <tr>\n",
              "      <th>3</th>\n",
              "      <td>84ce5493-7e0f-4aee-8bb7-f799d714b5b3</td>\n",
              "      <td>-1</td>\n",
              "      <td>c40b7fc4-07f1-4c78-abac-121bde38e267.png</td>\n",
              "      <td>1b2e1b3d-46f2-4c3f-b741-a8d5099ce710.png</td>\n",
              "      <td>4</td>\n",
              "    </tr>\n",
              "    <tr>\n",
              "      <th>4</th>\n",
              "      <td>7cb117e7-d8f3-400b-aeb3-a84fa3fb54e8</td>\n",
              "      <td>-1</td>\n",
              "      <td>c40b7fc4-07f1-4c78-abac-121bde38e267.png</td>\n",
              "      <td>1b2e1b3d-46f2-4c3f-b741-a8d5099ce710.png</td>\n",
              "      <td>4</td>\n",
              "    </tr>\n",
              "  </tbody>\n",
              "</table>\n",
              "</div>"
            ],
            "text/plain": [
              "                                     id  ... predict\n",
              "0  7c5fda39-c4a6-4d49-a0f6-751c7cd72bb4  ...       9\n",
              "1  7e15ec1b-fe36-4a9e-a1cd-7c160e6a1b9c  ...       9\n",
              "2  96b5d8b6-61cd-49f2-b22f-16fe25483cbc  ...       9\n",
              "3  84ce5493-7e0f-4aee-8bb7-f799d714b5b3  ...       4\n",
              "4  7cb117e7-d8f3-400b-aeb3-a84fa3fb54e8  ...       4\n",
              "\n",
              "[5 rows x 5 columns]"
            ]
          },
          "metadata": {
            "tags": []
          },
          "execution_count": 252
        }
      ]
    },
    {
      "cell_type": "code",
      "metadata": {
        "id": "ZkqI0zl69KHj",
        "outputId": "e263109e-020b-4dfa-a990-47e662268d8d",
        "colab": {
          "base_uri": "https://localhost:8080/",
          "height": 279
        }
      },
      "source": [
        "test_df = test_df.drop(test_df[test_df.feature1 == \"-1\"].index)\n",
        "test_df.head()"
      ],
      "execution_count": null,
      "outputs": [
        {
          "output_type": "execute_result",
          "data": {
            "text/html": [
              "<div>\n",
              "<style scoped>\n",
              "    .dataframe tbody tr th:only-of-type {\n",
              "        vertical-align: middle;\n",
              "    }\n",
              "\n",
              "    .dataframe tbody tr th {\n",
              "        vertical-align: top;\n",
              "    }\n",
              "\n",
              "    .dataframe thead th {\n",
              "        text-align: right;\n",
              "    }\n",
              "</style>\n",
              "<table border=\"1\" class=\"dataframe\">\n",
              "  <thead>\n",
              "    <tr style=\"text-align: right;\">\n",
              "      <th></th>\n",
              "      <th>id</th>\n",
              "      <th>feature1</th>\n",
              "      <th>feature2</th>\n",
              "      <th>feature3</th>\n",
              "      <th>predict</th>\n",
              "    </tr>\n",
              "  </thead>\n",
              "  <tbody>\n",
              "    <tr>\n",
              "      <th>70</th>\n",
              "      <td>41e3b3a3-33b6-48b3-9003-f0ad5f8da4ad</td>\n",
              "      <td>945fb6be-2376-4216-b8bb-186a3a187b57.png</td>\n",
              "      <td>3d500cc8-8e06-4ca6-8564-048c51e59d32.png</td>\n",
              "      <td>e6f348df-7167-4943-b8e3-a5d25be4e2e9.png</td>\n",
              "      <td>9</td>\n",
              "    </tr>\n",
              "    <tr>\n",
              "      <th>75</th>\n",
              "      <td>e7e18d14-8973-4228-8a32-55c21ff4d594</td>\n",
              "      <td>4fdb13e9-e29e-43f1-908d-d19724ccb0b1.png</td>\n",
              "      <td>5fe39810-519b-467b-8e5a-8535560419bd.png</td>\n",
              "      <td>602d1db8-34a4-4d4d-aba2-d477682ebd8b.png</td>\n",
              "      <td>24</td>\n",
              "    </tr>\n",
              "    <tr>\n",
              "      <th>78</th>\n",
              "      <td>f7161b51-7cd5-471a-94df-2e553270ed24</td>\n",
              "      <td>4a7d1655-2b04-48cd-8db2-0d6050e2d7d7.png</td>\n",
              "      <td>a5174e78-6306-4768-b059-7c49ca622404.png</td>\n",
              "      <td>c591186c-d87b-4dcc-bf3d-f4323723718b.png</td>\n",
              "      <td>15</td>\n",
              "    </tr>\n",
              "    <tr>\n",
              "      <th>82</th>\n",
              "      <td>cb4d9f5a-84b6-48fc-958f-f17c406fb575</td>\n",
              "      <td>e288b3dc-de75-45b4-bfb6-ccabf4edabd8.png</td>\n",
              "      <td>a329c70f-edb3-4649-abf3-3008ccc9cac1.png</td>\n",
              "      <td>c7792959-67aa-42dc-896c-685aca94fbef.png</td>\n",
              "      <td>5</td>\n",
              "    </tr>\n",
              "    <tr>\n",
              "      <th>85</th>\n",
              "      <td>0bf0a2d6-60f5-443f-a7b2-80e4c89e4331</td>\n",
              "      <td>9c9cc1a3-74f7-4496-871e-8cd906a2e38d.png</td>\n",
              "      <td>7861c47c-de16-4886-a379-f92194467016.png</td>\n",
              "      <td>1a79da4b-0bbd-4a9e-8a6e-c93365a6e4f8.png</td>\n",
              "      <td>24</td>\n",
              "    </tr>\n",
              "  </tbody>\n",
              "</table>\n",
              "</div>"
            ],
            "text/plain": [
              "                                      id  ... predict\n",
              "70  41e3b3a3-33b6-48b3-9003-f0ad5f8da4ad  ...       9\n",
              "75  e7e18d14-8973-4228-8a32-55c21ff4d594  ...      24\n",
              "78  f7161b51-7cd5-471a-94df-2e553270ed24  ...      15\n",
              "82  cb4d9f5a-84b6-48fc-958f-f17c406fb575  ...       5\n",
              "85  0bf0a2d6-60f5-443f-a7b2-80e4c89e4331  ...      24\n",
              "\n",
              "[5 rows x 5 columns]"
            ]
          },
          "metadata": {
            "tags": []
          },
          "execution_count": 253
        }
      ]
    },
    {
      "cell_type": "code",
      "metadata": {
        "id": "nk11wiWWypWc",
        "outputId": "c23f57d6-0e95-4086-80a4-502cd120f640",
        "colab": {
          "base_uri": "https://localhost:8080/",
          "height": 67
        }
      },
      "source": [
        "test_datagen=ImageDataGenerator(rescale=1./255.)\n",
        "\n",
        "test_feature1=test_datagen.flow_from_dataframe(\n",
        "dataframe=test_df,\n",
        "directory=\"/content/cropped data\",\n",
        "x_col=\"feature1\",\n",
        "y_col=None,\n",
        "batch_size=32,\n",
        "seed=42,\n",
        "shuffle=False,\n",
        "class_mode=None,\n",
        "target_size=(32,32))\n",
        "\n",
        "test_feature2=test_datagen.flow_from_dataframe(\n",
        "dataframe=test_df,\n",
        "directory=\"/content/cropped data\",\n",
        "x_col=\"feature2\",\n",
        "y_col=None,\n",
        "batch_size=32,\n",
        "seed=42,\n",
        "shuffle=False,\n",
        "class_mode=None,\n",
        "target_size=(32,32))\n",
        "\n",
        "test_feature3=test_datagen.flow_from_dataframe(\n",
        "dataframe=test_df,\n",
        "directory=\"/content/cropped data\",\n",
        "x_col=\"feature3\",\n",
        "y_col=None,\n",
        "batch_size=32,\n",
        "seed=42,\n",
        "shuffle=False,\n",
        "class_mode=None,\n",
        "target_size=(32,32))"
      ],
      "execution_count": null,
      "outputs": [
        {
          "output_type": "stream",
          "text": [
            "Found 5271 validated image filenames.\n",
            "Found 5271 validated image filenames.\n",
            "Found 5271 validated image filenames.\n"
          ],
          "name": "stdout"
        }
      ]
    },
    {
      "cell_type": "code",
      "metadata": {
        "id": "PuYtXLa2zY7M"
      },
      "source": [
        "pred1=model.predict(test_feature1)\n",
        "pred2=model.predict(test_feature2)\n",
        "pred3=model.predict(test_feature3)"
      ],
      "execution_count": null,
      "outputs": []
    },
    {
      "cell_type": "code",
      "metadata": {
        "id": "36btr_tLzp5g"
      },
      "source": [
        "predicted_class_indices1 = np.argmax(pred1, axis=1)\n",
        "predicted_class_indices2 = np.argmax(pred2, axis=1)\n",
        "predicted_class_indices3 = np.argmax(pred3, axis=1)"
      ],
      "execution_count": null,
      "outputs": []
    },
    {
      "cell_type": "code",
      "metadata": {
        "id": "PRzI00T220KP",
        "outputId": "0b50e026-6712-4ddb-b9b8-f0b3c9636924",
        "colab": {
          "base_uri": "https://localhost:8080/",
          "height": 34
        }
      },
      "source": [
        "predicted_class_indices3[0:10]"
      ],
      "execution_count": null,
      "outputs": [
        {
          "output_type": "execute_result",
          "data": {
            "text/plain": [
              "array([3, 6, 3, 5, 4, 1, 4, 5, 6, 6])"
            ]
          },
          "metadata": {
            "tags": []
          },
          "execution_count": 257
        }
      ]
    },
    {
      "cell_type": "code",
      "metadata": {
        "id": "kFQOPqyq0fC5",
        "outputId": "d3be9070-e9ac-4796-8508-89698e7aea83",
        "colab": {
          "base_uri": "https://localhost:8080/",
          "height": 402
        }
      },
      "source": [
        "test_df['feature1'] = predicted_class_indices1%99\n",
        "test_df['feature2'] = predicted_class_indices2%99\n",
        "test_df['feature3'] = predicted_class_indices3%99\n",
        "test_df[500:3000]"
      ],
      "execution_count": null,
      "outputs": [
        {
          "output_type": "execute_result",
          "data": {
            "text/html": [
              "<div>\n",
              "<style scoped>\n",
              "    .dataframe tbody tr th:only-of-type {\n",
              "        vertical-align: middle;\n",
              "    }\n",
              "\n",
              "    .dataframe tbody tr th {\n",
              "        vertical-align: top;\n",
              "    }\n",
              "\n",
              "    .dataframe thead th {\n",
              "        text-align: right;\n",
              "    }\n",
              "</style>\n",
              "<table border=\"1\" class=\"dataframe\">\n",
              "  <thead>\n",
              "    <tr style=\"text-align: right;\">\n",
              "      <th></th>\n",
              "      <th>id</th>\n",
              "      <th>feature1</th>\n",
              "      <th>feature2</th>\n",
              "      <th>feature3</th>\n",
              "      <th>predict</th>\n",
              "    </tr>\n",
              "  </thead>\n",
              "  <tbody>\n",
              "    <tr>\n",
              "      <th>679</th>\n",
              "      <td>001b72fa-8489-46e2-a182-1fe9a52c435e</td>\n",
              "      <td>1</td>\n",
              "      <td>3</td>\n",
              "      <td>0</td>\n",
              "      <td>3</td>\n",
              "    </tr>\n",
              "    <tr>\n",
              "      <th>680</th>\n",
              "      <td>03c8b82a-6077-430d-aab7-aa6381f51a70</td>\n",
              "      <td>0</td>\n",
              "      <td>6</td>\n",
              "      <td>5</td>\n",
              "      <td>30</td>\n",
              "    </tr>\n",
              "    <tr>\n",
              "      <th>681</th>\n",
              "      <td>344d90b2-6e4e-4529-ae74-af4e7674245a</td>\n",
              "      <td>9</td>\n",
              "      <td>0</td>\n",
              "      <td>3</td>\n",
              "      <td>0</td>\n",
              "    </tr>\n",
              "    <tr>\n",
              "      <th>682</th>\n",
              "      <td>4614da07-4fde-4b32-9c8c-3c17ac7d3546</td>\n",
              "      <td>0</td>\n",
              "      <td>2</td>\n",
              "      <td>9</td>\n",
              "      <td>18</td>\n",
              "    </tr>\n",
              "    <tr>\n",
              "      <th>683</th>\n",
              "      <td>71fb251c-ec41-441d-924e-98fa6bdb2447</td>\n",
              "      <td>0</td>\n",
              "      <td>9</td>\n",
              "      <td>8</td>\n",
              "      <td>72</td>\n",
              "    </tr>\n",
              "    <tr>\n",
              "      <th>...</th>\n",
              "      <td>...</td>\n",
              "      <td>...</td>\n",
              "      <td>...</td>\n",
              "      <td>...</td>\n",
              "      <td>...</td>\n",
              "    </tr>\n",
              "    <tr>\n",
              "      <th>3247</th>\n",
              "      <td>07b341fb-d6da-4834-b9fb-8f081a700e91</td>\n",
              "      <td>0</td>\n",
              "      <td>7</td>\n",
              "      <td>5</td>\n",
              "      <td>35</td>\n",
              "    </tr>\n",
              "    <tr>\n",
              "      <th>3248</th>\n",
              "      <td>7d4a924e-f543-46e2-8813-4df4810b9064</td>\n",
              "      <td>3</td>\n",
              "      <td>3</td>\n",
              "      <td>3</td>\n",
              "      <td>3</td>\n",
              "    </tr>\n",
              "    <tr>\n",
              "      <th>3249</th>\n",
              "      <td>892eb10b-57be-4397-92e7-c1f31ce31d56</td>\n",
              "      <td>4</td>\n",
              "      <td>7</td>\n",
              "      <td>3</td>\n",
              "      <td>54</td>\n",
              "    </tr>\n",
              "    <tr>\n",
              "      <th>3250</th>\n",
              "      <td>426ff32f-60e2-4833-aa63-ada5e9d5ccc4</td>\n",
              "      <td>5</td>\n",
              "      <td>4</td>\n",
              "      <td>9</td>\n",
              "      <td>4</td>\n",
              "    </tr>\n",
              "    <tr>\n",
              "      <th>3251</th>\n",
              "      <td>7831ca5a-409a-4c76-901e-77e21878cff4</td>\n",
              "      <td>2</td>\n",
              "      <td>0</td>\n",
              "      <td>5</td>\n",
              "      <td>25</td>\n",
              "    </tr>\n",
              "  </tbody>\n",
              "</table>\n",
              "<p>2500 rows × 5 columns</p>\n",
              "</div>"
            ],
            "text/plain": [
              "                                        id  feature1  ...  feature3  predict\n",
              "679   001b72fa-8489-46e2-a182-1fe9a52c435e         1  ...         0        3\n",
              "680   03c8b82a-6077-430d-aab7-aa6381f51a70         0  ...         5       30\n",
              "681   344d90b2-6e4e-4529-ae74-af4e7674245a         9  ...         3        0\n",
              "682   4614da07-4fde-4b32-9c8c-3c17ac7d3546         0  ...         9       18\n",
              "683   71fb251c-ec41-441d-924e-98fa6bdb2447         0  ...         8       72\n",
              "...                                    ...       ...  ...       ...      ...\n",
              "3247  07b341fb-d6da-4834-b9fb-8f081a700e91         0  ...         5       35\n",
              "3248  7d4a924e-f543-46e2-8813-4df4810b9064         3  ...         3        3\n",
              "3249  892eb10b-57be-4397-92e7-c1f31ce31d56         4  ...         3       54\n",
              "3250  426ff32f-60e2-4833-aa63-ada5e9d5ccc4         5  ...         9        4\n",
              "3251  7831ca5a-409a-4c76-901e-77e21878cff4         2  ...         5       25\n",
              "\n",
              "[2500 rows x 5 columns]"
            ]
          },
          "metadata": {
            "tags": []
          },
          "execution_count": 258
        }
      ]
    },
    {
      "cell_type": "markdown",
      "metadata": {
        "id": "FYysGbuSACOM"
      },
      "source": [
        "แยก dataframe 11 ตางราง เป็น feature1 ที่ 0 ถึง 9 และ NaN "
      ]
    },
    {
      "cell_type": "code",
      "metadata": {
        "id": "TV6ehA2N-pGQ"
      },
      "source": [
        "# test_df['predict'] = test_df['feature2'] * test_df['feature3']"
      ],
      "execution_count": null,
      "outputs": []
    },
    {
      "cell_type": "code",
      "metadata": {
        "id": "kpTqnn2NAeOQ",
        "outputId": "293affc0-9d35-4141-f98f-a6d6cbac421c",
        "colab": {
          "base_uri": "https://localhost:8080/",
          "height": 101
        }
      },
      "source": [
        "t_nan = test_df.loc[ test_df[\"feature1\"] == \"-1\"]\n",
        "t_nan.head()"
      ],
      "execution_count": null,
      "outputs": [
        {
          "output_type": "stream",
          "text": [
            "/usr/local/lib/python3.6/dist-packages/pandas/core/computation/expressions.py:68: FutureWarning: elementwise comparison failed; returning scalar instead, but in the future will perform elementwise comparison\n",
            "  return op(a, b)\n"
          ],
          "name": "stderr"
        },
        {
          "output_type": "execute_result",
          "data": {
            "text/html": [
              "<div>\n",
              "<style scoped>\n",
              "    .dataframe tbody tr th:only-of-type {\n",
              "        vertical-align: middle;\n",
              "    }\n",
              "\n",
              "    .dataframe tbody tr th {\n",
              "        vertical-align: top;\n",
              "    }\n",
              "\n",
              "    .dataframe thead th {\n",
              "        text-align: right;\n",
              "    }\n",
              "</style>\n",
              "<table border=\"1\" class=\"dataframe\">\n",
              "  <thead>\n",
              "    <tr style=\"text-align: right;\">\n",
              "      <th></th>\n",
              "      <th>id</th>\n",
              "      <th>feature1</th>\n",
              "      <th>feature2</th>\n",
              "      <th>feature3</th>\n",
              "      <th>predict</th>\n",
              "    </tr>\n",
              "  </thead>\n",
              "  <tbody>\n",
              "  </tbody>\n",
              "</table>\n",
              "</div>"
            ],
            "text/plain": [
              "Empty DataFrame\n",
              "Columns: [id, feature1, feature2, feature3, predict]\n",
              "Index: []"
            ]
          },
          "metadata": {
            "tags": []
          },
          "execution_count": 259
        }
      ]
    },
    {
      "cell_type": "code",
      "metadata": {
        "id": "IdVpU62iARsF"
      },
      "source": [
        "t0 = test_df.loc[ test_df['feature1'] == 0]\n",
        "t1 = test_df.loc[ test_df['feature1'] == 1]\n",
        "t2 = test_df.loc[ test_df['feature1'] == 2]\n",
        "t3 = test_df.loc[ test_df['feature1'] == 3]\n",
        "t4 = test_df.loc[ test_df['feature1'] == 4]\n",
        "t5 = test_df.loc[ test_df['feature1'] == 5]\n",
        "t6 = test_df.loc[ test_df['feature1'] == 6]\n",
        "t7 = test_df.loc[ test_df['feature1'] == 7]\n",
        "t8 = test_df.loc[ test_df['feature1'] == 8]\n",
        "t9 = test_df.loc[ test_df['feature1'] == 9]\n",
        "t9"
      ],
      "execution_count": null,
      "outputs": []
    },
    {
      "cell_type": "markdown",
      "metadata": {
        "id": "5VBw1Sk6EfM6"
      },
      "source": [
        "# Predict submit"
      ]
    },
    {
      "cell_type": "markdown",
      "metadata": {
        "id": "ebms7c_uGeq5"
      },
      "source": [
        "prepare data"
      ]
    },
    {
      "cell_type": "code",
      "metadata": {
        "id": "ZfKQE75GHOmO",
        "outputId": "812c9e1e-37fc-45d8-9031-a44676b6811f",
        "colab": {
          "base_uri": "https://localhost:8080/",
          "height": 54
        }
      },
      "source": [
        " import os\n",
        " arr = os.listdir('/content/dataset/test')\n",
        " print(arr)"
      ],
      "execution_count": null,
      "outputs": [
        {
          "output_type": "stream",
          "text": [
            "['bbcd5140-22dd-4f18-92c2-0f3a6794288e.png', '98f0920e-47cc-437a-bf93-8de1b06e58aa.png', 'b16a8ca5-349c-4109-bfe6-c2f3d66bd226.png', '7d1433a0-cdda-4281-b836-fee52886d900.png', 'f8eb8937-f449-4a9c-83c8-4f255388903b.png', '5ff4725c-bf19-4816-941d-125e98676c2b.png', '9594f423-a4e6-4052-b674-011771326db9.png', 'ec40aa73-f6ab-45e9-a230-1da48578da12.png', '2a96c15b-46b0-433f-8adb-bf54d6e70ee4.png', 'b889fa9c-8cda-4a2b-b957-38fa4c98527f.png', '25e2a886-8e3e-4e6a-b2aa-3a5dcff91173.png', 'c34b1ad2-6764-42bd-8616-1bd4a20bd45d.png', '4524c780-6671-4d90-a8cc-784e975b4ab6.png', '5180dea3-d2ab-4719-bc79-3a24e2d22bed.png', '8db031d9-5c33-4c9b-9694-bc0236a35e74.png', '6518d2d8-21e8-455f-9d20-7ef37b855d6a.png', '5ef24bd1-4b0e-45e5-af88-2f9e6a3c5a02.png', 'ce7cf6f9-a730-44a8-b046-9edda26749b2.png', '615457b3-55f6-4996-9f97-cde67f2a766c.png', 'adaa4741-f6a5-4a80-b218-121536fa5e51.png', '94232151-7ff6-40dd-aeb7-f7134199c7ce.png', '83f2fc38-cbad-452d-b69b-51c4e611f0ba.png', 'd7ca7f59-a220-418b-96bf-4ab6e90d1e7e.png', '4d27d770-ea3c-4f89-9dd8-17796026fcde.png', '1599b294-42c8-4147-a925-37637f4dc567.png', 'abfeda7b-1c86-4dfc-9e1e-84efd883e62b.png', 'dcf771f0-80c4-4483-8492-6b6cc16b34fc.png', '303ec548-0259-47ca-b681-5b77b9b0b501.png', 'fba67521-7936-4953-a6a0-eafbf2a0fc60.png', '124dd829-34b0-49c8-98ef-b14a4b633484.png', 'a4a84462-5235-439c-9dee-bc99bb392e9c.png', 'd2576099-50df-46b4-9fa2-6ce3a1e6d51a.png', 'dad59918-5291-44f9-ae63-e603cb1cf638.png', 'cc27191d-0125-41b4-b470-65e163bc2cb2.png', '23f610b2-b506-48a8-abac-e6741d3172bc.png', '7d0bf1a1-40a2-47a2-a09b-5ac297709837.png', '530b8a98-fd0c-4c9b-bc8a-aca62c848bb8.png', 'fedba64c-8bd7-4c14-8044-770490f700dc.png', 'a6c3e7ef-e3dd-4191-a9e0-f40fafd407c5.png', 'cdb3d8af-4553-45a4-853a-245e4320fbcb.png', '909b858e-e985-4092-a16b-e68c5a143084.png', '785c0d84-57db-42dc-ae58-7cc992339fe1.png', 'dbe529e0-6382-42f8-8294-9d541c26926a.png', 'df313c1e-c811-4b5c-a531-ec431b4b6c1d.png', 'af92f604-8238-4ace-b1f7-526df96080fe.png', '35207c28-c28c-4845-96a9-8d8330072a0f.png', '0af65b3c-b6f6-49e2-94a3-67815ab1c76f.png', 'f8c623ba-1205-4a71-8356-8f24d7663bb8.png', '757ec623-12a4-4b94-b5ec-f9c66efcc8ce.png', '9f403e71-beb7-4d7a-8993-d052414979f1.png', '344c2969-9dd7-4903-99e4-535779a42cde.png', 'e2b156d0-ba53-40dd-975b-1aa811179022.png', 'd112b305-6609-462a-9b94-eb7c2d8a083b.png', '3e5b14b6-5e4e-4aa4-95f9-7b895333aeff.png', 'bb790d57-cb4a-47fc-8064-93f640303cf8.png', '4504f50a-0a95-4572-9a3d-0d89a3da78eb.png', 'c82f48a1-5318-4ddd-a358-3bec5729c105.png', '96355a0d-8e82-47ec-af26-bcc337baf66a.png', '6184ae11-9801-4158-b9be-900e1aa12ee2.png', '39fb1a9a-1728-433e-b24d-07f87b2ef1a0.png', 'b6432b1f-f639-4e95-9eff-ad07f4acb884.png', '11eb7f2f-7f60-4258-8e06-30db04e301b0.png', '7bc83622-8237-4eba-9d8e-11558084364a.png', 'f472ea7b-9bcf-4f84-800b-fb744bf7e69e.png', '2872b48c-72ec-4cbc-ae58-7eb64be5b4cb.png', '377485fd-7d37-40ca-bed7-4c1c8d4ef0dc.png', 'fb2b940f-6c92-40a2-bd24-1a904d52ef5d.png', 'f30434b0-3ba1-4742-88ee-a6384a6a2f2c.png', '31892d35-839e-495a-a9da-0a94d912f03e.png', '93c7eaf2-be92-4716-a859-4dfc4626cc17.png', '7ded98e0-4c9f-493c-9b3e-7bc4867115eb.png', 'a0607163-aa76-4bf4-9ec2-5692683d800a.png', 'd5823d19-1b67-43ef-bcd1-a11594d4d0bf.png', '10d4dad8-bcb0-42d7-b516-6daa24be8b69.png', '22507622-ca50-456b-b66a-32c8aa19f318.png', 'f050a192-f3ae-4297-96f1-5ef294af3a72.png', 'b08f3a44-922a-4316-83b0-61a5cea83d65.png', '46816b60-f23a-447d-bfbc-6a88f3f9b6f6.png', '3ccd366b-aa2a-4598-901b-510c475fe155.png', '9271cd05-057d-4641-a89e-37e0ca4f6aed.png', '4fede7f5-d0a3-4c04-a1cb-96a6bc2798cc.png', 'edc55e04-e8b2-4e9d-8a5d-50272092b551.png', '501135f9-641e-46fb-823b-8241024671fb.png', '64dc43a0-3f90-43c3-9b48-0522e2a04efb.png', '3d693ff3-6c0f-4d9f-b1cf-9a82622b3f5b.png', '014ee19e-0872-45bc-b54d-06c89eaad031.png', 'abce47e9-f7f0-4def-b1c9-3b1bdf0f93bd.png', '43834f42-e494-417f-baee-47e14136cf0e.png', '6d1f013d-495b-4cc9-a092-e33307902456.png', '81354878-1655-4b7e-8ce5-3b3d2390564b.png', 'a8077e0e-fa34-45f2-981c-0625fe81533e.png', 'b287f431-034b-4585-b174-fc088b0f452a.png', 'd4f1d48d-385c-4995-8b3b-ac3971f76652.png', '255dde0f-0e49-4356-bee9-8fa93e7e9190.png', 'e2cdb91a-d780-47a9-afa7-1c6c8fbdb2b6.png', 'bceb5c94-0cac-4037-8f58-1ee7ed7aa7a4.png', '609e5700-292c-4208-bb99-fe161451fed9.png', 'c8992ca7-14c0-4fd4-8bb4-94ec52f12ee7.png', 'a781dd3f-9b15-45b3-a1cd-0422b9b890b0.png', 'ceb791ad-6ca8-4c9c-afde-092bfc4a6451.png', '411320c8-9f75-4444-bd24-0460791dc843.png', 'e72701cf-4544-481b-a494-afdf20536881.png', '27710f08-dd68-45c8-8d52-aab773db8067.png', 'd4380613-7b16-400e-b83b-527c178d098a.png', 'f0f2a8c4-bda1-4c5f-9f27-d2e08640a81e.png', '9797aded-1291-4f25-810d-559f0a3603c7.png', 'b706e4cf-65d1-4db7-af9e-97252794d2cd.png', 'e6ffd9f0-60c1-46b2-af41-37c987bae538.png', 'fb76dfc8-f22d-4ef4-a418-b738b793ecad.png', '7417950b-4660-4505-8216-d32746a93379.png', '661a054e-8f6e-46b1-a053-778d46cabebe.png', 'ca9f2182-a0a6-4469-a16e-28b958279cf8.png', '4d6bd7b0-32aa-4508-99f9-a32f30e6d248.png', '495b16ed-b0c7-463b-a232-24594414c575.png', 'd7320a9a-ba23-4073-aefd-9c6179768567.png', '272b6e93-e51a-4355-96c6-476fcf965180.png', '7300af7a-5b62-44c4-b82f-9b0f0f5ae76c.png', '895f2d53-eb73-4947-a982-660ed889a69c.png', '0e3edf2c-1d9c-4995-bb56-60d8c322e111.png', '1ca7ca44-287b-4315-b4ff-8bc462d3b921.png', 'd35db078-dcd4-410d-802e-c3b2ebfa3642.png', '9481619e-89a0-401f-a915-9a6a703ec366.png', '4fd91835-a4b7-4930-9f15-e895be8eab1e.png', '609bb8d4-2116-4c94-9a26-57b0005ffe06.png', 'b13e783d-60c5-4acc-bb3a-c6a76914acae.png', 'a4e20377-786d-4653-ba3f-1dbd0c9cc20f.png', 'c14a9b2d-4aaa-483f-9072-d0d80e54a00d.png', '7f9faa49-7109-4cab-b4a8-6428a1d76049.png', '46b135d9-0121-4e2a-a534-249e1dd5e9bb.png', '6c81aacf-3bf0-40d2-9a50-0958c3414971.png', 'dbada80b-55ea-4f1a-b890-93de026735d0.png', 'ced9069a-428d-42db-aa4f-8412dc0f152d.png', 'a0c26e13-a707-4482-b91c-14aeffd410ef.png', '0d578883-c2d0-429b-8daf-3c2c0b3cbaea.png', 'd3fb42ff-0c0f-4d32-984f-17957c997642.png', '33f12591-a0fb-4575-abe4-01556084564f.png', '38e6d1c4-6178-4156-b8d1-e77f6e3aa1a3.png', '48cb960b-f718-4031-9ab5-24078e6784d8.png', 'b6e057f9-a512-405a-a482-3300f603e43a.png', '255bac0a-d5d7-48bb-8e2f-50d460755c87.png', '05946839-39af-4473-9fae-443d0b7c7d23.png', '8b4b2b94-ed5d-4541-b3b4-7c7ec8052731.png', '3b179e12-e812-4bf6-bb94-2075f03d19b2.png', '58bafc62-3fe7-4951-8aa0-0d349b5ae35f.png', 'd61dc5a7-03b3-4368-92e5-09f03d107431.png', '377647cd-59a5-428b-9aa3-ed17535c701b.png', 'eb1466b2-aed3-41f6-8c7d-01dd0f6432ed.png', '35dda99b-2f82-49d6-9f54-cde91b03ec76.png', '3e0eb75a-eebc-45dd-97b1-c5fd8b6d54f0.png', 'ea27bc16-f9b6-47b2-b247-77c7acf28498.png', '63eb23d4-0ecd-40aa-9488-43e770128ba7.png', '57ae5407-e556-4971-9e0f-64c00dd4744b.png', '7b203311-8b55-425c-b1ed-16bae85de0e3.png', '4d072103-6f81-470e-a73b-1c49979ee161.png', 'f7575e5f-f3ab-4784-8867-06770db71d7c.png', 'f6db28df-510a-452c-819e-14d27ef35093.png', '75bfcec5-8201-4749-99f3-14daef88a46c.png', '4ae8c478-3e53-47d7-9e17-09346f8d775c.png', 'fd8e1fa4-030d-4fc4-bc5b-b6b7994d76e1.png', '62126a69-7061-4162-873b-19a4d63fa964.png', 'b8db7b4a-1e41-4589-8e9b-440c621ef1ef.png', 'c22ee141-e5fd-4f41-93be-7d7ab6ad6c07.png', '7cacc7fc-16f8-4687-b647-7bb1cad33a5c.png', '6820575e-9dca-4148-9c93-e2f94b224734.png', '21416b23-5562-4520-ad35-3d99861d8422.png', '5cca1986-c47c-4e51-a44d-7d9b6780ebfb.png', 'aec0e97c-1789-4270-81b2-6a818d189ae3.png', 'aa49993d-d51f-4aa6-b37c-2214bd54d39a.png', 'ec648faa-6942-4bb8-8ad4-cf564efcc303.png', 'b40c979c-a694-4c99-b7aa-09f3b35ba348.png', 'f8682f86-ae29-4759-8df9-445d9624dc51.png', '8dd78c42-cecd-4627-ac8f-98a18b4458a8.png', '1bc219f4-958b-443e-aa47-43a4f72e96ad.png', '4e647034-e602-4777-ac4d-bf6a6456dd81.png', '231f0bfe-4a61-4d4c-be14-f017c5aa47a6.png', '763e617b-a42d-45a0-bd35-62a030ade260.png', '462dcf81-9d4a-4076-be73-9d8e5de945d1.png', '483bfa6f-d3da-4072-8d0b-4f9d9a04b9cf.png', '50ad1bb6-5b0e-429e-9b8f-e250c50ffeea.png', 'c7f848e7-f248-4a7f-bd1e-93ecd095283f.png', '8379760a-9ea9-49ab-859d-4a20007a2b06.png', '77e1dcb9-7426-4206-af1a-50d6f7acb5a0.png', 'db863222-99d2-43a2-8854-40a90ea6999e.png', '459bf2b5-8704-4d74-ab94-13f399e0238f.png', 'd468d9ce-8c9c-44b8-8d68-5357dbfa9a98.png', '9d42d116-8463-475d-b6fa-5e4c7e36c85a.png', '4b835ac4-7774-4086-baee-f83ad3de62c8.png', '6518a631-a4d4-4cf9-acf9-c4005b519bc3.png', '84a21f74-12c8-4986-bea3-6b67112f5f00.png', '856af2d7-49a5-4f81-91f7-7b2ffddee37c.png', 'fa996955-15e2-4f53-bc52-383b4d30d17e.png', '9d05f881-123b-470a-9967-b1ca61dea833.png', '5997f13d-5eca-4a24-a30b-8b44460998c3.png', 'ec359520-0d5c-4422-b661-73ad7cccecfd.png', '1abb47b2-0f05-4ea8-81cc-2b996917186e.png', '900153ee-fefe-442c-b24d-ae47fad6d5bc.png', '5ca3b7e8-25ff-4b5b-98d6-3b3c2b4121f0.png', '7e061948-7738-46c9-b1ef-4bded0ca0acd.png', '76690855-bbc6-4056-a447-c9dd15d1af07.png', '6f404eff-cbd1-4308-9c90-72c915f8b46f.png', '8dca806d-f639-40d1-8747-348a86382dc2.png', 'd8621e12-5b7e-4e2e-af7c-d081f4bf1f40.png', 'd87c7c88-4c03-4832-8df5-9085965f3df6.png', 'dae888b1-ada5-4511-9e6d-be7974f09a25.png', '278632b8-899a-420e-809d-2412107c6ce6.png', '2c74def5-ad77-407c-9319-f44661b4766c.png', '5e075798-e599-4f4a-910e-21be48cc55d0.png', 'c9570406-1f8a-41e0-9b76-b43c1d741ae4.png', 'd3ad2a09-b64e-4a98-8752-777136c886ab.png', '2eebcaf5-ffba-4471-80dd-825a3a93809d.png', 'a0b0ec73-decc-4b45-addf-ed6e222bb827.png', 'b5e49bdb-af5d-44b8-918e-f6dc370f0998.png', 'f750ed71-07a1-4abd-9bc0-dfd2fc16757e.png', '9d80987c-c15c-41b4-b493-47ba2ba35c4f.png', '52ee50d3-f8c4-4cf1-ac68-8c9b86db6bf5.png', '074ab9b9-1177-46d5-90bf-00954df09c16.png', 'b0efd0c1-c4b8-4e34-bc8c-218429486492.png', '50823098-a96a-421d-acab-e231610d21ca.png', 'c0ce4126-8d80-4b1f-b152-beed356e02c0.png', 'e5f15c4f-390d-4a4b-a148-bd9b81e1d072.png', '26469451-87bd-4d9a-888e-c7918c38e031.png', 'd8246eaa-7903-4ae6-8543-fc36d547259f.png', '75a84e2a-0db9-4760-897b-7adaef4cfca4.png', 'f02da695-1afe-45dd-b4ae-4bb1e4529a14.png', '6c7ba06d-6a73-44b0-a50e-6afabcb15fd9.png', 'bf5b5bec-f322-47fb-9601-8d97522786c3.png', '5bc36eff-3cd8-4935-a61e-1aabd9bc0277.png', '86a91408-9f5e-40b1-93bc-9816ae996193.png', 'eb6681d8-db8f-4dc4-b399-d7dc5e7e691b.png', 'c853a0c1-456a-47f6-8df5-952c5f38e88c.png', '5f9054a9-b354-4596-9665-9734eebe6982.png', '33be6399-99ba-43e7-8188-fc38f5a71925.png', '57d2f95b-0051-4014-93a6-3b2d0c466407.png', 'beab28ec-31e5-44b2-82ce-8f7c538e1ccb.png', 'b63d6727-4cbe-45f3-a2fe-bdf50c3f27fe.png', '68bb0b82-951a-4351-993b-58ed05a78f16.png', '27fd99e9-2a29-4281-b123-849e9fa1741d.png', 'd01b8723-a303-4537-a5fd-7b5a38c375db.png', 'c6c97303-f3f4-4ede-8268-e7ab5ed417e1.png', '5068c3b7-0c77-42bf-8335-696fe8d1f261.png', '0dadfd41-6557-4432-97c0-4c0b21edf098.png', '3864606a-0f69-44ee-8be4-785e537030ed.png', '00fe4d99-f886-48ff-a3a3-d8914ac14e06.png', 'b4fa27bf-e21f-43c2-875c-41c7e1915e32.png', '393cd154-ae12-4531-b48b-da48d6c2494f.png', 'a8dabf82-f57f-49e5-a9ee-4c677251c59d.png', '4c88e8d5-a20a-41ec-b19b-99b49a66e56d.png', 'b181a69c-804e-46af-8354-830c17d3595c.png', '1c86f850-1e15-425f-bc43-4550be72833d.png', '0a15facc-1634-4441-8ff3-58ef4e17669f.png', '0192b203-af44-4c30-a309-9bbb117fb1f6.png', '1cb38615-fa35-40ef-87f4-6f2986baa210.png', '5dc19971-6926-42d7-8a33-1a6997a5bf1f.png', '1a893707-0ac2-46f9-b493-a30c585a7d14.png', '94ba7db2-9d4b-441d-889a-850eafe32443.png', '0a1b7609-8b47-4c9f-af37-0a16aa6dcd28.png', '02b5c53a-5248-4de4-b885-addd77d28d97.png', '5f122404-9540-402d-8a3e-440d3f4cfd4f.png', 'eeda96f6-97e1-47f4-a978-15cf6e6243d2.png', 'e08a08ec-1c46-4aa0-b8a1-31585e9a8b1b.png', 'dff90fdd-3631-44f9-846e-cee4bcb70351.png', '51b9f53e-5ce6-4efc-beef-b5b90640df02.png', '847a648a-e35e-455b-8b2c-31ff02993378.png', '98f9aed8-20a1-4234-a997-834c34714f7d.png', '02f806d7-8a34-434e-b347-15a78c10349a.png', 'd545ec26-8d8d-4ddf-afca-631be1793dfb.png', '4c17d06e-bff7-47bd-9b2e-4d7b7436a860.png', '37001e16-1b9a-4acf-b593-836e19896ac9.png', '81fc8259-a11f-4fe6-8cea-ba7646d02cf4.png', '5d9de704-d6c5-4e5d-b18e-7a19b771f8f8.png', '6efa43ee-361f-4dd5-9e8a-5d751d649758.png', 'f4d58005-849a-467d-910c-eb5cfae18037.png', '0afa332c-608b-45c2-a83f-2f732cc84aa5.png', '7b993986-7b79-4432-b940-2f14fdc4f43b.png', '388c7d15-c505-47f1-8de2-c9cf3ddaa68c.png', '286e51a0-aa0a-4057-bfd3-0d263c6e49fe.png', '75a19453-d701-467d-aba9-6259f52fd287.png', 'bf46532c-b699-4124-918f-79e3026973e7.png', 'ba9713a5-34a8-4e29-ba33-c45e0b8058be.png', '4e55ab19-6153-4dff-b5f2-5586d5cb8a66.png', 'da48e4aa-1396-4266-8f56-1b0b08ad32ba.png', 'a902d0a2-fb43-43ad-baf8-1be5f5d723e3.png', '0564481d-c004-4e01-afae-a1dfc720e0dc.png', 'd76b0347-2037-4c30-8e32-aa9594b8e131.png', '0640ff9e-e4ba-4e2f-a3f4-61ad185a4b46.png', '766b3eeb-76ed-4c8d-ae1f-b4e9475ee980.png', 'ae85ebd1-bcb9-47b5-bedc-2751030a74e8.png', '64bf654e-9a7b-48c3-b03a-64ff9eb9d562.png', '6d3b0c30-23e1-4d0c-ac5c-f7a38e057ebe.png', 'f93d28d6-857e-49fa-96ac-6dc17ffb6d65.png', '8fc169b0-b500-4edc-b8ca-dd2cdafa22c8.png', 'a66ff444-c2e7-4211-a180-73c55f5c6e69.png', '24692bc1-a0f8-47b7-9c1c-b80c6193a64f.png', '827c8b09-00ee-47f4-b4db-1c32c69a9d22.png', '4c0ba48c-b13f-4859-848e-2648757c4c77.png', '31c6c35f-5b95-4221-b35a-a31cd27978fd.png', '2d9d158a-86a6-4a39-8788-72651195c497.png', '6b4ce506-57d0-410f-ae60-9b74816e0f0e.png', '1170a2bd-8a12-4480-bd67-9cf48a2d623f.png', '149d5dd6-6f6f-47fd-a392-15198d4bf08f.png', 'a6687778-2a83-456d-9a02-9c1c2a91cf07.png', '30eddaa5-ab44-4d53-8bf1-146620fe1359.png', '24919bc0-d8a7-46e7-aaaa-c7f053bf28c8.png', '0f259922-1f9e-453e-af3a-9f1ac9d1ccdb.png', '92d1b0e7-6907-4741-8696-6a3e38fc12f3.png', '253bbe21-a052-455d-b4bd-f68f8b3ac86c.png', '0fa7fbbe-a639-4a9c-9ef6-a88ddbe40103.png', '55601f36-8b42-4f2d-9e5e-98783450d812.png', '7913419b-30a5-4ad0-8b76-b3ecd342b902.png', '0da19f6b-a9e3-40e5-bae4-5253b00eddda.png', 'f10faf41-8419-43dd-a20d-3285c52d4939.png', 'ce1452cb-595c-45a1-bd9b-24a350b7f849.png', '5a64309c-213a-4bf5-a270-064972b1db0b.png', 'da923f19-fbdd-4850-9169-22562af08381.png', '77d44722-ff0a-42ee-b500-bca886b9d462.png', '997ce240-df69-4b41-a9f4-0279871e7034.png', 'db6dbfe4-910c-422d-986e-924c35ddb10a.png', 'a38c0e99-61ae-433f-9890-b89dbf9d9274.png', '7a40a8c2-1ca8-461c-a31d-32ae2767cb31.png', 'c2eb20b5-a6cf-4cdf-acfd-754174c4b2b4.png', '2f3c5de2-bdd1-4ac8-a152-255b84d8350d.png', '7eac4331-b934-4467-aba4-695cf4a5a80d.png', 'ad733e30-2baa-467b-ada0-e344e2c07cf9.png', '0cfe01c4-3713-444b-b16a-4e93df222b9a.png', '8b4d92d8-fc06-4672-bf75-e9f11888b343.png', 'dd5ba255-7344-4834-9b4a-dec0a4fab6e7.png', '40c199d9-8170-4065-9c61-405a380ba800.png', '0e9ad764-dea1-462a-a626-9cd8cdcaa4eb.png', 'e549926b-e77e-496a-b58f-47a7159e6e23.png', 'd5e48421-d415-44e7-9651-af79bbfbda62.png', '475c1dcf-4de4-4f54-86cb-833f9280e482.png', 'df814070-7fac-4ca8-b8df-e47732ab26dd.png', '806af7aa-9aba-4edf-815d-0ca62b833ad9.png', '4442ef50-6ff5-419e-98a8-dd8976808db2.png', '32607073-a8d2-42d0-89a7-9a7f0d6b5b17.png', '085605f5-f141-4fba-b400-562290f38a95.png', 'cadcfc39-2336-4479-a2d2-922f6c41df2a.png', 'b14002a6-6fab-4253-b149-ffa0dff2f88f.png', 'adc16b53-7797-4f28-bfe7-40c68403cbe5.png', 'eca1cf10-712b-464c-8f17-f48f9d3dff04.png', '457b44b7-6f85-4354-a5c1-058a2ff84392.png', 'e80606c7-0fa2-4e11-a8ab-f8270b41b02d.png', 'd3434b63-a42f-4dad-8913-41fec6ccea01.png', '092b5b67-544a-4ad2-bed3-d00af02e40e9.png', '8fce4c49-1aa0-4908-bb8a-370f43632560.png', 'db934c3c-fd35-4fe7-b7f1-94d5f73556b1.png', 'fa106c9a-4612-4029-a1f8-f949c68f3624.png', 'd974f81d-7044-4c12-95c0-e27e5f875160.png', '4ff16d34-dd2a-4f95-973e-d7d3d270cd50.png', '6c2bf540-76cf-4fbf-9c74-02a93432698c.png', 'd544783b-3311-4031-be12-44c50557124a.png', '9bccbcbd-0280-46fc-9bb9-d3ce4ffe30a8.png', 'e3221409-a9a2-490e-b0d6-1394909f290e.png', 'be7da130-c43d-447d-bc46-593a9d18642e.png', '2f47f302-4383-4115-820c-753b7a4b4340.png', '20db66dd-9427-41ad-a66a-f6ce9f820a2d.png', '06383109-d017-4f15-90bd-580fa5965ed5.png', '2d25a972-ebc3-4cb4-a24a-01f87bd2a516.png', 'e649627b-7065-47b9-af01-c62acbdca2c9.png', 'cb04ce8c-6526-4eda-8ee8-cab9f3ca693a.png', '49b834c7-c0ed-41a0-9391-fa35995f802f.png', 'f773a382-5465-4641-92ce-1b991a9131dd.png', 'cb4ab957-9f9a-43bd-896b-e4faf88a46de.png', 'b4f81002-38d6-4763-89ba-dbeb87f91038.png', 'f7c8cb89-a72b-4d60-9aef-eb29413a4698.png', '33df1b2a-6b11-444c-8cac-f87995adae5f.png', '4579aca0-50b7-42d2-9880-3bf234d5702e.png', '85015f43-2262-4c3b-98e4-dcd7a7962542.png', '1420b947-138d-4e1f-8bb0-5d1d0f9bfc01.png', 'ed10665a-a38c-400f-8287-b2e2ab665d1c.png', '31e55eaa-6bab-4d4b-a5c4-befa9935d07f.png', 'e925c83d-b82f-427b-9d62-fac0d975a665.png', '1ef00f22-4c71-4d7f-9c18-5473e86a5cb4.png', '69b17cba-6a62-47ba-abaa-cea9c222e600.png', '413815d9-f7f4-4e02-9b5a-671379e73f9c.png', '17574f12-d6f3-475f-aa84-dc8b5d99e1b3.png', '01bb80f4-f9ba-4b87-931d-2726c5695343.png', '07b40233-c3ff-4ec3-a128-605f3ddb4fe8.png', 'ce22c29b-2bdd-475f-8b17-42f64aded244.png', '3016d042-9994-4dc9-b639-3414dc2b834b.png', 'f3b83d4a-3624-4d1a-8651-9ffcc231b5cc.png', 'e7b4ffc9-6748-469f-b357-fbdaab86002b.png', '9769cad3-1f78-4009-a429-470c6ddaf8af.png', 'a35e1a07-c7fa-4ed6-ab59-56a217018c85.png', '47e51282-e792-4c69-92b4-b471e8670215.png', '79b6ad9b-8e93-402b-89a3-b24422048a4c.png', '78ac1258-f7ab-4a4d-b6a3-f2a3266cbba7.png', '68b98a70-07d0-4264-ba65-60e3a2419d52.png', '0b4e1db3-0aa9-4fc7-8ff1-6fb95f90029d.png', '8aaf2eee-726f-488a-a449-ac9262d31320.png', '2fcfea83-e1b5-439c-83cb-9c1af265ecb3.png', 'be618f5b-9138-4416-a2f8-4483b0031a56.png', '072be093-b7f2-40b3-9f3b-88b296170c3e.png', '94d231c8-9c9d-4dce-99f0-0f3348c9178f.png', '15e72870-bf1f-43fc-abc9-a92e53409ca2.png', '1339c782-2c74-43ba-ba52-6819b001c1d6.png', '5f347d63-bd2a-42ef-bb41-bc984b065f37.png', 'aa27ede3-a939-4f6e-bef2-b62f1e6e52c4.png', '72a593d7-3b77-49b8-a878-4b854b71b538.png', 'c7ab72c0-73e3-43b5-af2c-0873f2164c65.png', 'a3066f20-1fdf-4fc8-b174-0e0198d1fbe2.png', 'bedeba0b-d8e8-48d1-850f-5b2f8f54e686.png', 'ed745348-896f-4d97-b14d-357524f9e71a.png', '68e44eee-0ef0-476f-9d31-40fe8c699ff8.png', '2b35fc01-1015-4e21-868a-f7810e4e93e0.png', 'a4b99a81-af17-45b9-8c25-51bf7dca580a.png', '428ed8de-21a1-47ed-af6b-5307acdde095.png', '2bb5dbda-df6b-4a41-a9a8-47acd2a726a9.png', 'f0fcc464-8dcd-49ff-acf1-0f8ac35712d5.png', 'c4fdb19b-0cd8-4e8d-9fb4-a0d8255f94d7.png', '5689bab2-8e06-4c07-aa6d-d0255bd76f6e.png', 'f59c19f4-e503-4844-8c44-85efdd96437f.png', '12851e6c-9f6e-4d94-bbfe-867e741e1ac9.png', '67b153ef-92e3-45b2-a411-e3be9ad087ee.png', '8b54ae01-22b8-441c-b149-c52b68749f22.png', 'd97836bf-aa9f-4761-9882-4e7262900f90.png', '45f91849-0256-498a-8f5b-98e09e5f7fb1.png', '83c56a3a-a72c-40b8-94ee-3a6aba03dbc4.png', '40c5e8b9-00fd-468c-90e2-d131fbea0b94.png', '0ed3f188-8db6-4f88-a983-00fec2017402.png', 'd4c73e94-699e-4600-80d3-c68c58270cd3.png', '242dd522-9f7f-4b77-b4f1-497967d57b3b.png', '4bd89aa4-a558-4f02-a6cb-1877a12f4bf4.png', '131e0190-9ce7-489b-b9de-465a98e8f0e4.png', '45d54581-4cc7-4acf-b045-f9f4b21af911.png', 'f5ec2531-6024-49c9-abb6-bbc957b2141e.png', '301e6b5f-9c40-4b4b-9e5d-9348ff3f736a.png', '0c1fd2de-2d53-4009-83ce-8bf64c2a7654.png', 'a294e33d-6ec9-49e1-a404-a275b3fe03ce.png', '8af3275d-e393-42bf-b388-769eb4e4068e.png', '0916d553-e43a-4ff6-b9f6-9e9bd0d0cd55.png', '51a1f292-e6f9-40d4-9344-54cffe4b764c.png', 'e5623812-1931-455c-9456-0cccb0a25be0.png', '374e7285-50ca-4d2e-92ed-286644e92d45.png', '0fb1fa6f-491e-45f5-8fa0-1dc0cc9e90d4.png', 'd0d59ab3-ff41-4fb1-be25-c44f92e483bd.png', '889bb940-e5ca-4fe9-9fb0-46c5b5b35791.png', '1ae83a80-8f65-4cf6-9b72-09999ef252aa.png', 'c84aed8d-72fc-4013-8e14-04898e7f1fe3.png', '3fb8ea6a-e481-4e17-a14d-4df52cafa611.png', 'a06413ab-53d6-43ca-b6a8-2f51c3b645c7.png', '7a40bc55-e6a7-4c78-ba23-9ddffc7ae051.png', '7addc565-91da-45ee-aa6e-d222a8d0bd85.png', 'a95012c8-362f-406e-8906-0a9487e7d7f0.png', 'db7bbcfd-c236-417d-b895-e185292ac25e.png', '433d5d5b-2562-460c-b2fd-599e6f1b80b3.png', '4bb72488-70e6-428b-88af-e982b85cfe63.png', 'c285e461-67da-4de6-9df9-1ba3d24a7dc4.png', 'df6f6698-8921-4f6e-a0e4-71854100969d.png', '21fd4ec3-acf7-4a37-b0ce-e0611d884fa5.png', 'c1ec97fe-55f2-48f5-a3a3-edceed5bb600.png', 'c5ab795f-7352-4658-aa3e-d07a3deb89b4.png', 'a3fa7535-c516-402d-b7c5-bd2b305563f2.png', 'b47aab53-f309-4947-bffd-43089b120dfa.png', '4b525d89-ea8a-4a90-998d-212b77606d70.png', '0043211a-8823-436b-b596-4575512b12d1.png', 'a1af2eb1-6a36-48dd-892c-476dea81d278.png', '285f46d0-5731-4040-b570-0c1da605f5f3.png', '5756d74a-fde8-4542-8f4f-5993ecad59ff.png', '341e28fe-df68-4690-a0a4-e1f822897f7b.png', '404e0444-344b-4fd1-8da0-cf918c67eaaa.png', '515cffd8-975b-4cd7-9838-1025dc48e003.png', 'aa20949b-1661-417c-ac60-ecd47e71c746.png', '9034009a-de6e-41b2-8af4-53cb84e80090.png', 'e47f8c6e-38b3-4e4a-a474-63c211eec9fd.png', '0a475f59-abcb-44be-8255-f1505e36fefe.png', 'f9de2182-058e-4286-8172-98bf7a41681e.png', 'f5a72283-cf9a-498c-8f43-7f3f7ce01441.png', 'e97f7cce-3521-46d4-8066-905a5760c9ce.png', '5f858357-8238-4913-8c17-d118181007f1.png', '6f6ca575-bb87-421e-9baf-88d40362ef91.png', 'be7b3f8a-193f-4322-b47c-9047915274e1.png', '209edde8-a77d-451e-8944-8fa6b2f8756c.png', '5381baef-ae27-419b-855d-4e8931710d7e.png', 'e18227f5-71b7-4c1c-8dcb-559eb66a7828.png', '42881a46-63f8-4814-b150-173617aa1d82.png', 'f4392dd9-4add-43f5-9cc7-75e102a11f85.png', 'b0bb6b2b-e43e-45ae-a63a-f3b499d753da.png', '4d4e005e-e7f9-4b8a-8cbb-29796a80ca92.png', '5a9c843c-a741-439e-80a6-fa5f9f1c5565.png', 'fee26c7a-6479-4df8-89f6-29fed2c5463d.png', '6b64be35-b3d6-4af7-95bc-6685ff5324fd.png', '99a2e80d-1b5d-4ac6-bcff-716e72c4bd46.png', '49f40354-9f34-4587-ad11-2c95c0f5ff67.png', '3124a5f7-29f3-4ef7-a515-c60a8519dc31.png', '232a8a61-0280-404f-a541-9f677018055d.png', 'bed752c1-c6fc-4f85-a3b0-6c6eaa9d3acc.png', '55d70c67-6b39-4e78-8cc2-3e76bab31f3d.png', 'da987f07-f454-4833-8475-886217035f4b.png', '4c4f3cdd-ac68-49d5-a515-d457567c3ee1.png', '9f6c0ceb-f25d-4128-8e84-bd51db2eaba1.png', 'd7a94218-14bc-4e10-9073-ff125ccdb839.png', '042aeb3b-e200-427d-b840-8b98929fcb87.png', 'f63fd1ad-76dd-4ec4-ba1b-34cfcb704f39.png', '915c6057-1a39-4af4-b0a2-5b4ee1a1d7c1.png', 'cb903f4c-e93c-41be-a112-46cde686db07.png', '0c1555e6-9593-40e7-9bef-270004aa73f1.png', '3234df09-b7a8-4b68-b633-3eb26b4f9db8.png', 'e72e5a68-0c77-4339-a4f4-3c5714ffbc7c.png', '35d97a3b-5c32-4355-843d-1c4eaad263f5.png', 'c3c92582-12fd-4356-a938-72e83c436b55.png', 'da40aafa-015d-411b-aa7a-b6595de91a3d.png', '29a9c450-ecb7-4bc0-b23c-85504ac902ce.png', 'a9eb7052-86e5-40cb-8b89-2589e0c16be2.png', '5f57ae9b-b6b0-4dc4-828e-ab3ff5ff7dcb.png', '24697ed6-0103-4b2d-a237-869f82659f7b.png', '16283e3b-a54a-444d-a90d-23e8a5c1f8b8.png', 'ce59e62c-fc0d-4e0c-a53f-2f9c7ef07112.png', 'd9639ff5-a555-4083-bca8-a5ff4a49fe3b.png', 'e296f118-9e7e-45e5-a08d-64f1787ca8f1.png', '42719bce-a168-4b3c-a8ae-c875c32ebdb5.png', '00c28543-c30a-4ca0-a112-159e971b7ebc.png', '98600176-0b9c-4acb-930d-935cd3eec650.png', '5bc5e620-e088-4bd2-ae7e-039c50d2a320.png', 'dd7e6b00-ab7a-4827-85ef-90c976fcdfe6.png', '1d3c028f-8111-43b0-9d00-5bb10efa0351.png', '76d6bc40-7402-4aa4-8ae0-7c6ed6eaf04e.png', '41a08638-c68b-4a46-97c0-0a69bc9bc8d4.png', '87f7be0f-aec2-45e5-9f68-5e7d30ca4aa2.png', '8df8d0d4-cec2-4cac-8929-7bc0b039fc3b.png', 'fbad538c-dd05-428e-b15e-1484dfcb8ba6.png', '75a71e09-d511-477f-902b-d27588348997.png', '1bb576b9-58ce-49bb-8507-39448ba04742.png', '74d2b89f-e079-4f0a-8619-1499fc6f9d9d.png', 'e178bf43-221d-487f-87a5-d94698d0a08b.png', '158994e7-05e9-47a7-94ce-01b1a1e71494.png', '690da2af-f462-4f61-b7a7-ec3eddeea935.png', 'fd7b8cf4-c65b-4dc8-ba33-11341266d41a.png', 'ef32b8cb-7d26-4f00-a811-8200227da3b4.png', '370a769e-5535-40b3-a3ae-548d63ed11bf.png', 'a0555690-236e-45f1-9457-001617c5650c.png', '3c594dca-b7a3-4492-9611-9c296ff6a5a6.png', '5197f1c5-7368-40b4-83b9-71d48277a4e9.png', '5a8b031b-4ca3-4da6-962d-b73a6327d150.png', '065deccf-7e89-409d-a9ef-c16408c48500.png', '73c6fd36-27cd-43b4-9bba-dd1f14e229d8.png', 'f8832be7-94a1-4544-8df2-83dace836c62.png', '14d3d03a-52a6-400b-bf0b-18bf35358fd5.png', '5e1a4d8c-4b62-4a63-8b83-6885a53b831c.png', '4a659bfd-ed7c-4b23-ac21-9d7001fd9e5b.png', '261076b2-867e-46f9-821a-9d8bd33e4e0e.png', '55ebd5cc-2d80-43aa-8ddb-5aa5fbdbf439.png', 'c915ee0d-237b-4675-9d32-d77bc1f1146a.png', '1800f8a7-aea0-49f0-babf-ea90ea950221.png', 'ab457bfb-0c70-4f1b-b3d3-c9d0cfff8f66.png', '7d5e5fc9-9109-4f57-956f-8f3a20b5b77d.png', '31599e1f-8312-4788-b206-1d0722bbd71d.png', '040ad51d-d3e4-4ef0-9663-d27b3130558e.png', '039958ca-1040-4f77-ad53-a957afc85d7b.png', '7bde85c8-dd88-47ac-8acc-ccfb7aa9c37a.png', '954818e3-c5ff-4134-b92e-1df955839076.png', '1be9df3c-09f1-4b8e-afc9-db3ecef7fab4.png', '18f29860-cf98-4ee8-b1cc-d22e84f9c3e5.png', '0aea3cf0-e73a-4f2c-a5d5-091bf48aaa8a.png', '350560cf-58c2-44ef-b10a-e37835d368c3.png', '28c9786d-e7a7-46a7-b8ac-e75288e02412.png', 'b5471d87-b9b4-4fa7-85b2-2375415a336e.png', '33f77545-d166-462b-a49a-122d87c7b2d7.png', '7a6fd022-64b0-41e0-9710-690d2436b554.png', '7a52d935-dfb8-4486-a523-5d3c3ab224da.png', '487dff5c-6922-4c8a-8b74-a5edbc91a9b1.png', '6eda52c7-20ff-4869-86e9-c5e9582ca6b5.png', 'a99794ef-d2f5-4bc7-8d11-9d5ec8cbdecd.png', 'eedd0faa-0e2d-4c31-ac9b-9d5d7f74196e.png', 'bb1e326b-121d-4951-aba9-8120fa158feb.png', 'cd0f949d-7dac-4a90-89c8-edafe2370b20.png', 'abb0193c-b834-49e3-bdac-8aedab2a3d06.png', '5880273e-e344-414f-9340-7a4f49cc691a.png', '5de6e4a6-1940-4ea9-869d-9063ed5e0156.png', '4e2e09c5-170d-43ec-8cde-fb5daf9ee069.png', '36ab60df-2ab6-4500-8382-a0fbea418559.png', 'a7af09e8-112f-4df7-9d3a-63093e08881c.png', '14774ed8-4674-486f-ae91-642aed5d21d3.png', '14ea1ae7-a792-4eb0-800f-851a191bcab7.png', '5b0d2bf5-49f1-4af2-8cce-b71ff423d7e9.png', 'c022e7a2-01ad-4c21-92ff-4d550d791562.png', 'f753a39b-3417-4b97-8687-22ec93450291.png', '31551278-a2c1-4bce-9009-8c0f42a20314.png', '6d55c979-6ce1-48a5-b702-007260772364.png', '2746dd81-6b7d-4998-a795-161a5bd9bf38.png', '559f0172-5331-4767-9c42-2c760c9a3a02.png', 'cdeddd94-7fff-427a-bf18-fd82f8e6330f.png', '69c6b0af-a088-4a9c-9d20-9a21a285fbcc.png', '32a4faad-dd95-4636-bcba-845884c146ed.png', 'f430a25f-0a66-4125-acb6-7337fd239053.png', '3ed4d6d1-113b-46ab-a191-0cb1c7a5d98a.png', '0291a8e8-0272-4a2d-8173-e6bc518e1e88.png', '8c7ca7eb-2619-4d99-85f2-3b417b405b41.png', '0800ccab-779a-41ac-8972-8dfa98cf42e3.png', 'd727d187-b783-4880-a55f-ed4a996ae009.png', 'd2c14b1d-e295-48a0-92e4-30b7b3299905.png', 'f5c10a4b-b8b9-4858-a58d-f608861de8e7.png', '9a634932-bc1b-4845-a95a-4adf522728b6.png', '72a3c575-f031-41d2-a8a7-9134687441cb.png', 'd68e0856-2858-4de5-8878-7d54d52c0980.png', 'cd423fad-811f-4d9d-9af0-6d40a35cdb1c.png', '77f3c012-4720-4378-86f1-a750f250c6f3.png', 'f0bceea0-f967-4d92-9932-43ed864ec46b.png', 'ecedf913-0143-4a76-88a9-f496d5af8f98.png', '9dd627ff-0106-4ae9-b67d-b79a61a17934.png', '51e1f057-e0a4-480d-bafb-5a538079df69.png', '595dc4be-b0ee-4ab4-8ff7-20e8e252d04a.png', 'e3f3e28d-d78f-4a0a-b014-dbacb76af648.png', '9454f1d3-ca7e-4d6f-8ff9-e114e036e2a1.png', '2c99f128-af2a-4daf-a6ec-fd5d22188dfe.png', '7afd8a7f-7adf-4974-b514-09b26475f0f4.png', 'af9b4580-7024-4cd9-889c-2019456b4398.png', 'b9640cf8-ee6e-4ace-9d2d-730d160fe179.png', '07e395e4-65ba-4e22-938e-00f9bf4e003f.png', '3a18fbc5-2aa2-4a67-8e67-1d9f04430fbd.png', 'eb81f3cc-f3dc-4aa0-8035-b1024c944a3a.png', '6a350455-617c-4858-a3ac-52f87d1be598.png', '380ea9de-5cde-4324-8a63-f73bd417ba08.png', '333cb3c0-b47b-493e-aed2-1402d273cf58.png', 'eb118d1a-4a80-4729-9309-0678bfbaa55b.png', '6fcbbfd3-efde-4e75-8573-c0f07cff5b03.png', '23c0cbdd-7e09-46b9-bbc0-73e0bbb65958.png', '7dae5577-89a5-4116-86bb-fdcaea14126b.png', '92e01f18-b64e-49cb-b93d-f8f701dec900.png', 'd90f461e-be01-40d3-a798-400b00f6eee8.png', '34db65a7-0ec2-40ee-ad54-a1308eb74c18.png', 'ad59c789-3aec-49d0-9da0-f606e5f968e6.png', 'd3a8722c-a7c6-4ab1-9c58-820fe8982bf1.png', '46206fef-abc4-469b-befc-bff90fcb6461.png', '217a68b5-21bf-45c4-8802-8892f3610b29.png', '6ce79b50-fc12-4cd0-b4ab-6cdf4546b7a1.png', '7034d8f6-427b-4f3f-a348-f06e966e3aa5.png', '1e6e3b62-5112-4f16-9ec3-0ad32317a05e.png', '7b5a8f70-0cef-4dd7-a4d8-6171588c14c5.png', '3533f00a-2c42-4e59-bb1e-dcbf6e4830a8.png', '34ad2f8a-e9eb-4666-aa1a-894a2571d567.png', '9481fad3-723b-4493-949f-5a06c00181b1.png', 'e45d781e-d195-4cfc-a47b-72b9a3e7470a.png', '8ef98a01-af2b-4b64-a6b5-cb03a8e0ca65.png', '250c2f41-1fc2-4475-bc8e-cf79fa9de649.png', '8bc2bd40-9a46-46d0-83d3-e2b9f742ff04.png', 'df1e1033-cc06-4659-890a-0a8b031e38bb.png', 'f13cb5b7-ac0c-43b8-b971-6921b3bf492d.png', '1b6f7a87-3423-4716-b59f-bb7a1914acc9.png', 'dff32110-0cf1-40e5-b4bc-8cf37542abdc.png', '72f88b05-48e6-4a26-918b-984e18cd4b28.png', 'd8128046-4145-470a-be0b-51d01349fe51.png', 'da29f606-a217-4d78-ab55-fb4d99d03d2c.png', 'd42f0d3b-f10f-413d-b05a-1151d1dc7639.png', '44fe8393-5a4b-4f57-84b9-997f50c8c0c5.png', 'f0866cb1-7f44-4787-9a37-315d666bd9cc.png', '03942090-df9f-47d8-993d-a6f57a06aeb4.png', '1be5111a-37ed-4798-add8-bdcc027024a9.png', '13700ed6-daab-4b70-a767-b506fc37bde6.png', 'ef05172a-2127-4ae8-a716-0dfab4bd34b8.png', '76538700-3bcf-4607-9e3a-4e91d4ee9b0b.png', 'cbe8718a-f263-4a1a-b659-8d0c56562d18.png', '60601c71-de0e-4b47-9f2e-f150d2208728.png', 'ba1f3f3f-60ae-4b8e-971e-ad9e0adac329.png', '600c4e0d-db1b-402a-a852-8987c18330d9.png', '7d2409db-2c7f-4647-a6bf-f2e528fc76af.png', 'aff9eefc-1175-48d4-8480-1fd04b5c9ab6.png', 'b5244758-30aa-40a4-b802-a62963b53c19.png', '0dca44b0-60dc-4626-8c5c-472e418ae5c3.png', '0027c93a-fb30-446c-b1b9-14d76191cccb.png', '85ffba43-1bd0-4623-86c8-a0ff6bfc8905.png', 'd93f8ca0-0576-4bfc-95be-a3939c6de8c3.png', '7317f3f1-f4e3-4ab4-958d-88e68442bf96.png', '7c76b362-df8f-4cdb-8fac-2b891b768d46.png', '176ef5bb-c37c-4ba3-a73e-b8cc49652971.png', '2c53d15b-67d1-41b0-a471-755fb214fce8.png', '3cdf1331-7f5b-456b-b7f2-cb4dbb07d3b7.png', 'b550a2e8-cefa-4501-881f-8076e882c599.png', '9183ea20-341b-4607-b160-991347c7852d.png', 'cbb5d9c3-d776-43dc-a61e-573b2e67d708.png', 'a0eda78a-a23c-44cd-9158-829e1e713f21.png', '27446cd6-a88c-44d4-b314-0aac62470101.png', 'ff053e6d-62bf-4e7c-a127-f81c85dacff8.png', '19d17ec7-5eb2-4a73-bc98-74ca60f0c4b6.png', '6f36d268-f2ec-4d39-b227-557d410d0817.png', '0dcaccb3-b6ee-4c7e-8847-dafdcc66be69.png', 'b4aaa2ec-a559-42bf-8409-3d414fa521aa.png', '8adf868a-bc8f-4f58-8eb4-e80d8a82cabf.png', '4f3d29d7-a155-4cce-8979-04035894fa0a.png', '94a5d7b7-d2c8-42c3-b137-d37e195108cd.png', '979b0a0f-9a4f-455d-94b8-77313eeab65c.png', '1e132b07-c5ff-4b8f-9529-d77ebe23c9a8.png', '52bf6698-6a41-45a7-b1bf-70a5a5769c99.png', '0276db88-285a-4e76-8355-1b16477e1ab5.png', 'ee91a15d-6fc7-4ddf-946e-d7eb8e0188e1.png', 'bfa94842-88c1-41ba-9924-62cb8e9c3b4f.png', '29fa1159-4093-414e-ac68-3b11ab2b0d69.png', 'cb84041e-b22a-443d-a103-1dae7b773ebd.png', '04a18da9-b1f9-4533-9b1a-7e4a009cc7d7.png', '9531e799-259d-4a5b-bf9a-17da3c89e035.png', '57546957-5fbb-443a-88fd-88c807307c20.png', '63fdb206-87e6-4b80-ad92-a5fe1757870f.png', 'ed0725ea-1763-4c03-8f2e-f75733af5324.png', '04054e45-6c1b-47c6-a249-545bd7440fbb.png', 'a724f0fc-ab95-4d42-bd3e-59446dd2eda3.png', '68772c6c-38c4-436f-a310-a4741d952949.png', '58b0395c-5814-4722-8ac1-61ede5f574e4.png', '65b229f5-6fb7-4258-af14-72df82f68dc1.png', '50da0ef7-b601-43b6-b8b9-5b150a67d53e.png', '2bab6355-cf91-4bed-b2e1-92888ff2ef5d.png', 'bcfda73f-7ed1-4c18-b4e0-705d92cfd305.png', 'a8a12e2a-ea36-4e70-ad42-6065ad3c1c47.png', '6a801d2b-f8ae-4ff3-8dd5-42d4b68d53a7.png', 'ba9ac1d2-2006-45ff-be4d-a69e8c4f00d9.png', '8f9b61d8-33c4-410c-b0e5-52f568408723.png', 'ae9888dc-4497-4183-b7d1-df54e59019ce.png', 'c21572f6-fe6f-4319-87ee-70a117e55b08.png', '6a8045c6-f9df-487b-a210-e4886c4e4c3b.png', '1080c83a-abd4-4989-9a20-25cfc5431c99.png', 'af5cd10f-c4be-4b63-954b-7945d363b1be.png', '4852b869-1eee-4b6e-afea-26a03d5e80d9.png', 'f4d8c686-d30b-4559-a25f-e92be7214ddd.png', 'b958942a-4098-4144-b1c8-f0a8a068a80f.png', 'e9803574-57e0-4eb8-be1c-3d138a9b0377.png', '879ba654-0af7-42b4-a7bd-0c6cbc5faca7.png', '93132eaf-1622-4ec5-a822-3cc10c485755.png', '777467d3-2a6a-4b8d-95b9-90318d77de40.png', '41f863e0-2599-4f73-8a27-0ec33b1efc98.png', '149cccaa-66e3-404d-9b08-188cb6833fa5.png', 'e3db5bc1-4d43-48f0-a4bc-ceb3a032b6c0.png', '783cf25e-3676-4690-a3c3-476341a84c87.png', 'e3b0a3c7-4850-4901-8211-31846c4d04bf.png', '4db1c0d0-6920-4d41-ba3a-20fa26764d29.png', '7afb8816-1e65-4495-ab48-90e38a84f88f.png', '7140165d-4a88-4e2f-be46-b8b64f30cbf1.png', '2bba4c4b-e19b-4f0f-8837-581b98fe4489.png', '1b678f04-07dc-4efa-a2a4-63c94bcfc416.png', '43149a3e-ea76-4064-a05a-751dfe10e5c3.png', 'a39ac327-1e81-4096-aff5-bfb860d32abf.png', '5b1aaf23-e40f-4416-aa4b-c73f43e85f86.png', 'f1a206b6-a582-44c8-af64-70e7436ba89f.png', '9b462685-f258-4427-b7ce-1f3612348e7b.png', '9f979cce-3aa0-450f-883f-41d5845e2c20.png', '923890d7-11d7-416f-a22f-cc3ae449103b.png', '158a8b33-53a2-4895-8533-817038a44ed0.png', 'bdecf932-5bc0-4e1b-ab1e-8d69e5e78a86.png', '9bc1de1d-98d1-45c2-ad8a-090cc6f206bd.png', '6db2ee0e-6410-4512-b18e-00a11e698311.png', '8319c55d-8a46-4110-9f37-b737ca7a651f.png', '9ae26be1-f084-4e8f-955b-cfcc670e49c3.png', '7654ea7f-97dc-4380-ba0f-cc4fbca6dcd6.png', 'ee4e29ef-78ad-429c-aec4-f58681a37d2f.png', '1c6359b1-6565-453f-ac0d-3460f8af4962.png', '071e0194-ddc2-4232-a466-5dc20fa3cdd4.png', '540cecce-2b8a-4314-8649-479bee84e901.png', '19059e83-30d7-4c22-8bc6-419e8496044a.png', '7c4c1f7e-03e7-464b-968c-a606b5c8ebae.png', 'c39cc5f8-99ee-421e-82fd-2d7cfa8267f0.png', '9d74d491-108b-4012-9236-2009a350e175.png', 'c944e26e-37c4-47f5-b908-dedf5ec1fac0.png', 'a52ba9cd-f8e9-42b8-a406-c549fd62a31e.png', 'c511e6de-f061-42e3-a06a-e3b56f8c2343.png', '77007ba4-06a0-49dd-b62a-c5ce5b89023b.png', '3ea6300d-05a0-4715-8e39-30fbbe5e89e0.png', 'ff8b4193-abd8-4ab0-80d4-2108a31ffd0c.png', 'd5586203-0fae-407f-ba98-cd14616cf36f.png', 'da9e09cc-b376-4538-9420-538e8299e2c1.png', 'aa383f0c-df36-424c-8bd1-27db04859882.png', '8e42446f-8bd7-4a7d-b041-4ca75f44d1a2.png', '1254c63f-f921-48fd-9091-639eb3f3dadd.png', '463e99df-ce42-4fab-a5ba-87bdef3f0861.png', 'e7bd3ed1-40fe-4c5c-aeb3-f19722713e46.png', '7b38642a-ade5-4778-8c4a-c25231cd380d.png', '7dc3f6c6-c7e4-43bf-ba77-5b987abe7857.png', '3b6bf9f1-d6f9-4a7f-9d10-73c3ac39fc3f.png', '9a48c866-5e7c-429d-a8ee-74d59be4ae42.png', '36e46770-0acc-40f9-9a31-5fd08df26f75.png', '9467c676-c8b1-47a1-94ff-4d433ca9f7e2.png', 'c986e92a-2f11-49b8-85a1-dc23fe3705c2.png', 'f08fcae7-238f-4496-84e0-b4ab10ab14bb.png', '91dfb361-8676-433f-95a6-b1cf7f440cac.png', '7d090939-fbc8-4ea3-932b-3783aacfd443.png', '7ef6409b-5a25-46b0-86c6-de9e717674c6.png', 'c60f678a-aaad-4547-96e6-b2aea16c34aa.png', '543e9d13-a629-4924-a05c-c79699653ddd.png', '87366717-f2ff-482d-8841-1d84e2458a63.png', '0546aea6-f0e7-4092-8115-51fa23fb2e67.png', 'b905c5de-f20c-4b36-bd4a-83159d47a755.png', 'ea060a46-a930-4c50-9290-26846899aaa3.png', '96653ae6-f00b-4fb8-abb0-7e8bb83197a8.png', '463cc5aa-e04d-4e42-ae29-a6a6197ff6a9.png', '78979688-d12b-4757-9f48-9a17da8b5be5.png', 'f728b89d-32ca-4498-b250-e94912314ded.png', '9b049075-47c0-4318-a22f-43906b427544.png', '272d9573-4582-4db5-9f77-60c821ae068d.png', '0165c098-d364-43cf-98d0-b7d41c1bc4d5.png', '073dabee-b72e-4d7f-8659-c7338bd98b42.png', '29594ec7-2829-463d-b174-66ad207b2aed.png', 'a14c562a-6dd3-4f07-a932-f3afcb689f53.png', 'e29c1813-60e1-4453-ad79-de186c46e7eb.png', '9335369d-57e1-4a0d-9779-f2800f83b4c0.png', '2a3f29ec-4213-48f7-8c16-bd589a764f9a.png', '679b7b53-3c09-4cc8-a068-f98254d677e7.png', '62573bab-96c4-4c79-b40d-f97d75449f28.png', '1c00f41e-0ce4-4c5b-8b13-26bd4bdea2ce.png', 'ac8271de-7fae-412a-8541-0e46d6bf5a57.png', 'ea0cef0c-0eb0-413c-a750-27f41e18e11e.png', '0abdddb7-a13f-4248-b4f2-08d1e2146c90.png', 'fb2213fa-745e-4f0c-b044-9e5e57aafc00.png', '605ae850-273a-4dca-90d3-b4e249c9b675.png', '01fe95ac-5517-4293-99b5-3f88bd74a715.png', '906e8a0c-70ab-42eb-9d86-4dbb7acde67f.png', 'a6b32355-8024-4ac9-9e0e-24576f5c0aa1.png', '51132afb-784a-414a-aaff-d378c66e8fc2.png', '828fd65d-1f0a-4ea7-9966-e7b9cb0c5d3d.png', '33f90897-b0d0-4d32-9d22-0f1de8108996.png', '77c9d3ad-4f26-4e2b-9d63-f0bc6e54d1cb.png', 'e75a7365-386a-44ca-a289-98ac3f5cb1ba.png', 'b9eb4bb8-ac1a-448b-b56c-6e067f42187f.png', '3b3532fb-5cbc-4323-977a-7436522e3e54.png', '975cac6e-e5ae-42e2-9b39-402203e920da.png', '44b3dc69-06ec-4f30-8980-bb2585bac94b.png', 'f51e66f5-5898-41cc-abcb-53f8515ea2d2.png', '7bd1a1cb-bf5e-4b56-ad54-be4e1ff4313a.png', '9b079608-c38b-43fe-a032-0376d09947f2.png', '6b87fe08-13e9-45e9-bc1a-6eeefb1f3b66.png', '4ddf6144-99f6-4b2b-a47f-6127efca9838.png', '57fedf5d-b5c4-478b-a023-14086675790c.png', '85939bd2-b2d1-4990-a14b-2aed30d466e2.png', '05e35e26-e021-4416-a210-f5418b1a6f4c.png', 'ff7c65bf-cf43-45d9-9f72-a87a8bf56100.png', '36d129ec-2009-481e-b00e-13325884f124.png', '248fa12f-7aad-4b2a-a8a1-515c9d8d0b5f.png', '0b4bbcc8-79c5-49ac-a7c6-63138fbaf554.png', 'a7ab476b-297e-49cc-9f7e-b84fff8424a5.png', '018adccd-a270-4b4f-8456-a59be68b4f80.png', 'd3b3a05b-4692-4726-b7a1-94717a79b8e2.png', '43364283-1899-4cbb-ac6b-5c7db239302b.png', '968d48bb-3385-4c9c-9d87-9da63d1d8774.png', '26babd10-9ffa-42f7-a654-285b534021df.png', 'e355cd8c-e0cd-4a53-836a-78efc03629e2.png', '80d9f6a2-34e5-4a2d-b3ba-7c8d92f978a1.png', 'cfa92b29-aada-43ea-81ac-5fdd53478e8d.png', 'c92b7544-6fcb-4996-9fe1-f0605191ab8a.png', '699e1361-7584-4267-a80d-4e6c25e9c7e3.png', '40f8db30-39fc-463a-bb1f-d5cf57c73883.png', '43221d55-8e13-40ff-91fd-bfbf1c80a309.png', '5b9fb7a4-69b0-4d33-b93c-e94e2bd68699.png', '023239af-fa1b-4ff0-b0ea-c6cd8780eb85.png', '244e11f7-c6b6-4105-b38a-f28ad6c109dd.png', '87d4e063-ab89-498f-88fe-a68a9bfbd63b.png', '8b91f88a-f2a6-4a54-95f7-8948dac6d80a.png', '298b0bf5-1cd4-41af-8c2b-90e00786f9e2.png', '38388af5-1f94-452e-b451-313491cdc5c4.png', '15c4dac2-003c-4ed2-b673-d2a9e44c5cb7.png', '3ffec67f-92e8-4036-bcf0-96444cc48367.png', '5c4b9ea1-1d28-4a7d-817b-49d361be2e22.png', '60f4aa0b-de2c-45bc-b47b-a6a1a97c4c25.png', 'b05ce1c2-fc3c-4bf3-9964-2e85db15f7b9.png', 'b9d169e2-8c6d-417b-8dc9-fbbfb21031ba.png', 'e533eb5b-3337-4ff1-aca4-0383e0647eda.png', 'fcbe9791-e47c-4617-b27f-d517c835303d.png', '70af0416-6882-43f4-a8a9-0a19fcd608cf.png', '07ce337b-b65e-46a1-93f4-796e4f2b5986.png', '39486094-a931-4918-ac79-33a248e300ba.png', '440f7584-fcd6-4bf2-ba34-897ae5f28802.png', 'a549d0cd-3e3b-4d1b-b12c-060dc136837e.png', '97b2ac0a-a444-4cb5-a06c-7ee38bcca201.png', '627cef47-72c3-4225-8d0d-78872c11e7cd.png', 'd810040f-e264-4bf8-8f27-d855dc4e18a4.png', '2c2e9cb8-0261-494c-8f54-bf1c28786edd.png', 'a08d4370-1270-4206-9a89-f6bc1fa84dc7.png', 'fa8d0b34-2748-4ab6-92c4-f49aa33dcd99.png', '9abd36d2-3cb0-448b-80f7-3cc9c8fff520.png', 'fb9c5d31-3393-4c59-a642-4bed26f277f1.png', '408be9ef-1c4f-4672-8f0a-232d300bafc0.png', '652f9f80-8610-4949-a3cd-917490e1014c.png', 'e6652d1c-0085-4f5c-af20-9a60cfcdfd0c.png', '098cafa4-92ff-4f26-bd81-57c673c185ff.png', '7fc88c6b-aeb0-4350-b43e-ff9dbba57474.png', '041533c7-1216-4a69-a2e3-ef7600d95656.png', '526eff84-1b06-47fe-9fb4-78072a18d817.png', '44a898b0-9dff-49be-b2a9-2686ce379cde.png', '9eb346fd-faa6-47c6-98b2-60b816266e93.png', '07d92013-c8fd-4e7d-b492-13db69816b0c.png', 'ef41eba7-8fec-4b6b-a9c6-0c7f1d9868bd.png', 'b8305e93-414b-4800-b51d-8ceb1bbd51d6.png', 'a52aa175-94a6-4d7f-9686-b338754296c9.png', '27691103-bcc6-4c6e-b3d5-12e70dce292d.png', 'f8ff6883-2421-4b46-bb89-da9028d0f693.png', '52bc984b-8ae6-4d35-8f30-ba090d97c29a.png', 'dcde0fa3-5e5f-4e4b-8e87-da305c2fd879.png', '963c2e25-030a-4337-abe8-29ce440ede61.png', '2b10dbf5-3457-4ebc-bc32-5853f34e45b3.png', '141f4153-f46e-4c97-ab66-b7595c555706.png', 'c53541a4-e25d-4139-94a5-3f3deb5852ae.png', '7f49902d-6385-4200-82f6-3529568eaad5.png', '9bd4215f-424f-4522-8961-e7fb8dbee185.png', '2379f1ac-a91a-44fc-a683-b717da18070e.png', 'cf3ee7fe-07a6-426c-9d31-900111825a07.png', '7a71284c-d9a4-4d37-8c33-974fe7d1409c.png', 'ce19e1fd-ec87-4b00-abbe-38872f487ca0.png', '1c1fcde8-bed3-4023-8a19-8614200eb89e.png', '49b5580e-3898-4cea-8dda-0d10c9b741cf.png', '475ffe12-ea1b-4326-a09f-b647210595a4.png', '6de2e326-4264-4e2d-921f-4caee703eb13.png', '462c127d-3648-4adc-9f35-1098e4e76db6.png', 'b9a76d4b-52d0-41a2-8dd8-1fc9cccf6a7f.png', 'e459d73e-119b-4dc1-8060-4b7049f1f582.png', 'f2cf7d99-29d4-4135-b779-be386503f876.png', '34a621fd-1dc3-45bf-9ade-ff84498fa71a.png', '7a4fedf8-9327-45b7-bf30-7771ed8103be.png', '540541f1-6c8b-4e1b-b583-e36983ac3f8e.png', '02665723-087e-45b3-b1d3-bcaef64939d2.png', '7d2bb8a3-0b48-4e74-8f42-7617fde1156c.png', '8fe49dec-a573-4b58-bacd-689cd7ec03cb.png', '2c4eddd3-e014-4991-8c25-fc94d509ecbe.png', '9f8c104a-6e2b-4cf6-9765-b6e01cfd113b.png', 'b8cd5fe4-bb06-406b-bfcc-a78294653330.png', 'bb38a400-4d94-4026-88b8-10bc27dd0dce.png', 'bda609e8-fa60-4dde-91f7-ef7404ada087.png', 'a709b18c-bc23-415b-8d8f-5f0380eb672d.png', 'c65fcca8-93c4-4c9f-b893-8d9b7542d9b3.png', '351bd50c-b82f-49bd-bb3c-489d1be4b433.png', '54cce92c-08a7-4134-afd6-548c992025d6.png', '2a00bf55-d3ca-48dc-87bf-621e9bca1ec4.png', '1491f5b6-fe50-459f-973d-e307b0137b0d.png', '56d45db3-3995-458e-98d4-ed0707e5924b.png', '7e138bf4-ecae-4627-9c0e-f977f8c0c263.png', '1232c3d1-2e79-41aa-8676-63228d655d39.png', 'ff868a85-af85-41eb-97ec-289f59d64f56.png', 'c658ec0c-bc4d-41f9-a3b0-4001ac02ce36.png', 'ee8947f5-cdf7-48b7-a1b8-bbf555cf8b1b.png', 'a8a51e83-b3e2-47ce-8fdd-8f576cdbc582.png', '4f5e9e48-d208-41a1-b6bc-a9a6c25b5e26.png', '4758dc80-c574-4420-b80d-964cae42c8ab.png', '59cf60df-2090-499d-98a8-79209f82a67f.png', 'f91554c0-5c53-4da9-90c8-568a84ee20f8.png', '9581cc79-290b-464f-ac24-080700b1555e.png', 'fbeafde5-a050-4466-98a7-e89aef0ee538.png', '3575e7c6-795d-4e9f-8587-2b989cbc1e29.png', 'f6e6816b-5671-4e5f-959d-11b0aba69350.png', '0efbfa82-0b0e-4cb9-8356-94c583f0aa8b.png', 'eb7f7958-f2da-4a1c-b92d-e100c72765a9.png', 'dcfaf40c-387b-43cb-9b3d-d3a3bd1f5e94.png', '3ce227b4-4442-4ece-87ab-96c97d51d537.png', '16a9f683-a3c2-4032-b511-0f071f17ac3a.png', '74369c61-ee5c-43c2-9811-0bf8523ed140.png', '459b4bb4-44e3-4ebb-80d8-263ee51368a9.png', '3a8b1069-9ca3-491b-b05b-c8387cd5566e.png', 'e5432b3f-f64a-4a62-b482-440dcd3554c0.png', 'ba8df221-831f-4c31-b2ff-bedbbf0c976e.png', '6bcb4023-9571-4142-8189-cc540fbdfa42.png', '8e61e59e-8739-431d-a9c8-5dab72e0e0a5.png', 'ec61ea9c-0501-4860-bca4-4d349d74e1f8.png', 'fb6f5890-f926-4d49-8da8-e36da92fccdc.png', 'd61bb625-66c3-4a8e-a0ca-a2271ddc9514.png', 'a9b51ffd-db6c-4bbf-bfd5-f9c4e96263cf.png', '889acaec-7422-4960-883d-5869a1c9b25a.png', 'e9956457-9a81-485f-a2c4-a15085e6fd9f.png', 'ae77dbd9-87dc-4e0d-880e-c25fe1b5f77f.png', '2e4d8e8f-2cb5-46e6-a4ea-1800ca4e1dbe.png', '9ce41c03-6037-49b9-9ec1-0845aa92e00d.png', '1cc29fb7-18ed-4f4b-a0ea-210501f72e15.png', '55e11756-4087-4311-8dd7-3f3fb826d494.png', '7c4142ef-a8f2-4662-ab27-975d048d9d66.png', 'e5e41cf4-02ac-4b54-a1ac-f5ad5a62743d.png', '21e071ab-73bd-4333-9de1-b1af1d9fcb9f.png', 'e4f3cb22-f8f8-4ce3-b965-ac5979e8fa4c.png', 'e723bdb7-2244-4781-abc5-441914fd7fd4.png', '42576265-2857-408d-8532-ed27762b7f7a.png', '339e3381-ee20-43ce-a9d4-0514317b5253.png', 'f7faad65-eb05-4c40-a54d-f745ba4e9af3.png', 'c04848e4-159a-46ce-a2bf-cd36b35cf4f0.png', '5e2a1c91-f783-4733-b5b7-355fb93b06dc.png', 'f2256796-e05b-47a3-b2ae-3022af78f79d.png', 'ce75bf02-bd6e-43d5-a3d9-0e63c94cdd04.png', '1f28128f-f413-447c-bf33-88a9c363652d.png', 'd5592bb0-af34-4315-9c27-0cae1db11792.png', 'e29018ca-0bd2-4ac9-9a10-e6e62305b8a0.png', 'ea38cff2-74de-488d-b39f-1b40ff1a50f3.png', '51439bd4-bf40-41b9-8f90-bb10e9890a54.png', '4a799859-4155-4929-933b-cd2147a54d54.png', '5bbac2a9-1eb5-4215-952b-e3aa0e4ec598.png', '8f1b1665-d6bc-41a6-9364-6104e615f309.png', '3159092f-80d2-4d9c-af3f-ead7d20e8f83.png', '494dcd01-8c48-4080-936e-eeb2e0f1f82a.png', '5ecf5b88-5ad7-4efb-953d-5dbb577924a6.png', '8cd9823d-569f-46fc-bf62-e38df373f26b.png', '92eab94e-68c6-4bef-9f1d-90843ef2577a.png', '7a69eb38-050f-4784-bd8f-b83ea70fb37b.png', '8322817e-6cf4-4503-930a-9c37cd7878cb.png', '93090405-8b94-47ba-99f7-54f30dcd170d.png', '1e1b74c3-578e-44ff-b503-a81d032b5ddb.png', '57b505ca-83c5-4fd0-8a88-0a3e80f30f1f.png', '55bdbf0f-4ddd-4d4e-bed6-1b613c3664cf.png', 'c9813472-ad50-4f41-9322-859660f352b0.png', 'a834814a-6fee-43e0-b773-46bf6c99d3e7.png', '216e46e5-3f4d-4462-a297-b4fb6be12376.png', 'e6300724-9e7c-4f9a-9816-2a731b39fe88.png', '6212f7c3-08f0-435f-bfc0-a2e7381db8f1.png', '3f92c5a5-9bb8-4d7a-8d35-7c956aabe921.png', 'bc15602f-574c-4b40-80df-01bdb27183b1.png', '66f229e0-8e2b-4918-967c-5014421c49c4.png', '9ffaf24f-c39f-4c0d-a9f0-a9eac30ad61f.png', 'ded2ef2e-32c2-41b9-9e28-a34d16042f07.png', 'b416fcbb-0c89-4113-aff9-41a1099a30b7.png', '5fe4fb16-7a10-47f3-9fa7-08ca9b8706bf.png', '961a7f2e-6b8d-4e8d-be11-a4c7f26d7119.png', '684f8add-621f-4f6c-aa9f-f5e2d276b934.png', 'b593520b-0061-44e4-851a-6da094f890cc.png', '12523451-3e29-40ef-b171-3ce9b3e7acfc.png', '4fbf59f5-6516-4e3e-b3f5-12642d421fb3.png', 'd8091431-409f-4db8-8ec3-a01532e37365.png', '20960dcf-0c6f-4f86-b1fc-eda84e540ca4.png', '80681ad9-2f5e-4498-acda-1dc5fe581dd3.png', 'c9b4c8f5-2819-4235-a5a6-e03b3a2012f0.png', '6e277db5-bdac-4fb6-8b0a-f4c9640c3c69.png', '67c8e554-65c7-4a7a-a096-408eb14e8654.png', '8355e199-4899-4eb9-8930-31abee137a14.png', '237784b8-68df-4af8-951e-231f18c35f30.png', '1e902e0d-ef9c-4cb2-8809-3000874f6b4e.png', '1492cf7a-89b1-43ce-98ab-449ef5781ae4.png', '1231c08b-1843-4e99-9820-1701ac8bfb2b.png', 'b3c749f7-46c7-408a-a3be-98602221ac22.png', '971d6501-753a-47be-921c-72b72d360eba.png', 'e8a62bad-2c1f-477d-85be-f49195db3aaf.png', 'ba66be77-4725-484a-94ac-0eb688e2a949.png', '5488c945-3cef-483e-93e4-5120bf903dd0.png', '93efbead-c810-4fdf-a617-d6cc52e7c186.png', '1d35027d-dfb7-4276-8ad4-9e4c7de86ca2.png', 'd411c136-c33e-4f41-b023-931d6f359386.png', 'bbf601b8-2ef6-4770-ad33-64cab08b443f.png', '10dbe87a-3159-48c0-8fdc-2632c3b425d2.png', 'd0b6e1cd-2fde-4b7c-865e-8d4f2468a2a3.png', 'ce33f625-9b9c-4add-8ca2-bc0005f74176.png', 'e0375f3c-7f3c-4556-acc4-31ef69244a6c.png', '43967e34-f890-47fb-917a-f3069eb1b504.png', '6faaadbf-d712-4d53-b20f-90922b96cb4d.png', '779d813c-0790-459d-9c8e-0bd78ca5a218.png', '7106dd0c-cc21-44d0-b21c-846eaf12ddc2.png', 'b648e22e-de30-4a0e-8962-81538c10c9cd.png', 'fb50940a-eeb1-40c5-8a80-490b89eeecf8.png', '1465d0c6-b537-4a0c-aa8c-21c9fc5bd0cb.png', '68325a32-11fb-430c-83ab-aba62c7a43f9.png', 'cc0274ff-1877-482c-9624-dfef2c83f96f.png', '45d03ba1-1d6f-4285-91a6-c7da1d16ab72.png', '279ca74a-84f8-4e8a-bdeb-72c77e87e50c.png', 'deac6bcf-c68b-441f-9ec7-b2e8e1d10214.png', '60becc71-da59-4fe2-82e7-4f5ff0e89e3b.png', 'd98fecc2-91fb-4aa5-bd65-87a890e6a388.png', 'e967e28b-dec9-46a4-92b0-95b7bbf3f611.png', 'e7f99051-0d1f-4cc0-9342-8662b353f259.png', '8877bb42-ae11-416e-a0c6-195cd92712b0.png', 'bcca83b3-53f2-46bd-8249-2e97f5de647d.png', 'bdcab205-9eb6-43b6-9804-5002b781830c.png', 'be60c2bd-f886-443b-91b7-14ac75572e5f.png', '30618a07-f5a8-4408-a3f6-4c035b1ce248.png', '33a2719f-30cc-41dd-90da-298a29eba163.png', 'fc6261d2-2e9e-492e-b9a3-754cdfbd90f8.png', '8ef4fa4f-16cd-449d-a86d-bd0ffb0ce234.png', '4b50d143-4e4a-4fd4-b9dd-fb855343934b.png', '09abc06f-4d1b-4960-8f08-8fcb995e0254.png', '4b7efdc6-9e6f-478b-921d-5958d0645c35.png', '20f5e864-844d-4968-a05f-bafc6f44cf22.png', '4a04bafb-830b-41bb-8bef-efa3af9f11d5.png', '04a838a8-f5fb-46c5-9884-27fced133d4c.png', '8539dfb0-75f6-4c67-a6d4-2c1ad8e0be61.png', 'c1514a98-93d9-47ae-a758-8c47a4bcc6dc.png', '1a1d1004-290c-4902-bd12-90db383c6754.png', '761f9c07-1e41-4b35-88f9-1d0265362b78.png', 'df7be400-a6d7-4ccc-883f-9af43cb908f4.png', '9fbc15f2-44ee-43c0-9a1b-7baa66d10890.png', '05047911-1ac3-40e9-a8e2-8e6faad42b37.png', '303e757e-0a78-4ba1-a94f-fe4023fa6a22.png', '938f4de6-625c-4aff-82a5-99430e4edd2e.png', 'b8946534-eb40-42e5-a990-80f17eb004fb.png', '2f89495e-1b9e-4bc4-b266-3ee3ac367ce9.png', '02055e88-1b30-4c91-8613-e2998e35eb87.png', 'ab82d096-7ffa-4734-b0d0-e54e54f2bbf9.png', '2827575f-2d05-4025-a0d8-a01c57e760f1.png', 'fa54b83d-8e3f-4655-a0fb-fbdcd6f82d50.png', 'e0a2151c-2090-40bc-8390-44f45521c40e.png', 'fe2f4c23-32df-4318-ad85-b7640fbf46bc.png', '9098bf57-5785-4c1d-a93a-7556492d8ef2.png', '2c7e7e7a-07a9-4d37-b281-cf5dcff6b869.png', '17976bc8-df69-405d-9adb-3a349ddc4de7.png', 'fa5bd1db-f89a-4ed8-8a90-59a1e8381e2c.png', '0d636a36-d142-4bdf-baf2-578707d4a222.png', '50c41675-489d-4790-924e-d16b34536751.png', 'd4d2f193-c7c7-4c59-90a0-472f4f886695.png', '83ddbe3d-c19f-4b27-a89a-0d794780d503.png', 'a6da6748-cd77-49d4-885c-1b50f135267a.png', '98415225-0238-402c-890b-8e53a253035b.png', '40a0ef92-6645-4f32-afa7-f922e80f580f.png', '4ba941ab-2259-431a-8f33-7634adcfd99d.png', '99d7a39e-b876-4fd7-b9a3-a3b34490d539.png', '7c0364c0-b000-48d0-b183-192c6f3f28f9.png', '7fda1bc5-068b-4638-8eae-8553cb1f55ec.png', 'eecca485-243d-4662-a7d7-c7c93ace1215.png', 'cb82d790-ea30-418b-a405-2f944345e9e6.png', '0be55603-d9e9-4925-a6f0-f32fdcd0aa63.png', '36312717-bc33-4ea3-98ce-d2ef39706c97.png', '03dbefe9-8960-404b-a7cb-645a5a7518a7.png', '5e10a79e-3b5d-4451-b58a-23758e559c69.png', '1845cf37-43ae-45c3-808d-6c7789295480.png', '2c5d4292-2119-4946-acad-e08a96241f00.png', '0ec5ee5e-055d-411c-8ac4-0974f8f3c6e7.png', '39e72dbb-048e-4fab-bb82-9fc570c47a62.png', 'd8f7365b-d228-47aa-9157-a0c0fb0037ef.png', 'cc239077-a012-426e-98a4-512b10fa0d9a.png', '2b916009-73b1-43aa-8ea0-73a843f38721.png', 'd62cefb1-bb10-4470-a539-48e93e2c9a6d.png', '616b4a1b-4e9b-4860-8922-c3bc94a129c4.png', '3169cec7-82af-4e18-9dbc-4d8039522006.png', '8d1fd0ce-7fba-4f28-9bba-0762856269ca.png', '2afdc224-6e50-4108-ad7b-961f1b83c081.png', '558f1a33-765b-42cf-9d61-10a20741bd0f.png', 'ae675d3b-750b-4cad-af5e-df1af7cafa80.png', 'a3b60072-0701-4b68-847f-e1a567bc5f93.png', 'c9a8a482-a22c-47cc-a91e-595fe00a7b43.png', '190c2bb6-665a-4ea7-926f-08cc0f25f99f.png', '7ca1aa7b-db66-4069-ae08-87db7cdbb09e.png', 'f48a93d6-1bfd-4047-8703-360251e8db86.png', '3de4a02c-edb5-48ba-ad51-061bcc4582ba.png', 'a453523b-c580-4f3b-bdd7-6bc152f56f8e.png', '5bf5a357-e2d0-488d-9020-5390b79ecef4.png', 'f656d9d0-8ded-4d33-92a0-746ec2e214ca.png', '92832859-f955-4c5a-8dc3-0147222d5324.png', 'ad4e96e2-b5e0-4358-9428-42fb2709d62b.png', 'ec3b32c7-0156-4b0c-bf30-6d18da11ae23.png', 'a813e0d7-0c39-4c96-b6ce-e9d12a73ccf7.png', '43300c70-b0b8-4e99-87b7-47512d286b13.png', '7cbe2e24-3b1b-4a7e-b6e6-6ad50741aaee.png', '96278331-b86c-4fa5-a74a-621de8e60c37.png', '1f1f8f82-260f-4562-90ae-f7ab5018eadb.png', '5335d7d8-4c2f-4163-8298-38841307015c.png', 'ce198239-bf7f-4c22-81ff-40a7268bba56.png', '3ea36ed8-2077-4bfc-8034-437305876e63.png', 'c1b89d12-0e04-400e-bb8f-7d708ed026ab.png', 'e2acafcc-525c-479d-83e8-76aec6aee37d.png', 'a2505b8a-bcad-4159-9a7e-99f4766a138e.png', '136a5bc2-7aff-4458-a5d6-a5267792defe.png', 'a03abe46-ead7-45cc-96df-00fc5f5b94ea.png', 'a730fbb3-9c06-4883-a198-bae8ee7c110b.png', '357a81eb-8945-499a-b686-e38ef35737d0.png', 'dad6bb94-7ec1-4353-b0c8-609f2773990a.png', 'c0d4ac4b-1b7a-4f5e-bf7d-93ade75e1ccc.png', 'a18a506f-78d1-485c-a4ac-84b3fd4a5afa.png', '3c9579f3-c9bd-409c-b15b-3155d05964a5.png', '20ed9ddc-937b-4f83-85e1-109ed54939ad.png', '485fe1d0-fb1a-48e5-86ce-3e3e768f62d0.png', 'a13101bb-611d-4640-8392-1b138bf56662.png', '0d5b62a9-4173-43e8-a4f2-d93588d69ded.png', '7652f6e0-a11a-4ed4-bc50-621591ab39e4.png', '6aa733e5-5907-4169-8466-b1f54ceb8029.png', '98d7f744-8775-473f-850a-e467490fc90e.png', 'c191e222-5f45-4458-a3db-3f2d6e1874c6.png', '1eea875a-603c-42b3-b33e-60e61a61e388.png', 'c932d9e2-fb77-423e-a291-a930ffc981ad.png', '08bd1c90-7aab-48f5-83c9-c9b6db533c27.png', '517e5eda-fb89-4105-aad1-c2f206ceb50d.png', '7bd8ff0b-5f51-4ed3-b68c-38b96d2ea94b.png', 'f8c110d6-cd72-4a1f-81e5-0b6a414a1221.png', '316fed2d-f402-4ef2-ae65-43a2534b26db.png', '9a1189ab-cc06-40c5-ab7e-3c04448dbdc0.png', 'cda19f32-96aa-49ec-b6da-dc59b9170532.png', '33a28ff1-906d-4b44-8aec-184c6b359669.png', '50268f53-aa63-47fe-82ba-2a8cece81d17.png', '4bc63d54-8ab8-41f6-a0a5-de8346b6083d.png', '9d190a01-463c-4031-a4e3-cb8184e4518f.png', '35eb7571-af33-4243-b969-bb0ed0787d8a.png', '9a8ffa3f-354b-468a-9550-9acfbb4ff724.png', 'fd81a3d3-6251-4dfd-b8d6-513a927235c0.png', 'bbd1c059-dae6-400b-8ec2-87bcc210b462.png', '70ea7188-3315-43ca-9230-678a2af89e87.png', '184be437-0452-4a31-a857-06fb333124a0.png', 'db004e44-49e1-404a-8253-3cf274c4f99f.png', 'eb758185-efd9-46c6-a354-cfc64dccb2ac.png', 'a8c188a2-9516-473c-a579-caee3766a4aa.png', '938bb7b4-8662-459e-9027-443b106870fc.png', '2d4d9609-4f4b-47ed-afc3-6a235cf07b71.png', 'ccd0a9d1-8e9a-46a7-8a0e-1597d9b45436.png', 'd44045c8-07f2-45e3-8dc0-f1ce98cb568c.png', '6d602773-1725-4b1f-9e05-a2fb5c6a236b.png', 'c7f1e467-32fb-4826-9750-d51604a0f39f.png', 'b9af2181-2667-4d57-83a5-8ed814b52fff.png', '4a88557c-395d-4497-ae9a-2b91213495ab.png', 'b2547a0a-63c5-47ea-8410-b38345c9e616.png', 'f52b7748-f10e-4d42-a761-41515d2ae5b6.png', '45a0d402-d325-4c5d-a44e-f41464860a7e.png', 'b3e0497f-e88a-4595-89ae-071698132a2f.png', '087734d5-0420-400a-9007-971f674805c6.png', '51b6d8b7-d7b9-459b-85a8-9980a2edef85.png', '20ffa713-f5dd-4e65-af00-3e538eadcff1.png', '79128d53-e858-4e31-8f98-24e2b48da0bc.png', 'c53004e4-3eb0-4bc2-b799-eba96a7aad20.png', 'b8d87c90-cc2c-4c4c-b264-0a643c1f64c2.png', '0c9d93e7-ebaf-445f-8eba-3bdf08e9e374.png', '592c5d96-357d-4b51-a0ad-d438ceaeb771.png', '999bfe0e-0c23-462d-8044-4bd6a1bf3b9f.png', '7d88651f-02bd-4c6d-95ff-e8e154b974fc.png', 'd4196ea3-8fb7-4948-bccb-c256c030c987.png', 'a25c1037-a9b3-49a5-bbce-e8c90e55d90b.png', 'b6e8c26e-25a8-493a-9498-c2c8f47a1ed9.png', 'a09825c4-d1a6-4576-ab53-ea8c26cd69bd.png', '4f4e0d2b-5d37-4ee4-9d05-b41cedb12ddb.png', 'd875b4b8-74aa-406c-82c0-b6e62210988e.png', '09666e5f-49bf-4549-81ba-252862262bc5.png', '0cc7fe01-2723-4bb0-a389-1cb386aacdfc.png', 'c0cd292e-0610-4f3c-a271-ee887ad7a196.png', 'c4f64cbc-74fe-4f40-a9e4-e5802a8b5a7c.png', '1c1c15f2-7952-45d4-b1a6-aef22d27479b.png', '88ba7595-e79f-4a1f-a9aa-7c85c7dff1a3.png', '999a1db1-786b-4d95-9c31-1e5bd263b2c9.png', '90740246-2c51-4368-aaf3-5c0a177f9556.png', '8d7ae585-c737-431a-ae05-7a4a5188a7f5.png', '1c0860c4-de97-47e2-aaa1-c16df7891b98.png', '04699fa1-0350-4437-851a-ae7818d273d0.png', 'a365ecdb-289e-4dc8-a32e-c35b71bece3c.png', '589de346-12cb-431c-9c52-99b6ee26ae2a.png', '20c7562b-813e-4f22-b384-62f345540cb8.png', '992ab99d-76ee-4096-8a6c-aa511692c2b7.png', '7837e7c0-be25-4780-846c-e6dff6646cb7.png', '9c542c76-1bd7-48ce-84b9-17de16a2b72c.png', '7cdadf93-d77b-43f5-aafd-9a7fd393cb19.png', 'dcdb28b1-3551-40e8-ae44-9f8b3da4f761.png', 'a9539eeb-33df-41d6-90c5-66f3fce700cd.png', '55daa33e-938a-4f62-93b1-e80c84a0f68b.png', '26edb4d7-aedc-4fad-b743-e16f6fe44e37.png', '5d8a3f34-b3be-458a-a682-3718b65c8e86.png', 'cf7e7d86-132d-41bd-94c0-0c4913616b43.png', '377b5485-f222-4176-800e-a6c8666e4a10.png', '3d6f1edd-beff-43a5-bb3b-7975a337b164.png', '70a3a117-9bf2-487a-9f05-34d520355aee.png', 'be61f3f8-b227-4e0e-92be-9cd7b5f2ac95.png', '98ae903c-8326-469c-b6cb-40b36f1cce43.png', '65da1c32-5b62-469d-9910-bb0b2f63826a.png', 'd6037585-afe1-49ab-a977-8fcb8cd399f3.png', '17c38ed8-bacd-48d9-97d9-02b791b9ecca.png', 'be001573-d3b1-4df1-a934-5e6e159af4db.png', '9bebd78d-9266-4503-a372-0d2ac84fe9fc.png', '02ebfbc7-bf32-42bd-8b2c-a6da45794c40.png', 'd2b8f574-1578-4a75-b336-08ff60b6be78.png', '33560b4a-af34-4a65-a2ca-ed38ef6bdcc2.png', '5888a51a-b819-41e4-ac73-5de7c5250a9c.png', '8ce98367-849b-42b9-9208-f7d6c1ba18de.png', 'ef527c70-c972-4f9a-ac94-711470ece8ca.png', '563d3b39-b948-49c7-a9f8-746cf56d57e7.png', 'e78d196a-d9c4-4cf0-a0ea-94eac437ccf1.png', '87c1a975-d83e-402a-81ea-c09d29ff5a1d.png', 'aa5b5bea-6ffb-473d-95e6-8e04f4c8bb5b.png', 'aed95917-bd29-4bde-a136-5d8e7a6aa270.png', '5708c071-e540-4cc7-a591-8c9828eea5b3.png', '8ee2f99a-fd3b-4510-8ae7-abdbe09cdce4.png', 'fcae67d6-5091-412a-823c-e358d71fbc54.png', '79fa8ff8-a288-45be-8ab1-47e1238a438e.png', 'fc4a06b3-13f1-4f6c-82a4-dab6e9fa98bc.png', '7e3cb898-92e0-458b-a41d-0beb00043e11.png', '088fc84d-c952-42d4-a7e7-c0f751c7de55.png', '637a5c30-5064-426a-872e-5965384e9721.png', 'f69fcc2c-8e7c-4f7a-aeb6-d916d259f468.png', '952e5f05-66c2-404e-bf9d-e72c75353d25.png', 'c0a1cd22-a102-40e0-95aa-2f0f32aa1e11.png', '2047c105-00b9-4fdd-b9b7-a5b202ca309b.png', '8da1e984-7c44-4373-9161-af6ddbe3b1f6.png', '5c4d28ac-37b4-405b-8880-f2bd9b9c551a.png', '7f9d22d2-e289-4566-8ff6-b159083f9121.png', 'eddff493-36dd-4f6b-9f1c-ea2cb811dd61.png', 'dfe13ba5-dfe1-4370-b9ce-922937b3bec6.png', '4789912a-2114-405e-9b2f-57a7c9607f29.png', '25d9c6e5-6776-4b16-b95b-edafa4d674f8.png', '8d06b8ce-de30-4a48-be88-4f07e1fad24e.png', '77120d69-78f8-4ece-a9a7-13d93a3e08f8.png', 'fa9bdcdb-09d1-444f-aea3-86d8d1ac95a6.png', '1606dd91-acde-4bbc-af24-9b8320b3fb0d.png', '4150090b-6fec-41fb-8474-79261e5adffe.png', '15b838b7-c587-4ecb-9a73-98b731132fad.png', '4006619e-3b01-4b1f-96f8-0385cc8ae482.png', '787527e9-904b-48a2-bc89-489a07c46234.png', '36148b68-625d-4985-971f-8ee96f57c0e1.png', '4899d6fb-bb5e-467c-9106-3fc18085dc19.png', '13cb0b1f-7410-4e23-955f-247f1003a10a.png', '5d2e8ab0-61e8-4146-9037-9357dc83f1ed.png', '64f60f49-e4d3-4a06-a291-93fdf2ba73b4.png', 'b61281ba-f162-4316-a8b5-b68f69f2d069.png', '729dc5dd-7dc1-4bae-a4fb-b496edae1ea5.png', '94c4d6ec-cd73-4ab8-ae3f-259bd7bd5215.png', '0e73acd1-45ff-44f0-a566-0a1486276cd3.png', 'aae8d285-9ade-4d88-b850-b41ad184ee82.png', 'b29d355e-36ac-4da0-9039-64965703fc5e.png', 'f4ad69f2-06fb-4504-aa9a-cee64201237e.png', 'e91d9a96-fbb4-4349-a552-aa6f95c56e46.png', 'e2dcf5f7-97a7-41a4-9646-6fb21935b1b0.png', '346a95b0-751a-498c-8c74-54c0ded927de.png', 'bda26180-c749-49ae-b51e-5323d9781751.png', '0dfc334a-099e-4fff-8f6e-f17fbde03f8e.png', '1aa3c893-cb05-4dd7-b74b-142566cbfccc.png', '5aa65e3c-afb4-4999-a07f-539fbba29635.png', '201e3bf0-5745-4cce-a582-7fccaaf5ad24.png', 'a8d7b69c-f33f-4d1c-ac4a-d2d6ecd02d6a.png', '8a1bf29c-0bd6-40f7-baae-2facb0e582b2.png', '6aa373ad-8929-4cd5-b9ff-52a73ecb7eab.png', '0d43e5c8-fe75-4b33-b618-fa6631800004.png', '42b20fce-44bd-4668-97cb-ff268f29ed9b.png', 'fae93932-fc87-4f66-b6cc-6892ca760259.png', '5cde9f01-0cdc-4c9c-ae28-64cca6737ae5.png', '05d36901-70f4-487f-a61d-5303cfb48a03.png', '605d83d4-a468-4cd4-a8a6-755a1f119e67.png', 'd1643249-2cac-4cf6-ab52-b52988a13d92.png', '59625497-d340-4e7e-93db-c307d0dfaa90.png', '18334f90-37c0-4a1c-91fc-fd0438067868.png', 'ab6de266-92bd-4a22-99da-07b1c6a7085c.png', '1e85bdbf-520b-416e-aa24-7c171f6de7d5.png', 'e1f565ed-7015-43f9-882c-c8390bae2880.png', 'f5e422a1-7fd2-4c61-b352-159370784078.png', '96e11828-55c6-4719-9d46-57f67e42b287.png', '7914a89c-8fd5-4663-92fd-26bc7d339cd8.png', '181ecd05-d474-477a-be3c-2d2c42547c80.png', '253d8308-7946-45a0-909c-33e6978d8fd3.png', '7be80f5b-08bc-4b51-a26f-fd4f5f47f8d3.png', 'f91bb62d-8a57-46a5-aa0a-67b7d46a9ad9.png', '7a35e774-9d3a-4e6a-bf89-40541579d9d6.png', '2587de13-71f9-424a-bc46-e433321ced4e.png', '2b820ab4-9fc7-44f9-bd74-97bf2f238fe4.png', '5e49a856-306b-405c-ba8e-588dd0053c95.png', '6ba02890-88bd-4e78-9ed2-45a5cce268bf.png', 'e34fe330-9c93-49fb-8e0d-b2bcfae1b11e.png', '76a9f338-93cd-4504-83c3-adc91a26234b.png', '9bd7ec8e-4034-451b-8f74-4e38b368ef51.png', '59c31433-f812-4a7a-a821-dcb4db38abe8.png', '55398262-3773-410c-a96f-970525712efb.png', 'dfb4e48b-8809-4b55-b35b-a6b907e42109.png', '18aac6ac-bd3b-4b44-bad9-bc80f63797f0.png', '8eb0694d-a8e9-48d8-8194-577f2f75e9ab.png', '1163f83a-acbb-4439-9082-9271937d3a7c.png', '60594ddf-b932-4158-9c7f-36c99e02c239.png', '18c297cb-bc55-4b06-8b41-d991fbe4331b.png', '0b27459f-4b8e-431d-b8f8-ffec76eeb506.png', 'c59ebdb1-249e-4ba8-bc64-ba007c657347.png', '4879b842-f1b8-43cb-9bdc-f36e228d1184.png', '7ae6c8bd-f96e-4942-a1ad-b4e04448c6aa.png', '70a7376b-a992-4545-8802-4657cabfa75a.png', '80303911-1aff-42ef-b4e6-b91b0b1a74da.png', 'ae670b6b-6cfc-499a-bdd8-cb0392fb854b.png', '142f4fbc-6358-42ba-93ad-e427d790a2c6.png', '4180a038-877e-4d85-ae57-3c1fa1bd9dbc.png', 'f1166fcb-632f-4ef5-91b8-03b15d7eb1f9.png', '782bb138-86d0-4713-91c1-6e5ec3d2715f.png', '12c74bb6-b820-4743-90ac-8f434ab3eb29.png', '8c0242ec-5a37-4feb-8a2b-4eacd7c1e8d9.png', '62a39f58-d55b-4fce-9778-af7048775d04.png', '28500150-48e4-4ad5-9d9a-dd07b80baa76.png', '07a69134-c35b-4e74-9758-59d9ef1c9af0.png', '17cfe9be-69a8-4e38-b783-d3ac0cfa586d.png', '8833f093-5b3a-460b-be7d-6fbe634639c9.png', '81347884-6111-404d-a4b7-7e34b0914f46.png', '2c8d27c4-e296-48c8-b6f7-943fb6c2d278.png', 'cc5f5e4a-b4d3-48e5-aabb-6edb26d2c854.png', '2d8076b1-97e3-401f-9364-c2428fadc09d.png', 'a01ae545-b416-4c46-9c17-c96b2fece42a.png', '8dd292c3-7dbc-445f-b28a-84a8e8f66237.png', '63b17eed-306f-4370-9230-a0d6ce8d36f5.png', 'a42ce9cf-8af7-469e-9966-2f7ae96b901d.png', '056f9825-4f58-436e-93bb-127b190b74b6.png', 'c87693fa-2444-42a6-b617-7945be0344fe.png', 'b7915f2d-dc27-46ba-b088-bab622979a18.png', 'ca2df939-1ad5-4d83-bcfb-276ffcae3504.png', 'ff34acb3-c8fc-4660-81b5-3324b5bfd5ba.png', 'e131249a-d7d1-4f01-b473-447f20286764.png', 'da4f0b03-acf4-47ce-842d-3e4414331483.png', '75837bd2-97ea-4522-8a0f-23c5d8d4cb18.png', 'ce41c20f-1f4f-4dd1-88e0-c7a34e85817c.png', 'df0fd1e4-a34d-46bf-9d1b-92aea266b816.png', '7a3fcfa3-5d02-4027-a4d2-9d3b8e02e9e4.png', '2493a3b6-502c-44f2-8873-fb6c81461b33.png', '2ca378f5-2de6-4720-83e7-40957aaf3e7f.png', 'dec582a7-55f6-4344-9d8e-76dca09dcae6.png', 'c70d6fb3-97c3-4990-a68b-c5f8957de290.png', 'f45d6cdc-9b38-4fcc-8409-1ff4a01796bb.png', '0fb74c63-4ab7-41c5-a622-11f2b346050d.png', '4fdbf70c-7d48-4a77-9181-37e62c05ffca.png', '4e9e1826-cc76-4d4f-8ee4-b96a28b40126.png', '113b1cdd-7741-4705-884b-f0b5dbda51c8.png', '380580e8-749b-45f9-8127-90d0c2443d54.png', '6cf62a8c-bbe4-46bd-be4e-0521e8529207.png', 'bee94fb6-4dd3-41aa-930a-b6fd682d6bcf.png', 'bba0fbf9-60f0-4bb9-9e59-2535a62def84.png', '8b443055-7dd2-4287-ac72-a31d630072ea.png', '48760863-eb81-45e0-8505-713aa096df4b.png', '8d83ad44-ad04-4721-abb7-c06390003e60.png', '954e21af-6257-4e9c-bee9-32a184ac4dc6.png', 'fd9aa8c0-393f-42b6-acba-602aea0d770b.png', 'cf9b910f-4c3d-413c-b94b-e73b603fb2c1.png', '514a19bc-733a-436b-bc1c-dcc7adc218b5.png', '83c666f5-d897-4a84-a4a2-969c2f83fe52.png', 'e9c4fe43-da5b-46f0-a6c6-9cd1ab7ad556.png', 'fc743233-29fb-42de-b271-b3c2d189f930.png', 'fe375830-ae66-418a-b322-c6a642c1a14e.png', 'be093713-a9c6-48a4-974f-483a2848d810.png', 'd3eb3d83-9c23-478d-b48a-62003382519d.png', '83f9f307-addc-4f01-abb7-e7b31e00d8b6.png', '02213c01-9357-45fb-963d-043c650cdee8.png', 'c3495039-0b76-4391-90b3-b32bd16d6133.png', 'f8a56312-f01a-4ff0-8fd0-884618540f04.png', '69272946-7eaa-4270-9b6d-6bbc326e4cda.png', 'be2d1358-6e3c-4be9-8e3b-2d9f4565099e.png', '2cd54d7c-3383-459b-8a33-cff73ddf45be.png', '5a1ffc43-680e-41db-b4f4-e3dbabfb6de4.png', '0ce966a2-aef5-4db0-90b1-151fa68a9b3c.png', '8caa0f82-642f-42b3-b0bb-99e9e589eff1.png', '7ca10971-b812-4951-837b-f851cbfcd50a.png', 'aeede097-a400-4c99-b626-293ade873299.png', '371bb7b9-fdab-4bc3-8ab7-0e8491141463.png', 'fa6ba510-c7c1-46a6-9824-296a805fc713.png', 'aa237140-ade1-4562-93ab-9366ec82bfa7.png', '140c46b5-46ca-4860-9b19-184ef31e6c24.png', 'ba34c6da-beef-4756-a646-26b670cb0023.png', '3c4daea1-4c55-4a0e-9453-53b3895dad00.png', '0e10ec29-600f-4e74-b7fe-8fe61937ebce.png', 'c83d43c4-ab26-43a8-8610-2046d1e514d2.png', '99b1c85a-c14b-43bf-be40-7ecbb4d41a96.png', 'eb060dd5-9ba5-4c07-9ca6-86e79ad0fd75.png', 'b6a1ed89-1f1f-44f1-b8e7-ce59254a9eaa.png', '212f9940-f862-4268-b43b-1801d921a4d2.png', '2a36f4a6-ca87-44e8-8b0e-d9f5d39a9562.png', 'ad906433-b1ef-41d1-ab59-6b68d259fe0a.png', 'cd456bc2-9b99-43eb-9b74-5df27fa20540.png', 'eb08d129-48d7-40b5-a96f-42c8eedbbf21.png', '12b062d7-1bde-492b-ba0c-370bedbd3f4e.png', '8105394a-cd44-4423-85bb-453b6f82238c.png', 'ed517143-5846-44b6-ae9a-e06da479751e.png', '3f16bc38-ea4c-4c66-9cd1-7e3998b33ec6.png', '301b185b-e171-4b7e-8b7d-280be171338d.png', 'decbc467-4e3e-41c0-a46b-89a6d8d46d04.png', '346885aa-d922-4ea9-85e9-2b4c9af58ec2.png', '0699e197-7c73-460f-82c5-af610d87f9fb.png', '7bd3f53f-be5f-42bd-a32b-9b085868ac0a.png', '819b6644-9101-4881-896d-cd088f560586.png', '47ea7c87-0d10-433b-aa30-6236b5178da8.png', 'c7727e74-46ab-4503-922f-a1945689647f.png', '60e9ef37-1905-467b-850b-805c1d2a9930.png', '7ef1178c-6910-4f6b-aa75-d92b77790545.png', '9805b216-1c4c-46eb-aee2-c301f907e19d.png', 'ca5ac723-332b-4a8c-9760-0617b735cbcf.png', '9af374b3-4719-4ded-84ac-eae8ee3d9e35.png', 'af6fabf1-2b17-4e54-9e98-e33d0a627cbd.png', '9ecdb4c7-0da4-4aab-96b7-d8a65375e973.png', '09699970-2d64-4701-a4af-d2acd489ce0a.png', '67dababc-344e-4041-9621-c0cfe217cf3a.png', '461c03d4-a19f-4cf1-99f9-b6c6b0ecd155.png', '17483ffb-c4ee-4ce8-aeac-437aae99a29d.png', '58a7ce81-1dbc-4667-9ef5-20a1ecb56580.png', 'f335c124-473e-4f38-ac6a-df037f87074f.png', 'fb2e40ac-5c1a-4a8d-944a-ad73bca62613.png', 'd0a449aa-c516-4727-a6eb-5d9c906ac5e2.png', '9019ae7c-c6c2-4d41-a167-c058f9bbde8d.png', 'f31e699b-08c4-43bc-bc15-7514075bfe4c.png', 'a2c1dc11-2aae-4b96-9f71-1adbe8734f5e.png', 'f93fbd93-d08a-4c58-b420-c847caa5f18b.png', 'afbb0b8a-be03-4c83-bf9d-f764e4ba9a49.png', '80f9d711-c0f7-48db-91dd-cb104445f00b.png', '2916476c-0dbe-47d7-a3e1-22dac20f6b06.png', '7f81ce9d-8be3-4a09-821a-cf5633a3aee8.png', '259d86fd-69e2-4d43-a678-6840e074ea7b.png', '68a0c1a0-1859-4a31-af77-f55a08b12c64.png', 'df2615a6-d33b-42c9-b55d-77966572ac5c.png', 'a378aec7-a305-4205-8855-5c4b8df17334.png', 'f05d7c0a-7344-4722-ac1f-58c6fc37e276.png', 'a393b8b5-7dd5-450a-b9ee-718555cc4673.png', 'cab5b211-0353-4c1f-aca4-8be510c8f001.png', 'cb14455c-d698-46cf-9c86-5725f9ef0a5f.png', '11953f78-97f0-4e72-b4e8-3c7c217cd01c.png', '7c1aeb13-b541-4283-8e06-b5ecb22631fd.png', '9f769b19-4b7b-4b71-9019-8480f3bab668.png', '3e9a8af8-e83d-44d6-87e7-291c383816cd.png', 'f62d29d5-db10-4e15-a82f-4416362cdc35.png', '2100ab46-3c9a-45eb-9ea1-ff8fb40acfc9.png', '6e557cd5-31d3-48f1-9732-282e02470a9e.png', '4c0eadd8-faaa-4bc3-873d-8281b6b8acaf.png', '3a89e640-4fb3-433c-84f5-4b12fe933f84.png', '077dd2d4-b704-4bd4-a4cd-f26b90c3850e.png', 'c8219c6e-87bf-4f3a-952f-4048806a431c.png', 'b89a7703-b2db-49c5-9854-8f3f0a87518f.png', 'ca89a22e-44eb-4c9f-98b5-e45324dfa2b5.png', 'ffc0d5be-f9db-4d51-a946-767f2992538a.png', '9cb1dc81-12f2-4b0c-a2bf-83828ff2e862.png', '3df35348-83a5-4905-9ce7-d69afdf465ef.png', 'bb70c1ca-d323-4674-bdae-e8b8df60d709.png', '523b282b-5441-4c1b-8bc1-437539eac3b6.png', '4c3c228d-4e96-459e-ad49-98dffc9abe2a.png', '0d80dad4-05c4-464d-8460-4356e97d0d39.png', '527eac7f-5514-47f9-a296-5d7ab1675814.png', '89308f67-cf71-4c30-825a-2c3d9185aacb.png', '8b148566-8ed2-4101-9909-1839160d48af.png', '306e4997-56bd-4677-b044-5a63d3aafddc.png', '40c1c048-de46-4710-bba0-602281e3cc1a.png', 'd994f271-d925-4b04-a453-67480b4bfb5e.png', '7c695a80-3c4c-4e1f-951e-231e67e31795.png', 'f1bb4b64-686a-494d-a88a-10ca1a661e5d.png', '4ea5713a-6765-435f-9bbc-3d7cc008e492.png', '0f8201a9-5526-471a-8b05-85ec7d25fa74.png', '33d04cd3-8d09-4ba0-8e77-d69225b1844c.png', '5d28b533-06ba-49b6-8650-b6ef53a0d9a5.png', 'ebedab54-8c48-4e47-ad48-42f861533e67.png', 'bdbc0713-79b0-4603-8bd3-1ef8765cc0ae.png', '6eccf2f9-e436-4450-9672-22429ad00900.png', 'de8a2c79-ef80-4ee4-ab94-53cb0fd209e1.png', 'e6316df3-1ed4-46ad-88c7-169becc095d5.png', '55d0b08d-8454-4910-a20c-54ff6b83d3bf.png', 'b9b2772c-c862-46f6-b106-d4d2c04dc139.png', '52bc69bb-4142-47e9-9a94-426bad445b7c.png', 'eb3a4a87-9a0f-4d27-bbb7-c5f8c27f2e2b.png', '7074b4e6-d7f0-40f4-821d-e4b44a87adc4.png', 'ea54645e-3984-47c9-a901-189425597573.png', '9c729ab8-2579-4fe1-977b-f2282635e1b3.png', '171d39cc-8720-4125-a748-2bb9e49bb549.png', '5ece17aa-4e9c-4a94-b6a4-3b38428f0472.png', 'd3c204b9-a2e7-4a37-a5c8-996f2490b908.png', '7e35a49d-02c8-4c57-b58f-6dac7159c8c5.png', 'c2eb9a3a-d351-4374-9b9b-b8519975a1af.png', '18b4ab71-d708-4e2b-975d-4289288d40b7.png', '8d9b6ae5-63ca-4e59-bbf5-f861d3e0683a.png', '5cd39d31-d57a-4cf2-b665-dc7b4b86a81c.png', '8dd9d4f9-c7dd-408f-b652-a21446a727ef.png', '9d83d28d-cd57-4a60-a125-bd1adee7f085.png', '5061eebc-6f8c-4354-a0e2-7f67c40a7b93.png', '6ee81d76-482c-4db6-9df0-3265d493e850.png', '6e329f80-37f0-4e51-8e59-aee6f4f619c9.png', '2a506ea1-2584-4619-8e23-68cd2c2eee31.png', 'a8f9b3f0-5a58-40df-baf8-3fed7e06522c.png', '3243eb4c-fe32-4ac5-b1cc-71c5db0d0352.png', 'bd647b42-7fcc-4292-8d85-1b257aaddddb.png', '76758f58-d69a-4e64-9888-b4ef3fb7a7a8.png', '87807f40-5470-47a4-8a0b-0841b9c49e78.png', 'f9e8f425-28aa-45df-86a1-81e059b69f86.png', 'a4d8e3eb-f5c4-4dc3-a46f-b1e914eada25.png', 'a78b0158-0f1c-4aa8-8790-e585a1415dcf.png', '864088af-967f-4f87-84b5-c6122ab2702f.png', 'b2dae064-36f5-40ae-b296-4418a19e9aa0.png', 'ebd8e912-e78e-4f28-91d8-c59d42df91c7.png', '0006fdf6-b3cb-4ff0-b44e-07023af8a09b.png', '8d923edc-768c-4edc-a97c-f4e52eaf5a9b.png', '4e2d174c-88a0-42a2-a283-a2ce0a71bb6d.png', 'fe82f629-3197-4b83-a0b3-24b5b457da57.png', 'df6059ff-c1be-4961-b83e-501708c8056c.png', '76343916-9a98-4c75-bd0e-6b6c66d95703.png', '773207cd-1acd-469a-97a1-b1b4b5d6898d.png', 'd1efebee-4a93-4b99-9556-3409058db60b.png', '92ed7c58-8b0d-450d-90e5-a9986b59f048.png', '37fcd72b-465e-4398-a07e-82fbbc6b4df8.png', 'a1d36976-ed25-4db9-9ef9-36f2857d7ca6.png', '7c9ce53b-e061-4d0a-b8a8-4393a0ba6c27.png', '4058976a-0a2b-4adf-b955-36562a5917be.png', '4235a7cb-0897-43a7-b9b3-ecd20a0f2452.png', '04fbcc03-3c71-4045-aede-c2fc61abab4f.png', 'a063acb4-7fab-4021-b152-a60ae603bcb8.png', '356a861d-91c8-47be-a269-d0c1f5f35978.png', '522d0cfb-c0eb-43a4-8a44-4c978dbf14e1.png', '153bd91f-158d-4198-9fbb-ea8a22a6182d.png', 'cf32b876-839b-4f31-96d2-b9dc1debbafc.png', '4e143125-10a2-4fb3-afbf-a93f676c1421.png', 'a632a157-f255-4220-909f-3e427c090117.png', '0c402689-a7a4-4f0a-af06-5b518ea8eb71.png', '2a9ef753-6a23-4a53-896d-4f31ca81cb92.png', '0755655e-80ca-499b-bf65-c537dd330164.png', '7344f349-480f-46f4-90b8-9559f14d6060.png', '4f096877-d017-46f5-a17c-3b4d796c9c5c.png', 'c97fe08c-1220-4d07-8877-2dc9ce6d4340.png', '673a6c26-0f40-4bf0-bb94-60069f995503.png', '9ab073a0-5d5d-4295-ac66-424c832ae01a.png', 'fadc9f8d-b099-46a9-97b4-d290355ddb98.png', '890527c7-c06d-4a2d-8506-82388c36e6ee.png', 'f06290eb-22f1-46ff-8094-3ddb5b71558a.png', 'b5a546c3-3e1c-4e0e-b180-9238210b8d10.png', '6104985d-e465-41f9-857c-52462e2f5aee.png', '812aab64-2ba3-4393-a77d-fd6cfab2284d.png', 'ab2cfae2-579b-4a81-91d7-89a9e2b560f5.png', 'd6615efe-508d-49eb-b0a4-6df2eaa9caed.png', '6a4ed7f2-64a0-4afe-b72b-e14dc88a143b.png', '53a5b783-ca4c-4bcf-a860-394bdbc63e3c.png', '39094a9f-08ee-43b6-a734-0f53728df74b.png', 'd6570599-a6e1-4dbc-bb43-a64a9b084a9d.png', '4f261789-38e1-4a19-a758-cb02b34eb0b5.png', '8d23433f-8533-4437-b248-0e0d1a33a177.png', '55409472-e5ba-4e20-b59f-d67228b6a1f3.png', 'bffe5cf3-887f-4e7f-bb58-609b3bfd8d9c.png', '2c285517-1190-4cc8-8f85-7d1ef036cf5d.png', '75ecadea-5a70-4d3d-9cbd-e0c83d2e3104.png', '40f95c4b-14f8-4905-bc4d-07e6722ce0f6.png', 'd977b042-8ed7-4618-a34d-59cd50af9b8f.png', '8c52a187-0d6c-454e-bdc3-ea0917bbfc69.png', '2f1db335-a535-4e86-b569-777c953bc5b8.png', '98253da9-617c-46cf-90a1-da2275705a28.png', '1e55c9ea-5359-4826-9519-a75a9d449f99.png', 'bbbdfd4d-20fb-415d-b30e-379e017e9e95.png', 'e7d02f3a-dfd2-4ed6-b098-8d4a8c6c210d.png', 'b6de9e8d-af70-4a51-9e5c-b84a6e06c394.png', '083f3d84-65f6-4189-a393-432291b0bba3.png', 'd84ec1a3-7f98-4aca-a0c9-2a596227d409.png', '9243398b-e4cc-4b20-99d0-e9f2a387781a.png', 'b968a937-3e93-4313-b7ae-67b0d10f6de3.png', '9b9a9a0d-91ba-4f5f-b56c-0ce5425180f0.png', '8ed55641-5fb2-4db4-9d1a-4a98220e73a5.png', 'da5e0311-8f3c-4bac-bc87-ccd1aec2bc7f.png', '14d6491a-a245-4816-ac9a-caf3b3ee2e4d.png', 'fd5e8baf-f543-48ce-a7a1-8d048deeeea5.png', '5b3bfef2-f38b-448b-a72b-9bb6ab5a967e.png', '5a93fb7f-915d-4975-b85e-6418246e5a67.png', '9aa65871-1a3a-4b66-b44b-db474b46d411.png', '3b81e504-7330-4c4d-a302-ce86d8bd4ee8.png', '52dcf8ba-1fff-49b9-80f8-437e3652e7f2.png', '8ae856cf-6d26-43fa-8671-f8e53ead492b.png', '6cf70d62-8721-4a41-931f-579ee1a2d9b9.png', '1708e89a-d673-4df5-82d7-fd509f240ff1.png', 'e7c45735-13db-4f97-a87c-539fe3ffa02a.png', '33c38121-ec63-4c49-ac0f-e19ea5146130.png', 'c71402dd-4833-4f66-b9ae-2073d5ca6312.png', '9559a659-c7fb-44c3-ae59-8b4121f96f2e.png', 'd2ced7d9-7873-4942-99f5-eb46fab033ad.png', 'c2ce99e1-2384-4a81-8faa-3aa5eb98b501.png', 'fbe0a5d5-8a29-44b0-b623-bcc9d830075a.png', '038dd94b-bf7e-4981-9b4f-ac9e596f73c0.png', '3846ef9f-8b6d-42b3-bf2d-6caab5512460.png', 'bbdb394d-8ca0-40f6-98b2-8c0a5ea91212.png', '6843f115-d2e0-4a51-bc84-afd53fba49ad.png', 'fc238a6f-0d32-4fe6-b020-8396b5df12b6.png', '6e0d9a06-1b7f-4891-9cb6-f4dd27f122aa.png', '1cb98039-c120-415a-9c46-fd2e90d2dc06.png', 'a10a4422-7f46-451d-a2cf-23c7c1a6d00a.png', '31977b33-58a9-4de3-917f-7ca68c0c31ab.png', '5923ae1e-8449-4e24-a13a-2c1fd923ef1c.png', '007277aa-5ab6-4d86-8de6-963dfebe7d90.png', '9b7007ee-6de1-4ca1-8317-e7cbfbc7b68c.png', '5063a197-80d5-4cbd-a9a9-f05f197bc75c.png', 'b7340cb7-3b6a-4afe-bca4-6b7049582e7a.png', 'c6038df2-c2a4-4f9d-ae2c-e1257d57a123.png', '662f9642-f0be-4bdd-9c4f-a19cfc0ec109.png', '8f744eb9-80d5-416b-aa54-259788545d11.png', 'c0ec0280-9148-436c-9b6d-a251c13fcf33.png', 'efea35a8-b9b9-40b7-b04d-06b2ee97bda3.png', '47486049-cf45-44d0-b6fa-7acb46c76ca3.png', 'dbe0a4c4-d3bc-458b-aff0-2cc70278dd6c.png', 'b0283f78-d351-49fd-a6e2-60157389545a.png', 'd21ea15d-582f-473c-b319-b3907bbca405.png', '6f0cf41e-ffa2-4f17-8d7b-e1b33a018a35.png', '7cbb72a3-6b91-4e4f-bf01-9ea22bcc25ae.png', '6c976b6e-52c0-4dd7-a89e-5f9b234337fe.png', '3abf9a53-884d-4a69-9c2b-ce09796a6a9e.png', '0cd79dfc-ad8f-4640-90d1-9c5cb2452d75.png', '79137661-b4df-4cd5-8afd-b4d998afcae9.png', '885a827a-f081-4549-a83d-cba46a79bd75.png', 'b933203b-1f89-4d0c-a733-f8d49254f67a.png', '39d4ab2b-4697-4bcb-8fcb-8ece6470583d.png', 'c42fb3b6-e0f9-4f64-a60a-5b79d66212d9.png', '94633403-7ce2-4b22-8524-29e0fcb4b2c5.png', '160abdc4-a1ca-4f58-b2fe-3ec45d05e72d.png', 'f5a9f6ff-6606-4a92-b4a7-2efc36e15be9.png', '476e52ee-95d6-47f0-97b3-072a2f90f23c.png', 'a3349add-ad9e-47d1-9ddc-1068abe24615.png', 'f9a18349-01de-4733-a86e-21e0f9886061.png', 'b7b4984e-4779-4a3e-afe7-947c4d8c0bc0.png', 'ae0f07cc-e4f3-48da-b78b-53c7691fcef4.png', '51626d29-4f96-4deb-af2e-ca2f1f3a4c76.png', '594dcb81-6685-4837-ba60-6c8176247348.png', '6f4b4b31-cbc0-42aa-82ff-f3f8ba33e578.png', '7f0c0ab3-6b59-4ff4-b242-ca96d16e721d.png', 'b4d540fe-c322-475f-ac0d-c71e0cd59cb3.png', 'e5c237d6-00cd-4425-8024-254d7f598532.png', '52021a63-aa43-4f42-97bf-620f14e2102f.png', '186b6280-3fc1-4fc4-8df8-478d7b6708af.png', 'e9a1f634-4d8f-4a10-926c-830ff880b426.png', 'dd18c3b2-8611-4b8b-aee6-5044dad08c11.png', '061ed690-5ed3-4a48-b246-fd373784d93e.png', '6a9d55b9-63c5-40c9-a4af-f304f9e14e1b.png', '1a4aec0b-ac00-4ba8-a477-2fabf959d201.png', 'f87b11a1-e726-4301-adfc-414d2a25609c.png', '44b804e2-fdab-41a0-9e01-f468986a5683.png', '90addf43-eed4-42f9-b042-f58d0eb3e129.png', 'ed78e8b4-8358-4610-9533-339230058347.png', 'dbf1f32d-7173-434e-8b4e-155de88a24ea.png', '56615a77-bed3-4118-bc31-2670407beb0c.png', '7227b4bc-64d7-4760-95e8-9705c97cfbec.png', '3298b651-192d-40c3-8468-4a9ebe271c08.png', '4e56181b-46b6-47de-9ab6-335994ef046e.png', '7328e1da-9e4a-4bc5-b696-937b71080d1a.png', 'f0b2461c-fdd5-4942-8978-36b5fe9fd597.png', '77e07053-16d0-4fb0-86a6-687734d21a15.png', '8831959f-c139-4bf4-8e10-1e781b0b5c08.png', 'cb1458b7-e451-4271-aa7f-0e3afb3a9332.png', '3aba0b06-02e1-45b2-8623-e0bc8f707fb6.png', 'f72a6165-ca76-4e86-a308-e4aa362e9f05.png', 'eda9cc8c-b7b1-40ce-a0c1-a211e3aed3d4.png', '45e900be-8512-4b7c-b003-3766fac4cb52.png', '15d6f766-8360-40ef-b8c3-0c6d12b41ad0.png', '59b590fa-64cc-46b4-9272-97be8d57895d.png', 'a7d8151a-6611-49b0-84f8-e3d9dc3cda0e.png', '555c3bda-f131-4d67-84c0-c4064900d5db.png', 'dc0f8d4e-bed9-488b-8d27-b69199df1771.png', 'e5c94d7c-a4a7-423f-bfd6-1c9c7e7dd555.png', '7293f78b-913b-4f24-b151-8c7474cac2ba.png', 'a8fbd083-69ab-4451-9e5e-6bd4a51c5e1f.png', '35eed3c4-b6bf-4d69-a164-a9a97708883e.png', 'cfdc7341-f278-43d7-b00b-a73b6fd6a8fb.png', '418c214e-de6b-477d-8216-8fb3e4f0cc2d.png', '08a040d6-e108-4ca2-a371-792701740693.png', 'cc51fd6a-5371-4e86-921b-beeee2f70e63.png', 'b9c97645-3107-411c-b25b-f58f548a3c1a.png', '42d61749-8def-48d6-80b5-0bb8f8492700.png', '49c14897-8ab3-4268-82da-d8c9a0a0c850.png', '5680a187-7422-423d-9e35-1d80f8a750ef.png', '417e3eea-e52d-4c06-8450-a9cb7a4c811e.png', '94530394-3653-4f8f-8256-728ed54cf766.png', 'df6db69c-1a80-4b61-a4cc-351fb8fe48de.png', '6e0cf254-145e-4a95-bc39-743ed2618dfc.png', 'f965d6d8-10cb-4c38-b916-c13f79137f4e.png', 'c385cf4e-98e1-40ab-9dae-cf9510501357.png', '69d77b91-0ebb-43eb-aade-b545b968b0e0.png', '28553a7b-e7b4-4e54-bec5-ab2ee4a00221.png', '598155f0-8c06-49b0-9f84-c085b49a1a51.png', 'e1a51429-7c58-4bc8-905c-33aa8adf697d.png', 'a356be9e-5a3c-4189-bf8f-d943126de8fd.png', '7e027909-fb45-4245-9a90-42ab94b4f096.png', '6ced395d-cf67-4c6e-b043-226469e9e473.png', 'adbe5dc3-4f03-4c4a-bc32-9d15014e5962.png', 'fbe709a1-fb88-41c9-95c1-6ba9148a73d7.png', 'c04ad159-1ab1-4352-9d9b-da4e4b06dc4c.png', '17480305-8208-4caa-9e4a-fab6f03bd95f.png', '6cf64e60-597e-4cee-b7a0-aa27be4c5b6f.png', '1b05e42b-0c55-455a-a40d-fceba487e880.png', '3f6be298-9ca7-4207-bc0f-a9eed59a8b63.png', 'b6c065e1-3f3b-436a-886c-8f3f20024174.png', '672714fa-5edd-4dcf-96f4-8014377b35f4.png', 'ec604dd9-f63b-4c37-b048-5fa9632ddb8c.png', 'f24e5593-ae89-4461-a4ee-22297fed01b8.png', 'c18c144d-99fe-43c3-b413-030311cb7c60.png', '4912c7b4-0a5b-44bc-b7a7-b335e6e38ce7.png', '1256e9ae-3b0d-4be0-9a34-2fe1d16e0678.png', '4d1e794c-3f99-4a4c-a239-a92ff5a87ec1.png', 'c74fe38e-1526-4fe5-903a-cdaa9642b01a.png', 'e64e790a-221e-410f-bf69-78b25d6b530a.png', '26899870-5daf-4e99-9cf8-25b88e9092eb.png', '08a681cd-87a0-43d3-90ed-12dab30bfea5.png', 'dd221796-d685-4237-b07e-92d1e1a1ae2b.png', '13d5ef16-762d-496a-af37-78df993e3ad5.png', 'abfce0ad-6144-4715-8eef-bcf6f3dcb656.png', 'cd10caae-cd1c-4555-a5ed-e98887ac48c8.png', '02abcd45-0d06-45e9-85bd-10f7802f6c35.png', '5362055f-f28f-4109-affa-8e2821aaf1be.png', '734420be-c1ee-44f1-82d2-ac4a1bcc8c5e.png', 'bafa6b15-ff14-4fb5-8a48-43f041ec3286.png', '4632ed7f-a548-4ed8-a975-09431e2408d3.png', 'e65d2517-3fe0-4ac4-8779-a2334cd29e36.png', '24d32090-1adb-4932-ba09-dc07e63863af.png', 'f6034e37-9c7e-4d31-a1f6-b8ad121abbeb.png', 'dedd08a8-cb6a-4d37-aa90-9abd786b855f.png', '3804b8b6-d5c8-43fa-8364-c198f2ca7d47.png', 'dcfcfa2c-c3f9-454b-ae6e-1823e16b7210.png', 'd8a71fbf-25e2-46cd-bbda-8dc2ec0820f7.png', 'f87cbd09-095d-4396-a058-c21ac6546e89.png', '91427faf-dce8-4780-8820-d8aa9194b3bc.png', '10a2b422-9ec2-41b7-99d7-66b505fb9c45.png', '05948632-01a1-4b4e-a988-bfdc192fc489.png', 'bd3f9994-c1ab-44af-98ea-278d684ca727.png', '65e6d658-c832-41a7-815c-9beff258c97f.png', '428d1b5e-6093-4600-aac0-6ab1a5ae6833.png', '4f871557-4fee-4e39-89c4-8e146fec8725.png', '286141df-0359-48a7-9c71-e8e7bfeda1a1.png', 'f2b3c8c6-a90f-4271-ba5a-4e73876e2099.png', '666ef521-db71-4653-8f50-58ecb60971ff.png', '62efbfe0-620a-4b1a-b418-cb9b67225496.png', '61021c2c-f5a8-4fae-8854-3bf0c588ad97.png', 'd615a9e1-9b22-4745-9b3f-9af447797ea6.png', '7fb689a2-4617-4c81-af3d-2e6344175ef4.png', '9fcd76a9-7cf3-47f9-88e4-4f36517b4d16.png', '1d21e744-1d79-4ee4-ba27-0e95c67afda6.png', '0760a882-69e9-455f-b14f-6a1392df3bbd.png', 'ecf2d3fe-af01-44a4-8106-72760a757b51.png', '855871c7-b3e0-4dff-a34c-ced46da3dd00.png', '71a269c0-efe7-4fc1-b3e8-9b0183b90d89.png', '0d38a6eb-d388-4597-a929-baa4ac854fe7.png', '17be375b-8864-4f05-8d17-4a4d0d0f8c41.png', 'd7bfc634-ef1e-4870-ae04-777be7f03d24.png', 'abb4c3df-061d-43b4-a3b4-68c6cdd341e7.png', 'c46b8f85-6f6b-45de-8304-e693ff800c8e.png', '4e9abd38-e139-4f98-b61a-fa4ccae8195b.png', 'f04f9fbd-44b7-41a2-9dd4-cfb3b299e795.png', '882ce20d-95f6-49fe-8ee7-d926a6da75d3.png', 'ca21c18e-213e-492c-a485-e8c9cb177f7d.png', 'be2f0bac-20d1-490c-9f2e-1fc53dd31964.png', 'ee579e1a-4ed1-40c0-8b23-d857adf473d7.png', 'd4b6a807-6bf7-40cf-9ce8-881a3420b8c9.png', '8fe85d2c-d652-43be-a8f5-c0cb566c9fc5.png', '494650eb-435c-42aa-aec2-fd17ae7ac203.png', '561d5e5c-ff46-466b-956b-88a2c7056238.png', '7632c318-416c-4129-ba34-8cb66a381810.png', 'ed4ba9d4-4357-46d8-9da4-85bd23736b19.png', '401c83e2-5f59-4e76-ae6b-9bb73bdb9f1f.png', '743a08f8-4cab-47d7-8948-a5b6721212f6.png', '299d85be-59c4-479d-8c33-80503bf195d4.png', '2bdcbcd2-a608-404f-86ee-2949bedb5a58.png', '6ebd9581-27d6-4247-ae83-7db2435fee3b.png', '6ca7a30c-3f29-4f82-9fbe-33886f19812c.png', '401fc1d1-4257-460b-94f9-9b69f411a18a.png', 'b3b13dfe-99ba-4d97-a227-a01c18609f55.png', '425af849-7da7-4c19-bae9-b557c4049b68.png', '471fc777-27b0-4d59-af47-52e3e97de553.png', 'f3f64398-1556-4052-adb3-0598210171f1.png', '1e5e3e63-fde0-4a9a-92ba-34ebd9a9a10a.png', '357faeca-fc31-453b-ab2d-b4a8d68830d1.png', '34300634-f4a9-48be-b400-9d3a231f81da.png', '9e40d4c0-230d-4ea5-af1e-4ce66755fcfa.png', 'ba906557-4e13-4b47-9af7-6890ee2306ea.png', 'd775b6aa-d684-4fc6-a8c4-b285ca672128.png', 'd0b80c0d-8e02-43d2-8a77-6f88b98c261e.png', '30f57daf-76a9-4250-a195-ffd23ddd7a6f.png', '597bac91-e327-484d-ad64-666c2be2fbb1.png', 'e48ffae6-f49a-464d-a6d6-192426ea78fa.png', 'a87a7228-b109-441f-84a1-c143930c735f.png', '88a94edd-0163-45f1-9a43-56394ce291d7.png', '14fc672b-7bd2-455f-8d61-be61b5004e56.png', 'ab31371d-2767-44bf-af71-d4b68e4526b7.png', '40f5fe77-6b06-4a2f-a2fb-f39882242ef4.png', '75b60608-513d-4667-bcdc-9a1d6f85d190.png', '2d21b109-e022-472b-9ef0-705dcedc29ce.png', '917f5e4b-1017-4a71-a337-db43ea860e82.png', '4e1f2867-4a28-488e-b754-efda7dcf1bdf.png', 'e1a672d3-3759-4589-b577-b48221ce0bc2.png', '592917ac-ba74-4a4a-b735-eba09c689d03.png', 'd90519f4-d0bb-4b2f-adfa-df60794f915f.png', 'ecd0d869-ac4f-4072-97a8-9b0db4ea9787.png', 'bc84546e-4731-4e03-96d5-13b47b972064.png', '1b93b79d-1e75-43d0-bc67-514048a80864.png', '57ba2467-1c0a-4e17-81ba-e9e2617ea4ca.png', '920ce0ca-4caf-4f95-b6c9-4d35047d4cc7.png', '963a40cc-d00e-4ec2-8948-5cb9f96dce03.png', '105a905f-2b00-48aa-adaf-b8d33a76e395.png', 'edf1c873-82ed-4d7a-bbd6-51c3f00b82dd.png', 'c395f4b2-909e-4426-95f1-4c3e4ed69429.png', 'ba2f4bd4-113b-4c8b-8de6-d4c538aef71e.png', '867b7956-8aaf-4f71-bc0a-a3082c9b28fd.png', 'dbcd1dbd-e419-4461-bed3-6a4292aa263d.png', '76644350-ee7d-4c97-af9c-80f1859399bd.png', 'f49af1df-c925-498d-8517-b10d7fb98ae1.png', 'fcb4abc2-884b-4931-b0d7-85b9219560d1.png', '0b83d49b-436f-4580-9a32-2afb3595bbcc.png', 'bfaa507f-a6d9-4c36-bfae-9750b0884574.png', 'd3e1c4d4-949f-4177-826d-acd970b771db.png', '679672fb-a937-4577-bb66-f4ce93e7fe9b.png', '2bd85997-0cde-426e-9f90-3ebcacdd4b7e.png', 'c1bdad52-3bc7-448f-a887-819200149e7b.png', 'cff1cefe-f647-4f87-92a1-66316204e6cc.png', '82c34e09-be7f-4dfe-9331-0edd64ea5673.png', 'a09fcf0d-8fc4-46fe-be98-b0f7eaf3a1bd.png', '7d2f465e-f00b-455c-964f-8d88128ca9b5.png', '935f4a69-5f15-40bd-a5cd-601da84d0cca.png', '2a709791-5650-4503-8a13-6e6873066d2c.png', '51b87477-1683-406b-b82e-a996e13d6098.png', 'c79d645c-52be-4620-8aa3-e9847e2e062b.png', '61e23749-4b07-46cc-9c38-1bb2c9dac45c.png', '56f29404-ccae-4b44-a182-26260a633b05.png', 'd970dc73-bfe7-4d9f-ae85-fac9949c2cfc.png', '7982b40a-c560-4f51-9e39-bf2d7d59575e.png', '5bc17ffd-9f47-430e-a9c0-652ab60e31ba.png', 'de8f3de6-741e-4376-b729-d8645e056fcf.png', '31154866-a0be-425a-af20-3d1a59470025.png', '94fd21c1-dc11-41b4-a6dd-590f9ac6810a.png', '1d5e23a7-bd73-423c-8fab-31483bf5f1b7.png', '8f2da710-8dda-423d-a946-4b20fd0f4b58.png', '9857e02a-e858-499a-8b6b-7315ee99d2e8.png', '9bd00779-2829-417b-8fc0-50506c60d011.png', 'c4359d1d-80fb-4aae-8b76-8bcaf043ee24.png', 'e1449332-5c53-40e5-8c20-dadb2545134e.png', '61978ee4-8087-4d5a-85cc-ab40f8391ab1.png', '602c23d4-f637-4835-bcea-dabb5fdf9cf8.png', '56267a73-1b09-43f7-b777-a004ff98a578.png', '175e2fff-28bd-457e-b2bd-b84e1fe2c2cd.png', '771bab2e-d555-4cf8-9a2c-be86e641f0cd.png', 'a36814f0-f7c9-456f-812f-8ee124b17c44.png', '07743555-e7ee-4dfc-ac7c-6f2d33af623a.png', '3c1510bd-fd45-4866-b104-d58ce3553e99.png', 'ad0d2912-8ccc-442b-8066-7320611fe8d8.png', '7e32f78d-0418-46f5-821b-d18c7b3aa804.png', '6485c2a6-9da9-48bc-9582-2ec14e255bf4.png', 'ce2e8044-2f5f-4745-a319-bea13d4df4e5.png', '0e9158b0-e80a-4b2c-9e85-2353bb790e9d.png', 'cf7e803a-f2f9-440c-aefe-af48a9748fa2.png', 'f26dea57-18ff-416b-b4ff-46d871e27538.png', 'bca48f5f-91ee-4b12-beb5-8c6e5d922171.png', '8ef03cb6-89d4-4f9c-a471-4496f623519d.png', '7a73cb25-1ae1-4258-be46-4e88a4f382b4.png', '3f544b20-e5db-481f-b8f8-80c465942889.png', 'ab78f6f0-d15a-460c-904f-c7736a04f2e4.png', '9933c33e-8228-40bb-aedb-c943790c7fcc.png', '8e605921-59f7-4090-b9b2-fd8bab225927.png', 'ba405f26-424c-4e69-8aca-b64468d79283.png', '8c4d9285-3cf9-4731-846f-738e5b10160d.png', '85a561df-2bbe-422c-8375-b6a22950d85c.png', '36be014b-6f15-4d76-b8ea-986ccd602aca.png', '984296af-c97f-4c68-a098-3c89a521e397.png', '2b26c820-7921-4ec3-ba49-78602228ecda.png', '5bef6aa5-bdda-4984-83e4-2c20b695032c.png', '53b8dcce-1521-4d31-8f9f-c54b19e38698.png', 'e24045f4-2565-4ffd-8f16-b33f31157bbf.png', 'df7e463e-c108-4698-b7c6-358a4cdb88c7.png', 'e4d2f8b1-d132-4934-8a43-6be2a3aaf6a0.png', 'ec683944-5d9f-418a-a354-4af25676f19c.png', 'ab6aec00-191d-4198-bdd1-176b3e4656eb.png', '393fde97-2db6-4eee-9e32-8ed6177483ea.png', '6ec8b8b8-aced-47fd-af66-8906da8a8ce0.png', '0803c249-54b3-4a89-991c-feaf44640556.png', '242156da-a0b0-473a-8d1f-48a55c42efc7.png', '53dac799-a908-4a29-ae43-51b85493f9a9.png', 'd10efdbd-dd37-4c99-99c5-5b143af2507d.png', '800b0e60-4950-4527-809d-726b9f83121d.png', '458dc5d5-1b0b-4626-b2cc-07c07d239153.png', '1b6009f4-ed6f-44ef-a9f8-e113ff6e5318.png', 'f1cd4758-98a7-4be4-80cb-2cbf1bc7de97.png', '9092ad70-4571-4915-9803-c09efff1e58d.png', '3cc4dbf9-0470-4acd-9313-703739ea3978.png', 'c6490083-5b99-42ac-aef0-b049bde990ee.png', 'a0e31797-f6d2-4ab5-b4fc-cce81386f74d.png', 'e977a58a-47e4-403d-8ec8-b863558f08fc.png', 'e131b1fe-4449-4684-b660-628b3f4b5cc4.png', '7d96c272-86bb-4737-ad60-1fa755102959.png', 'b6ab6e0b-0177-453e-a7ad-5d127467ee7e.png', 'f7c61183-e22a-4388-979d-7f80b07cd11e.png', 'a541222a-5eff-4512-a48b-52daaca05a43.png', '01a3c91e-c595-48de-8849-9662e68fb9ad.png', '6bb26e3a-d99a-4edb-9a84-71502109e981.png', 'f226a679-ec6e-4680-b7df-389476c1b2b5.png', 'b06cfa22-0b85-4d60-854a-341a24c81587.png', 'd95d5d7e-3b5b-4b92-a045-7f6cc5850762.png', 'dea9f1da-b241-45db-a0a5-a01cd86cf78b.png', 'e6c1276d-1d07-4a4d-9f88-d5968083d6a4.png', '63967cb0-f2e8-4c06-9957-ecf465e2ed2f.png', '6b7c8623-17a1-4dae-a59a-367f448afb1f.png', '3342bc82-e8c0-4437-96b6-e9c5aa6ff9b3.png', '22cc590e-60ba-4898-8d55-aa57dce7649d.png', '769fafe2-53a2-4332-b93b-72b618642385.png', '722ee59e-2ba7-4bcd-8311-f8c17386db79.png', '73dbd4f0-2421-4300-8fd6-4d8e095e1f2e.png', '58d41a43-8819-413a-b82d-ceacb2d55113.png', '621399c0-eb92-4895-bda5-221b06c9b981.png', 'd9f56e52-f4d5-4e12-8594-643820710fa9.png', '153aa9b9-98da-4cd0-a858-4e14d4c6e4d8.png', '321bc630-272c-4a44-b40a-6367fb33bff4.png', 'a4332457-1e79-4db8-a926-5e6ad958a52a.png', '6010d9c2-a8cd-4739-a7df-e2540ec8f91b.png', '91ffabca-b125-4e74-a670-c127885b86b2.png', 'eabc4252-c990-4893-b5a4-f3e5e4e1a32b.png', '7efa18ae-0ac2-4f51-9bbc-a9203e328639.png', 'ff71038d-9b7b-49ee-b98d-1691a55bd56a.png', 'f03bea43-6558-49db-9434-24744f1bcf7a.png', '791dc36c-8914-453c-92f5-886dca096418.png', 'e695cc76-7ab3-4374-b556-582703abadc0.png', '583be5b4-5167-4d1d-a8ba-f45fddac8751.png', '3d73d8de-1494-48be-91aa-e876b7f00738.png', 'c8221645-779e-4a96-bdb9-5eb63b0103ee.png', 'f6f5b4fb-5a66-45f1-b7c8-97008ca43437.png', 'fd41c47f-dd96-46fa-aaff-655bdf7fc702.png', '43718cac-a6e4-43b8-80c3-f7c2ec97dc99.png', '0812b785-882c-4a70-95d1-438e44706135.png', '5c586f25-f03f-41d6-936d-4bce2493d7e7.png', 'c38727a0-c5ac-4e4c-a417-645b4531d112.png', '94cc733f-b32d-42f3-a5ab-a6385a8fb710.png', '1d84d01c-e1d3-4b22-9311-889034e12a51.png', 'd6c6afef-a351-4f4c-8fc5-e56c0e0735f7.png', 'ddab2375-c45c-45ec-96b0-0d0531d485af.png', '229da737-c79f-4339-b933-056fc171ac45.png', '0633cce1-108b-4594-be71-5aeae0e72bdb.png', 'f3f430f9-e941-448e-94c4-e64e86f33344.png', '9936bbb5-084f-4306-a702-cb50e9b6de29.png', '29796cd6-dac7-4a79-be3b-14d5ad76ff1f.png', '7e1b4f90-16ef-4407-9eef-ff0b5f28348a.png', '2d67c58c-b1ef-4eee-a653-ddd2717203b2.png', '27a3cef2-64f8-4167-ab20-f589f022b3ea.png', 'c8d748c2-0198-445f-b081-79e4560149e9.png', 'fc85b2ea-29df-4d09-91d8-879f6e2ad47e.png', 'e2fdf3aa-5c96-4494-9b30-eb814d4b488d.png', '712ce3ed-d00c-4daa-b2f6-8ff8f317f20b.png', 'b726d331-6553-4ad7-bda2-b3b808bf6034.png', '1230c363-818a-415b-900b-d75bc33348d0.png', 'c5881e15-387f-4ddb-8ac3-f761a8863de1.png', 'c8c5b8df-eb35-473a-ba33-c24abd0f57d4.png', '9bafff86-9231-4f67-9c4e-ada41d6de8a8.png', '510fbe0c-f020-4946-950c-41e3e65b8976.png', 'af53f655-f6da-45c2-bc5c-25970f444ba4.png', '0d264f44-0d3f-4dea-a766-4562d33bef72.png', '97629117-7c67-484c-addd-cbab524c5d23.png', '8012a68d-6a46-4ab8-a485-d2713fd2ca43.png', 'fe008e21-424e-4adc-9193-a0ce0803fc33.png', '3e52d3ae-6a0f-4350-ae81-3e55fa0dea1a.png', '1196f8ba-9763-4ca7-8df8-05c613b650b0.png', '5df35555-dc14-4761-be1a-e3b154b12a14.png', 'ff0dae61-c76d-4ba5-b596-bd63d71d2814.png', '7bc88fb8-3be5-4076-ab4d-3c12d891e5cf.png', 'f01daec8-e41d-45fe-ab93-0a7e70b2975b.png', 'cbd57d14-0997-49b5-a209-d8a81396a3b0.png', '2d357d6d-d3ec-4aa8-9cc5-f654abd9146d.png', '0a2d2658-3159-4061-92a5-bfcf9577d2c1.png', 'dfdd492d-b44c-41a4-94ee-0c29a9da5f7c.png', 'e8134d1c-da24-4e5d-8589-b705d8e64bcc.png', 'f4e8c24d-c505-4886-aa17-4e919f40ffa9.png', '19fcada5-36c3-48d3-aeaf-2a6eed4c38f3.png', '7bf53583-2ad8-4d01-a02c-86d77554ef33.png', '95c027ad-f735-4c25-860a-f663d2977315.png', 'bd2fef43-ece0-4b22-9af1-7d31b3b89bc2.png', 'c3b92f3d-d1b3-44dc-a5ed-3b65a76e81f1.png', 'aa1bf712-c4fd-43cd-87c1-fec4e82bd8fc.png', '57bfe705-afe2-45fe-857e-0288d2e01db0.png', 'a083fe4a-c31a-4f68-965b-8eefc096bb9b.png', '0eac973f-b55a-499d-979a-54c3250c3fe8.png', '7af5d529-7581-4ed1-8084-1aba876824fd.png', 'fd65df16-d3fc-44f0-86b3-fe9a52af1966.png', 'ed6d69bd-b27f-4694-aef2-0f12f3b71bfe.png', '9e9667d7-4338-437e-adcf-10cc7dc32392.png', 'f4a62b9b-ecbf-4d27-9545-650ff719a001.png', 'c3e42c43-eee4-4684-8e57-89bd850fce8c.png', '63cc5fff-182a-4f95-81f9-b8408f071f0a.png', '26819994-8a71-4ffc-be97-9a13f3997167.png', 'e6adb2c1-d1cf-4e7f-ac5c-682f23fa2615.png', '3ad29293-1aee-4a44-b3f1-c970343cca69.png', 'd3da8ffb-a392-4549-b102-972a4b154273.png', 'b6aad384-009f-47e6-a062-52d14c25cc72.png', '018e0f25-9470-496e-adce-61ad07885468.png', '038481bd-6687-4140-bc5e-642f8a4ee427.png', '518050af-57bf-40af-82dd-dd9ee12966f0.png', '3f59711f-bbf7-4339-a8e5-0a186af66649.png', 'cb31b2cb-febd-46ae-b23a-6dcbbf49a89e.png', 'b09a9b3f-9a77-473d-9360-a666a3be04a9.png', 'fd6e6e21-895c-4d17-bf86-5ed1cbd2d1e9.png', '463169ee-44a9-4ab2-ad85-8fed4b5ef919.png', 'a6e4b63c-f55b-4c1a-90d6-65966409632f.png', '4a5350d5-5b36-46d7-9997-c01ce47c0c7d.png', '69afc27c-5a5b-47d2-aa7e-0fea1055ced6.png', '2e08e190-af1e-48e1-9ee5-dca217cf013e.png', 'e7ad779a-7d5f-49a5-b08f-96c6af33012e.png', 'a3b0ac16-6b05-4a21-93f5-d54278b99ac0.png', '2354d509-3c1f-4037-9b4c-3a8633970997.png', '5c35e5b9-ded9-4937-8129-292e83c93c6c.png', 'ee79319f-a55e-4a57-b275-eff689921442.png', 'db3039d2-bb77-44da-8f3a-bfc1ff8ec0f3.png', '7c68e8e3-7971-4148-a637-ef951be5aed8.png', '12b0a077-67e6-4f8b-8893-a333b1cdca44.png', '169f1a86-d0c8-4cf5-a437-7e0f69c042e9.png', '4baf1a54-5526-44a1-95b0-12f54711751c.png', 'fa191d56-a549-4606-8232-01f305d32a1d.png', 'fbc53621-cfc1-4f02-a38d-5ac422010347.png', '8a0aa58e-7508-4bee-b0b3-8efaec05d2d9.png', 'e5dc348d-8849-43a3-9961-9534a2dfe778.png', 'dc98ddaf-6304-4a55-86ba-4c37ed6ee519.png', '775824c1-8d85-40db-907e-5b34b6ee989e.png', 'ba99dd89-3c03-42c9-bec3-cb38be94f3ca.png', 'af83e81a-169c-4d70-9dbb-6f4b229e2892.png', 'e1ab2f16-e73d-442b-9c08-23f4f9ef9e9d.png', '4ec972e9-45fe-40d2-a67b-b128ed42fad9.png', '5d5fffe3-d644-4391-8781-ffb5176d0e64.png', '1fbc12d1-aa16-45b4-9d87-e042bac57102.png', '7604667c-e52f-4743-a699-545171db32b9.png', 'd3983ff0-987f-4e94-8ca4-193d4fb89c19.png', 'b2ad06b0-5f96-4db5-abf6-f6741b0e841f.png', 'a86f722e-fa50-442a-a1e2-91de379aeba1.png', 'cd219cb3-80ae-4ffb-a4d3-ab2f1bf46885.png', '400fe046-9472-43b4-92e0-7297a53380db.png', 'cb357bb3-8beb-44bc-83c7-af7a398c7fb5.png', '8c90ec45-32da-4000-8f4c-bdba1bf4cfe2.png', '5db4f4b5-7e5d-445a-b613-7ec553abc8c8.png', 'b4f7d7be-af26-48a1-b6c3-dc32dbee4164.png', '178f7df5-3b23-4db3-b203-ba9043695212.png', '2f3ccd90-4607-4427-8c55-3a34a8c23f2b.png', '74ac539a-1927-4f9e-8310-5e020663f5c8.png', '1d5c1f69-9607-46f5-8b26-ca4b323835e7.png', '09d97e08-e07d-495a-9b9b-7ed287000287.png', '0236470e-e671-4f52-a794-dc5a2d02f2b9.png', 'c9711d42-c242-4b9f-9048-a0aa4a2ca9bc.png', '1b8f5d45-5b69-4a63-8fcc-a7f3b7715ffd.png', '25046f94-9f1b-48aa-81b6-2ad821f2d552.png', 'c56d6ee9-9b27-4183-957b-1ea7ed5107df.png', 'dd127a61-678e-480e-888c-49be0040feaa.png', '512d95c0-522c-4c8d-bca5-bfb2b208625b.png', 'cc000638-b475-4e26-b459-4f64417f73f2.png', '421c6378-2b81-4f99-9954-fe329c44eb80.png', '1b7236d0-be6b-4a19-b704-8647c5c2f376.png', '42e86573-f59f-43e9-99a8-3a88e99e48f3.png', '9fb228d9-84d9-4de7-9a1c-f072cd0a0b22.png', 'fd7baa5e-a4fb-4e90-a9b0-d9c915259946.png', '195a7942-e588-411c-9674-4423f8b3af64.png', '92036cab-5795-4b06-aa53-9c8338e9cc0e.png', 'aff21e20-f0e0-43ce-8b02-ab043bb549f7.png', 'be7288df-5d9b-483b-b3e1-e0bc5c0e1625.png', '9b940b4c-65a7-4591-90dc-17d47ed6db17.png', '9afbb527-1b7b-44ee-91c0-edc25f6f2c8e.png', '632e2e65-2b4a-4d94-81e8-eb3500ef9b31.png', 'bc77adb9-f406-4862-807a-2d7c98162f33.png', 'a2781378-5e1c-43e8-86bb-ae8f9ebde0c8.png', '6c397fd2-fd72-42f1-bf3b-f3c5ad8e61b6.png', 'f3ad0c99-7e76-4c7a-9825-1cfb9fc20608.png', '850723cd-1053-45c3-8fe9-ae381b361959.png', '201ba27d-d32a-43de-a79e-2683532d99a7.png', '71cb6aaf-e926-4835-b8ea-b298d117de61.png', 'b092e3cf-de79-414a-9a36-e40a5f296271.png', '2bb5879f-1a70-4fa9-b0cc-bb52470c51ab.png', 'c8941649-6582-4bac-8dae-7df7a3d48f50.png', '1bd17873-9071-47ff-b215-9f9ac82c26be.png', '59b8bf5b-46f0-4cbd-bc07-a85af3d86a98.png', 'e3147ca4-07cc-450c-8d50-5e3dd3301b8c.png', 'd8f525bb-3a14-47d4-aab7-cd679b4d8b06.png', 'd07f361d-1dca-4758-863a-fe8158158421.png', '369aefaf-277e-429d-8a96-b8680fd9f2bc.png', 'e605fcba-989b-4a5d-944c-934eb9c7e373.png', 'da58d704-5cb7-4262-9791-4b01cdf7dc23.png', '48292955-e3da-4846-847d-c50d67e43087.png', 'f221bde9-de3c-47b7-994f-49734092b153.png', '7cded4b0-f2ec-48b4-9138-0df010cd4e97.png', 'a5946b1c-cc6b-4b41-932f-cfc12a19d034.png', 'c4bbe3fc-5269-4e90-94ce-a61c70dab33c.png', '5e5bc496-c21b-4a75-86fd-238f252c689a.png', '8271c45a-51d5-44c3-a1ea-b1e847ec6b1d.png', 'e6d8426d-29f1-485a-b77b-f0b583b31504.png', 'd88d2450-b7cd-4634-8ea1-917983cc1e5a.png', 'cbd9d42d-50cd-4932-b14b-6f6abf9fea7b.png', '5338e15a-728a-4fb3-807c-11ff3da1c435.png', 'b9d20edc-9801-47f9-b3b4-30ecef7b9b14.png', '87af9aff-d2a3-4030-9a7c-49ecfcc3fe87.png', '307da09a-56e0-46f6-83e4-f73b93acdc80.png', '9e0186fe-3030-40d0-b04c-574eaf8c68d6.png', 'ea2b81e1-413c-4c7d-a7be-4d3a9c4ff577.png', 'b85330f3-8cee-4bd8-8698-bb305e157f51.png', 'fee8ad74-20c3-4740-a4e8-6db1c7bdd2cd.png', '7b3b4d2b-8ded-4a4d-b3fd-0b367468ea48.png', 'e475fe25-4985-412b-ad20-981ede4efa64.png', '860c81a5-eacc-41e6-bf0f-0d7cf74b8942.png', '10dacc63-dfc8-4915-a3cc-94ff4e507750.png', 'fcd224d7-6b52-4185-b2db-fde791dd6941.png', 'ef071742-9c52-48c1-9ed2-ee52a34c6135.png', 'b65b8740-6d8b-4381-bada-4c2e6ac8584a.png', '58076993-0e27-469b-be88-202d9492c3c8.png', '4556bc6c-6e8a-4f2e-9441-8bc3c41d2cae.png', '6b071f4b-6db2-4fa2-8220-6949f9228148.png', '7f023c26-bbfb-486b-86b4-efe5db264d59.png', 'efba533f-2274-45fe-af1b-f3d139e461be.png', '8a3d4df4-5bb7-4334-bb1b-000198377d35.png', '0d18d782-d475-487b-a3cc-d2debebe4c35.png', 'c585a138-2889-49ba-ad01-c64e99b73d63.png', 'dce1aca4-aebc-404a-9801-b745282d0b2f.png', 'f68d0593-1b6e-4111-af42-0d97c03107e8.png', '88741146-f61f-48c4-b9f6-9d337536c6cf.png', '46d82fea-39f6-4d50-b3ea-f224d1478fdb.png', '18b30029-7cdf-400b-8ab3-e3e8f7774042.png', 'bbaf498e-e4f8-40d6-a4ad-035770e10646.png', '30c139df-ea3a-43a4-9d66-82e35e187aa6.png', 'ddd76dbf-d147-4241-bae7-1d6eb905ebf5.png', '8411a0f3-6793-4ade-833b-ecd6caf110dd.png', 'f0fd2a7c-3454-4648-aca1-2755255e90fa.png', '9fb3bec9-c458-4fde-9f28-870dacebb368.png', '1fefb2cb-65b6-4d85-8e14-666d94cdf36e.png', '08329196-5602-4f92-981b-f26b919be8f9.png', '40f10086-8281-46cf-be7a-0d7cdd2ea02c.png', '75e87586-9488-4b3d-9700-5a75ea0aef0d.png', '0980b1ee-7db0-4b56-9441-34af50bef651.png', 'b1f4594a-0deb-45bc-89b7-6929adaf43ad.png', '769c4be4-40d1-4c3f-a0b7-5b36ea00c74b.png', 'fc83963d-d876-4c5f-9947-efc3171b4e0e.png', '6a87a323-731c-4912-a5c7-1fe33d3118d5.png', '76e00ea9-13ab-43da-9beb-78da18b9db12.png', 'c3f806d7-8f8a-4d82-a0ca-f7c4bb63ab4a.png', '1ff876be-033a-4438-a2c1-d92cc738bc14.png', '25e00c1b-83c8-4c03-8d5f-9e11c283c240.png', '12df7c3a-eb5d-48c3-b352-76478cb330ee.png', 'dc6eff78-ec35-4388-9157-0fd1db3a1d73.png', 'a461043d-6e57-4169-9fea-24e1c69a25c9.png', '2a537153-7daa-48a0-b9f6-a0861acc3908.png', 'f3e35743-264d-4d44-9495-82dac066953e.png', '64364f30-9bbc-45ec-8859-04901d91cc72.png', '611b33eb-adbc-4ecb-ad69-cf94726599c7.png', '4707e60f-9efe-4403-9ebd-5d9874f708d8.png', 'a948471a-11ad-4058-99b7-52ced9c7f213.png', '2c6a42dc-7922-4b5c-85b3-76c99af7e3bc.png', '9dd8ce35-f1af-42c7-84f7-a92ef09ab779.png', 'a791dd76-bb66-4534-a537-d5faf9ee42f3.png', '37b91a2c-3806-49fa-829c-832e9f0f8c4d.png', '92e6329b-a80e-473a-8572-e81519fc12d3.png', '5e34b3d4-8a0c-4b7e-8200-e60fd7fb09ca.png', '2ba74453-2699-425f-8ca8-eb4090760a37.png', '38e748c8-5753-4033-a192-e0ff08ee2c5c.png', '0535ecd6-486d-4baa-a287-b4b18b259345.png', '63d161b5-0110-44ec-9759-e0a10876de21.png', '2572d71c-2223-446e-94b7-ddebb041e6db.png', '27f4a9b8-88bc-4dfa-95a8-b1ca9785b854.png', '5d4a7eb4-0d61-47a2-bd29-1743434c1ca4.png', '9ef7b334-b7c2-49bb-a0f5-73c2480bf9c6.png', 'ca0c194c-35eb-4252-8ece-075df0549b86.png', '4e3280fe-a7bb-4344-a2ac-8d463a5fd332.png', '39010d1a-56b9-4f69-9565-8a2652d60723.png', '0d2f6f2b-4de5-4b80-b571-389b9ad002d2.png', '9d5fffda-0046-424a-951f-21bd3a0f89e4.png', '7fb40b6c-79fb-446a-b28d-3a4624e6226b.png', 'f1bb0f47-bb62-4848-a51f-6048d2e833b1.png', '4399d2a6-3132-46f7-b321-a06adc03bd28.png', '0e0e9123-f517-4fbd-b3f8-a10883437750.png', 'cd61a686-bef2-4755-b238-363b0a29a725.png', '9bbd0417-e62a-48e0-a17e-a3347aa98ddd.png', 'be11f433-1464-4e86-9715-25ea103011e6.png', 'e88620a0-5bf3-445d-8850-2ace2922c636.png', 'c71f5cdc-474d-40b9-96fa-b63bb5cbbc67.png', 'cddadc25-26ed-4657-8711-a1167493f0ee.png', 'dbd49e7c-a04c-4c29-90fb-4e14503e4955.png', 'f3b26cb8-a89b-4cca-bfcc-e880399588b5.png', '037e7ebe-f978-437f-9235-5b6a38905052.png', '12a1338f-0f8a-42c2-8782-65a07ea3c6ff.png', '110fdbe5-7134-4aef-953d-3b2997c40ac7.png', '993831eb-c6cd-4455-939c-fe4977fd996c.png', 'ff3fb284-6f5d-4305-b533-ffc6a2e4a91b.png', 'aa1eb3af-c60f-4af3-b4d0-90b8d5fa56b6.png', '66b00771-5e7b-46b7-9c57-3306195fd3e4.png', '8cb16a37-f995-4612-adb2-d1a4a9ebff4a.png', 'ceb4b7df-1612-42b6-807a-bdc30908a39a.png', '2159d580-39af-4e7f-995d-652bf5292ee6.png', '65560511-44b7-46c3-9415-3ade66421abf.png', '583ae670-4293-4e33-bb29-958fd5d452f2.png', '3189cfad-d09a-454f-836d-c12fd593622a.png', '5c240d16-f5b8-4d5a-ba40-6189bc707703.png', '1f5c0a08-5093-44f5-a579-0c2040942647.png', '66504dba-45e3-4082-89cd-251d0327ac14.png', 'eeb9c95b-ee61-449f-863e-87e2a821bf7a.png', '56aadc61-ff6c-421a-b280-f9bc40a3e08f.png', 'ebfc88d4-1fa7-4c82-82c9-5f8646a983ab.png', '998b54ce-2cfa-43fc-b156-a42480ff9953.png', 'e7ce8e04-2f97-4bf2-a173-c7d699a17394.png', '5d64a528-ee94-443c-8aa4-9c5b4c7b9996.png', '55c7ad04-72c3-4f09-b0bd-3823d4b4675f.png', 'be0b4cf9-5f43-422b-87d9-22a507676fd8.png', '6569d7c1-30bc-4c57-b244-f75bda776278.png', 'cd86417f-b828-4dda-89d1-711c3f2f6113.png', 'a8eb3507-4f02-40c2-a064-ccfa8a237965.png', '954ac07d-7b1f-4c40-a0e8-7821dd262b33.png', '2e8ddf05-8578-418a-9bf0-36fee526c15e.png', 'f740e779-4f3f-48cf-bf79-052bad825a60.png', '75c47e3f-d880-4f14-8b05-65e6fc5daa7d.png', '4c17128e-e809-40f5-95ee-0ff7adc0cb22.png', '3fedd8ef-4ec1-4072-a070-147ede0a418d.png', 'c0041fca-ebb2-4900-a943-59586c2f6271.png', '4310ae71-735a-43ce-89c6-aa8b91c1c492.png', 'dc6954cf-82d0-41de-bc37-57390c00e444.png', 'd8cbfb99-7054-4c99-940d-30f657bb8344.png', '141930ed-e8d0-41e1-b131-248828e6d63e.png', 'cead627d-1e30-4bf1-84b5-b02fc41f1fdd.png', '00560965-3391-42d6-9567-2252bc49e1f2.png', '8e5e976a-1348-4e73-aae5-bfbcf536d2bf.png', '8110d648-42e3-4205-a17b-2d6c251a6ef5.png', 'd8001219-bd4c-4957-b760-450cbad4caaa.png', 'a414b513-ea33-4309-beb7-2eab772074a8.png', '9d3ac737-777f-4b79-85d8-1ebe9c3ef6fd.png', '28462ddf-055d-4c33-91f6-41fb3b4c84bd.png', 'bf2a16ce-e54b-4c93-9e2a-71c13e0022c1.png', 'ec9c316c-4732-4bb2-b4c5-bb7990e8d045.png', 'aee7dfb4-30f8-412a-a7d8-fbd1887419ae.png', '4c82b771-f050-48da-9a07-8d74bd8b0944.png', 'a594aac4-11e9-4449-b2d5-de2e553b4518.png', '64c8da49-ef0f-4f2f-aa0b-7da6ca2e05a9.png', '5b43d10c-2eda-436c-a8b1-c0ab292a9738.png', 'af4d4108-fa47-4d0b-a887-8ac41afe5bd4.png', 'c53b4f5a-e024-479f-ab81-44500ef5031a.png', '063b078c-73c2-4cd1-b4c6-a376f418cc23.png', '4e1d5695-84a6-4405-a507-f506d2dd92a8.png', '6a9c86f1-d08e-4466-8a0d-c05270afe3ea.png', '01c44ea9-0f7d-429d-9c26-54079301cded.png', '34be6c6d-ea9b-4767-aa51-8a8d88434c75.png', '76390ce0-8534-448d-89c7-9fe69cc22f00.png', '5302e42a-0098-4b97-a6f1-26f0da726f82.png', 'deadd31c-2757-4d30-bf71-8b3bce5e4d8c.png', '8f5c05ff-4d3a-41cf-9151-e7c4fe98f32b.png', '40696fa9-230a-4cde-916a-4dfa258308e0.png', '95f1644a-8774-4e19-81ec-d6b925d79b34.png', 'a0aa3f7c-ff3d-4b8f-8935-67f2fec1138a.png', 'd6be72dd-682a-4230-a117-1902bc825334.png', '373f6392-e32b-4b79-84e0-034f6833a081.png', '4a42e3d8-bcd4-4e6c-a89c-ba374f2509c4.png', 'a14835a0-1f18-473d-9b80-a1706de63a44.png', '51ee6bbc-f0a2-4d66-8c69-35198ec367e9.png', '74844f9f-7b37-4ca6-8dfe-aa20ffe4a825.png', '879c2163-7989-462c-a988-b455d708f88c.png', '61feecad-ed68-4ff6-b5b1-7b6aa3b73caf.png', '0a74cd1d-56d1-4f1b-81ee-5b8f407afcd0.png', 'd15cd0b8-dd15-48c2-8038-138f620f4083.png', 'e665e78c-875e-4dc2-a2da-ef6e2df33cfb.png', '35c59dbb-5ff0-43a4-8911-1325288eeda7.png', 'bd3dc5e6-65d5-4a59-9de0-dd094d36da18.png', '48e0ca46-eafb-4d19-bd10-315a880b49fc.png', '51d00e2f-80d0-4d98-8419-69fc8ac6a4ed.png', 'efa25707-c65a-45b5-8018-03457a0a2865.png', '6069239a-3291-416e-8da8-7f11e5662e2a.png', 'f5eb7302-7de9-4b6d-9773-ca76ecf66437.png', '2bce12c6-f670-49e5-82d9-0316511eb940.png', '539b0ef9-47f8-4152-bab1-629d6c418e6d.png', '71b232ab-2f71-44e4-8e8e-656e0ed703a1.png', '9386d555-0329-41de-870f-b97064c35744.png', '259fe856-8954-45ef-8eae-11c2100398c0.png', '64bac103-d734-4d5c-973c-d8231ef9d884.png', 'cd76d99c-d8a3-4f4e-8f74-58d7894677f2.png', 'ba912281-e966-4952-8f0a-c5db84a748f9.png', 'b8c1e91e-e830-45e3-8d90-0322a3e7f2cb.png', '11e0caa3-6465-43d3-844a-ee90fb76d6da.png', 'e4edbf44-299b-4e65-a0d7-7593af7fbe21.png', '1e8d7363-9419-4fd3-9b47-b02c07978b84.png', '7f809837-7d90-4704-9366-ed48b58e5e72.png', 'cd1eee2d-2f9e-4c52-938d-498a0ba0711e.png', 'a28a7bac-c4cf-48da-bafd-73f37871fd7c.png', '88700dc1-a156-4a50-8f01-086c452bfc93.png', 'd9a3f3b1-e8c2-48ce-940d-32c7c813cede.png', '3d0411fb-3d10-484e-9786-f23927aec354.png', '5f9dd72e-152d-4983-9224-c2bb442a696a.png', 'fe4ec762-58b4-401e-b265-0557e3538021.png', '2a2ff771-ee71-4700-a72f-f03057f26973.png', '4dfd247d-6a32-4523-bcec-78f7d92320f8.png', 'd58f913e-1d98-499f-8c7b-2c88b060cbd1.png', '47079410-6811-4bb6-8023-540297e55682.png', '8ff4e5ed-baca-467e-98c4-39e5d6c03f36.png', '320bbbf4-0e17-4d50-9e91-7c6b5659cfc5.png', '4bb169ba-b4f5-46a2-9927-c651a14c2028.png', 'a7c90504-7a93-4205-bc02-dd2b0b6c409c.png', 'a1ad1a9e-60eb-4c34-bcd2-3d4178cb39af.png', 'b802bc0d-ee6a-4c77-b472-340ab79a4892.png', 'c572eca4-6758-4961-9038-81399c4cfe61.png', '675c2f6f-cceb-4425-8721-c3f1e809367a.png', '7414cf71-1c63-4f5c-8873-472de28b5dcb.png', '07b46ad4-4c1f-49bb-8e1e-291449116785.png', '81ceebbe-43ab-4762-bb49-61801d704475.png', '533608c6-a26a-4443-9ce9-fc570c45c1e1.png', '8808d0a5-b572-4241-981d-b58669e773eb.png', '72bc5ddb-57a3-4659-8d87-67ae0d1d95f7.png', '02cb2235-c7c0-40af-8f0f-f388cd0f2b87.png', '36a24c11-3fd7-42fe-803b-fbf45e3647b8.png', 'ab96ba31-29ec-4a2f-bd4c-f25c7cd59e1e.png', '68fa6079-76cf-4ca7-a1ee-fa96d777e59c.png', 'f0cbf537-5982-49b0-a181-e4e3a32bdb2e.png', 'd4e7bd00-7fab-4e7d-a223-78f6cf59d79e.png', '5d13953a-78c4-44c7-a2ab-e609b8a555c3.png', '7937a122-5add-4e17-8a07-e3c865ffc766.png', '3c8e64ab-ed7e-4074-bf0f-4f13d1ff399d.png', '8e44cdaa-809e-4ba6-b1fe-e8de24387860.png', 'a04213b0-0063-4a29-b686-aa7aee95556f.png', 'a5e68a52-b0e1-4daf-b74c-3e7c04b7c0a1.png', 'e022c4d7-832c-4c85-8095-b95e1f3c4238.png', 'c6b9fb4d-d341-404e-95e9-40855108a4b8.png', 'e3152250-1113-4b38-988f-be707a1a15ed.png', '543f9e7f-e717-4905-ad4b-0c237e396cab.png', 'a8d75826-1c60-41e8-a508-802105689642.png', '9c72c286-4d27-4544-8f36-026a55ba379f.png', 'b5d2cb1e-c0ea-4fc8-8707-af879395c928.png', '878e0f52-f3f4-476f-a9d4-5039d6d6025f.png', '945fa3ec-ce8e-4674-b730-07ca105ce9b9.png', 'e934d5af-409a-428e-a9df-de78bd0e6fc6.png', '421513c8-fd10-4bc1-adc5-663a2703c062.png', '4e278746-f48b-4550-be08-b68053640920.png', 'a46cc11d-53d3-48a5-92e0-69eefda79734.png', '78562c80-dcb3-46d9-9e37-de165922558c.png', 'ba6713d9-425f-4fb0-ac06-3460fb90d9e8.png', 'fbe9b5fc-1ba7-4575-8927-18aee95b286b.png', '4e1b73ae-3467-44ae-80ac-4e4a8a9e73fc.png', '81340548-b8e1-4879-950a-7d066aa809e1.png', 'bbb12593-34c2-46fd-b08f-653c0187bed9.png', 'dbc93d37-a91d-472e-813d-1919fb13acf4.png', '7d38e650-7a8b-485f-96a5-82a7eafe2691.png', '8f1a7183-2bb2-4119-beb3-4d769166b8e8.png', '50190e52-f4ed-4f93-ad11-0eadca2359b1.png', '36a47bd6-ee54-4250-9b0d-a12cf95b1f14.png', 'd3d45f62-d3fc-4e80-bd88-c4ac769b54e3.png', '6b2902af-cc62-4f08-92ba-60d717fb73ee.png', '0100cbe2-6602-42ff-9145-9abab9ab92a2.png', 'feb2292a-93dc-4fd2-88ec-8bb513f0f00e.png', '15a4826c-d03c-4c85-84f2-02b7816afb95.png', '255e8f2e-f62e-4451-a3c4-57fca2ab3b84.png', '159b813d-d97a-4da2-bab6-d98f2137e96d.png', '37b72950-8699-4e70-b8cf-c4584da445d5.png', 'e9ecad80-a45c-4479-a5f9-4e480636ccc9.png', '237e1aaa-4316-4625-ba85-b53ea7c83acd.png', 'eadad2ee-2237-4dd1-bddc-298d4ace8101.png', '234ac27b-eb72-45d8-9436-185f1d4f7f81.png', '8f350703-0ab4-40a2-8f0e-901469c4101b.png', 'dec3b7a9-81bb-4ebe-bf56-131272596f8e.png', 'f701af2c-6f91-44f7-a0c2-706cc35c6be4.png', '2c43bff0-2f2b-4e67-bd8b-b20111724ce9.png', '393ab9ae-b4f0-4fdc-a4e8-5929518609fc.png', 'a916c04e-a165-440d-8f69-a8c1064a78be.png', '32381530-4a01-4cfb-87ec-fb6bc85ddb71.png', '4ffcbe5b-f7b0-4246-a9f3-6f738fe7f414.png', '466398fb-9e64-4e4e-b4fc-b6b9bd9144d0.png', '0b41a0e3-6c3e-4e1c-852a-f76aedb3c9bb.png', '622f7664-922f-42ad-bfa5-7a74cba46c7c.png', 'f610e511-04ac-46e5-ba95-670e8400fbca.png', '57327d61-9176-4728-a5ec-e6f9787ad104.png', '20ef51b6-fd4d-43d6-bb8c-d26637a30f75.png', '32176e40-2b87-4400-a4e1-b0377b33c144.png', '02a678cc-9242-4e70-b70d-419755e59419.png', '826eb271-e6b0-4a41-91ec-53831b3936d2.png', 'fe38d055-d898-4606-a19e-3984d23fa88e.png', '955c18d3-8aa5-45fe-86cc-674058d5c6c2.png', '8f56b216-944b-42f1-b880-2d1dab4f0293.png', '1f67bcf8-0347-412b-b33c-aa622d1d14a1.png', 'fe315a80-5ca7-4464-858b-3f9acf2847e6.png', '24daeb65-805c-4c51-bf08-a8460ba27343.png', '5a01e8bd-4f69-4b03-ba01-f2dae07a4066.png', '3d96655d-691b-495e-b059-013311e56fab.png', '70aa1fee-a730-4757-85fa-96d4f61fd826.png', '59f39309-9a57-407b-9469-4f835a4b6be7.png', '09dd769e-b55a-43ce-a38c-5d35095c940d.png', 'b6c9e146-0f78-42cf-acf1-4a976f8c933a.png', '4e9ab7cd-750a-4096-b4f4-6450d5ead514.png', 'bad77e57-181a-4b9c-9272-be43a17190d4.png', '74f0c587-91ed-4358-b8ce-c17549c0d1c5.png', '89c9a3ce-f551-4bd7-ab30-1e6ee17abd24.png', 'ca612972-16ef-4a2d-9f09-f6c7811931e8.png', 'e463dedc-6f16-4162-973f-5275f5593dec.png', '526f7dec-5c0a-422a-ae7b-77b92e0b4c93.png', 'aea70472-a5a0-4321-885a-79933b63ad9d.png', '6e3ea134-90bc-46c1-9aa7-56aa0797a541.png', '8a36b258-209b-4713-a5be-49c6cdffb8d4.png', 'd6f2090b-8400-42e8-b44f-879d9d5de89b.png', 'f08e68c5-465a-43a7-902d-18edeb91fd2d.png', '87ca5b8e-8f83-42b9-b69e-dfcdac76c778.png', 'b9abba72-eec8-47a4-ae2d-028790ad1441.png', 'bef08a23-47c3-4a47-b7bc-a649849fce41.png', '39ec02d0-5536-4ec8-a040-80cfe7747377.png', 'a89c00d9-88d1-4e89-8c67-058e490b652f.png', '609c1f52-1f7b-4b5a-8982-d062f10e6584.png', '9842078e-74d7-415e-8aa0-c496f11bf21e.png', '03dd6cc9-258c-4ddf-9773-4e6cc3230468.png', '7f79cba4-f4d4-41ef-93c1-4df10a58fdc6.png', '7a7ef235-3c55-4f7c-a801-359729f33297.png', '42246a03-9061-453f-92b7-eaa3463c98d1.png', '00e477ab-da37-414a-bf37-4aa0bc5227e3.png', 'd0711573-5f30-4683-ae7c-b5c6e9503fc8.png', 'c9a7e784-af9a-46ec-bc57-012ce9cc3574.png', '21c39dda-064d-4266-8322-30aa4b1977fb.png', '7277920c-8cde-4a4c-91dd-4ded8a802b00.png', 'd153f827-4867-49f2-b547-8805533f2fad.png', '253261fd-f84f-4985-9c95-0d8419b9bbf3.png', 'ca0c6fb4-27d7-468e-a7be-72a05cb723c7.png', 'bfa3c51c-e5ba-4c2f-b015-f5454db93a3e.png', '09974ad8-d467-4dbb-99ca-3ed8600e5944.png', '72c48f61-3c6a-4e79-b62d-08032d4e4bad.png', 'c31f5b7b-aa48-45b7-86be-cb6fc087040b.png', '47014208-5488-48f1-8bf8-238d502c703b.png', '770310cd-32e1-4016-9fdf-9314f69e664a.png', '0b7aa51b-ca88-4474-aae7-5681e3b43027.png', 'cf81db7a-b952-4c7f-b37f-d797f0d3702d.png', '0f4d5d0c-9ee1-4521-98f3-cae86d7f077d.png', '630d00bb-b0e8-4825-a1ba-6dde0d223b36.png', '62eefde4-9fcd-4c11-a9bb-0dd658affd5b.png', '7e1aeedb-be6e-4b38-a913-22307563b633.png', 'bd7939f7-47c9-446c-8799-bd550faa1758.png', 'a6b53cdb-1d38-4c4b-bb1b-92a99b56e8c5.png', '8f578f9a-c650-45f7-b635-6cc68ed62b2e.png', '8fa7a03a-eeca-44c9-b04a-d39d4d439564.png', 'db18ab04-24f4-4efe-94d9-9c0b9915f27c.png', '190722fd-5368-437c-be9b-7e55cee7ffa2.png', 'a7d064a4-64e8-4b26-b58c-66ce39bf3f45.png', '31f7008c-0f6b-4bc3-892c-0dbf4aadbd96.png', '7ee2ef02-5383-4cad-99ed-0725c6e2e7f4.png', '4bad1c5f-e6b2-44aa-9588-d27431bcb46c.png', 'b4fa406b-21d7-49ba-ba0b-4b6e8382e5f2.png', '7a181618-773a-481a-8f7f-4550d7521e2f.png', '2e79739f-2d31-493a-84bf-af1a1df00b5d.png', 'd0d1ada4-466e-4674-9576-ed51d436ff2f.png', 'f4bd8ba5-7459-43fd-98c7-8ab78956a938.png', '727c0149-cd5d-4e06-877b-64a1a3f1cf4a.png', '6dbe8b59-1e2e-4fbd-93d6-f643381da72e.png', 'fc3d35ef-c017-4cda-8596-5a75746b4e00.png', 'fbc97f10-7a04-4a88-a378-f2b767ef7a01.png', '543bdd6b-1465-484a-a0e9-0466cd15b109.png', '8f2bb0ff-ad60-4ac1-9dd3-82e1287c74a8.png', 'cdcbfa37-a563-4b0d-9bd4-4ff0c0965564.png', 'f6b43798-decf-4df3-babc-bf424cd6cf28.png', 'ea4c62aa-deb7-40b0-b04d-74cfce550d1d.png', '4c113852-3413-47b6-af9a-accc3eeaaac5.png', '2f5b2bd4-dcc7-4767-ae2c-4459ec49183f.png', '789c5882-ee7d-4e5e-aa9b-c797e144bcc3.png', '53987990-c0e8-4d4b-9be1-096db620eaf1.png', '6c42e09d-81a0-4cbc-a586-2c27ed9e7c5e.png', 'c8ada1fb-e552-464f-86fc-20eccb97a244.png', '5ec32093-1be0-44d1-9681-caef50b6e266.png', 'e1fe6b8a-ed58-4836-aafd-3858a34be4cb.png', '79fc7dff-abc2-4310-b7fb-67dd54bd3ec6.png', '13202215-da29-462a-a602-f3519ee1e588.png', 'eeedf24f-c907-4134-982f-0e022890df9f.png', '8c23c81a-2c7d-48c4-a3d2-eb301c68f5e6.png', 'f8924e34-0aab-4388-9a1a-0d23a011e80d.png', '922da1f9-8080-4dd8-9798-29a7cece8aae.png', '138be133-03ae-4cda-b375-58994f4b5f1d.png', 'd3f7883f-51c0-432c-a65e-fced6823ae0b.png', '6aa17a98-c75e-45f1-906f-71042dbd0c34.png', 'bc30181d-0dde-4c55-8bfe-21598f8cd305.png', 'b8639833-9828-4a88-bb2f-5d674b809ee4.png', 'e0adb212-955d-4409-9558-8d0b1f879b70.png', 'd7de4838-14e1-4972-a858-968cfb49e4e6.png', 'b38ce4a4-88a7-4fff-a5bd-78ec3b8b215f.png', 'be4c27e9-5e73-4f78-bb88-d7d20bbee5ef.png', '4e3ea4cb-1983-44d9-b36b-665fcbc25f6d.png', 'd84daae3-ae11-4e89-bf44-ebff584fe72e.png', '3b147868-d7af-4034-933b-6880ee2247e3.png', '844c94d8-921d-44bf-9bb1-b43df7fbc3d1.png', '1f00d435-18ce-49df-8bb1-e6453f61e390.png', 'e6d1fddb-ef68-4ee0-838d-4ad6fe00c3bf.png', '0f3c1511-e1f7-4235-9fa2-8b218a427d0a.png', '3dd2ada2-8fbd-4599-b5a9-bdc7ca1e701b.png', '257870e7-30de-49a5-861d-b1a0dca4c87e.png', 'e0f7aa1e-501e-426a-9149-715a088684b4.png', '8394e224-2881-4d43-b8d5-474e6b1fb37c.png', '1b914609-1e8d-4346-b9e5-c3d322058713.png', '5598cb82-680f-4084-a709-262c01ccce60.png', 'bb4ba40a-44e5-49a8-8199-65e94a1d5be5.png', '8016373f-560d-48f0-9e91-b89cc81c23f4.png', '4ec0e34c-09c7-40bf-8a85-f9e063495110.png', '62bfe87b-b7e6-4cdd-9206-4a7f8d69c4c7.png', 'a7cf016d-2c72-4892-ac1d-dd213d8b30b7.png', '3734d159-1b3d-402c-8c02-bf411ab42d85.png', 'bbe02cb2-e710-4d4f-9a09-4d7bf44e644e.png', '68b7c054-0b46-482d-962d-88fe8b27a921.png', 'e64f422b-c4a6-45c3-8652-d3278fff470b.png', 'ac0c99b3-0d04-4422-8d8a-97e6824fc483.png', '85422451-95df-42b3-9527-7270e3f3e3da.png', 'd281090a-a252-43d8-908f-3ec0ace1b00c.png', '7c3efc7a-4e9c-4a6a-b563-b22d8e0c3623.png', 'e884d509-9eab-4068-99b3-0d00636c2906.png', '2bda5e99-9c87-4d96-af17-74c9bc94d63f.png', '08449ea9-692f-4dd5-8fa1-d13db35be5af.png', '30e51423-db68-4c23-aa12-5bab5f216e38.png', '2a0124b0-ac17-488a-8a7b-f6e044276c7e.png', '799b5799-1202-454f-8894-bc1a90a5d5b4.png', 'd75bb00f-889f-4114-9e6a-423e71323198.png', '87dcdd82-115c-42fe-8394-072afff91075.png', 'c3f46259-eed7-40ac-84bd-ac45ac97f6dd.png', 'a21e45b5-b091-4745-992b-a8dca7c112d2.png', '2424f179-0bfc-4b00-828f-0462448e9890.png', '70cb2ccc-5b33-4107-9644-84acc1725446.png', '3627b65a-b2f5-4670-968b-17505f0d9491.png', '3125579c-6e63-462f-aa5f-68b1d4d5bcf9.png', '53e0671a-4c91-4245-918c-145114f135a3.png', '821fadd3-7f48-46d2-a450-43d38a45b85b.png', '12943877-0964-4cfe-9bbc-58658f791f5f.png', '45066acb-93ec-4fbe-88d2-fd9cfd916573.png', 'f5a0cf57-df2e-4635-a465-b93de81639ca.png', '468a4a4d-fbff-4563-8bc9-2073d0da5290.png', '43079748-5bb1-4ef5-ae4e-7923207be794.png', '2da35d1d-9aad-47ef-9ca1-25c2a5cc84d7.png', '5e8a5546-c995-4830-a40a-87476fc75417.png', '507d8a96-059e-4a37-8c19-de27aa2a9cbe.png', '31d49500-3b1c-48a9-a62e-28781c7a71d9.png', 'ccfb797f-816a-40e8-8ae1-8ed31d0ad0d0.png', '1155440c-5365-4d00-8c78-f88a4abaac2e.png', '557d2b0f-6eea-42ec-9c32-38ce09e373f0.png', '8b309b4e-a80c-4c11-ba6c-f1c95b1d41e1.png', '1ba12817-228d-4857-98c0-dd5f5794e4e3.png', '7955efbb-adb7-4bc2-97ff-84536d968a85.png', 'd8ca55e2-3362-413e-a551-56c52f1af562.png', '6a3e54b9-39c1-4b4e-8402-2dbfe1f8c910.png', '294489c1-083e-4704-8b7b-b47da4ccd21f.png', 'b9ca2097-5263-4b03-9981-7ef4988f6811.png', 'cf8ca35a-e57d-42a7-b653-53697a0b7b86.png', '9a2b35a8-68a0-4455-b1a6-fe68e293a6ba.png', '59abb635-5bac-4366-b3f7-e9c07c757248.png', '15e0aa40-be00-4a7c-bc8a-694b8eb67585.png', '6dcaff66-3bdd-4f21-9595-413a95887588.png', '2a7336f8-1fa9-42b7-af27-3326799c41f6.png', '010d7e27-964f-41aa-8318-be7b3392a617.png', '7a27f95c-526e-4c76-a37c-4c454a8fa36d.png', '67493d31-1d1f-442b-89f3-cac867d8d2af.png', '98d047d1-5e42-4915-b464-5c8a7bb0d974.png', '8f8b1088-b6e8-4010-aa5c-7ba0dd24c4b2.png', 'bd8f4da7-99b9-4964-b3ac-d8fd4b4c8ad4.png', '13065238-8684-4edf-8449-678769dee26a.png', 'fe8036fb-4137-4210-ad51-0a0ef6c0c8ff.png', 'e9fb32c1-f188-40f5-8d3c-2ea31d18a52e.png', '9195d557-af7f-43fa-bec7-8fd4cd68b979.png', 'ff39dc38-c620-4b83-910d-fcc19363cb67.png', '3a09b845-4666-47a6-aa18-edc55d18c02c.png', '081436c6-0def-484c-b3d0-33a7df1942f4.png', '6367b4b8-22f0-4e64-9fad-e96f9b28a470.png', 'eefafcf7-58bc-4dd0-b394-81cdc2334172.png', '684cb4c5-721b-4687-9527-84e1d2ed491a.png', '54fbfc96-733f-4416-ac0f-73fac796e26b.png', 'ee79fc14-3651-4bc2-80e5-79033d1af297.png', '8ce997a8-f00e-41fb-8857-a99968f53717.png', 'f0009087-aa69-4a87-9821-f1caebf95fbf.png', 'c8bdefd0-ffe6-4932-ad34-8f0b9d63f226.png', 'f24f6469-b459-493e-970e-ebf8cc5633dc.png', 'd513a07f-ad7f-4c38-b6e8-bb9d06d73e59.png', '5705b6ab-9be7-4a18-93c9-c6259cacb88c.png', '71ca08da-ada3-4626-bc26-d481a299046b.png', 'd585690f-3b0b-4590-9ce7-9960a2c936cb.png', '7d0e3659-7c52-4b37-97f2-6bb12900b611.png', 'e70c27ef-b604-4187-81cb-bacee176a004.png', 'd8717f4e-0def-4c6c-a3f1-d68ffc3d2ff4.png', '7b75c071-9b57-4092-8c80-083c1b578e79.png', '619ffa31-ac3b-4279-8c2d-8b6a8693c53f.png', '9ddff30d-e11e-4e79-913f-7605d98e1514.png', '3c1fd26d-26f0-46bb-82ed-5fd1dcbbfdc1.png', '551ad17c-13f9-4be6-9339-428f4d6637c5.png', '9f9d7139-504b-4162-b9db-7719ba680372.png', 'cf02f74f-3d83-4acb-93b0-9da2eae5eef8.png', '634c3cac-6851-4402-9e30-fccb70953583.png', '6188d74d-96c7-42b9-80e8-2f7f5a101392.png', 'a8b20fb5-e41b-41e7-92a5-a4f5e8375430.png', '22c2b457-73d2-4257-a23c-ad12923cc0f1.png', 'af0961f0-2114-4d42-b3f9-16a15ed4a36b.png', 'e638b3be-b16f-4787-8217-f65755d58c55.png', '04bd0ef7-aa0e-4b9c-9cdd-99b63b0eca7d.png', '614e1fed-106f-49cf-bcdc-deade8d3f487.png', '4e5c6ee6-f441-4767-97bc-01a176ec324c.png', '234a1c93-e16a-4f6b-9800-ca3806eeeda9.png', '0fd71ba4-cf6b-4a16-b7b0-e131c86293a2.png', '5aab7462-e6f1-4bfd-b41a-dee701e00e12.png', '0d74ebb9-cb30-4400-b3d1-036931eff01b.png', '99b3ec70-2bb1-4911-b7ea-4b6d1e7f41d8.png', 'f6af0c1d-6183-463f-92d0-c1d2b6109f8b.png', '98bfb07a-9e53-4a58-bc03-bf10fd341703.png', '9585980a-320d-488c-b693-95d4bee9c5d4.png', 'b8e4feeb-615b-40df-8264-af4183df0902.png', '6da7240b-563d-4277-a608-e2613e977f46.png', '60d0a670-cec6-4932-a7f1-f5903c1926be.png', '6ff0b67f-32dc-4740-ac3a-9854a911a545.png', 'a252b5f1-06bc-4154-af35-35742ba2788a.png', '99f0d46d-809b-47aa-a2b1-47578b17bb91.png', '69767f70-ad55-4456-b4f3-118119421ff6.png', '53cfb11d-aeec-49e9-baed-cd57703b8193.png', '5516a061-34ef-4898-b344-285305721361.png', 'd7cda152-6b1f-4a2a-bd54-96a5e476b7b7.png', 'b75e5f97-2fe4-4437-816d-1dc33935a2d3.png', 'e771422c-7817-496a-b3d8-2cc28c8ff1cd.png', '146d0d29-4552-455a-b562-4dffa3f111d9.png', 'bff12054-6ef9-49ba-916c-454d98ff1aad.png', 'a73b76a2-97c8-4695-b2bb-486c3a39abfe.png', '269a967c-3825-47e1-8207-bad0c8008059.png', '3434e2de-30cb-4c6d-8910-f811936af252.png', 'b51457af-4d67-436f-89f2-0db600fbc7b4.png', 'cb3fd49f-672c-4e01-8b02-bd05389cc682.png', '456dd987-c1b4-473c-80a7-dd8fc201abf8.png', '994589ad-8ba4-4732-ba12-db599b0d8f4f.png', '041db514-f533-4e8f-b749-cd3118fc040a.png', '64e288e2-cbd9-4b0b-a841-9a29b839fbc1.png', 'fc3db168-d614-4c04-ac5e-2f6b18f2ff6f.png', '39784719-8a33-47d8-847c-51cd86ae2f69.png', '0e6c4641-a08b-4cab-8536-9fc8d66c89c6.png', 'a0eb7389-bd85-4dd5-a316-0cf9bab3236e.png', '75e83b1b-37d8-4d47-8883-277d94b79f0e.png', 'fb0f90e2-f7f0-46e8-9fe8-847be34bb0b3.png', 'c32d953d-a832-4efa-acd1-fa66dc2719ed.png', 'f8d15924-2134-466d-9200-fee25088027a.png', '022a035f-e269-4f5b-a445-8971ff29001d.png', '986f3404-d675-4cfe-813a-fb341a17488c.png', 'a1cc8ce6-8a99-492d-b298-6cb6b2a3ad97.png', 'b36f7b29-4ee4-42f4-81a5-1402d9b426fe.png', '683875cc-3336-47d1-bb60-4cead59972a4.png', 'dc543a45-cae2-4799-abb0-b4e0a437f361.png', '26dc72fe-6319-4efb-a5f6-e8822d586c21.png', '34156043-ae3a-47eb-9226-57133566131f.png', 'a62bc4d4-c68d-4836-be5b-718704f8d661.png', '57b2810e-0844-40cc-991c-46fe7475acc6.png', '0835869e-a750-47b0-8c52-f439856b5345.png', 'c1f26715-586e-40fa-a5a9-9349dd5eb9d9.png', '4e6add59-6034-42df-b371-9175fa102a85.png', 'd38b7e4c-febb-4293-bf14-1cec2e80b01b.png', 'fda93d86-9ddd-4628-b4d5-8395f93df4e3.png', '915c6c63-5dfb-41d4-9139-bdb633636b04.png', 'c1093fb3-2b4d-4136-851d-59284b22a36e.png', '73792b1e-1e63-4909-b73d-27afa87c2ca2.png', 'a4dff45d-a42b-43f7-b606-4002c5b93fde.png', '71413509-14ba-4f28-9eac-43bfeb2c4400.png', '0f9d0d1f-d5fe-4b2e-a788-b173f1e9742b.png', '7df29fd1-7a85-4611-83bd-71d2e6210f56.png', '793b2878-b792-4055-bcc7-7fbaed2eabb2.png', '34e9d826-2307-495d-ba68-5f804cdb237c.png', 'e05df027-232a-4947-8ca4-6153c533e3f3.png', 'fecc39ea-83a5-4323-9037-fe124afc6061.png', 'f26a2d8b-fbb2-4477-a503-232f7dd08524.png', 'ff880d1f-370a-4623-b0e2-dc2e6ebf07c6.png', '30c4b646-c599-4ea8-82ca-11db7694fd0d.png', '5606d505-4423-4d67-8c0a-88e3510a6771.png', '537f5c44-c313-4a64-9753-05b56d3e72cc.png', 'b09052a0-8d00-478c-9582-40ae18b7172a.png', 'b1668496-46b4-4471-91c3-94a8b800901a.png', '2f22b24d-3348-48f5-af8a-c568d9f5bdef.png', 'c36093d2-6e34-4482-b141-158c6d634544.png', '6a3c53d9-3035-46b5-b052-ce9f8a42c5d2.png', 'a800c588-60aa-40cb-89b4-cfc35c93449e.png', 'd8b24d62-1e7e-46d7-a42c-327a4966a72c.png', '8024db96-0323-47aa-9124-0e638fd0b30d.png', 'e4edf93f-0944-473a-b784-f4d50f982e57.png', '747a5944-2f3a-4b37-a70d-dfc6bf2c713b.png', 'bd5b8bc1-7036-415b-ac58-3fbe84d3d6a6.png', 'be90ac76-63f9-4b15-bafb-bd2c17971595.png', 'd24ca73a-7079-401c-a925-62a2ebf7dc04.png', 'd50da070-458e-474c-b5d7-5767039ebf9d.png', '1ed65089-613b-4183-a542-d07c57449a73.png', 'bdbdffd0-6b95-422d-b855-679b98a0a4b4.png', 'c8be23bd-4472-4f4a-8e59-69e8aa5ee9b7.png', 'd7a72be7-0b95-4e63-a8cc-e2668f3a6594.png', '81a0e175-b21b-45a4-96af-f0e68ffd9d0b.png', 'dbb5728a-45b3-4c05-abf3-d37929804173.png', '4afaca49-238c-4d72-95a2-3c3acc326f69.png', 'aa112d6c-d34b-40f2-916d-191d6920e8a0.png', '4e9c9c0c-0adb-4d01-a9cf-37f04151af7c.png', 'f941e793-31bb-41ad-ac1a-096f405c836c.png', '23743ffe-f455-4cfe-b528-29e704566b41.png', '2bdc2e5d-d90e-49de-a722-99dc7453b105.png', 'a214aad8-401e-4e46-820f-6e83b4d6e908.png', '2bcddf62-87c3-4586-b3f9-2e0206ea8334.png', 'c8edd3f4-c223-44c4-9154-eca8958c8fe5.png', '7f73c893-34f4-495d-937d-25367bed09ad.png', '8d4d16ad-fd7e-4426-b12f-a245fa467b0b.png', '271a27fa-8cc0-4882-a926-fc63a49e59e3.png', '93946981-da8c-4be2-9d32-8edca222cd4c.png', '5823e617-6aca-4dba-b317-c893d939bc13.png', 'b297687f-4c68-485e-a7b1-93fe924d07c2.png', '4b986970-32a5-4c81-8fb3-614a27548a67.png', 'c6bf34fd-84e4-4179-bb3c-e91611c3db07.png', 'cab2609e-34c5-47d0-bc45-b36ca8b14c21.png', '1bfd88f3-1ba9-47eb-8807-aad974442f57.png', 'fd92f33a-d714-4380-9a5a-e8f3214bb145.png', 'e4dc680b-e5cb-4119-9ac6-fcd36370684f.png', 'cc907cf1-717e-4cb6-8fc3-64c296882d2f.png', 'b0f14b24-e4f6-4fc5-8fc2-ca16884010b7.png', 'd79b374b-6b8f-451e-94fd-5cf2c2c98cf9.png', 'd4f07b3f-78e1-4bd1-a5ed-9ec0f58d589b.png', 'e516567f-e996-46d2-b98c-c3206912d5c7.png', '99c20d2d-f0e9-4071-9633-300d11887055.png', '99704120-c766-4c1d-826f-a54209cf2a24.png', 'a0794e0f-606c-4da0-98c0-802ce00507cc.png', 'f29dc86f-9f87-42d8-b755-1ed10895eb7c.png', '71ee5041-e598-469f-a76c-e9ebcfedfcf1.png', 'dd1925a4-eb2b-40d9-a76a-f33c3a614ded.png', '8a7d18bc-8fea-41e3-a3ae-0ba0f27d6382.png', '7f01d7a5-9522-479b-9a09-9182ad054840.png', '0c6b788a-2373-4ab5-a037-f2ecaee9fc2f.png', '5dfbd673-2d4e-49dc-b7ca-f06c7c033b25.png', 'c8726305-5ea1-49a9-8c45-a0ee201cca9d.png', '99c5cc37-54bd-45b5-a80f-1dc8298fa22b.png', '317197ce-b7ac-491b-be36-faa9e4064202.png', 'f2027093-9d87-43a1-9722-dc66500de6d7.png', '555e888c-94b0-41ad-9054-733a3e8d18ff.png', 'f312ee05-926d-4540-87a0-1634789de009.png', 'b21f8ad7-671c-4f3f-b02a-663d2b0172ec.png', '92b56830-cb44-4881-9bd9-de78e57f6cff.png', '6d6abf01-0a0b-4610-b342-c0d351ebe7f9.png', 'cc61abc9-0493-488c-b2c9-09e4331ef39e.png', '1604ba3f-87ed-4029-880d-c599471b1c42.png', '2f20bea7-af14-4f65-ac8b-4b95a4ee67a1.png', 'a5d0c38f-e6ad-4fcf-b182-5be4d5671a69.png', '5b2018de-f3e3-41ba-93e9-c9c2b1e959f5.png', '827caf4d-e12a-4ea7-9c70-a12993832c63.png', '489b2d49-d835-43f3-b35a-7cc4d1c70a2b.png', '32b0fac9-362f-48dd-b94a-7b7d665f1cea.png', '6062a951-3df8-4055-812d-e8d1cbc38a54.png', '142bb732-3b51-4fd9-a34e-8be64bbbaf91.png', '34633f8e-6ac1-4404-9f42-072dca75f872.png', '1f3d3955-158f-4d2a-bde5-d110445fc117.png', '901aa574-1b5e-429a-8cd5-a8e46921ef91.png', 'c4f9957d-1134-4049-9b6d-6b8296b0b658.png', '0ded9ff7-cf4a-4f53-abd2-d0f5961ce614.png', '8fb7fb91-9ba1-4f1e-bc39-6d17fd88f7cf.png', 'ff475fb6-ba10-4fe8-830d-5cd17a2c3052.png', 'faa8fbba-d554-40f2-ab20-5d9587a55d46.png', '2aa10cc2-bcf5-4d8d-a9a7-6a8cddef303a.png', '63b7ebbb-8f85-4c52-bde9-68a0a98aa388.png', 'f956ddbd-ae5e-4881-bcf1-fae86071b5a6.png', 'acf15f83-5510-4baa-b888-2bb596068f49.png', '82dc4571-4e3c-45cd-9922-3ac564c2adae.png', '599d0133-90c8-4791-b38b-cf9588a3c749.png', 'dd54d565-e017-49bd-a05d-3df3788c87db.png', 'b3a8a439-fe1b-41ac-b0f9-8c7b2fcfce5b.png', '924d6936-c9a9-4c77-9cce-324dd042fb79.png', '7a226500-e130-40ae-b1bb-66fb9f638a40.png', '5a0748bf-5003-48d5-a338-a4a2e4da7c20.png', 'fa662033-1c1d-4350-83c7-f4a19b594395.png', '892b4a51-cc03-433d-9a60-1942a5464bdd.png', '01747340-00ae-4fdd-99d1-e1f53aaf2b86.png', '66b0583c-4558-4bea-b5f7-88666292b6ba.png', 'fbef6a9b-e9a9-4ee9-9a67-2b4536638afd.png', '3c8b2e03-86a9-4dd1-a405-cb78f70704bf.png', 'bafdad70-c08d-4b4f-b45c-210b2fdac62f.png', '06209074-8aac-4694-9fec-e4814f212469.png', 'e503075e-945c-455e-93b5-4e60dc84d9c3.png', 'a43e8fe2-2cc6-4be0-bae8-f3664ffd7357.png', 'bb38926e-af22-42d2-9d5e-f4c25e90555d.png', '0db1e074-7f29-43b5-9b3a-3495377b6244.png', '469fd47f-6706-4ddf-9cde-97735a731173.png', 'c457e63b-81d8-46ca-a93f-cc86c2b57fde.png', 'a06eea6e-3a3b-443c-b447-2a557a4bf555.png', '5aa2065c-3da1-43a6-bf13-ef38b5197398.png', '7547b2bc-eab3-4983-8f3e-df9485cdc8c8.png', '33368cb7-157f-4e44-b927-4cda675ff9e5.png', '6bfd1d77-b589-4332-abef-3f41246dfdc0.png', '12f76bd6-dee2-4385-85a0-72d8048d9667.png', 'f33961f6-0d5d-49da-a1d3-9fb4d3ed26ff.png', 'cca1e725-7aba-4d25-97f9-99ed56e10392.png', '085dd290-98ab-4c76-99e6-e6798df5444b.png', '99c05a11-0468-4123-9ebd-de4b1992a50a.png', '869c388f-aef4-40d6-bfd2-3c73fcb0434a.png', 'b8b1b85b-5a22-489a-abc0-050cbb26ac51.png', '2709a230-5daf-44ad-9591-e05092e35c22.png', 'feaa5a12-222c-4912-b68a-c8e4c5437a62.png', '9be6dc0d-07b4-43a8-a182-021a0893819f.png', '20e76bba-2414-4717-a81d-ab066628c93e.png', '015d33b8-6545-425f-9bc2-93624ffd49e6.png', '68176fc8-54ec-4352-a17e-2c3c0d8c1eaf.png', '0f782680-c104-4762-98b0-c4cd6f79044f.png', '6e398045-2dca-4da9-bde4-13c2748bf8d5.png', 'd1280552-fd52-4b68-a321-c9bd463f9495.png', 'ca9df6dd-7d54-4e33-8323-c7dac85484a8.png', '9560a363-c2a9-4de0-b582-0fbe7668e140.png', 'fb66beb8-304a-48d8-8f24-3128b8676569.png', 'a3a26845-6a66-40cc-b347-b2b5fc14858b.png', 'f543c044-cca3-41c9-aec5-45aea3514658.png', '92168728-63eb-4cfe-a123-2b1cf0cb5a11.png', '1c3a954a-4859-48e8-a992-a77525d1d881.png', 'a2f75f17-b76d-4791-9d93-4128a7efff73.png', '99dd33c1-eb53-4446-aca1-4a967de7dffb.png', '7d9c4862-23a8-4caf-aed9-c1b90c0697ed.png', 'd34b2b4b-91b6-4c09-8aac-a5cfcb99f83f.png', '182f1df8-7876-4ceb-af19-40d0f8716e79.png', 'c1dc0a96-2e1f-4f03-abe8-a4d132bf58db.png', 'fe00df78-468a-4718-9385-58a36b107f68.png', 'f588f323-215c-4218-9af5-7a0047b7f680.png', '5c68043f-7346-4835-a54c-657aa9256c3c.png', 'e7afe881-7e9d-4e27-b39c-03ff5fd8e326.png', 'd256a044-992b-4a6d-abfd-fda49dd33a34.png', '87c5e2b9-c7a0-48a3-9bfc-d341d5ad238b.png', 'c054ce6a-3a34-4144-8cdd-64c1b7fd4e00.png', '364f2926-9b9a-4570-94fd-279a40e0b93c.png', '87796c34-cb87-4615-8328-824e77d6475e.png', 'ccfdfb60-55b4-4aed-8098-1cd1109db336.png', '5fcda018-f170-4f60-93a9-27ab6bfbef25.png', 'abb424cb-ff41-4230-9b8b-ba3457320027.png', '6bc02e43-0de1-4d03-819a-121d1e66f2fd.png', '204daeb6-826c-41e9-8b42-89c3b2cdb09d.png', '634fab97-7afa-4a7a-9ed1-bb43c84c78c2.png', '232d5bb7-ed13-4920-93be-2f503fecd3ee.png', '2b6747d1-1cdd-42e1-9d5e-2cbd399605a1.png', '74ddb3e9-a3d9-4494-a9c6-a58d077c4545.png', '87645e00-5469-4554-a3f4-a651c3d59200.png', '9b72400a-497d-434b-b5cd-b758cdf192e7.png', '1a0f936c-320b-4973-9bd6-fe504a9788ef.png', 'da815d47-cb39-430d-9640-75eaf4be23dc.png', 'ae888d86-9b0e-44c7-9065-f07042e22c5e.png', '1cef1f29-17e8-4680-962d-5c8b19308097.png', '995be848-b993-4dc9-8620-589341f93e0d.png', '87bdf504-8fa9-4795-8354-5dc47e633681.png', 'e3865572-ab63-43cb-b02e-d5541e0375b1.png', 'a2d94df0-d39e-43dd-be20-dee59fafda91.png', 'da3913ff-6204-40f2-9c77-95e00e62f6c1.png', '871716ec-f757-48a4-8c90-c66748af2b5d.png', '74b51647-1748-4e90-803f-6f7b790fd984.png', 'bdfcf67e-e8b7-4e5a-b593-f1e4f256c7f9.png', 'e3048221-9675-4d10-b40d-13cb702ef4fd.png', 'd718e64e-0e03-4e5c-a24c-e4d02af376f5.png', 'f260b0a8-67a8-4394-9ed3-4cc3ad88f9e2.png', 'cf7905b8-d4ed-401e-a401-1f92590b039e.png', 'aca27a52-1e2e-4625-92e9-cc8717ec9377.png', 'f2e1a63a-24dc-4686-9f93-fbc2b3760e66.png', '6159694b-fae0-4e54-8a0a-7bf4b3a1cd1a.png', '96176880-9455-4a0d-8b5b-420ba6707a9f.png', 'a64cef08-de12-413b-a421-19e5f0df2e38.png', '72fd1732-8bda-46f6-8aae-0d77e5ce96b2.png', '52c9ce58-75ba-4900-a55e-7261adf662e8.png', 'ff9b65ab-718b-4e99-8457-ef628ca123b5.png', '83654765-3adb-4070-9d84-cf488877bb18.png', '7601f8ca-762b-48d0-b0d7-9128d26006eb.png', '5453834f-d3cf-499d-8c38-69ab7f071c7c.png', '11975fce-e4c9-42ba-bed6-27cb895083d5.png', '363b389c-7d01-42c1-9ec7-09f9d7126c95.png', '4aaba331-c548-4b36-81bd-77e3487e68e3.png', '930e0a57-abe0-4c5c-97f3-b201dd440bf6.png', 'a2110e1a-aa4f-4fba-afda-9d8c06b53a0c.png', 'e6d037b2-23dd-41c1-a24f-ee90c043d249.png', 'd2c6a9dd-8c88-473d-a56c-63533bf4da77.png', '6d918df3-5324-4f3f-b67a-0d3e99c914e6.png', 'a85ea8b0-3c2b-44eb-9a2d-328a109d0ee6.png', 'fc541cd9-c507-4d32-b614-deb1ce57e662.png', '013fb702-e1f8-471a-93ba-c1f18bd110cf.png', 'af6577aa-2a2e-4c85-aa10-00bea92b53fa.png', 'cdb32a7d-d55b-4793-9307-9a67112da979.png', 'b6bdf0f6-860e-4496-9905-867159260ae2.png', 'f30827c8-f17e-4ab4-b668-9cae733819cd.png', '2df74232-ece2-4c71-9de1-6ec2527d4301.png', '77167519-da48-466c-83d5-4b8d294a062e.png', 'db482bed-a003-4d0d-8789-a58a2206a54b.png', 'f0454ab2-878e-4b50-8351-f3db9b719ef5.png', '830bd677-4ca0-4225-b35d-db9da4d329e8.png', 'e01c9366-a4d4-42d9-8607-f29b2c8450d2.png', '80e0145c-ed82-4774-9291-a4516af50c21.png', '3482530e-2cf6-40cf-97d8-486a5dbf7268.png', '9bcabc61-31e6-4ab5-b763-830064623e61.png', '4f6141a1-2ddd-48dd-a301-2c2c1602ece8.png', 'fbc1324d-8730-49a1-9470-82c664f5e857.png', 'c955a44c-1139-4396-96c4-d1dd38158ac5.png', '0c35b07f-d252-4d3f-9ea8-f0211c86a23e.png', '72570c35-b781-427e-9912-5e97673c6d37.png', 'e2ab5309-733c-4186-994e-04255312c083.png', '0b828b88-cb65-454f-a8c8-0be2978d3dc4.png', 'af58ebd1-4376-433c-b12c-7324b18ce2d8.png', '66db8181-1b06-4fab-b3de-9a88457bece5.png', '17a9d2f5-f46f-4e98-a260-52e49caa3efc.png', '5f463395-957b-4b0f-b813-0494d75fa70c.png', '59e9354e-b03d-47ac-898b-66210d5a46f0.png', 'ad8b01fd-1f48-400d-bc2c-3aaff1f608ad.png', '9f50ba03-6490-4e40-b6eb-63374d0aadec.png', 'e1895427-735b-4918-90b2-8a45e9dee239.png', '81d5a27e-d654-4320-8695-dda2f05f42dd.png', '25547fba-0623-4945-b925-5bce674e9ef7.png', 'a1bbc7b9-042f-4936-87c2-f72f2ecb0225.png', 'ba192c06-4dfd-4b29-a3b0-e95ffb3f9a80.png', 'c1b3e52c-193b-4547-bd95-d644baac9d1f.png', '2f564c3b-6c01-47ff-9d5b-fed91440ccf3.png', 'e7bf8f61-a9b6-42aa-ab8c-998b3076401b.png', 'dfa408b2-0c5d-427d-a2c7-d88f1d34cac2.png', 'b61d7fea-f727-4e0d-b79d-cc5fc7fc541c.png', 'c6f8e5d0-c632-4ec5-8537-2daf5596a324.png', 'c09243c7-02f2-4a9b-9efb-204f956a1e39.png', '5e2d1713-c131-41db-8fff-bbdd92d4bf3b.png', 'ea99b48e-e6bf-48e6-a8b9-04875907ddc7.png', '65ef4f8a-01f6-4e5c-a9c2-c753a51d109e.png', '106ed90a-0d5f-4b7b-8143-2aad3ea61248.png', '4ac119d3-6598-46c1-94d7-16a46c35232b.png', '95f647db-8e45-4d00-901f-fc75ea150e9d.png', 'a40635de-0601-45e9-b9fa-ee4a9a83dffc.png', 'dd3d499c-c21e-4deb-b827-7c4033dbcb38.png', '992544ba-81d5-420a-b13e-58889abedfc9.png', '9b05f425-11c3-4a10-b28c-982bcc8c00d1.png', 'f5f741ed-1a93-4759-bd6b-8520fcc97566.png', 'eba44d1f-302d-41a4-bb62-468509179761.png', 'ad3eff08-6c4b-4bd0-9d1e-36da3f449cd0.png', '4bcfd874-4f96-442e-9a7f-388ce83d4301.png', '6a83c896-e0b0-4def-abbd-2303f44857dd.png', '2f4b78e6-1fb1-461f-8415-d6359a7fdc68.png', 'e7b6f50a-d474-4945-a827-fdfe0650ca56.png', '1d4dec1c-2740-46f7-9d9f-5b4308acf88d.png', '0b6f95ea-ed04-4896-8ebf-13be6fa8afd8.png', '92acbe5b-b7ab-4ddb-9235-2f0c2a86b7e0.png', '5a0567ae-909c-4e96-b0ad-5f03ca21a7d1.png', 'fd600d34-bfcd-4d0f-905d-2cc863946655.png', '7d43cb3f-7035-4baf-b41a-3e165d2341a8.png', 'e6533bdc-599b-453c-926a-0d8f1e021d9d.png', 'cd4772aa-70d0-40a0-b680-4dfc36441862.png', 'c36d399b-b108-4070-8952-12ca4f26dae3.png', 'e8016cdc-ab3f-4b09-9825-ca02da91921a.png', 'f8467fd4-d183-4731-b2ec-e35f220b7cea.png', 'a9cb5a45-f1ea-4c13-8019-b113a0bf4eab.png', '4c2b91be-7b85-470f-8a0e-317ddf6dcfa2.png', 'c7afc864-c475-4f73-89d5-5bb15eb7405f.png', 'e42f97bd-b058-4db5-9004-c4c41f1f3b8e.png', 'c162dd20-1927-4ee3-9ea9-17cbcfd3ab52.png', '6c1f256c-6dbd-478b-a4e2-232bbd80be1f.png', 'a84521e0-12ec-42e9-8fa1-16ef4b4238e0.png', 'a7f99bfa-18ae-402e-8404-27bb2b7aa7af.png', '6eb3343e-df70-491a-8164-2dc8b6d02671.png', '210f77fa-5091-4db2-a64c-9ab10064f99a.png', '2f5889cf-3c7f-4355-a6b0-4c86d79d3321.png', 'e0ef5107-9231-428c-a8d4-520d553a815a.png', '4174a8b6-cce2-4d17-9d98-6cf597b288c4.png', '6051b2e8-8f41-407d-a915-6351fe8d2359.png', '5d5f00d7-9471-485f-af94-1fbaeb3c838e.png', 'ea29ce2d-813f-4282-9832-46bb8ccae2da.png', '5498f45b-c24d-435d-b1f3-f341e58dc18e.png', 'c633b382-b3b4-4e9b-a9e0-6732d4b7d8d3.png', '818ab9f4-6c04-4fed-8885-4389edf35842.png', '617d2d52-2c27-45c4-911a-2b0945615d89.png', 'd73276d5-5e57-4ac0-b40a-6cb816fb5a05.png', 'e417f24e-8e2d-44b4-80a5-adf732bcdf76.png', 'fdd89730-b3df-4bd9-8aab-634dc2c2b834.png', '3f310929-cc04-4f7d-8189-5e75bfa9d0f3.png', 'f8dab145-ae04-4fcb-ab0d-4868d5a75254.png', 'cdc6b499-e187-4fc7-9666-33cae6080f98.png', '60650a95-061f-42de-bcdf-5c8d41577fd9.png', 'f5e7cf58-7119-4f6f-b12d-4d9c9c7eb4e9.png', '00955cfb-2f78-4dda-816f-ad30d2deebb9.png', 'cda98a74-5e4e-4a43-91b4-1c9ea0d013e9.png', 'de879422-63b8-4549-9ad9-c49d5f122c3c.png', 'd74ccf45-f298-478a-bd1c-67e356b2a732.png', '4e0b31a6-866e-4336-a02f-f3a16772f8fb.png', '51e1beda-c08a-4584-9dd9-33b6ad3d091e.png', '01a0e3ce-8dc6-43de-a570-dd0b5492ab51.png', 'acae3f3e-ad66-42be-a6f9-e0ba2a5a42de.png', '254c166f-1c9c-4695-bbb5-4d55e74a8bbc.png', 'fce7bc1d-9b6c-447f-91f8-4c0f0694d671.png', '157d7e61-4692-4d55-998c-b7359e880718.png', '318367ab-d406-4e5b-b6ef-205282107d19.png', '27b3f652-7309-43b9-9dbd-d60edd7f626a.png', '9d1ba678-7c44-455f-b777-4983c4a66753.png', '7fc9fd19-4dd4-4e71-b09f-326e46ef564c.png', '92e46073-b3b3-4dbe-8d57-5bd71c053c3b.png', 'f01f56b7-f02d-45cb-994b-544e454c3333.png', 'd1097c97-ec6f-4f51-b6a5-3807c2a02f3d.png', '3670094c-3643-4a8b-aea0-75d8f852cc9b.png', 'ed00985a-2921-44d2-89c6-ba437a8c3187.png', 'b02a16ac-8084-45c1-a307-edc2d7223e5e.png', '920ce610-1693-4ea6-a7b7-0561d41b4c54.png', 'd9074658-992c-449f-9df5-6edf43b25596.png', '6a46f07b-9c40-450a-810d-668ab485e088.png', '4368b639-6878-407d-af12-6eb2962c0986.png', '8d6251d6-6119-4f85-86f7-b0a0cad5df9c.png', 'a35b95c5-c6b3-43b3-94d7-166cdf6f1c15.png', '66dea8bc-4f1d-4749-831a-cb726981d0d7.png', 'd7f0a82b-5e3c-44fc-9f7b-fa79bb67edd6.png', '5a7dacc5-fade-4d23-b4ed-0177b9c1400a.png', 'f9f0deaa-9286-47cd-98be-5c291038e131.png', 'e8a416f4-84dc-4e25-a0b6-5372a6a34563.png', 'f08bcaf5-5478-415d-8f92-4c8543b5da4d.png', '95a6e039-0d95-443c-b96c-5cb8f86f8229.png', '2c04977e-168d-4b33-9a7e-16aa429dbdb9.png', '4b1bd8b3-7e35-44ba-b736-dda8d0d184e6.png', '33036884-77c3-4bc4-be88-99b7a23b87d2.png', '626a24e1-39b0-4fca-b36f-f181d21acd6b.png', '1a088938-f1e5-4419-b202-6e60c9be45d2.png', '7dc3834d-b8c8-43df-b618-21619a14f45b.png', '312fa353-edc0-4804-bd2b-683c71d7b4e3.png', 'd149564a-46dc-4d5f-ad69-641d20910e43.png', '76378742-29b6-4058-ac6b-9bea0ee5d7b3.png', '6895912b-2c4b-41e1-a372-3febd3c40fed.png', '6f306aff-2a14-49dd-aaea-8b9e27f7b549.png', '0cb86990-5923-4bd3-9a1e-f45314cd031a.png', 'fbcc2847-d39a-4b7a-9a0e-b74886c04260.png', '75810c6a-8693-4995-ad76-9e033c6ca270.png', 'cf133ac0-ad83-4d73-9bea-b22b05376523.png', 'ac6b6eb9-6284-4ca3-8fc3-b3bd664d7e35.png', '47135734-893b-45c1-b8aa-c7e6a4752ac8.png', '82e8d385-03bb-4528-8c54-1cf53b11f8ac.png', '3a700a94-b22c-42b5-b8f2-e93beb750f18.png', '0569d31f-8b0b-4b31-af2f-a34cff732799.png', 'a22edb00-b84b-4369-a555-323137bbf915.png', '32de572d-5245-4303-9d02-1d0fdf7ef734.png', 'a78245d1-5e24-4ba9-9dc9-73c3b5e0899a.png', '5682149d-decd-4c12-a115-41f9d14fe0ef.png', 'ff8e2a37-ca4b-4103-bbdb-0083bc27c177.png', 'ed74d9c0-d371-4729-8633-f1668234813b.png', '984697a3-483a-493b-851b-6e5f18580d57.png', '4920c74a-3baa-47b5-9e1e-6dfcb7dbe39d.png', '87f55630-365b-4d08-ba8e-2e010de699b2.png', '764cb88d-d481-4aa8-9a67-95571862d910.png', '97e6e69a-68ab-48d9-91b6-43382db5f03e.png', '21e0c783-833e-41c8-9e2b-8d7a0ec60a0b.png', '66007b87-eff2-4758-b264-52a35187d978.png', '13a639dc-bef3-4d76-97e0-61cfba53c741.png', '7e047475-a8b6-4cf9-8170-53199b36f7d5.png', '7b723d6f-1122-406a-9452-98c79d270ffc.png', '04364e1f-9ca5-4059-88c2-829e804a26ab.png', '81fdac67-18e3-46a6-aef4-2e79e6919159.png', '81e93241-2e93-463a-9937-3d513857688e.png', '98f58962-def9-4062-88c1-a3ae3f6163bc.png', 'c0199090-de0c-4be9-8254-581f0bd2a553.png', '157841a5-b0db-4e4f-a738-da2df4131da0.png', '8be61f7e-066a-4d2d-93ac-274975f5290a.png', '099dc54a-98a8-48c4-ac5c-55ee54c82cf0.png', '98da66bd-db3c-4fbe-b448-d5d78aec5a75.png', '8fe92885-8357-407b-b795-d103e8a2d7e7.png', '9d250ca4-e66f-4cf4-9cbe-a77b3760603e.png', '71ada102-3ba8-4f7c-a3f9-bd4bbb4bb03f.png', 'ab916a56-0cf7-4f12-8383-641e9c01183e.png', '6d4f3329-6fed-4097-b269-2833c1433a79.png', '5419bbe8-aade-43e3-b07e-70503826d139.png', '10f0b04b-aac3-447a-be98-2ddd3b794527.png', '43b6bf17-0f2b-4591-bc8a-eec5254893b2.png', '78dc671d-b26b-4a9e-99b2-f65d1e052963.png', '02bdd34c-3096-49aa-8ec5-8d93ebab165c.png', '565267f0-1f35-4850-a09f-8eb325b446c7.png', 'f98e5cec-7471-4e1a-8fb5-5723bbe0b045.png', 'e85c0640-3df0-4abe-a8e5-8c5de37d9d04.png', '9a5b82a4-a74e-4881-8718-b60e94bb5a88.png', 'fd78dd83-19ad-489f-82cd-f1eee623e2b5.png', '7d52695b-74ca-4258-aa7d-debb0acc5056.png', '2afef30e-d011-46a1-a4ce-52a6be1c3444.png', '88602217-900c-4a21-9598-17f85b166e66.png', '2fe3f410-ca92-499f-8977-24cdaa4f2d2e.png', '9b554afe-405e-47a8-92ee-1b9c5897b0c6.png', '953d68c5-ed3d-4bf8-a1c3-4e9095365de1.png', '38e8c84d-d995-4570-a7e6-5403fce1a109.png', 'f402a645-09ec-4266-943a-ec2f6f99f421.png', '1ba7eafc-db12-4fe5-af79-1811918b186b.png', '5084c9ec-cded-4096-877c-cfa72b9ab0e8.png', 'b3ab098a-65b3-45b8-894e-0c0978b3e6b1.png', '1096ccee-aec5-490d-9166-cd2c832eb1e2.png', 'c2cbadee-db4a-4d53-85b2-52f8c9cfc372.png', '64d40ae5-dcd6-4261-b4c0-8ca71ca076f5.png', '1d41eb71-37fd-4be7-9ead-6031cabda4c4.png', '3fd2bf34-6d73-470e-8fa8-519dff47b365.png', 'a60fc819-6125-43b1-a0c6-a553561f2b2e.png', '83875886-0e77-4c14-b108-f5cf94e062a4.png', 'ebe022f3-0e85-458d-b23b-a8d475c2625b.png', '074a7d4f-046a-43ca-bcf9-7e0a7096487b.png', 'eace3115-492b-4ba9-96ab-c6d11918ffe2.png', 'bbe3f5bd-0fae-48f2-b3b7-f6413df21063.png', 'a7cdb378-f034-4ce9-ae14-12d52b40b695.png', 'daa253a0-4569-4fb8-adb7-c4edf7eb3db2.png', 'ecbe8d2c-cd7f-4ecb-8f71-a036617c8a39.png', '403045ff-8a79-466f-9383-84529414494d.png', '33d4853c-82a2-4333-acef-4c67e4a5ae7b.png', 'f6b34be9-d008-4674-8292-24be313c2bb1.png', 'eaeef1ae-90c4-412a-90ab-565d97567faa.png', '117bf012-7b47-4625-ae1c-953cf2b003c4.png', '4b80b8de-abbc-4400-8645-e032348ebad1.png', '8eaa4164-b1eb-492f-a952-2082b6952c4a.png', '330d09bc-fdc5-4ef1-a5a5-ced2487e8a76.png', 'c0ba75b5-c371-4b25-894c-8f84d5e0d2a9.png', '144845eb-5202-4761-a759-48bea263c5cb.png', 'e280c48a-c1b4-4bc0-b629-1ba83166e817.png', 'e7e2cd59-8f52-4ee0-b7f6-ee6ccc940958.png', 'c1657090-2c20-4f50-9f14-f9bc96d1ba93.png', 'a1b83fed-aecd-4117-b84c-13c509c5fe28.png', 'a26d66b4-2302-4645-9640-723fd9ec704b.png', 'e2462c48-f39c-42d9-8061-5a6bce1e9a98.png', '4eac704d-0889-4f7c-8524-75482e244e25.png', 'c5623af3-392e-4468-b956-416c054f3ba5.png', '4930d493-5e0f-43b5-abfc-8f8dd1ae91b0.png', '8d1a5221-93ca-4988-9a1e-89d1af203bbd.png', 'b74da77d-c3b5-49e4-909e-4daf75783a03.png', 'ce898075-be40-4154-8453-7fbb76a77f1d.png', '07ee92b1-7cc5-4f75-9264-081855bffd88.png', 'f434e928-94d6-4b36-a680-f2651f80c4c8.png', '161425b7-2db3-41b6-a264-2d0fd3f47b16.png', '25a63c17-93ab-47cc-a1d9-116a26faa7be.png', '389c4dda-c8ac-444e-b18a-e0d796914674.png', '0952bdd8-4338-405a-8b54-8c2cf383ecb4.png', '6c6ccc11-9918-470a-908c-656908ab2542.png', 'c4536b8c-d681-45ba-95d5-14c051d99387.png', 'b64ead30-3388-4e19-87e5-f39b9beaf2d6.png', 'f0f46435-93f2-4302-a4ea-a5365d1054ad.png', '4974aa8d-166b-45ca-b051-f5cb23df98ca.png', '62c57f3e-36c4-4b4b-9d4b-a7a743b04b11.png', 'd0d0fe37-93c8-43eb-900a-d8204bf7423a.png', 'cad434ec-22dc-497f-a82b-a542c508f3b7.png', '1c6642a2-8b9e-4370-ba81-fccc6bb2c1c1.png', '6e633478-57df-47fe-93bf-45bd1ea53594.png', 'f7bb1b31-0f9e-4d59-aa95-eb9a9dcce494.png', 'c8afb798-75c8-4fdc-b33f-770dad1a3d3f.png', 'a1f457f0-b681-4331-a984-4f1e5bf1a365.png', '46d6031e-b1b8-489c-87f6-9c272ad6c4ab.png', '0207c898-f0e5-40b2-a30d-6182cd12e41b.png', '62e9da51-a08b-429a-beb9-eeac209816e9.png', 'f1ce0b72-7d6a-4bab-8fba-39496551d7bb.png', '56a26047-d4df-4b4d-900a-317a7743c3ec.png', '4a7337dc-8846-49d7-b368-311777acd1db.png', '83df9bb0-606c-4ad7-b06c-a253b3e19560.png', '8debbfee-7799-49db-85e7-2350cd881af7.png', '6cb4d276-da80-4588-b314-0ec3e2587ad9.png', '865b54d8-ccc4-4a0f-ab99-8f5589ed5580.png', 'e8876eff-35aa-40ae-8768-9837ca92884b.png', '8a64b9ed-41c7-4693-9ede-eb699cc88c51.png', '04a408dd-9b8b-4c79-b3ed-537483ee0bbd.png', '0adc94b0-cd81-4855-b0c0-78cfa3d9530a.png', '348209cd-a9e0-4f90-944b-0134af453098.png', 'bd009e91-33de-47fe-aeec-4725d61b8b6e.png', '81eae8ce-6c75-44ed-9de1-b0d35ec5e098.png', '08a50ea4-14ce-4476-8672-e165678e750f.png', '96f2f166-2895-40a6-9798-d04b5e85a617.png', 'c242d9c1-282d-4387-b6d9-d6efcffb6f06.png', 'bbd585d0-bb1a-43b3-9455-5b8a4d37fc2a.png', '14f54af9-f5f1-4521-bcb4-e7f67152951e.png', 'dc5c925f-ee41-42a5-95ec-6d2bb41bba8c.png', '4cb56823-4053-4b7d-9db3-254dbe9eb5f1.png', 'a3c87c02-7441-41f4-b227-c23fff88cde2.png', 'f07edd09-8e84-4c8e-972e-0a02adde6d6b.png', 'eb545333-551a-43b6-8569-8a8df4d939ba.png', '3ea6ed3d-d7c4-4ec6-81a9-c18da552df6e.png', 'f6dafdfc-9998-4ba3-b717-1f1318032093.png', '9eb85aa1-eb5c-479c-a25b-e8f6497d37ad.png', '1787db2d-cb1f-471d-873a-7b3d6b877f9d.png', '2722782d-ab72-4eb6-a868-41f28805b909.png', 'a595cf08-01df-458f-a08d-aa851658f33d.png', '4b32e34c-f900-4ac8-8e7a-de14abb80bcb.png', '71cee772-473d-40fb-863e-ab4199cf94b4.png', 'ac4de0f2-be48-49f8-9b62-a29a0264376a.png', '54d3edbd-91bb-4f07-b8e2-1366d0fd8e04.png', '7baacea9-edd8-411d-8849-96ba60d9fcdc.png', 'b94b3721-ff36-41a0-92fd-07985085def2.png', 'f4f7971e-0b4c-40b9-8392-d26af2262fc4.png', '92ba8567-737d-4fec-853a-a3f8088c8f2a.png', '791aecbb-828f-44bc-a19b-eb5bc84bbab2.png', '86bebd71-582e-4ecc-aadb-dd1564fe9161.png', 'fc8f47d8-a724-45aa-a8e7-eeddfd0e02b9.png', '8eb55ae7-aedd-47ae-942f-ecac555bdb95.png', 'e64ebadb-9d50-479f-b808-8ab7bf07fae3.png', 'b0d96366-2fb6-47a0-869e-fcd2db7c240b.png', '0747a4fc-709e-45bd-b1b5-fe717b5d43c6.png', '779590f3-25c9-47cd-91f6-70e3a751426d.png', 'cce29a26-ba39-4354-86a3-470f6299e4a1.png', '9e16fc0c-999b-4940-8d61-8668420c225e.png', 'b996608e-8834-4f3c-a825-b3f8987350c1.png', '76c1ed9c-0def-4b58-9661-dcaee4a588c4.png', 'e8eb9ae0-97d5-41ec-9bdd-1b692ed2d8d8.png', 'e4d96cf0-faa3-46b3-8d5a-b890d00a753a.png', 'e9f16516-c36a-4e8c-8d2c-f2f61015fb06.png', 'f9951701-bd7e-48c4-8bf7-ec1a6e3be5e5.png', 'afff3b0a-b2f9-49fd-9cc3-059cdfba10ee.png', '9df30c2e-95fa-4136-ac8f-ac00a3a6a8e2.png', '36e7b195-ae42-4ee8-88fc-b8997f696a21.png', '6ed2c39f-0b49-4655-873b-30c726e3038d.png', 'd93ab2dc-7131-493b-9db2-71cda463e0d4.png', 'de59ec2b-2c2f-4a40-98d5-58c7a2637e85.png', 'a5f5b9f6-7e18-4841-a6b1-f64cf5b09390.png', 'c0bd5251-c5f5-4d46-98b7-c23f84525cc6.png', 'f9a26687-ae16-4077-a6af-1158e1228d7b.png', '6f2dfa29-57f9-4f20-b321-da417d2b07fb.png', '6923784b-4b0f-4cab-87ff-3096117b149a.png', '046c8afe-0c46-4321-a012-d369e803fa24.png', 'd01553fb-01fc-4c25-a1bb-a027e929781d.png', '63242a5e-dd73-4b1d-8ced-276257dde05f.png', 'ea551ea7-0989-444f-9374-71eb4c8fd87c.png', 'ad510dee-5d67-4d31-84ee-6e2738673beb.png', '128cca44-ab57-4050-8fd2-146a1918742a.png', '71f7d02c-e41b-4dd3-8464-cf1e7df48793.png', '62d66052-79be-4acd-b8ca-eca7e01361d6.png', 'fce6933d-6bfe-4377-b53b-a89fa1393d14.png', 'c656ea5c-a40d-464b-9c14-10269f81cafc.png', 'f01368b1-3abf-4961-8f55-05c46430dd68.png', '34e859bc-caef-48b0-953c-1001a66ff665.png', 'edb9e209-8f23-446f-8e3b-d72c865d383b.png', 'b556c36b-0f39-40a6-b07e-1f54dc86a825.png', 'fc1a3dba-fe04-4cd2-9e78-78f0326f7fca.png', 'f51b5236-c82e-4598-b844-287d0454bc6f.png', 'b6e3c11a-9060-44b4-a59b-d1b5b5f7056c.png', '6489613b-7b1f-4b99-b287-4acd96ab8009.png', '38319182-e769-4453-b19e-1783f64919a2.png', 'd7d808f8-b50e-420d-bad4-6bf0c72566b5.png', '19086992-12da-4450-b490-bd8bf6cd412d.png', '0242993e-28cb-4919-a060-e66daa5092b8.png', 'c4c091a6-f297-4297-a2aa-479db876da08.png', '0da47906-3add-46a8-9d43-75c1fef158e5.png', '146bb920-ab52-43c4-af92-53972dc26299.png', '890f57ec-40f0-4943-93c0-63b52e12bdee.png', '5c6cb4f8-294a-4021-89fa-69c4f956a466.png', '7b64d4dd-9562-4df8-b80d-54ab37cea654.png', 'a6b34046-e457-46fc-9ac2-c228df80bf74.png', '199d9f6b-8200-4e49-98cf-71ad2ef47f02.png', '222b24c3-7008-4d18-ae15-c132578a2664.png', '8b7247d7-5bb7-4dbe-97c6-4c0d34607f5f.png', '76d63b3f-fc94-4b92-bfcf-3f161072c9dc.png', '277c9212-9cd5-4ae4-bda6-66ac5c39d9e0.png', 'd8af80b9-d28c-4571-9681-af8a4d0ee1c9.png', '31bec134-3445-4435-9481-3f09640e5247.png', '2bf2624e-8b4b-4574-897a-af6c6e60972b.png', '98b73fdd-3a06-4405-a05d-95df66da78de.png', 'b18d6c68-2fb1-4075-bc4a-59317b6a6bbf.png', 'f16ab8e9-cf9b-4e16-8d31-c8e2b024919c.png', '765421da-7f56-4937-be3f-2dee3696cbc9.png', '8a415f3d-6671-4e84-9581-af6d51f19193.png', 'd590b470-a94e-4708-8452-196f139548d2.png', 'f26f4712-e3e2-4326-8c0b-f0d49488425a.png', 'd6bf525f-6216-4576-86c5-a284c136f9be.png', '976776d0-e505-4e77-a78b-ff4908136c96.png', 'c1eb80d6-edca-4a49-a2f3-e7090bf56801.png', '4629eefc-f8a5-49e6-8f78-5c74f40d47ba.png', '4522fe2f-b330-4066-8a47-41fe6e69ddeb.png', '82a54a0e-7c86-4aea-b401-3237c865f95e.png', '0b4f3485-e58d-423c-8cd2-8e0dc8099516.png', 'a6154f51-a108-4ee0-bcbd-6ae4ec605ba6.png', '62b9b71f-c898-4299-8ac3-4a6d8bd57bce.png', 'e4d2968f-7aa2-4fb1-9643-f53db794503c.png', 'c4054633-578b-4d2c-964a-21aa9e70a351.png', '811a48bc-c77b-4e0a-abac-801c47c93ed5.png', 'a2ed78e0-c2a8-4c43-a5f9-eb001da95838.png', 'a0a58e35-ba38-4edb-9858-9ee69759f5a7.png', '9d5274ef-3c26-4207-a598-ff2f40026a71.png', '8a0b3748-0070-4640-86c2-df22bb4d1cca.png', 'adab212d-9183-4e13-949b-8816ee526cca.png', '6a8f4be0-994f-46bb-9a9a-119e37fc55cc.png', '8f94fe79-1e2a-44cb-a1ff-be2f7b2b33b4.png', '8104008c-d2aa-4f2a-bd36-023924b530f8.png', '1028f8f5-b189-4cd4-9c57-a179a7544f29.png', 'd21e6545-b6dd-4244-9f4d-7ef8d0157beb.png', 'bb21ec7a-7797-4d64-bb99-bda5ee3310e4.png', '7f60aa45-3438-4ec0-9ce5-479c3e2b565e.png', '3b61e332-aee8-43e4-8e41-01c83483ea9f.png', 'aefa29ca-6cf3-4a81-b6e9-f22c4d4ab62e.png', 'ab706247-aa15-4f6b-b557-799fa26fd8ec.png', 'ede01936-f1fe-48ea-93a1-333988da7ae2.png', '3d320d85-6c33-45e5-bd3b-62f56231db30.png', '8c527b09-bae9-4037-8f3f-852a1592ae14.png', 'dbe1473e-6ebb-4632-9c8a-35b4a34c8d05.png', 'cd254dce-cbc8-497f-9346-3a014bf777af.png', '670031b8-e701-4f74-a980-78afc959b4bc.png', 'db3ed0d4-0930-4d62-a9b3-af7c58c3fba2.png', 'd787ec91-e94d-4dbc-b2fa-f390266d384c.png', '2328b5b1-3323-4f39-98b9-86b8f63b6ed0.png', 'bd118457-7afa-4efd-b837-70f4744bc6d2.png', 'de36fdf5-3196-4365-a132-091c5b5dbad2.png', '24103831-5883-4c93-9922-877eb6b2c9b3.png', '7d663819-2393-410c-bcc9-5bbd0f32bde4.png', 'd4746e76-cc30-478a-bb21-187c1ef45699.png', '3e7d5b9d-116d-4574-85f3-22482228ea62.png', '64977202-94e6-46be-94f3-c4a0fd237a0a.png', '6c899b1f-4b3e-4c9a-be3f-4e30e6cf1d7e.png', '1f612f65-257f-40f6-b229-47ba7b9b0802.png', '0e6ece84-c200-413f-bdf6-c67e84c5dea7.png', '5c9408af-cd45-4721-a296-fac33caac533.png', '52b5dcd7-8b7a-4751-a661-e837eb3d8442.png', '12f1a0c2-777a-4c39-b388-275cabcdb010.png', '3b158c51-110c-4727-9e01-8e970682419d.png', '788ba6f4-9a42-46e5-9132-49bdf3233ca8.png', 'd7d1d865-5096-4684-964a-845c1c43c326.png', 'b9e32055-9e00-496c-ae00-d08061153f33.png', 'cfb9cd27-531d-4b8f-9059-a077f4aba211.png', '821b8577-f415-4791-9274-d9210e4646a6.png', 'ee23be58-117c-4741-b238-1827eb833cbb.png', '1d81ecdb-fc11-49e1-965d-ba7488b8811e.png', '1e5846f5-2a38-445c-b031-a75c2b0172b8.png', '9f7e8ebc-3dfd-4747-8053-0a7309d5fcd5.png', '1efe26b4-dbfb-4478-a5d9-efcde0115aa5.png', 'ecbef0ad-980b-4bd2-824f-6f5b3c6f3788.png', '14783237-d5b4-474d-afc7-33bfb1f00646.png', '800d59b5-f0bd-4b6c-9060-68fec6705e37.png', '750e97f9-5229-46b0-8c02-9d51caa5669b.png', 'd102205c-f20d-4ed3-a4a2-7799b53996de.png', '66c0c36c-70bc-477d-8b23-6dc09f371b7e.png', 'f1598002-2714-415d-a010-c85fa9a926f9.png', '4057de2e-4450-4445-afbd-9b2a4cafbe7f.png', '3ad13a84-b56f-4af8-9032-481af3fe05b2.png', '66e59ea6-425a-4ef7-b8d0-06633ba0383a.png', '813e3cff-2325-436e-9a1f-e97d5c6840c3.png', 'd90e930c-0665-4205-9ddb-a5a6d3a3bb56.png', '15cadd28-491d-411c-a9ff-58b47d0a8657.png', 'a3513c73-e3d5-4b2d-8c5b-85bf947ef313.png', 'aac006b7-5d09-4f99-a460-8bb58f3033ed.png', 'e237e6ef-f5aa-4d8a-9daa-aa8c20abde96.png', 'cc308e84-b00a-4fd1-828b-0125f479b304.png', '86ee799b-ed0d-414d-b756-226f3dac1343.png', '0232a0a2-799b-4dd2-8e48-fab877b3deb0.png', 'ffad1a68-d4f1-4d60-9665-2545d09eb2f2.png', 'b1fc4c40-3a47-4264-b880-e2dd71f656e3.png', 'a7c424b6-90ec-43f5-8661-cbb6b6e2c957.png', '31432d05-f596-4cfe-9789-af46de171428.png', '4e7014d8-c9b8-4c33-92e9-950129ff5cce.png', 'ea65c5c0-6da8-47f6-b1dd-99d463ae8c88.png', '4463f039-e91d-4197-8f9b-2bae5f576442.png', '2fd780b6-6133-4ae9-96cb-6b3a12f5ce65.png', 'cd325033-6217-48cc-894e-69ffd16ff03d.png', '3a3f6bcc-4084-4d79-8825-8480985b2e22.png', '5ba46bd4-1660-4731-91e1-d0ed5dd02734.png', 'a2ebd073-c155-41f3-bbcd-7a6e015308c7.png', '7e2ea566-d3d6-4293-8393-e9c1b12e5dbe.png', '39d5d756-a30c-4dcf-8859-93e1054bb98e.png', 'a570a5ec-9da8-48d7-8093-ffd88a1215ad.png', '9e150b7b-e182-4cf8-931f-a646ce2bb92e.png', 'c8fb4598-049d-4a21-b7e5-dcfa138594b4.png', 'a5c2924c-5777-4c4a-ab77-b0b9565c51f6.png', 'a1dfa497-721f-4a42-b9af-de64ff944558.png', '9b5db0fa-782b-490f-9b87-b42ff819ec90.png', '9884b392-7cff-4a82-8caf-47b0a7df4cfc.png', '368988ee-c863-4e16-850c-e640d1cdcb7e.png', '789d6b7a-3e56-40bd-9062-24b9130a9b17.png', 'beba60e1-c9cc-4bf2-8d52-fa96b50cd287.png', '14680a67-831b-41f5-8ecc-b29bf38384d8.png', 'b05460af-42a6-4ceb-b09d-27350a118a53.png', '4f3a4166-9cc8-48d0-a007-76a5a4aafe5d.png', 'cd653b63-bd99-4da5-b256-82c24154d757.png', 'd0e8db5d-6427-4594-a81e-1e4f1050a921.png', '4db07b03-6c5b-4888-8a6a-e666000f25e1.png', '661aaf9a-aea3-48d8-9eb4-cb23b78a5b8c.png', '3e718148-6840-413c-8535-9278c4ce505b.png', 'fe3ba5f3-c621-4fbe-843c-4731918a79ad.png', '43476fe6-f937-45dd-9b33-ef30d742bb26.png', '5f7eb436-96a6-4685-8a82-0a5b561f2364.png', '8ef4d568-d59e-4e1c-877a-951f9688f102.png', '17e44236-c247-4bb0-8fd0-685f5edbb11c.png', '484b6d43-eea1-4173-89ba-5b37ea6b6050.png', '8eb2fba0-2cb2-4e3d-9e19-53c44c2a6a0f.png', '62687cd2-d616-47b9-89b0-45e0d1f58122.png', '6bbf7b42-fef8-46df-ab33-5f4ebec0cd5d.png', 'e77a7611-df05-457a-9f58-98e249bc3897.png', 'e6a1a0ea-f517-4cc7-862d-9b0e72b1a965.png', '2520a03f-b854-4d6a-8404-3a64b147cc8a.png', '08029e2b-22db-41ba-8537-516b3e6d0c64.png', '1cdfebb8-f0bc-4c51-9562-9234945d8b2e.png', 'e50131e8-4168-47fd-9cba-62a129e76ea8.png', '659313ec-17b2-4406-a4ad-89fc2dfbd4fe.png', '51ea0f49-476d-4de3-bb87-02b5fc93c47d.png', '50fc1e0f-f006-474e-9c80-2680ae5e7396.png', '7b82bf37-61d9-453e-b9fc-e67cc1523c5d.png', '77334174-86f7-48d4-a6f2-a535e9ef2732.png', '5826528a-2859-43b0-92ef-728f51ebd0ef.png', '9775eac4-356a-4846-9d0d-1c546b036c49.png', 'de1d87c9-1df5-4399-ad07-49a265f234ae.png', '13c5848a-53fd-4684-9289-dbe10a8d47fe.png', '2135af4e-a762-4fe4-9af1-7cc8cbd2c73e.png', 'ec742179-b738-4dd9-9f61-f6bf67fc7093.png', '6c2bfb38-533b-414c-9726-475651640ca8.png', 'f35ebd1b-8f92-49fc-90c1-fcc38bb2a934.png', 'c5bfcd26-a138-4b6d-85d8-55c5d3750585.png', 'edb14c38-628a-4be2-9115-5ec523314d3c.png', 'e3c16763-09d1-411a-957f-de197c63a8f3.png', '4b1ba02a-595f-4add-943d-cd4eb40e54f0.png', '398361cc-a612-4ccf-b6f3-2b2bd4d3d725.png', '244c81d7-1ace-4800-9c9a-7ca2c79c0313.png', 'e010d0d9-ef48-4c9f-b2d7-9bd3f9bfdafc.png', '761d92fb-057b-4e9b-84e2-e31713c295cc.png', '653a7e90-d3cd-4f32-b27a-ea16d79000f8.png', '043376e2-628d-4cb2-884d-72a0c137bec2.png', 'f94ead52-3afc-4510-ac06-d14f7030dbb9.png', '17c391e0-87ae-4023-9862-82aa58c47758.png', '52ecc219-d13a-48b7-b8ba-ba05e4fba4f8.png', 'a2be7186-67c5-459b-a6ac-b4d6cdb4d0bd.png', '6552fc85-28bf-49fd-bdd4-9c5e30cf54e0.png', '51b0ddb8-2f8f-489f-8649-8a6372adef99.png', '57170662-c2b2-44bd-8410-830db642c305.png', 'bae7a223-a1c0-4169-b03e-9b6ff9ac3e25.png', 'd326bcd1-c0b4-4676-aeae-54d81afa94b5.png', 'f34a52d4-c9ce-49a8-9dfd-174bfea20951.png', '59214dc4-265e-4a6e-88c0-713e4b349cdc.png', '6f4bcf00-fd47-4c08-83c3-2719595a12e3.png', '22165ce8-8766-41e3-bec6-beb975c7a9e0.png', 'd25a687e-3110-4ff1-81ef-ee11e55ffa13.png', 'a0e4c73f-5375-4408-8c56-327974150e8a.png', '540fa39b-cee2-42cf-959b-b981c0713c1f.png', 'efc8bf02-cae9-46c8-8dcf-fced9d0571d4.png', '1b0427df-1aac-4890-a231-ddb7a75953b5.png', '2c348ed8-20b3-4be3-9958-140eaac25ac1.png', '2bbb7d48-6675-4451-a7f5-c493762dcaff.png', '8656e36c-62ec-4510-9def-7090d53b1b64.png', 'd9ec7cf3-2434-4386-9235-a23d665d016f.png', '6c7b0abc-5340-46bd-94d5-f8fe276535bc.png', 'ebfaaa31-59dc-40d3-80d3-bc0bd0419464.png', 'e3eadbb9-0e49-4aa5-a1e9-2e450d3474f0.png', '3ecfb00b-b1bc-41f5-939f-2dc1a726aaf7.png', '02386f69-1874-44c7-a763-e149d25ca92e.png', 'a1c63466-9719-44b9-b2d3-b552d0647191.png', '43d3a8bd-6677-482d-8f48-e93d18da2e99.png', '7a1a5717-936f-484a-8ebb-c530dfeace84.png', 'f25d1032-c25b-44a6-ab89-b8bd658600c3.png', 'b08414c2-540e-414f-b0ed-3df5980944ec.png', 'd5792272-1d2b-4a19-9001-1f30d974ee8e.png', '795d94c1-ffd7-42ca-be7c-a62ccdbba898.png', '4dab0a12-79dd-496d-9621-a4445f183dfe.png', 'c14e79f4-4afc-4b78-a858-e5fd8137ba30.png', 'f518db93-ef51-4bb3-ac0e-471b94dc6713.png', '64ec783f-5699-4d5e-b313-6f837a5a0796.png', '7f70203a-b938-4475-8e60-96c52a9eb1d2.png', '9a2ab794-a262-4327-9664-cbe7f6b55d57.png', '9ab3e0a9-2f62-436b-b86d-3ac3558c6a5b.png', '01fd26f2-cd2d-4d02-b657-ca65fb18f8ab.png', '497b1f6f-af2c-4c2b-b294-228f92542e80.png', 'b3def38e-a333-4cc1-abd4-d0e51be67810.png', '55c3fc56-489b-4aa0-b55c-6d2d1bc4393b.png', '7a97f5c5-6033-4568-9ce1-20e11718ecce.png', 'f7011857-30e2-4169-919e-489559386af1.png', 'c926d08d-32ad-44a0-900f-6057376f434c.png', '6a3b3caf-540f-4dd2-83a0-14db579447b9.png', '15cba135-488f-4e46-a833-d0ce1366e958.png', '03cae582-c89f-4699-8190-ad227854ed32.png', '47d99874-0157-4627-ae69-4ee875b98e8d.png', '165cc540-7397-44ef-969a-05c7a44a0507.png', '73a646a2-ee45-4c6c-a142-bb2de4c2b5da.png', '29e5e023-ba64-45d6-8f2e-6eddb223319b.png', 'd47c1d66-805a-4cc3-aeba-4c13e6b7d3eb.png', '1466e8ab-94d4-4627-b8ca-43458f437f90.png', '469661c1-aea7-435e-be79-51882f790ccc.png', 'eb104f64-b7df-4f2c-9243-d211825907c5.png', 'c85a0e1f-5178-40dc-8601-a7b55b850890.png', 'd6425b37-fa4c-4bd3-ac45-dabdd0e026d9.png', 'f813ed76-a907-4f24-8f1d-b606a523111a.png', 'c111e444-4557-41db-8897-87eafd283f3b.png', '5300a68a-2c6b-477a-94db-bdec17f624d1.png', '23946103-6544-4e33-a545-61aad6f18afb.png', '7fc3fcbe-3ccf-4ef9-8f65-1a0668142c8b.png', 'afaaa05c-0ed1-40d7-b744-64405ee89ad7.png', 'bfa99acc-0db1-4590-8ba6-8e968ac1d63e.png', '60ff5fff-4210-45fe-b468-f26601d5dcc9.png', 'b57b67ac-82df-457f-91f2-71b968c82af8.png', 'da3044ed-a211-4bf9-a884-9b8dfec9f011.png', 'e2f72e61-3b66-41c4-b20b-a343cc019fe1.png', 'ff7a35ef-c806-48dd-9b66-ec98f822a18a.png', 'feca4ebb-1bff-4ccd-becd-bb4f314bac2e.png', '20768826-09c2-47d9-9cbd-4e4dabdd471d.png', 'fc2d1a0b-22fb-496d-8bf2-bc660ff9721e.png', 'af2599fc-e864-4cd8-9f33-fb576a0713ff.png', 'c427fdea-a372-453e-abd2-89a791273ab7.png', '6a94c2f3-55c8-4f64-8b21-8eeeb620797f.png', 'aa25528b-5406-4666-a341-061585fe30e8.png', 'a46a6280-062c-4e7a-99f6-c414744b3b72.png', '8c0a3798-60c9-4cc1-a9ba-269f11f4ce46.png', 'cb57fbac-b366-4359-9d89-40f048efedaf.png', 'b15a12f5-9ef2-493c-8ec8-1c0df7bbde7a.png', '776ed001-f12f-4a2f-8e10-2307ce93ce62.png', 'd8c8804b-b8a2-4d73-9309-7c8368de1476.png', '1776ba00-7bf9-4b5a-a632-28df43e9b10d.png', '076cf925-3a18-40b3-84f2-88c1c1f5a47e.png', '1c866bbf-4801-4ca5-af11-de08d9ba4057.png', 'e9334017-c9d4-487a-929a-2ac29128bc9c.png', 'a74bed07-3d8d-4dc7-bae2-f51eb51be50d.png', 'c00bdf30-4817-410a-9c2a-0dfec22fc5f8.png', '17b4788d-7b7f-456c-a2af-d08c197d8c7f.png', '56ca583b-66b2-47ff-b99c-1df0ceebe004.png', '226034b0-18df-4953-ba9a-5c31a0c7af0b.png', 'e3501af1-862a-46ca-99cc-d829a6f795f2.png', '2828ca8a-dd66-440c-a7e3-d4b31937ae53.png', '7778bce0-bd65-4857-87c2-ccaaeecdfdff.png', '8eff575c-eb4f-40c9-a134-38eabd2e973a.png', 'ced73126-80e6-4d85-b067-4272fa8e2b1f.png', 'ba150e33-521a-482e-b252-80c9f4445e61.png', 'a1e1bfdc-b204-4d62-88e3-bd81c535530f.png', '4330be2e-d041-4da0-8b5b-700260b27c54.png', 'f25672dd-d7f6-415e-b72f-c5c1cd2636b2.png', '063cfe04-e652-402b-bb00-66cdd732a89a.png', '424c8e70-7800-4bf1-a065-8278318eee5c.png', 'b68c698e-9a82-4ef2-bb07-00210c7a266a.png', '0c86311c-59f1-497e-8201-6dadd85a9696.png', 'e688071d-0694-4f54-9dee-b1264ab28190.png', '78125a67-e7ce-4786-ba7d-0461f04171b5.png', 'a23d856c-bef2-4742-9baf-e55efcc8baea.png', 'a806b013-75fd-4217-86de-91d138498ed8.png', '3cd1a3b4-0376-43be-aec1-3e58ff2cb74c.png', 'b743d035-db58-4eef-87e6-574cf37977f2.png', '03553b48-ca8c-4d60-8166-4ddb1877aa58.png', '472d630b-8710-4d51-a099-085821fd0ca7.png', '4e3ff066-cbb1-4f59-ad68-c1f3ea577a5b.png', 'be3f3411-e52d-4867-9f27-364d7476b1c2.png', '31b7994a-e0b8-4618-a8b3-ead317c48266.png', '540dc255-d9f7-4c03-8c5d-f7c9197da7e2.png', '4b286a27-8827-4106-baf6-29ef61c629fb.png', 'b19e4f24-05f6-40d2-91b6-a380e0d9c712.png', '4e9efadf-1aa6-4ace-a623-b3ded5e5bf7c.png', '71932303-f582-4117-b76f-4b13cfebdd64.png', '43ee177f-a6c0-43b9-aa60-f094d0a29a30.png', '47563acf-e90d-4035-9470-b5aef639a3b2.png', '0398f275-f73b-4f26-af2e-63a7c77fbc24.png', '44d756fc-eeb0-4f6d-9f0a-b76c80289806.png', '26b387af-524c-418f-878b-67c545d32ba7.png', '211b6365-1c6a-42b8-97aa-9826fe80bff9.png', '985e882e-50fd-495b-b898-0b28d8b1c69e.png', '96f352ce-98f3-4535-8e7c-62bc2eec7705.png', '6a32dfd8-3631-42c5-b062-6108bfe8a111.png', '21389501-0bfa-49b1-9698-e620d4cf2dc8.png', 'f49457ca-d94a-41a7-b9e5-a3b70f7d8b63.png', '076c7877-c7b3-48d1-9674-0d7622685f56.png', '3010cdc8-2669-45e1-aef5-ce5086848efa.png', '6e07cb45-9042-45ea-9bad-f0fea5f44390.png', 'ad1faa75-729c-470f-988d-a5769affeac3.png', '13c3c729-45bc-4e4f-a5a6-691c09af947e.png', 'ea08ed3e-ca54-4293-bd20-bbe1e98297c9.png', '2b019a25-64d0-4e92-97a3-c0c7624f3ba8.png', '71610e80-a2f4-469b-afc6-31672ecc956c.png', '7356b990-f183-4de3-960d-50c3d7038c13.png', 'c1516446-21aa-4d5b-8e78-996125d9695b.png', 'b858e534-a65b-4af3-b23a-0ecfb2ec0c49.png', '1c7cf829-dbd3-4f69-97ac-ff8718e2a1a8.png', '889915c8-2cfc-4b2b-8f93-9b57bbdd7685.png', 'b04330c3-d819-48a0-89d2-8f4bac436782.png', 'ed6a2093-0e49-4bca-ad0a-d4fd41915aa7.png', 'f24bbe46-6873-425b-9fae-148770f5ac7b.png', '5453acd8-cfa5-4ab5-9f0f-128dcc4a8e6c.png', '17910765-2c60-4228-a8f8-c31208b1e845.png', '60329f45-12f9-42ea-9a0f-11703df06b09.png', '10eb686d-8e27-48d3-8f12-df91703bc119.png', 'd76d2e3b-69ff-4757-a593-e0d4856b661b.png', '6c1bbc82-af39-410f-b64d-b780add1a5f6.png', 'e79472b1-f4e2-4b94-a410-a7bb04ab9159.png', '32ad0764-5f17-45eb-8962-6595bcdac78f.png', '6ef2a71a-46b7-4445-9fa2-7238afe5821d.png', '30669687-e633-4f9e-8c2f-c92540e4aacb.png', 'd463d021-60c1-4035-9a28-da00b74dc159.png', '850715ea-bc9c-458b-b56b-4c8eefa0185e.png', '932b4fc8-ddee-4b12-a503-5cc7b0326f72.png', 'd8b7e324-b40d-44bd-bbd0-425b4e38a2f7.png', '90732933-e4ba-4392-a814-6300b544b4b8.png', '97e82aa0-7292-4454-8d6d-2ab8fe4d0e83.png', 'c92dd1b4-4053-4427-9260-ac9e01c10b6f.png', 'dda1a12e-930f-4646-ae75-89c7d3ee61e9.png', '6558638f-284d-40b5-b368-07e3325f6773.png', '42b39dbf-056f-4728-ad7d-d9a75c4444fd.png', 'c7df48fb-de42-4eba-8ccd-487f329926ae.png', '3cf989be-fc8f-41ad-999a-30808fa117cc.png', '4f4ba352-dd76-4cc3-bbd4-4bd8749e40dc.png', 'e5ae827e-74c1-4c60-a5c2-c2f47a508f16.png', 'd41d1ceb-9660-4f53-a6e3-e84673691cc6.png', '968b0de6-82ce-470b-92d3-416ff12efdb0.png', 'd23fd547-d16a-45a5-b898-dd240d5946d3.png', 'c6d635e1-e60e-4ad0-949e-d50d0cbc09b7.png', '80c75f96-8cb4-4b08-a054-eaabb830a565.png', '01f2a889-b324-4e5c-a183-b1668c18dcbe.png', 'a187f5f0-b0e8-44ae-959c-a1e4f013f95c.png', '1b48bbbc-8544-4390-86cd-237cfee3c58e.png', 'ecbad0fe-4dac-49f2-b901-f20193ba77f7.png', '5245b934-0d1f-40e5-a211-a7ebd05aca41.png', '46910053-75a4-4dca-9890-63ea027d85d9.png', '85bd1c65-c2c0-4f91-8f3c-2525c0dae7b9.png', '88397c0b-db01-476d-a8d5-a55959372953.png', 'b7970545-561c-423f-ad54-d9462e00df11.png', 'd482b4c1-e6d0-4b96-98f7-c4a478644cda.png', 'dd527753-52e3-430d-8fd4-2ef9ff1b752b.png', '59855eba-3f6e-441d-a25b-604ff7678b32.png', '49428ade-afd6-4a18-9be2-d37dba8754c6.png', 'befd55c4-b44b-4793-aa45-7f56050fd8b2.png', '38a88f99-fbf0-4510-895d-b1c16e481db8.png', '6d0e76bb-42a5-4704-9f3a-cfe6f09ed88f.png', 'cc04f722-b8de-4f29-bb4a-d586a77ef166.png', '37cde536-2d61-445d-82ed-c476d6e6538c.png', 'c85cd142-5e69-44cf-a16d-489ea71e91d2.png', 'e876943f-14fd-4cbe-a0d0-c7d24bc99c9d.png', '2cc0b903-38d3-4adb-8189-120021428540.png', '07fcacf6-5c8e-44f4-a074-7d0ad9903f3a.png', '81988140-d05b-4281-84d2-506b62e11084.png', '79be2181-088c-4441-a436-21c09f52d053.png', '721a4284-8e43-465f-ba91-b58ed4a25d3f.png', 'ecf315b7-64f3-4765-ae15-42808354a433.png', '080c9068-62b2-43d2-beb1-8b2afa5353b0.png', 'eccfcdd3-05ed-4e44-bc8c-65087baf22e1.png', '8f9103c3-10b0-4844-8a40-24c14f42e1b3.png', '08b5653d-434d-4d63-abfd-e6b5f6c58a25.png', 'c88bf9f5-e4b0-41af-809c-e31b532cd490.png', '14e154a8-9bb8-45b6-90f1-e55c4a2399f0.png', '4bd09790-4d79-42f2-bb60-6d369694a00b.png', '48f24347-ebbc-4259-bdba-c98006733621.png', 'd40e9389-1a7d-43c9-9008-17b90c4c0b83.png', 'fb5a91b6-325a-449c-8679-2bbf39cd6fc0.png', '041f51aa-e527-417a-98d0-decf4b8fc41a.png', '8d039731-ee22-47df-8fba-1fab0c8666f0.png', 'da9d0e5f-4d8b-41e6-a123-e8d80aca022e.png', '4a3de49e-42a5-4540-bf1d-388c37e62e29.png', '60e41785-3aed-402f-a35b-e9163137dcaa.png', '4a135796-b6dd-4324-9bcc-99e0b28ed5dd.png', 'e0b2a5cc-a8ee-4a4d-8909-4117776e83e8.png', '54dae715-8976-4a9c-84a6-0cf5307a45b9.png', 'c707a1fe-f275-47bd-aa30-2dce4bc8f156.png', '8784d20e-a029-4497-a6ed-5ea93b0957f3.png', '35e81002-1271-421b-83c5-6ccf821ddc65.png', '13cf5ffd-aff2-4647-8355-cfcee2810e86.png', '29616eae-76da-4712-9d7b-27e26d7a3f5c.png', '311f44a3-c673-40c5-bbfe-d172442acdf8.png', 'dab47931-23f2-4c1f-8120-f6466da160a7.png', '51cf8c62-3d04-43e0-85ae-94b24c4ac983.png', 'd22ab05b-e5e4-4a68-b970-99446636d533.png', 'f4827ea7-2d7a-4ccb-8326-c940dced633d.png', '2bd366be-c136-48dd-81ab-1429d71af9d7.png', '1d00a7f3-372c-4b82-ab7a-1a6a0f917dff.png', '37871af0-5324-4033-8564-fa8d4ac574d0.png', 'beb423bf-bfae-4b36-97a2-2743e7a5c87f.png', '7ddc3c68-e648-41f1-a6c2-2b84117f3369.png', '018c961c-5fac-4932-8a4f-f1d0b5b1b2a9.png', '3da397f6-b0f8-4786-83ab-bf572be85637.png', 'c5f5210c-933c-4221-82e4-90ad671ed3ee.png', '680c5e20-d8c2-4a9d-bd86-747204c9550e.png', 'bcf06a67-8c7c-4be9-b610-d4c0676b793e.png', 'efb316db-f427-491a-a7fa-5b3d99c8e87f.png', '0f3ad440-40e2-47a1-9524-a6f220d88041.png', 'ce724ac3-7516-4984-a63a-59387a2ce8e7.png', 'c28f7815-69f7-41b1-9652-93a65f1f2940.png', '16fc9c13-a175-4d20-84c3-6080a8cec2f2.png', '0a938ff8-6684-4516-a27f-02536e4b0760.png', '3d82e301-196d-4721-8a0e-d90db6c91305.png', '9bc8f029-f085-487b-b28b-04d3f0349b9b.png', 'ba72803a-63d9-4a81-9020-2ab6c6e780fa.png', '2ba6821a-c414-4661-8c41-08a61cbdcd4d.png', 'e03c3277-fb14-41b2-aae7-62d21b98a2ab.png', '8752b620-37de-4349-ab66-34d536bea3f4.png', '6b5cddf5-d68a-4d60-beb9-29b276141790.png', 'f56846b5-3857-438e-ada6-9ee1ec08e1ea.png', '14592265-62f8-46b7-bb9e-18e65b8f039b.png', '38ba8006-1c96-441d-be05-c8ebbeed199e.png', 'e0cd28dd-a836-4a3b-9396-0798b70c0b4d.png', '97e8fab9-f700-4e37-b373-46bfb3b0c742.png', 'ddf9fbe3-eba6-455b-a102-5ca26629aa39.png', '786db8e1-6879-44ad-b706-5a6fcda3f329.png', 'c3e7d914-4964-4fec-944b-de80abeeaa83.png', '4f1c63c2-300d-4a78-9bb2-d8e6ff2b1d9a.png', '3d82f35c-c5c2-448a-9160-7c0e62e17e61.png', 'df5b728f-45a9-4f00-bd9c-7660eadd340a.png', 'd9b51a33-f8de-4298-9bb8-56101092eaf8.png', '03b0e0c0-e35f-4a4a-8479-79887b0ca90c.png', '76ca43fd-abfa-4c8d-ac6a-b7d56ea091bc.png', '4937ef3f-a873-4422-994b-ccf76f016cf1.png', 'fa5f2e15-90bd-4939-94d8-767b6a215b16.png', '08f56cdf-0840-4634-a70f-c2c7835e92a3.png', '89bc880f-c9e4-483d-b13f-0262af6c3a3c.png', '7a894a02-e494-46f4-8765-12adae9e333c.png', '590ba017-bc3f-4945-a761-9857036b776a.png', '82477a23-d4b9-43d7-bcef-c4bb475da9cf.png', '35ac45b1-f83b-4d54-a93d-36e9a096af62.png', 'ed2552bc-620b-454e-af10-09d74e54c733.png', '950791fa-e34f-44c7-9695-47be9b212f2f.png', '1773e428-b5df-42ab-ac65-5312abaad6eb.png', 'b39131a4-c4c8-4989-8060-6ff04e699787.png', 'da475e39-a8b0-40c7-8ef2-4ce65ef6711b.png', '7ce6c486-ac60-4122-996a-eef3f9ae26d6.png', 'eef21e91-55e4-41ca-81aa-204a2d572487.png', '8f6b7142-ffb2-4d3d-b26c-a395285591ac.png', 'a8f0e700-38ce-42cc-9881-daecf271ed40.png', 'd4c6b1ae-6b0d-4518-a430-7e5d3a4c839b.png', 'f59a0c3d-141f-4968-81cc-c0c2c8af30df.png', '86b4620a-0f28-45be-9323-896217e7c51a.png', 'bc2194ee-f1ff-4b12-b397-6d6373276d1c.png', '4ea53f3d-c43c-4dd2-8484-7996cba0f25e.png', '7d600fc1-869f-49c5-9ae3-bebcbe524291.png', 'd92893a6-1ae7-46e3-915d-4eb048dcc73c.png', 'c89f4f92-4eec-4df1-bae3-5741f25f1c77.png', 'd0df3930-1337-4156-a27b-2311c0914229.png', '518d3d2d-65a1-47f5-8196-637221852231.png', '97a792e1-2bb7-4cd6-bb60-be24e4dd09a9.png', 'e8f0d93f-47dc-48f7-a5f4-1975bc45910a.png', '0089842a-a462-4f1b-9530-40af678fed1e.png', '38320dc0-3019-4089-a1b1-edf814feafbd.png', 'f9b40aaa-cc5a-41a0-ba86-88b980adcb8a.png', '9711d952-e30d-4b85-8a5b-cd3bf6f3bcbd.png', '33c87394-b9c1-4f9f-a0c4-ee0b88b64f8d.png', 'd40abb67-ba3a-44b2-a892-0c1f8bac144e.png', 'ca321f34-57e3-4bee-8a70-84537230d2df.png', '64b949f7-7979-473b-a21d-8f5c0e677629.png', '61944348-5866-4556-a67c-fca9a7853d9d.png', '49a24752-8171-4ac1-bd44-5448f593dbdd.png', 'f6740947-1d84-43e4-8ae8-0681de80782b.png', '5eb21b02-283d-4f7e-88a4-40afb52a7f64.png', 'a4bb6c2a-e8fc-479f-9807-c88791bc161c.png', '4f6fc5dc-f2ac-40a5-aebd-aa17f0ecca5d.png', 'a5151e6c-aea2-4edc-ab74-5f1a17167477.png', '4c715163-fed3-4604-b7d9-f7242792d811.png', '7c9f64c7-6f0f-44d5-beb4-1551b643e3cb.png', 'a45598bd-7410-4b13-93aa-9b680a685aa4.png', '86e174d8-0f39-41cd-9e70-7cb706023b7a.png', '23835be4-7f21-458a-ae65-12c59302f45d.png', '94afd538-45d7-4939-b7a6-42e9bf789155.png', 'b52ffd17-537b-408e-8e03-9d4101f7457b.png', '1170633a-8336-4bd7-8365-d60de14e088c.png', '3320da1a-8149-48f6-969b-7562e248f983.png', '203e97ad-5154-487c-ac7e-80d0317b5892.png', 'df116f41-fa75-4a69-ac5e-7503b16f1d11.png', '6584ea4d-f033-47a8-8dfe-b2b8b84c50bb.png', 'ee0466e2-f685-480e-adb2-84e58fe753a8.png', '691b9cf2-17b3-405a-bed7-4f55e907d537.png', '543cb2f9-4706-4895-b3a8-591517eb217b.png', 'fc0f7b08-2af4-447f-9c0b-b330c8ba95cf.png', '92cef060-3aca-4553-9622-48f859f954f3.png', 'db1f8b34-92e3-4256-8b58-2e0e2a86ed83.png', '5fd80b61-a659-499c-8933-b4f16e84f1c7.png', 'a491c720-e914-435b-871f-db83f3ac2848.png', 'd78c2347-5c14-4133-bfbc-a7b20c5f877a.png', 'b6a6899c-90a5-42cf-b9e0-ae802250cd26.png', 'a96dc9e3-6f98-40fc-9e49-050ecb9a4343.png', '2977aeb5-fa1b-4b41-bd8d-96fc8e311c45.png', 'c1235a34-f989-4678-a574-a48d69af9c89.png', '4a787ff9-0aa6-40c3-a0be-3339690108a6.png', '37239f81-8392-4221-b28e-1229f7b7f59b.png', '988f687c-9337-49ee-b679-07a0f440ff0b.png', '07494b5a-da3c-417a-bddb-709df3adb3f4.png', '9705ebd3-0402-4c16-b2a8-062c6dbf1a36.png', '0ebb29d2-d51b-4bf7-9d6d-50702520acf2.png', '1a2f09e4-700c-4c0f-885a-bd211890796a.png', 'b1c54a7d-ad7a-4999-8b15-c49e915a9827.png', '7ad48976-9fc3-434a-b841-55b4f52805de.png', 'c554f33c-a440-45c1-a260-7be6d2885cb4.png', 'ae626287-6370-4407-a242-60c4fd8f5bbb.png', '1b653a0b-bb37-4cad-bc64-0d5e801cd39d.png', 'be9d6bb0-b4ef-45b8-a9f5-ffc465a2acad.png', 'f8f335da-2a2b-4f27-b1d1-b3f6b1ae89b2.png', '8ad676a8-df52-483c-b50f-fbefe879950d.png', '13405529-588e-4400-ac98-3c14ce574684.png', '9a0ad81b-a61e-4c2d-9fb3-a5636bf85b53.png', 'd278cd82-1550-499d-95b0-ebe9bc4ea397.png', '206cc5d4-3128-46ed-9362-bd7e3a2d5dd0.png', 'dbbf9d5e-5518-45fd-abb7-d4cf38e0c1bb.png', '63f177d0-09ca-4238-8dcb-18d6bc28fc59.png', '93bca5fe-5c4a-4eee-ac09-2c5863bdf6d9.png', 'ce092f59-6369-4958-9dca-0ef05c153bfc.png', 'fde2e603-7f7a-4718-a058-460c61a2e5d8.png', '3dc006b4-7d18-4b74-9b41-d470d5964022.png', '58a0151c-c4e8-44db-8e75-9701882846af.png', 'c6a0da9e-9c03-4f47-887f-9ef016418d40.png', 'd7c13d7b-d44f-4ca7-bd7b-e575d7ed3bab.png', '7b56183c-01ac-4b84-9aa8-379856869996.png', 'dfec044c-022b-43a2-91d4-2be4bfae003b.png', 'e8aaea53-04ba-4c32-b037-6999af8a68a3.png', 'd13f8438-254f-466b-880c-a6b0b03cfba8.png', 'be06fe36-d159-4173-9d12-9f2842865daf.png', 'f7c21b15-8b71-432c-ba62-7b45165139b6.png', 'e106505e-6439-4c9e-ae65-859d7b1ab68a.png', 'baca72ef-bb86-452f-854f-9ffa5793b3c2.png', 'e7ab4acf-c420-47ac-9ff4-dd7029ce07f2.png', 'c74ee8bf-1f4a-486b-82e2-0f8b563440a5.png', '817e16e0-2af2-4fd9-962a-c27818c848db.png', '34c5fbaf-50a2-42d4-af72-20ee6ca4420e.png', '738bf30b-c7f6-453c-bf2d-8cebb6682508.png', '51c78108-ca2e-4350-a94a-321337e3bdfb.png', '3bafa23b-4686-4cb0-9dec-7452225d5685.png', '0fc93872-034d-480c-9f7e-f5318c9ce197.png', 'b7d025da-3bce-45ee-8510-de1518ef509d.png', '64333433-f3b8-435d-9751-465f091e166a.png', 'bb3d8845-cb9c-4248-8733-44567c1c4368.png', '1b68029e-630a-4774-9c26-b930df2f05bb.png', '306338ee-aeb1-43a9-a8d7-3f883d000638.png', '0ae6cc25-2548-4356-937b-4bd8761746c6.png', 'a5aa80f1-f468-41dc-8aea-9b1a3d3dbe89.png', 'a67f4703-58a7-48d9-84f2-94f14dc42740.png', 'e994ac48-7096-4f94-9e04-d45125822b66.png', '2e5d3582-4aa1-44c1-a0dc-d986bf568d7b.png', 'f36cfc29-56ae-43c8-aa4c-19e0218ba653.png', 'a71ff2c1-4a9e-4c56-b6a6-a28886f6ad46.png', '959aa34c-494a-4b58-bebb-10af96bfcf3b.png', 'bb39c182-786a-49d2-a8f0-5ff5324d0b27.png', '2c270f6a-2472-461f-a134-096dc0b20406.png', '1fa292cf-3c86-43d5-a67b-eb9ada6fce29.png', '713b2033-bf05-494d-b6ed-4be2d1c52a63.png', 'c4e8b1f2-2669-489c-abaa-863f1109abbe.png', '27f6eab7-adc3-432f-b6a0-458853c53fd4.png', '84316ea1-9e09-48f1-ab85-a9751e77e294.png', '9d50b0c6-4c1b-4b9b-8b16-4b9aee84ec08.png', 'd0da42ef-9e0c-434a-83cd-ae9e196265ef.png', '184f1772-bd01-4036-97a1-781ef14d7384.png', 'af601015-3a2e-4c4e-a5fb-b042c2b1106d.png', '51b70152-734d-417c-bae8-34ddc8f3bb88.png', '56fca0e2-dc38-4469-8dc4-fcd04a77936f.png', 'db34fb8d-cae6-47ac-875d-e99399dda007.png', '2a80950b-f445-4551-bb6b-cdd39eb34931.png', '591758df-164f-4445-b51f-76bdf944c5d5.png', '5fed4da0-4318-4d21-84ca-f882d1924d09.png', '08aa5952-1a7a-4fc3-8bbe-d8b9ff8f7318.png', '992e5671-394c-4d45-bb12-15324a12a43a.png', 'f85d650e-99c9-43e5-ba61-7b9769c1b0fd.png', '3ce03381-2ad2-42b6-b65c-9c6d79483be3.png', '58132d87-4174-4ccb-aa76-45ccc8852531.png', '5009dca1-06b3-44c8-a5ee-c185515dd704.png', '70730902-f5dd-47fc-8e06-05a676c61893.png', '60532b3d-d464-45a6-b655-98e40820e47c.png', '658e6ada-980f-4cb6-9d39-9098855f78be.png', 'e3ee3832-20c6-4f7d-afc6-fdc97a74b586.png', 'a9c979d9-d556-4cdc-b2dd-c3745d26901e.png', 'a04a4f4d-5356-41d4-aadb-01ad04862239.png', '3ed8402d-9aa3-4748-9087-a915787489ef.png', '6d8b4384-9e36-4d15-b0e6-05f9a07472e1.png', 'b5bb3ee6-35eb-43e1-afd7-d7bbed8b0d5a.png', 'a0ad999f-e8ec-40b8-9371-cb465e4daf27.png', '16a9121e-87a5-4934-8690-babfb7badc85.png', 'bde5746c-400d-464c-81dd-283c8d126bf8.png', 'a146cc03-ba63-439d-804f-08d63be29922.png', 'f51f9ae8-36a4-4732-87cb-7940a151c5d7.png', '8d1e4c69-68cc-41e4-9814-e7ca67834b1d.png', 'd9999de0-f3af-49e1-b387-21b744ee8573.png', '1bb75b78-e6d8-40c5-8326-9629ba56ec58.png', '7c5ad45a-b4f5-482f-8ff8-e1f6b8aba34a.png', '72f260fb-5e89-4f99-928a-5db931c4eb65.png', '8e2dc015-23c2-499c-8efe-f20af56821c2.png', '36cf7cda-4525-4f89-8905-1e7d76f87631.png', 'd15b0106-82e7-4d4c-b835-9e67fa46ed30.png', '79f4f86e-a503-426b-b731-b71afa0537d3.png', '79af253e-f204-40fe-8121-fc8009619115.png', '3f06ea90-f5cc-4351-b4df-fb780c9571d9.png', 'cf66a5dd-7ed9-43e0-a61c-24447ebb5b38.png', '74a906ae-d5d1-4a5f-ad57-c4de30d4a78b.png', '8779d963-7abe-4968-acfd-9022072b48f1.png', 'cf3e0e3a-6579-49dc-963b-09e184bf7899.png', '4965fc09-b71c-4fac-9c6e-673698a05228.png', '5535e887-4ab5-4071-894d-4a6d0e08ed22.png', '18ac61f6-37a4-4993-9f20-38ba3c41bf7f.png', '7480e712-b802-4a8f-8ff5-ff1a4a8d4338.png', 'aea188cd-103f-49ca-8609-052d2c77e5c3.png', 'd9dd4953-648e-4316-9d87-394bd1f3bcd8.png', '49a328c9-c2bc-4ee6-a5ac-70c1a4a3ead9.png', 'd0db82d5-934b-4785-bda8-f88c1acea627.png', 'f8c9e8a1-fddd-46c3-90ce-c30bd93914ed.png', '3da55465-4c97-4443-ab02-c9d3a1df37f1.png', 'b7fd1498-bf6e-4af9-bddb-195042ee597a.png', '23f76c56-7abc-4df1-b6b3-cbc697a78955.png', 'c5b3c2cb-ba90-4882-971a-c8769cdb2066.png', '97cd35f6-9670-46a8-a46d-0e6926a79379.png', 'd20b9f25-98c7-49f3-bd05-1cbbd8d1cb22.png', '1e5641d9-0831-4f2b-b968-a3317cc844ed.png', '1d18feb2-fca6-4ad0-a8da-e442e2281bcb.png', '30a06a4f-4b45-4850-9a8c-7aa984b9e86e.png', 'd1b66b2c-2fe4-4406-8000-9388437a096a.png', '79dd899e-b38b-471f-8a95-4f7293096477.png', '00d8260e-701a-4f45-876b-63906f24d9f7.png', '48b79e55-a13b-40c7-ae1f-db6a0fb60257.png', '1cfb7572-046b-4719-87de-ae12a3f12c18.png', '5503d246-18c5-473c-ba8b-59d94c20b246.png', '285b0cb3-e70e-44bf-b121-cef0c8584709.png', '9d930f07-59e3-49dc-a458-c1a74f77597d.png', 'e0cdf84b-512c-4002-85f5-379413c33715.png', '53a403b2-3b33-41fd-a978-a76f61b5e57e.png', '8951e9af-bd8d-43db-a0c1-a0b4e48c9a25.png', '8f080f27-7398-499e-b6ff-56db3010dd83.png', '97ca4b6b-4a3a-471b-b539-aaa944e1f012.png', '39e5fc82-7564-4464-acac-96bb7a8be77d.png', 'c30e8396-2aa8-4abd-9560-56e042d233dd.png', 'bc29276a-ad04-4fd7-948d-2ccebb549f1f.png', 'c5b92d14-56c9-4e05-b63a-7fdff16c12b8.png', '59b61282-7c23-481d-b0d2-e23df162f7a1.png', 'adc1924b-cf2a-402e-9217-afaa8b7920c4.png', '200ab576-55e6-4cab-954f-79d07a597ec3.png', 'd88d685d-62e8-4bdd-af33-98b67686bd75.png', 'edaf4a0e-b5ab-4bda-8158-d657985191bd.png', '8022d1b8-8928-4016-8b3e-208ebfd78dae.png', '2bc5c3b8-c77a-49f5-a534-dce45509af10.png', '61fe0c58-e743-4256-a69f-d48af0987a39.png', '1b456fed-0f90-4751-9671-cb4d772367f9.png', '61074d2a-38d7-4407-8ef2-3ab3af5ca8bc.png', 'b04d09f5-f228-477e-bf2c-04bd5382a44f.png', '2bc35a29-7c12-4857-bccc-030e5b50d252.png', '7b04b078-54e8-4f66-9259-56c2f506a787.png', 'deaa8c79-d9a6-4b34-9853-5458f18e71b0.png', '1ff05fd5-c15e-4edc-b02d-393fadf8816f.png', 'bc02aac1-d9d5-4ffc-9049-ad3c78d5bdc8.png', 'a433d585-9e6c-4b31-8d2c-1d75b058d1db.png', '7f73abd0-6a26-4061-925b-ebf7a5452ef8.png', '7f7a71cc-4a2c-4a8d-ba57-648ccbbaf5d7.png', '054a9c96-54ab-4e11-b5d0-83d457baacd0.png', '2419163e-320d-42ea-8de8-3221a78b71cc.png', 'd5653014-af9e-4421-9e23-7af9561be0a4.png', '0d4226d2-784f-42ef-ab83-61f2062d715a.png', 'dd8a7f92-eee1-4178-a5b9-53b296950518.png', '3705e916-c860-44a2-aa4f-bdd5bb1b046f.png', 'b6762e03-b6ad-4f72-99b1-3ba5e037fb14.png', '359fb13c-3851-48d6-b8a3-be5d1b427003.png', '282ff99f-bcc4-4894-93c2-3a79ddf0d5f5.png', 'c82f1fc1-225b-47bb-b323-2c45c81095dd.png', 'af5b30ad-675b-483a-b5ff-35eb61b20880.png', 'cfcb53cb-b0b7-4499-b1f2-ef2f32e5a7bc.png', '29431111-9cd5-4247-9558-cb8da8fae02a.png', 'f00ea59c-3596-4a82-86c4-f661042cbe23.png', '7b4c5f7d-350a-414d-b7cd-98401dc6f5f8.png', '5a426b64-2e64-4e7c-8436-f34842ef177e.png', '71e32e18-dde5-4545-8be7-c3eef8d51857.png', '3c2c0a6f-d95b-4856-bb19-fa08f5eded2f.png', '66f91d79-b636-4dca-9bd7-b35e67ed3349.png', '053c0343-3e5d-43ba-abfa-5028271722f7.png', 'e6c29cca-3337-4953-bd5a-38b9698aaee1.png', '398e4c45-863e-4db8-91db-7e46e2e6bfe4.png', '2ec2991e-e034-46e6-86eb-06a79acd3035.png', 'a22f1798-1796-4fb4-b84f-84f2f9623a5f.png', '74a92073-1213-4de0-bbc4-27d9948680f3.png', 'c57a69d0-ed7d-4acf-bbdf-afb05102b6e6.png', '52ed56e4-7913-4236-b085-3d8f68875882.png', 'f3cd6d4c-5bba-47ff-aca4-2817e5b5938f.png', 'fa03b3c9-4cd8-4ee8-9ffb-ab62dce1a826.png', 'cd5c0436-e710-470f-97e8-41174762b47a.png', '0d22f22b-dd2a-4956-9c9b-fa1bba6fe31f.png', '7a233123-be25-4c93-ba97-ac15f3a85bb1.png', '917236d0-55ac-4474-ab7f-d1d4d7bbf980.png', 'b06a4165-bd63-46bd-bfbe-460e8601b09d.png', 'feb019b9-87ce-4596-9694-b880815b461a.png', '965aaa8f-ddc9-4f38-93fa-da3373a64c0b.png', '4cfcf081-5ed6-400d-b8c8-fb9390d20a62.png', 'f5fdf205-6be1-40ed-b652-d6fb53856fa1.png', '931dd400-ed30-46b3-9439-e0035824cf85.png', 'b29fc17a-3ba9-4aa5-9078-a77a3d0de426.png', '9a8d09f6-7a51-4c8b-b074-46d5d0825e11.png', 'd67dd7e8-8fa2-4f22-af7d-ab1e8bd9abfd.png', 'db2d408d-6575-49cf-aa2c-0d7090fac46c.png', '127110be-07bf-4b82-a11b-034104821a39.png', '8b658e67-e9f2-422c-ac61-0d23b5b5798b.png', '49b99bcf-a2f2-4557-ab47-233357a7a28e.png', '1e1b072d-d9ed-4a33-b66a-5f88c215c99e.png', 'f621db86-17c2-40a0-865c-8a26ce35af1f.png', 'e8df3212-6cf0-42ab-97f2-821d1a56d74f.png', 'c8bb0ca4-749b-4e54-8bbf-1f44aa627b7d.png', '34bcf822-99c5-41ce-8b0e-07a71a7af601.png', '396bb003-77a6-4ccb-9461-c363a241edb7.png', 'a9cea40d-7238-4dd3-88fd-6242a251878b.png', '08a4ffd4-5e30-4c1b-bf68-32846993e37d.png', 'e77521ac-0797-4b50-9fec-1ec6bb078a50.png', '2404b083-af4b-465b-90fa-137b7add3ad0.png', '4d3246ab-ab34-43a1-89b3-7057736cb2be.png', '726ccaf8-0165-4d1d-84e7-9c0b76a37893.png', '2fb9a01d-dc29-42ed-9f4c-0950ddf36f0f.png', '11983dfd-ed52-432b-ba95-edb11080c296.png', 'c24eb71d-0566-4a51-a823-7254442e18e5.png', '1616929d-8350-4674-adf1-17981ca4658d.png', 'ac70a7a6-34b9-426e-97cc-984f3dd248a7.png', '3d68b46a-fcfc-4a1e-87d4-d988680d6d8f.png', '664fdf5d-ec41-483c-9cc1-a5072a6fcf2d.png', '05de4bbf-d9f5-4493-b8f3-06e85ba4966a.png', 'c83aeb4b-3a73-450e-ad34-ca842d338e13.png', '664d27ba-a824-46b3-868f-31f3e429bca3.png', '3604155f-1f77-4354-8421-1b257a4e928a.png', '0c557aeb-e2b1-46b4-a1cc-bfb5acda4caa.png', '5fd68ded-796b-4001-ac9d-c765f25e081f.png', 'f60c1e5e-7aa9-44ea-96e0-eae48509ad4e.png', '3102bd7a-c696-4169-a23f-0b5af26f042a.png', 'b4718143-571b-40cd-8b32-a7cfbeb6d3d8.png', 'c52e8277-aa34-4640-8754-eb6d065776a8.png', '0b60f042-34a0-4ea9-a5b8-2e822f4fcff3.png', '75424047-8f8e-43d1-8cb0-be2f723a591d.png', '05ccb967-4a18-46cb-a7ca-30e055d43cfe.png', '94cf9cd3-77e8-4bd7-915b-0b52cfbb5ee3.png', '1ce2f8ff-4e77-479f-8fcf-b5f5fad7ca6c.png', '8f75b797-9343-4cdf-b48f-6c7c603a3a34.png', '25f4db7c-2add-47d5-b4b5-9220e3fa865d.png', '43b9ddcf-59d3-4be2-9e44-05b3f490ef69.png', '5bd5c7ea-da0e-4f1c-961d-a139eb95528a.png', 'e9635185-c4ea-4b78-ac80-e6be357fc951.png', '52f97b71-d2a3-4b3d-8581-0c1a4e9e605f.png', '45e5315e-2068-44a3-a05c-20ca94415b81.png', '33637abf-33f0-4b92-8f5b-5f683865c4a9.png', '039d2e53-2aa6-474c-af68-82448cda0918.png', '5532a930-5f95-4753-8dc9-61a347ffded0.png', '550674ea-15bc-4818-82c6-465f367dc9a3.png', '73d354eb-e0d3-4e13-85a7-84cdd34488fd.png', 'f71c95ce-9d74-4edd-9460-7704c6a5f314.png', '5d32e2b1-01a2-4651-8d95-cf5625510e94.png', '0f330e92-89d2-4eed-be33-a942d70cc9d6.png', 'a35cb4e3-8b3d-427b-909d-7560e3300d65.png', '0003ce53-7b1b-45c6-86e1-9df2ad0c8cb6.png', '3e16ea49-b8d0-493f-b8b1-a418448f34f7.png', '30a97465-af87-40e1-801a-52a306536a51.png', 'eb969a89-5e42-4c60-bafc-e432f6c28162.png', '85dfc8eb-05d4-4026-a299-52b9643c9158.png', 'df19ffbb-2121-46e4-b6e4-d65d4bd1d465.png', '948f92f0-bd14-4780-a055-dfc92203dbbb.png', '83d85da2-3602-48a4-9084-625aa826755b.png', '9bec9ef9-1a6a-46e9-8d35-e64850d3055b.png', '6e1c4fdd-02dc-4741-bbb4-fac62012f6ff.png', 'aabc26b4-07ff-4f86-8003-75130ac31265.png', 'd906f9a8-a250-4802-9888-da4f0ecaeeb7.png', 'ac2abf20-a7f5-4496-bb93-d3ef08e92312.png', 'f9f1dd23-e9d6-4715-96e6-545f5ecfa3e1.png', '5ef7c89c-c36c-416f-8123-f1e13d9f346f.png', '7895eee1-9f24-4d57-b3d3-ca7c2d4c7a1a.png', 'a32d8291-3186-40f4-848f-278cec9b8ace.png', '6ec6ca84-1d70-4c66-ab4b-2de90b902b51.png', '18c635dc-014d-46e4-be7e-d2ebe63bab18.png', 'ce3b3c99-f531-4ef8-988f-109e5160467a.png', '2d49d591-72ba-4a50-a5c7-2865e8cacda0.png', '232f289b-e330-4a4a-8305-581a6779a8d1.png', '35110d81-b18b-451f-946e-6c63df0be7a2.png', 'b56f02c0-3ada-4f5e-8576-ed2c586f31b1.png', '0e96de3c-c854-4a98-8e47-3ed6e976b4d4.png', 'b5d11553-2e38-40b2-90ff-10e061344b66.png', '1908bd41-9bb8-4fe3-a010-9f3ce66a0d15.png', 'af5ef8cc-2437-49b8-9f08-cd60aaea2641.png', 'd3f74649-2583-47fe-aebd-9334466bfb2e.png', '7afe62a9-bbf8-4000-ae5a-3edd9f98d000.png', '4986ac89-a623-4119-93a4-8ccd9d65109a.png', '2fe9352e-b08f-43fb-837c-b1bcfa8afbf8.png', '852f8427-0a8e-471d-ad4c-e1218aeb1973.png', 'f8d63280-7f5f-4800-9d43-0fc216c95c80.png', '85ff8cc0-0ce0-41d5-99fc-d88d3c021989.png', '08e09093-75c4-4331-95a7-14fae2638ac8.png', 'ab063bea-ebc8-4a86-aef2-263a3c1cf043.png', 'ceea87f1-31d0-4223-9c64-97fd0daf4018.png', 'e705bec1-1d6c-448c-9651-ee37a78101ad.png', '5bb96758-370f-4f6e-a081-f0e5b973d42c.png', '156ba97d-85c1-410a-8016-d54e87e3bfde.png', '1c068d2d-2999-4967-a49e-f40e0ec86b63.png', '39d01244-ae57-41a9-9c38-0eeeb4950348.png', '01752073-79f6-40f0-85fa-ba7b54e1347b.png', '807ba36d-fa16-4107-91ce-c4d46e8a2788.png', '81e1b6aa-0b53-4ec6-8931-ce533e24ff7a.png', '96e7392c-bef5-4e87-8686-23bac6732b98.png', '7221db4b-17c8-4965-9f40-9a625b7900c1.png', '117c0a88-b5e2-45f3-9746-a496e2998596.png', 'dcfbe177-cfe8-4ba0-a0b4-642f28328b28.png', '7cdd71ed-1d4e-48db-a714-d2ef2601593f.png', '248e8a5f-353d-47ad-a374-9b280b442c22.png', 'daff1b44-6f4b-453a-abdc-ee57340c1cf4.png', 'd4a77c1d-953b-4ec2-9699-71a46d74e9e8.png', '1366537e-a721-4d01-ac96-13ab64f2dac0.png', '61505cd9-d187-4504-be44-b303d713c498.png', '4ece15d0-8fea-484a-a1dd-9146a46fb703.png', 'ccc9c609-cd01-4723-8818-4a57ed8f435e.png', '363a87b1-a2fe-4dca-b413-a90ee18ff4d9.png', '75faefe4-ae3c-495a-b4b2-0dc88c9dbb37.png', 'd51ed364-c0df-49c0-af6e-9fffbb021e42.png', 'b4c30373-6322-4589-b687-0ffa8ffb9002.png', '53bb58c2-4dbe-4330-919a-be4cf7f70831.png', '4050edab-655c-4b2e-a07f-1438c4326517.png', 'a32e0c8a-73c1-4353-8237-c1216432bb29.png', 'e8780a92-5115-492a-956d-c47a5edd99b8.png', '894723cd-9c0e-4260-a319-fdafdbdf3baa.png', '5cfb18c0-2209-4dbf-bbf4-2b475d8ce609.png', '85a04f61-8989-4e97-b008-ec24857c43d6.png', '5bfe9555-87c2-42eb-a64a-ea9cd01a196d.png', '3d1c4cba-354f-4fa7-bad6-5a7fa77bf5c2.png', '606bdedc-debe-48d1-b337-c24d9b74cb4b.png', 'e9346a8b-cff9-4805-b094-b3d9caa5f446.png', 'ecc2e092-d0b0-4a47-9d24-8e0048df9273.png', '65e91b1d-75b3-4517-8c91-897fd0829acf.png', '9701fc47-d6d9-40be-9205-3906543f2d3b.png', '8cdddea5-f0be-4b7c-8c0b-9e72c3161dfd.png', '7a1ac5a1-eb24-4e5a-96a3-d791bf386a85.png', '31573ec1-797c-45d4-be52-ebdc741a0893.png', '07b18cac-71da-4862-b9b0-e795f381b50a.png', 'c5a7927b-6338-4ba4-88f6-bbc896ae806a.png', 'befa3eac-a064-4acb-b9f1-1133fb474072.png', '5ebaac04-a8a7-4717-af5e-f27c95b0e75f.png', '8f457090-b343-4094-80c9-c0f948900ea2.png', '48bdd725-be34-461f-a17e-b6105c64bc25.png', '537889f5-36e0-4c28-83d8-3479331b8ebe.png', 'df74adab-25eb-475d-bc46-011514b23bf6.png', '636ab627-7625-4cae-9db1-f937ed797e60.png', '6fc1ba89-d593-4410-8054-4e107aa163d0.png', 'b4689ec3-e7fe-4b92-b627-ef4be220a069.png', '1b395bd2-d7cf-41a6-9b39-eb0da8bb6f61.png', 'bbf5329d-ae6a-4385-b8d5-1f842e0468e1.png', '6e2e0b5f-7fb8-4666-9082-99848954cba1.png', '8988843c-f5f3-4263-981b-14be6250c116.png', '845f989b-c9f2-4d4d-b8ca-2e204bbdd2a0.png', '666db6a1-b533-4ab3-a1a6-5a9b6d32fcac.png', 'be84ee46-72de-4741-8487-8d0f225c58a8.png', '34f62215-b3a1-4c05-bd06-d29d75152765.png', '9108a212-9c2a-4e35-8266-68b64fcc66a4.png', '9ee20c89-a69d-42e9-b0e9-0d4b84d23d9f.png', 'c930c0ff-b89c-445c-9864-35d76cef591d.png', '9fad98ac-2b0b-496a-95c4-a0a51e851b54.png', '68c5aee4-7686-483d-bcc0-35f3e864c323.png', 'f1cde9b5-191d-46f3-a9e3-c9fdcd42d4cd.png', 'dc8a05bc-6a4a-4bf6-8d8b-2989d3f13923.png', '1eed9392-91a7-4830-935e-e21997c7dc63.png', '86ab31ad-a465-43f1-a308-66ae480f0964.png', '9d1bd2c0-f2f1-41c6-bcc2-0ad1dae32812.png', 'c8969dd8-c966-49fe-af16-62057f64eaf3.png', '2470624e-e468-438d-81b3-0d98c7097520.png', '28803277-5de5-4930-a0df-7d5c4e14fde2.png', 'c559272a-1acf-4f72-98fa-dc52601aa477.png', '74542609-b027-4169-9a14-a607b81cf4f8.png', '588c5728-4e20-46bd-aac5-0a8c5d48ad9d.png', '4c6d93f2-2857-4d09-8b0d-563610896b96.png', 'e1797a17-6c50-4f1f-8ddc-23150d601c23.png', '6c2456b0-bf4e-42d7-8cbe-2b9c1e9fa814.png', '9ea893c2-35f5-4686-9136-3a23bdc703fe.png', 'b95e0584-f327-46f8-a3ca-7ba01628ac2f.png', 'f9ca5423-8e21-4a0c-9a4d-444e435edf26.png', '56607be6-8fd0-43f2-a9b1-36dd63f80b8c.png', 'b24d854b-6268-44d9-af0d-186e12480ba2.png', 'eafb21d6-4e84-4668-ae83-cb0cf64c2c9c.png', '9994d638-2eeb-4e9e-ba64-ae6cbd5496b2.png', '6269706d-bc14-46ad-8583-3fea77fab279.png', 'fc5877bf-a966-44c5-8e38-301e277a5b91.png', '04e7f2c2-6dd9-487d-b65f-f67f8a998424.png', 'bf818a5f-62a9-495a-ae3b-1af7a6589f4b.png', 'e2506061-8ede-4f17-80e7-469cdb072c37.png', '775f0e34-f813-4e18-b637-a15618e68e1c.png', 'aa90db59-178e-49f0-afdc-b64ac9526048.png', 'f3e2ed87-50a6-4a92-bc3b-fdeea7cbced8.png', '1f12d631-a143-4d5c-b2b1-3ddb776c9d65.png', 'cba896eb-b352-41ff-b1d0-d7f47e2e1a04.png', 'ff20271f-77ca-4624-aaa7-fe387bb2f8a7.png', '3412e125-c156-447c-bdbc-c4b0b819b988.png', '6e91c228-2c5d-478b-9cd9-6ac8e91c93ac.png', '4b078cfa-4218-4d98-83c0-25d799a41ca6.png', 'fedb696f-b5aa-4dd6-97dc-c06f01477d8d.png', '3991c025-5787-4453-a609-3f15d4f366f9.png', '345cdbe8-9d48-49c7-aa22-af5d06793eb5.png', '1c61bee7-1277-4292-9fdf-3078c79ee1d3.png', '556a390c-7aca-4b04-950e-59bd1166bde0.png', '765196dd-c4be-4819-9280-01304a97bbd0.png', '0e8bdf06-8cda-4042-92c1-551d1c88cabf.png', '7f9b095a-1a2b-4a58-b442-a022fee97437.png', '3be1ef5d-ff4e-4c2c-ad12-3f0915f6fb53.png', '8094c68f-f70c-4c22-9593-496dd281ac37.png', '5802157e-1364-4365-be60-4b982b82e118.png', 'eb3487fd-d0e2-4400-9d75-894a998d3444.png', '88093e20-2cf8-453e-ab21-9d54ae8982aa.png', '8cb87f26-251e-4c4c-9739-c37a59275940.png', '66ba28d1-9bae-456e-9052-936a18407a5b.png', 'ff18e565-8f89-4a09-afe4-b85ed7f9ef06.png', 'c8bed480-77a5-4419-b549-504e82be906d.png', 'e926b99e-dac4-47a7-a0a4-4b42e93db8f4.png', '25c5f8ae-aff6-4881-a6ad-5ebb489296db.png', '220d4886-0fc2-4ff4-8755-039201e57a48.png', '383af766-001a-41f3-ae15-586205cccc3a.png', '88d0cf5d-ba26-4da4-9518-9f63509f8f41.png', '0b55bb25-f6d1-4c12-9225-f057a7a5f0af.png', '041804fe-6d71-47b1-9ee8-2af27123ef2c.png', '389391b4-4b28-4715-93b2-0c9217503ad6.png', '8cd5f7e4-910d-4c4e-add5-8fb220267bd7.png', '89956371-11f4-4f53-a0c3-b5bbc8562e58.png', '8cbeff22-7bc9-4bfd-a9d4-1f31bb2686cd.png', '7d3a9892-e7d3-451c-abc1-8d66595025c4.png', '3b425491-3f3d-44e4-b7e8-922e61b9ec60.png', '1b7fe469-d1bc-4d05-9fee-901b1538be2e.png', '88a9f802-4c2c-4f08-8611-551dd8633a7c.png', '38c06e6f-5cb2-42b0-922d-fa436a73b67a.png', '61416558-29f7-406f-b808-b8591203512d.png', '28694256-8a55-4102-9e5c-43d794c4f68a.png', '9a22c0ad-6123-4ab1-a0ed-3399d9cae93e.png', 'caab50e0-1087-49dc-943c-7d2199b86236.png', 'c6f1cb95-e5ed-4943-b398-3ecbcf5a8481.png', 'a3c113c2-eed6-4ad8-a4fe-ab47c27d3f05.png', '85c4d215-81fc-464a-8d4c-73fe368660f9.png', '7937545f-64aa-45aa-89b3-8a90acf1338b.png', '527c263a-a7a3-484e-946d-4819fabf709b.png', '52ac68ba-f2fa-44c6-9861-3284f3c4fa83.png', '51646e58-be26-4163-931a-631d5456fef0.png', '55a15a6c-d734-4a38-b66a-aa08ee011d0a.png', '3cef9ac3-0ecb-49fe-8613-f3accd8361ac.png', '38a2d2cb-57c7-4f55-9dff-b65f60489446.png', '63e1c1db-d825-4792-b389-b113b60f76a6.png', '5373d674-a09b-4a2f-83a5-d798b9955566.png', '00b1d98c-a13d-492c-bc8f-3382a3f3e7d0.png', '10ed6c12-96c7-4b93-9c5d-86ec41e3dec0.png', 'c3aa88b2-c2aa-4d66-8554-fcd871fa08a0.png', '2f0b5daa-1ecc-4e37-90a2-b4a47ab5b50b.png', '60b53326-12ad-4f54-917d-ca194a3aa7c9.png', 'a6040309-6281-46f1-8bec-608563f9f8c4.png', 'bfc08f92-c776-4aff-856c-09ef84942469.png', '71f858b5-eac2-404f-a6b5-be398407ad68.png', 'a9486fcc-95ac-40da-b5e2-ebe4baf9ea15.png', 'afaef548-bf01-4699-99f3-a61d8f5dd682.png', '391e4efa-c4cb-4eff-92f3-ec9fc58965c9.png', '3a74c068-1e80-44a0-b8b7-aa3e6f8f3d75.png', '4ae65002-995f-4906-bc48-32d32f7ae38a.png', 'c560ac33-e9ae-445b-afa7-022322880c6d.png', '6f9881b1-fbdd-4ef5-ae78-ac0944e08358.png', '30e03bbd-534c-44fb-a79f-abe0d407a266.png', '0b6cd033-b55f-4982-95a8-5d38c2dcebb1.png', '50273365-3439-4adc-a5e0-fa755f66aba4.png', '17195f7b-d24c-4ece-aed0-117139b73f71.png', '1b234787-b3e0-4133-85c5-edecbf715e95.png', '32fb23ae-da0b-42f4-b1a9-73f9c9c894f3.png', 'd53bf6f6-931e-4b39-b2c2-38ea1e6c08b7.png', '13422350-742b-4149-8c11-087a43928f2b.png', 'cbd8ae7e-fb22-4330-b5e6-97c141e9d1f8.png', '86c3084d-baa1-44f3-a828-7116681b01d7.png', 'e3b1420c-31e2-4618-89ae-c9935759f4ce.png', '9cf2fc3c-553c-4fbe-b9de-a3ea1e9756d4.png', 'fb2bd32d-53ef-4fa4-8969-dd113a232c28.png', 'b185ce92-8917-40c3-8a96-84e09cca6666.png', 'c61a5781-b0ab-468f-9bb2-b617e5ec0f22.png', '69a569d6-cb21-4018-a8e2-e371235f7f1b.png', '8d311dd7-b32a-49b0-a7ce-094050b46ba7.png', 'a18e36bc-4f3f-44e2-adb5-f6f9c2870d30.png', 'e59077d6-4369-49f5-a156-09834ddfa317.png', '5a31396f-d6da-4edf-8a28-888342403145.png', '4e579aae-7480-4e11-bae9-f96e56f7bb40.png', '627b5345-2209-41a7-9a21-c33239266167.png', '02d301d8-9798-4b6c-a28b-2e321365480f.png', '824931ad-4596-453a-8947-497589c97b92.png', '8a345302-13d8-4287-85c4-0d88200b9be9.png', '321e45db-4f37-4922-9c47-05ffce5cffb1.png', '26b6405a-218a-4083-a2b4-1f509852db98.png', 'b992268a-b095-4d45-8290-3c1c4be1da7b.png', 'afdb3912-0374-45d2-8332-ce91c8c29668.png', '2645d8c8-56c5-4298-90f5-2c0b76a83183.png', 'c7debc9d-b1e0-4805-ac35-f16dcc39b7ad.png', 'cbe1fb32-71e5-4d54-a38d-89d348dded5e.png', '863eef67-a44c-4ab9-8a88-54bb0d7d07f8.png', 'b56fa9c8-fa02-4eec-9f8f-0a84a397fbf8.png', 'a1b8f6c6-5cf2-4935-874e-c31fb9c574e5.png', '0454771a-c9eb-495c-bf0e-6aacaf768671.png', '1f1da248-c21c-49cd-8d18-0a10fa650d6b.png', 'edfcf6fa-f8ea-4754-8ffd-ba6042686ada.png', '3e8438a6-25f7-43b8-b338-f80b59403990.png', 'b946ec89-947a-427a-8090-8f940ee1596e.png', '3f677a2d-9292-42bb-bc26-1d6a3f641398.png', 'edccacb7-9f47-4e38-b00a-30562d2dd175.png', '40ef2114-c3aa-4b6e-bf10-f43ae7585c7e.png', 'd5b3562b-3479-4664-8035-3886c38d980e.png', '7588d27b-73ff-48e2-86d5-df130b5e4bd8.png', 'e90528d8-5d08-463e-b5ef-1ca3c3cca96c.png', '4dfd3e78-7396-4cf5-bdfa-09f0d0206bb9.png', 'b8874b8c-13e9-4b66-8301-85ee1e0d7879.png', '3787f732-8cfa-4a63-8db8-c50d5de2f529.png', 'ceb39e1b-ce64-47c6-9dac-a6ac12c3385e.png', 'ade7e4ae-86c1-4298-b59e-e8332e1adaac.png', 'dc5545e3-d6c0-4097-9afa-2efd258cd899.png', '5c0ee8a7-2a95-47d1-b5cd-28b7fea8fdda.png', '8b3c7419-71a8-4efb-8b81-1089796e9a26.png', '664f7d63-98c2-402a-a9cb-af3c06cc9973.png', '97b4b6d4-4d22-417b-9212-e41a0e232ff5.png', '0b9fe5cf-edfc-4dba-98e9-2223f60d7191.png', '6be269b5-f132-40ae-937e-7887ce1e360b.png', 'c73c8b78-af6d-4a95-9e16-383b8a79cf01.png', '7b816005-a8d7-4506-8e3e-c9fd68602ba5.png', '01b230ca-ea39-4331-8031-143f48d4e45d.png', 'a0301d3b-3767-428c-8ee7-70245d8568b4.png', '4dd3a7da-b919-4b05-b108-ae4dd438d00a.png', '0d0efde8-f8c8-44c0-bb1c-45f82e8c24ad.png', '70bbaf9e-6ede-473f-b0c9-6e287c1fecc3.png', 'b3d7a13a-09de-42d3-92ce-9c2f85f74a98.png', '49bd7b36-8477-4c0c-8b8f-ffff4f1c16fc.png', 'ce74a18b-b6ad-4ee1-9efe-228ca4234f4b.png', '688a95fe-76e9-4f40-a8d9-97aaa7db16b8.png', '02100def-4d10-4cb0-90f0-838332ca08fe.png', 'a80af17c-d827-4da1-9fea-669d18072615.png', '91087166-07a1-4ecb-9e48-c899c90c22a9.png', '69e7d1b6-421f-4d2c-9f2f-56971d550e4a.png', 'f8381422-ae9e-4013-a810-6371ead14e53.png', '222ac605-fa45-45f2-b6b8-319c29a7cbd4.png', '0792800c-1903-4761-b94c-92f675a43735.png', '9f50c88e-8c07-4195-8ef6-1e034edc33a4.png', 'd7f11ad2-1bf7-4285-b39a-bfcd8029136b.png', 'b9082b61-e75a-4052-918a-3918ec611ea1.png', 'd81a782f-fc7e-48d6-90f2-b09a124fa52b.png', '67e791d9-5251-45b4-a588-fed4524767d0.png', '5a7c6582-4f04-4bc3-99e7-d660752a7797.png', '573f81a6-28c9-4da0-8f4a-b25bc26a9dcf.png', '2cf4f86f-a66a-493c-97de-65503f997e4d.png', 'ae319910-1ef3-4752-916f-e4264acd6289.png', 'd0ecc048-7ac7-4cef-9d1a-2900d8805d24.png']\n"
          ],
          "name": "stdout"
        }
      ]
    },
    {
      "cell_type": "code",
      "metadata": {
        "id": "YkfAQPdQHqy-",
        "outputId": "7c15b316-007d-4286-8900-f8072c3ec5b1",
        "colab": {
          "base_uri": "https://localhost:8080/",
          "height": 195
        }
      },
      "source": [
        "testimg = pd.DataFrame(arr, columns=['id'])\n",
        "testimg[\"category\"] = -1\n",
        "testimg.head()"
      ],
      "execution_count": null,
      "outputs": [
        {
          "output_type": "execute_result",
          "data": {
            "text/html": [
              "<div>\n",
              "<style scoped>\n",
              "    .dataframe tbody tr th:only-of-type {\n",
              "        vertical-align: middle;\n",
              "    }\n",
              "\n",
              "    .dataframe tbody tr th {\n",
              "        vertical-align: top;\n",
              "    }\n",
              "\n",
              "    .dataframe thead th {\n",
              "        text-align: right;\n",
              "    }\n",
              "</style>\n",
              "<table border=\"1\" class=\"dataframe\">\n",
              "  <thead>\n",
              "    <tr style=\"text-align: right;\">\n",
              "      <th></th>\n",
              "      <th>id</th>\n",
              "      <th>category</th>\n",
              "    </tr>\n",
              "  </thead>\n",
              "  <tbody>\n",
              "    <tr>\n",
              "      <th>0</th>\n",
              "      <td>bbcd5140-22dd-4f18-92c2-0f3a6794288e.png</td>\n",
              "      <td>-1</td>\n",
              "    </tr>\n",
              "    <tr>\n",
              "      <th>1</th>\n",
              "      <td>98f0920e-47cc-437a-bf93-8de1b06e58aa.png</td>\n",
              "      <td>-1</td>\n",
              "    </tr>\n",
              "    <tr>\n",
              "      <th>2</th>\n",
              "      <td>b16a8ca5-349c-4109-bfe6-c2f3d66bd226.png</td>\n",
              "      <td>-1</td>\n",
              "    </tr>\n",
              "    <tr>\n",
              "      <th>3</th>\n",
              "      <td>7d1433a0-cdda-4281-b836-fee52886d900.png</td>\n",
              "      <td>-1</td>\n",
              "    </tr>\n",
              "    <tr>\n",
              "      <th>4</th>\n",
              "      <td>f8eb8937-f449-4a9c-83c8-4f255388903b.png</td>\n",
              "      <td>-1</td>\n",
              "    </tr>\n",
              "  </tbody>\n",
              "</table>\n",
              "</div>"
            ],
            "text/plain": [
              "                                         id  category\n",
              "0  bbcd5140-22dd-4f18-92c2-0f3a6794288e.png        -1\n",
              "1  98f0920e-47cc-437a-bf93-8de1b06e58aa.png        -1\n",
              "2  b16a8ca5-349c-4109-bfe6-c2f3d66bd226.png        -1\n",
              "3  7d1433a0-cdda-4281-b836-fee52886d900.png        -1\n",
              "4  f8eb8937-f449-4a9c-83c8-4f255388903b.png        -1"
            ]
          },
          "metadata": {
            "tags": []
          },
          "execution_count": 29
        }
      ]
    },
    {
      "cell_type": "code",
      "metadata": {
        "id": "6GOTciugIrEt"
      },
      "source": [
        "testimg.to_csv('test_img.csv', index=False)"
      ],
      "execution_count": null,
      "outputs": []
    },
    {
      "cell_type": "code",
      "metadata": {
        "id": "wzQtQZQIGeCF"
      },
      "source": [
        "class getdata():\n",
        "    def __init__(self,data_path,label_path):\n",
        "      self.dataPath = data_path\n",
        "      self.labelPath = label_path\n",
        "      self.label_df = pd.read_csv(label_path)\n",
        "      self.dataFile = self.label_df['id'].values\n",
        "      self.label = self.label_df['category'].values\n",
        "      self.n_index = len(self.dataFile)\n",
        "        \n",
        "    \n",
        "    def get1img(self,img_index,mode='rgb',label = False):\n",
        "      img = cv2.imread( os.path.join(self.dataPath,self.label_df.iloc[img_index]['id']) )\n",
        "      if mode == 'rgb':\n",
        "          img = cv2.cvtColor(img, cv2.COLOR_BGR2RGB)\n",
        "      elif mode == 'gray':\n",
        "          img = cv2.cvtColor(img,cv2.COLOR_BGR2GRAY)\n",
        "      if label:\n",
        "          return img,self.label_df.iloc[img_index]['category']\n",
        "      return img\n"
      ],
      "execution_count": null,
      "outputs": []
    },
    {
      "cell_type": "code",
      "metadata": {
        "id": "PreTZ3xMFnw0",
        "outputId": "808280d2-d24e-45cd-d38d-54e570c29f44",
        "colab": {
          "base_uri": "https://localhost:8080/",
          "height": 722
        }
      },
      "source": [
        "# ทำรูปในชัด แล้วไปเซฟไว้ใน test cropped data\n",
        "gdt = getdata(\"/content/dataset/test\", \"/content/test_img.csv\")\n",
        "\n",
        "X = []\n",
        "import png\n",
        "for i in range(gdt.n_index):\n",
        "    X.append(thes_resize(gdt.get1img(i, 'gray')))\n",
        "    png.from_array(X[i], 'L').save(\"/content/test cropped data/\" + gdt.dataFile[i])\n",
        "    if (i+1) % 100 == 0:\n",
        "        print(i)\n",
        "# X = np.array(X)"
      ],
      "execution_count": null,
      "outputs": [
        {
          "output_type": "stream",
          "text": [
            "99\n",
            "199\n",
            "299\n",
            "399\n",
            "499\n",
            "599\n",
            "699\n",
            "799\n",
            "899\n",
            "999\n",
            "1099\n",
            "1199\n",
            "1299\n",
            "1399\n",
            "1499\n",
            "1599\n",
            "1699\n",
            "1799\n",
            "1899\n",
            "1999\n",
            "2099\n",
            "2199\n",
            "2299\n",
            "2399\n",
            "2499\n",
            "2599\n",
            "2699\n",
            "2799\n",
            "2899\n",
            "2999\n",
            "3099\n",
            "3199\n",
            "3299\n",
            "3399\n",
            "3499\n",
            "3599\n",
            "3699\n",
            "3799\n",
            "3899\n",
            "3999\n",
            "4099\n",
            "4199\n"
          ],
          "name": "stdout"
        }
      ]
    },
    {
      "cell_type": "code",
      "metadata": {
        "id": "6AjPG_8evLJi",
        "outputId": "b73d9baa-534b-475f-9e7c-f60f7fce85aa",
        "colab": {
          "base_uri": "https://localhost:8080/",
          "height": 195
        }
      },
      "source": [
        "submit_df=pd.read_csv(\"/content/dataset/test.rules.csv\",dtype=str)\n",
        "submit_df.head()"
      ],
      "execution_count": null,
      "outputs": [
        {
          "output_type": "execute_result",
          "data": {
            "text/html": [
              "<div>\n",
              "<style scoped>\n",
              "    .dataframe tbody tr th:only-of-type {\n",
              "        vertical-align: middle;\n",
              "    }\n",
              "\n",
              "    .dataframe tbody tr th {\n",
              "        vertical-align: top;\n",
              "    }\n",
              "\n",
              "    .dataframe thead th {\n",
              "        text-align: right;\n",
              "    }\n",
              "</style>\n",
              "<table border=\"1\" class=\"dataframe\">\n",
              "  <thead>\n",
              "    <tr style=\"text-align: right;\">\n",
              "      <th></th>\n",
              "      <th>id</th>\n",
              "      <th>feature1</th>\n",
              "      <th>feature2</th>\n",
              "      <th>feature3</th>\n",
              "      <th>predict</th>\n",
              "    </tr>\n",
              "  </thead>\n",
              "  <tbody>\n",
              "    <tr>\n",
              "      <th>0</th>\n",
              "      <td>5339e74f-56f2-48f1-bab2-59d5f8aa030a</td>\n",
              "      <td>NaN</td>\n",
              "      <td>72f260fb-5e89-4f99-928a-5db931c4eb65.png</td>\n",
              "      <td>f30827c8-f17e-4ab4-b668-9cae733819cd.png</td>\n",
              "      <td>NaN</td>\n",
              "    </tr>\n",
              "    <tr>\n",
              "      <th>1</th>\n",
              "      <td>b4ed46c8-4bcb-46c9-b8af-f833d4351849</td>\n",
              "      <td>NaN</td>\n",
              "      <td>72f260fb-5e89-4f99-928a-5db931c4eb65.png</td>\n",
              "      <td>f30827c8-f17e-4ab4-b668-9cae733819cd.png</td>\n",
              "      <td>NaN</td>\n",
              "    </tr>\n",
              "    <tr>\n",
              "      <th>2</th>\n",
              "      <td>09a42f96-dd78-499c-9772-b4be5bbf04f7</td>\n",
              "      <td>NaN</td>\n",
              "      <td>5f463395-957b-4b0f-b813-0494d75fa70c.png</td>\n",
              "      <td>feaa5a12-222c-4912-b68a-c8e4c5437a62.png</td>\n",
              "      <td>NaN</td>\n",
              "    </tr>\n",
              "    <tr>\n",
              "      <th>3</th>\n",
              "      <td>baeeeb75-2845-4d33-a099-d0e32ec48078</td>\n",
              "      <td>NaN</td>\n",
              "      <td>c6d635e1-e60e-4ad0-949e-d50d0cbc09b7.png</td>\n",
              "      <td>469661c1-aea7-435e-be79-51882f790ccc.png</td>\n",
              "      <td>NaN</td>\n",
              "    </tr>\n",
              "    <tr>\n",
              "      <th>4</th>\n",
              "      <td>e1d1881e-6273-4225-b5ca-3b91d79fe626</td>\n",
              "      <td>NaN</td>\n",
              "      <td>d21ea15d-582f-473c-b319-b3907bbca405.png</td>\n",
              "      <td>c4359d1d-80fb-4aae-8b76-8bcaf043ee24.png</td>\n",
              "      <td>NaN</td>\n",
              "    </tr>\n",
              "  </tbody>\n",
              "</table>\n",
              "</div>"
            ],
            "text/plain": [
              "                                     id  ... predict\n",
              "0  5339e74f-56f2-48f1-bab2-59d5f8aa030a  ...     NaN\n",
              "1  b4ed46c8-4bcb-46c9-b8af-f833d4351849  ...     NaN\n",
              "2  09a42f96-dd78-499c-9772-b4be5bbf04f7  ...     NaN\n",
              "3  baeeeb75-2845-4d33-a099-d0e32ec48078  ...     NaN\n",
              "4  e1d1881e-6273-4225-b5ca-3b91d79fe626  ...     NaN\n",
              "\n",
              "[5 rows x 5 columns]"
            ]
          },
          "metadata": {
            "tags": []
          },
          "execution_count": 33
        }
      ]
    },
    {
      "cell_type": "code",
      "metadata": {
        "id": "boX_W78zC5U4",
        "outputId": "28dfc5b4-4ab0-4800-b088-6ce939bccf16",
        "colab": {
          "base_uri": "https://localhost:8080/",
          "height": 570
        }
      },
      "source": [
        "submit_df = submit_df.fillna(\"-1\")\n",
        "submit_df"
      ],
      "execution_count": null,
      "outputs": [
        {
          "output_type": "execute_result",
          "data": {
            "text/html": [
              "<div>\n",
              "<style scoped>\n",
              "    .dataframe tbody tr th:only-of-type {\n",
              "        vertical-align: middle;\n",
              "    }\n",
              "\n",
              "    .dataframe tbody tr th {\n",
              "        vertical-align: top;\n",
              "    }\n",
              "\n",
              "    .dataframe thead th {\n",
              "        text-align: right;\n",
              "    }\n",
              "</style>\n",
              "<table border=\"1\" class=\"dataframe\">\n",
              "  <thead>\n",
              "    <tr style=\"text-align: right;\">\n",
              "      <th></th>\n",
              "      <th>id</th>\n",
              "      <th>feature1</th>\n",
              "      <th>feature2</th>\n",
              "      <th>feature3</th>\n",
              "      <th>predict</th>\n",
              "    </tr>\n",
              "  </thead>\n",
              "  <tbody>\n",
              "    <tr>\n",
              "      <th>0</th>\n",
              "      <td>5339e74f-56f2-48f1-bab2-59d5f8aa030a</td>\n",
              "      <td>-1</td>\n",
              "      <td>72f260fb-5e89-4f99-928a-5db931c4eb65.png</td>\n",
              "      <td>f30827c8-f17e-4ab4-b668-9cae733819cd.png</td>\n",
              "      <td>-1</td>\n",
              "    </tr>\n",
              "    <tr>\n",
              "      <th>1</th>\n",
              "      <td>b4ed46c8-4bcb-46c9-b8af-f833d4351849</td>\n",
              "      <td>-1</td>\n",
              "      <td>72f260fb-5e89-4f99-928a-5db931c4eb65.png</td>\n",
              "      <td>f30827c8-f17e-4ab4-b668-9cae733819cd.png</td>\n",
              "      <td>-1</td>\n",
              "    </tr>\n",
              "    <tr>\n",
              "      <th>2</th>\n",
              "      <td>09a42f96-dd78-499c-9772-b4be5bbf04f7</td>\n",
              "      <td>-1</td>\n",
              "      <td>5f463395-957b-4b0f-b813-0494d75fa70c.png</td>\n",
              "      <td>feaa5a12-222c-4912-b68a-c8e4c5437a62.png</td>\n",
              "      <td>-1</td>\n",
              "    </tr>\n",
              "    <tr>\n",
              "      <th>3</th>\n",
              "      <td>baeeeb75-2845-4d33-a099-d0e32ec48078</td>\n",
              "      <td>-1</td>\n",
              "      <td>c6d635e1-e60e-4ad0-949e-d50d0cbc09b7.png</td>\n",
              "      <td>469661c1-aea7-435e-be79-51882f790ccc.png</td>\n",
              "      <td>-1</td>\n",
              "    </tr>\n",
              "    <tr>\n",
              "      <th>4</th>\n",
              "      <td>e1d1881e-6273-4225-b5ca-3b91d79fe626</td>\n",
              "      <td>-1</td>\n",
              "      <td>d21ea15d-582f-473c-b319-b3907bbca405.png</td>\n",
              "      <td>c4359d1d-80fb-4aae-8b76-8bcaf043ee24.png</td>\n",
              "      <td>-1</td>\n",
              "    </tr>\n",
              "    <tr>\n",
              "      <th>...</th>\n",
              "      <td>...</td>\n",
              "      <td>...</td>\n",
              "      <td>...</td>\n",
              "      <td>...</td>\n",
              "      <td>...</td>\n",
              "    </tr>\n",
              "    <tr>\n",
              "      <th>19995</th>\n",
              "      <td>517b1d08-e416-4950-880e-a06f4ba0e2ff</td>\n",
              "      <td>dfa408b2-0c5d-427d-a2c7-d88f1d34cac2.png</td>\n",
              "      <td>867b7956-8aaf-4f71-bc0a-a3082c9b28fd.png</td>\n",
              "      <td>eccfcdd3-05ed-4e44-bc8c-65087baf22e1.png</td>\n",
              "      <td>-1</td>\n",
              "    </tr>\n",
              "    <tr>\n",
              "      <th>19996</th>\n",
              "      <td>e1fd0fe1-ca87-4797-91c5-9147918ffb04</td>\n",
              "      <td>-1</td>\n",
              "      <td>c8969dd8-c966-49fe-af16-62057f64eaf3.png</td>\n",
              "      <td>5fd68ded-796b-4001-ac9d-c765f25e081f.png</td>\n",
              "      <td>-1</td>\n",
              "    </tr>\n",
              "    <tr>\n",
              "      <th>19997</th>\n",
              "      <td>0713dc83-0cd3-4a80-9081-02d24edf78c6</td>\n",
              "      <td>-1</td>\n",
              "      <td>05948632-01a1-4b4e-a988-bfdc192fc489.png</td>\n",
              "      <td>ef05172a-2127-4ae8-a716-0dfab4bd34b8.png</td>\n",
              "      <td>-1</td>\n",
              "    </tr>\n",
              "    <tr>\n",
              "      <th>19998</th>\n",
              "      <td>8f2826c2-57b7-4f22-af87-968c317cfd21</td>\n",
              "      <td>5ec32093-1be0-44d1-9681-caef50b6e266.png</td>\n",
              "      <td>eda9cc8c-b7b1-40ce-a0c1-a211e3aed3d4.png</td>\n",
              "      <td>a35b95c5-c6b3-43b3-94d7-166cdf6f1c15.png</td>\n",
              "      <td>-1</td>\n",
              "    </tr>\n",
              "    <tr>\n",
              "      <th>19999</th>\n",
              "      <td>91824f78-f764-4205-80ae-dd83bbc274e5</td>\n",
              "      <td>-1</td>\n",
              "      <td>8c7ca7eb-2619-4d99-85f2-3b417b405b41.png</td>\n",
              "      <td>57546957-5fbb-443a-88fd-88c807307c20.png</td>\n",
              "      <td>-1</td>\n",
              "    </tr>\n",
              "  </tbody>\n",
              "</table>\n",
              "<p>20000 rows × 5 columns</p>\n",
              "</div>"
            ],
            "text/plain": [
              "                                         id  ... predict\n",
              "0      5339e74f-56f2-48f1-bab2-59d5f8aa030a  ...      -1\n",
              "1      b4ed46c8-4bcb-46c9-b8af-f833d4351849  ...      -1\n",
              "2      09a42f96-dd78-499c-9772-b4be5bbf04f7  ...      -1\n",
              "3      baeeeb75-2845-4d33-a099-d0e32ec48078  ...      -1\n",
              "4      e1d1881e-6273-4225-b5ca-3b91d79fe626  ...      -1\n",
              "...                                     ...  ...     ...\n",
              "19995  517b1d08-e416-4950-880e-a06f4ba0e2ff  ...      -1\n",
              "19996  e1fd0fe1-ca87-4797-91c5-9147918ffb04  ...      -1\n",
              "19997  0713dc83-0cd3-4a80-9081-02d24edf78c6  ...      -1\n",
              "19998  8f2826c2-57b7-4f22-af87-968c317cfd21  ...      -1\n",
              "19999  91824f78-f764-4205-80ae-dd83bbc274e5  ...      -1\n",
              "\n",
              "[20000 rows x 5 columns]"
            ]
          },
          "metadata": {
            "tags": []
          },
          "execution_count": 34
        }
      ]
    },
    {
      "cell_type": "code",
      "metadata": {
        "id": "6wZkk-jGDLwc",
        "outputId": "99114c80-3b97-4c0e-85ab-39cacc886f4d",
        "colab": {
          "base_uri": "https://localhost:8080/",
          "height": 431
        }
      },
      "source": [
        "submit_df.groupby('feature1').count()"
      ],
      "execution_count": null,
      "outputs": [
        {
          "output_type": "execute_result",
          "data": {
            "text/html": [
              "<div>\n",
              "<style scoped>\n",
              "    .dataframe tbody tr th:only-of-type {\n",
              "        vertical-align: middle;\n",
              "    }\n",
              "\n",
              "    .dataframe tbody tr th {\n",
              "        vertical-align: top;\n",
              "    }\n",
              "\n",
              "    .dataframe thead th {\n",
              "        text-align: right;\n",
              "    }\n",
              "</style>\n",
              "<table border=\"1\" class=\"dataframe\">\n",
              "  <thead>\n",
              "    <tr style=\"text-align: right;\">\n",
              "      <th></th>\n",
              "      <th>id</th>\n",
              "      <th>feature2</th>\n",
              "      <th>feature3</th>\n",
              "      <th>predict</th>\n",
              "    </tr>\n",
              "    <tr>\n",
              "      <th>feature1</th>\n",
              "      <th></th>\n",
              "      <th></th>\n",
              "      <th></th>\n",
              "      <th></th>\n",
              "    </tr>\n",
              "  </thead>\n",
              "  <tbody>\n",
              "    <tr>\n",
              "      <th>-1</th>\n",
              "      <td>16948</td>\n",
              "      <td>16948</td>\n",
              "      <td>16948</td>\n",
              "      <td>16948</td>\n",
              "    </tr>\n",
              "    <tr>\n",
              "      <th>0027c93a-fb30-446c-b1b9-14d76191cccb.png</th>\n",
              "      <td>1</td>\n",
              "      <td>1</td>\n",
              "      <td>1</td>\n",
              "      <td>1</td>\n",
              "    </tr>\n",
              "    <tr>\n",
              "      <th>0089842a-a462-4f1b-9530-40af678fed1e.png</th>\n",
              "      <td>3</td>\n",
              "      <td>3</td>\n",
              "      <td>3</td>\n",
              "      <td>3</td>\n",
              "    </tr>\n",
              "    <tr>\n",
              "      <th>00b1d98c-a13d-492c-bc8f-3382a3f3e7d0.png</th>\n",
              "      <td>1</td>\n",
              "      <td>1</td>\n",
              "      <td>1</td>\n",
              "      <td>1</td>\n",
              "    </tr>\n",
              "    <tr>\n",
              "      <th>00d8260e-701a-4f45-876b-63906f24d9f7.png</th>\n",
              "      <td>1</td>\n",
              "      <td>1</td>\n",
              "      <td>1</td>\n",
              "      <td>1</td>\n",
              "    </tr>\n",
              "    <tr>\n",
              "      <th>...</th>\n",
              "      <td>...</td>\n",
              "      <td>...</td>\n",
              "      <td>...</td>\n",
              "      <td>...</td>\n",
              "    </tr>\n",
              "    <tr>\n",
              "      <th>ff18e565-8f89-4a09-afe4-b85ed7f9ef06.png</th>\n",
              "      <td>3</td>\n",
              "      <td>3</td>\n",
              "      <td>3</td>\n",
              "      <td>3</td>\n",
              "    </tr>\n",
              "    <tr>\n",
              "      <th>ff20271f-77ca-4624-aaa7-fe387bb2f8a7.png</th>\n",
              "      <td>2</td>\n",
              "      <td>2</td>\n",
              "      <td>2</td>\n",
              "      <td>2</td>\n",
              "    </tr>\n",
              "    <tr>\n",
              "      <th>ff7c65bf-cf43-45d9-9f72-a87a8bf56100.png</th>\n",
              "      <td>2</td>\n",
              "      <td>2</td>\n",
              "      <td>2</td>\n",
              "      <td>2</td>\n",
              "    </tr>\n",
              "    <tr>\n",
              "      <th>ff880d1f-370a-4623-b0e2-dc2e6ebf07c6.png</th>\n",
              "      <td>1</td>\n",
              "      <td>1</td>\n",
              "      <td>1</td>\n",
              "      <td>1</td>\n",
              "    </tr>\n",
              "    <tr>\n",
              "      <th>ff8e2a37-ca4b-4103-bbdb-0083bc27c177.png</th>\n",
              "      <td>1</td>\n",
              "      <td>1</td>\n",
              "      <td>1</td>\n",
              "      <td>1</td>\n",
              "    </tr>\n",
              "  </tbody>\n",
              "</table>\n",
              "<p>1755 rows × 4 columns</p>\n",
              "</div>"
            ],
            "text/plain": [
              "                                             id  feature2  feature3  predict\n",
              "feature1                                                                    \n",
              "-1                                        16948     16948     16948    16948\n",
              "0027c93a-fb30-446c-b1b9-14d76191cccb.png      1         1         1        1\n",
              "0089842a-a462-4f1b-9530-40af678fed1e.png      3         3         3        3\n",
              "00b1d98c-a13d-492c-bc8f-3382a3f3e7d0.png      1         1         1        1\n",
              "00d8260e-701a-4f45-876b-63906f24d9f7.png      1         1         1        1\n",
              "...                                         ...       ...       ...      ...\n",
              "ff18e565-8f89-4a09-afe4-b85ed7f9ef06.png      3         3         3        3\n",
              "ff20271f-77ca-4624-aaa7-fe387bb2f8a7.png      2         2         2        2\n",
              "ff7c65bf-cf43-45d9-9f72-a87a8bf56100.png      2         2         2        2\n",
              "ff880d1f-370a-4623-b0e2-dc2e6ebf07c6.png      1         1         1        1\n",
              "ff8e2a37-ca4b-4103-bbdb-0083bc27c177.png      1         1         1        1\n",
              "\n",
              "[1755 rows x 4 columns]"
            ]
          },
          "metadata": {
            "tags": []
          },
          "execution_count": 35
        }
      ]
    },
    {
      "cell_type": "code",
      "metadata": {
        "id": "g8jSbzO9C9cf",
        "outputId": "c4c01bc2-8035-4948-ef0c-af2fd58e8060",
        "colab": {
          "base_uri": "https://localhost:8080/",
          "height": 402
        }
      },
      "source": [
        "submit_nan = submit_df.loc[ submit_df[\"feature1\"] == \"-1\"]\n",
        "submit_nan"
      ],
      "execution_count": null,
      "outputs": [
        {
          "output_type": "execute_result",
          "data": {
            "text/html": [
              "<div>\n",
              "<style scoped>\n",
              "    .dataframe tbody tr th:only-of-type {\n",
              "        vertical-align: middle;\n",
              "    }\n",
              "\n",
              "    .dataframe tbody tr th {\n",
              "        vertical-align: top;\n",
              "    }\n",
              "\n",
              "    .dataframe thead th {\n",
              "        text-align: right;\n",
              "    }\n",
              "</style>\n",
              "<table border=\"1\" class=\"dataframe\">\n",
              "  <thead>\n",
              "    <tr style=\"text-align: right;\">\n",
              "      <th></th>\n",
              "      <th>id</th>\n",
              "      <th>feature1</th>\n",
              "      <th>feature2</th>\n",
              "      <th>feature3</th>\n",
              "      <th>predict</th>\n",
              "    </tr>\n",
              "  </thead>\n",
              "  <tbody>\n",
              "    <tr>\n",
              "      <th>0</th>\n",
              "      <td>5339e74f-56f2-48f1-bab2-59d5f8aa030a</td>\n",
              "      <td>-1</td>\n",
              "      <td>72f260fb-5e89-4f99-928a-5db931c4eb65.png</td>\n",
              "      <td>f30827c8-f17e-4ab4-b668-9cae733819cd.png</td>\n",
              "      <td>-1</td>\n",
              "    </tr>\n",
              "    <tr>\n",
              "      <th>1</th>\n",
              "      <td>b4ed46c8-4bcb-46c9-b8af-f833d4351849</td>\n",
              "      <td>-1</td>\n",
              "      <td>72f260fb-5e89-4f99-928a-5db931c4eb65.png</td>\n",
              "      <td>f30827c8-f17e-4ab4-b668-9cae733819cd.png</td>\n",
              "      <td>-1</td>\n",
              "    </tr>\n",
              "    <tr>\n",
              "      <th>2</th>\n",
              "      <td>09a42f96-dd78-499c-9772-b4be5bbf04f7</td>\n",
              "      <td>-1</td>\n",
              "      <td>5f463395-957b-4b0f-b813-0494d75fa70c.png</td>\n",
              "      <td>feaa5a12-222c-4912-b68a-c8e4c5437a62.png</td>\n",
              "      <td>-1</td>\n",
              "    </tr>\n",
              "    <tr>\n",
              "      <th>3</th>\n",
              "      <td>baeeeb75-2845-4d33-a099-d0e32ec48078</td>\n",
              "      <td>-1</td>\n",
              "      <td>c6d635e1-e60e-4ad0-949e-d50d0cbc09b7.png</td>\n",
              "      <td>469661c1-aea7-435e-be79-51882f790ccc.png</td>\n",
              "      <td>-1</td>\n",
              "    </tr>\n",
              "    <tr>\n",
              "      <th>4</th>\n",
              "      <td>e1d1881e-6273-4225-b5ca-3b91d79fe626</td>\n",
              "      <td>-1</td>\n",
              "      <td>d21ea15d-582f-473c-b319-b3907bbca405.png</td>\n",
              "      <td>c4359d1d-80fb-4aae-8b76-8bcaf043ee24.png</td>\n",
              "      <td>-1</td>\n",
              "    </tr>\n",
              "    <tr>\n",
              "      <th>...</th>\n",
              "      <td>...</td>\n",
              "      <td>...</td>\n",
              "      <td>...</td>\n",
              "      <td>...</td>\n",
              "      <td>...</td>\n",
              "    </tr>\n",
              "    <tr>\n",
              "      <th>19992</th>\n",
              "      <td>58a7b16f-ac68-43c6-9478-d1db2df01c6d</td>\n",
              "      <td>-1</td>\n",
              "      <td>f7faad65-eb05-4c40-a54d-f745ba4e9af3.png</td>\n",
              "      <td>b5d11553-2e38-40b2-90ff-10e061344b66.png</td>\n",
              "      <td>-1</td>\n",
              "    </tr>\n",
              "    <tr>\n",
              "      <th>19994</th>\n",
              "      <td>c5ed1d3b-f2bd-4a46-ae02-1473104bc40d</td>\n",
              "      <td>-1</td>\n",
              "      <td>31977b33-58a9-4de3-917f-7ca68c0c31ab.png</td>\n",
              "      <td>6c6ccc11-9918-470a-908c-656908ab2542.png</td>\n",
              "      <td>-1</td>\n",
              "    </tr>\n",
              "    <tr>\n",
              "      <th>19996</th>\n",
              "      <td>e1fd0fe1-ca87-4797-91c5-9147918ffb04</td>\n",
              "      <td>-1</td>\n",
              "      <td>c8969dd8-c966-49fe-af16-62057f64eaf3.png</td>\n",
              "      <td>5fd68ded-796b-4001-ac9d-c765f25e081f.png</td>\n",
              "      <td>-1</td>\n",
              "    </tr>\n",
              "    <tr>\n",
              "      <th>19997</th>\n",
              "      <td>0713dc83-0cd3-4a80-9081-02d24edf78c6</td>\n",
              "      <td>-1</td>\n",
              "      <td>05948632-01a1-4b4e-a988-bfdc192fc489.png</td>\n",
              "      <td>ef05172a-2127-4ae8-a716-0dfab4bd34b8.png</td>\n",
              "      <td>-1</td>\n",
              "    </tr>\n",
              "    <tr>\n",
              "      <th>19999</th>\n",
              "      <td>91824f78-f764-4205-80ae-dd83bbc274e5</td>\n",
              "      <td>-1</td>\n",
              "      <td>8c7ca7eb-2619-4d99-85f2-3b417b405b41.png</td>\n",
              "      <td>57546957-5fbb-443a-88fd-88c807307c20.png</td>\n",
              "      <td>-1</td>\n",
              "    </tr>\n",
              "  </tbody>\n",
              "</table>\n",
              "<p>16948 rows × 5 columns</p>\n",
              "</div>"
            ],
            "text/plain": [
              "                                         id  ... predict\n",
              "0      5339e74f-56f2-48f1-bab2-59d5f8aa030a  ...      -1\n",
              "1      b4ed46c8-4bcb-46c9-b8af-f833d4351849  ...      -1\n",
              "2      09a42f96-dd78-499c-9772-b4be5bbf04f7  ...      -1\n",
              "3      baeeeb75-2845-4d33-a099-d0e32ec48078  ...      -1\n",
              "4      e1d1881e-6273-4225-b5ca-3b91d79fe626  ...      -1\n",
              "...                                     ...  ...     ...\n",
              "19992  58a7b16f-ac68-43c6-9478-d1db2df01c6d  ...      -1\n",
              "19994  c5ed1d3b-f2bd-4a46-ae02-1473104bc40d  ...      -1\n",
              "19996  e1fd0fe1-ca87-4797-91c5-9147918ffb04  ...      -1\n",
              "19997  0713dc83-0cd3-4a80-9081-02d24edf78c6  ...      -1\n",
              "19999  91824f78-f764-4205-80ae-dd83bbc274e5  ...      -1\n",
              "\n",
              "[16948 rows x 5 columns]"
            ]
          },
          "metadata": {
            "tags": []
          },
          "execution_count": 36
        }
      ]
    },
    {
      "cell_type": "code",
      "metadata": {
        "id": "X4nd9VuRC-tH",
        "outputId": "e5a358f3-3ce1-4f8b-acab-46b4c05fbc7b",
        "colab": {
          "base_uri": "https://localhost:8080/",
          "height": 570
        }
      },
      "source": [
        "submit_df = submit_df.drop(submit_df[submit_df.feature1 == \"-1\"].index)\n",
        "submit_df"
      ],
      "execution_count": null,
      "outputs": [
        {
          "output_type": "execute_result",
          "data": {
            "text/html": [
              "<div>\n",
              "<style scoped>\n",
              "    .dataframe tbody tr th:only-of-type {\n",
              "        vertical-align: middle;\n",
              "    }\n",
              "\n",
              "    .dataframe tbody tr th {\n",
              "        vertical-align: top;\n",
              "    }\n",
              "\n",
              "    .dataframe thead th {\n",
              "        text-align: right;\n",
              "    }\n",
              "</style>\n",
              "<table border=\"1\" class=\"dataframe\">\n",
              "  <thead>\n",
              "    <tr style=\"text-align: right;\">\n",
              "      <th></th>\n",
              "      <th>id</th>\n",
              "      <th>feature1</th>\n",
              "      <th>feature2</th>\n",
              "      <th>feature3</th>\n",
              "      <th>predict</th>\n",
              "    </tr>\n",
              "  </thead>\n",
              "  <tbody>\n",
              "    <tr>\n",
              "      <th>10318</th>\n",
              "      <td>748aed78-18c9-4d06-8d29-38d139c0ab64</td>\n",
              "      <td>231f0bfe-4a61-4d4c-be14-f017c5aa47a6.png</td>\n",
              "      <td>ccd0a9d1-8e9a-46a7-8a0e-1597d9b45436.png</td>\n",
              "      <td>ed10665a-a38c-400f-8287-b2e2ab665d1c.png</td>\n",
              "      <td>-1</td>\n",
              "    </tr>\n",
              "    <tr>\n",
              "      <th>10333</th>\n",
              "      <td>e4849f64-a990-4c10-8d3c-701b9d058b1e</td>\n",
              "      <td>a5946b1c-cc6b-4b41-932f-cfc12a19d034.png</td>\n",
              "      <td>056f9825-4f58-436e-93bb-127b190b74b6.png</td>\n",
              "      <td>b15a12f5-9ef2-493c-8ec8-1c0df7bbde7a.png</td>\n",
              "      <td>-1</td>\n",
              "    </tr>\n",
              "    <tr>\n",
              "      <th>10360</th>\n",
              "      <td>180b08fa-c141-4430-a134-614b162726d1</td>\n",
              "      <td>1b7236d0-be6b-4a19-b704-8647c5c2f376.png</td>\n",
              "      <td>25e2a886-8e3e-4e6a-b2aa-3a5dcff91173.png</td>\n",
              "      <td>c3f46259-eed7-40ac-84bd-ac45ac97f6dd.png</td>\n",
              "      <td>-1</td>\n",
              "    </tr>\n",
              "    <tr>\n",
              "      <th>10376</th>\n",
              "      <td>f4459397-2999-46ef-8f98-c8e312189211</td>\n",
              "      <td>efba533f-2274-45fe-af1b-f3d139e461be.png</td>\n",
              "      <td>83f9f307-addc-4f01-abb7-e7b31e00d8b6.png</td>\n",
              "      <td>30c139df-ea3a-43a4-9d66-82e35e187aa6.png</td>\n",
              "      <td>-1</td>\n",
              "    </tr>\n",
              "    <tr>\n",
              "      <th>10406</th>\n",
              "      <td>71637035-45dd-4f63-992f-19fc18b7d414</td>\n",
              "      <td>998b54ce-2cfa-43fc-b156-a42480ff9953.png</td>\n",
              "      <td>ce1452cb-595c-45a1-bd9b-24a350b7f849.png</td>\n",
              "      <td>8b54ae01-22b8-441c-b149-c52b68749f22.png</td>\n",
              "      <td>-1</td>\n",
              "    </tr>\n",
              "    <tr>\n",
              "      <th>...</th>\n",
              "      <td>...</td>\n",
              "      <td>...</td>\n",
              "      <td>...</td>\n",
              "      <td>...</td>\n",
              "      <td>...</td>\n",
              "    </tr>\n",
              "    <tr>\n",
              "      <th>19990</th>\n",
              "      <td>525a7f14-2a58-44c4-967f-57cee2eb8a79</td>\n",
              "      <td>171d39cc-8720-4125-a748-2bb9e49bb549.png</td>\n",
              "      <td>df2615a6-d33b-42c9-b55d-77966572ac5c.png</td>\n",
              "      <td>ebfc88d4-1fa7-4c82-82c9-5f8646a983ab.png</td>\n",
              "      <td>-1</td>\n",
              "    </tr>\n",
              "    <tr>\n",
              "      <th>19991</th>\n",
              "      <td>c4dd630c-e49c-47c6-afd3-2e7c155f283b</td>\n",
              "      <td>60becc71-da59-4fe2-82e7-4f5ff0e89e3b.png</td>\n",
              "      <td>e3c16763-09d1-411a-957f-de197c63a8f3.png</td>\n",
              "      <td>83df9bb0-606c-4ad7-b06c-a253b3e19560.png</td>\n",
              "      <td>-1</td>\n",
              "    </tr>\n",
              "    <tr>\n",
              "      <th>19993</th>\n",
              "      <td>7d70a1d8-6b42-4bbd-993b-5f0fed230134</td>\n",
              "      <td>1f3d3955-158f-4d2a-bde5-d110445fc117.png</td>\n",
              "      <td>67c8e554-65c7-4a7a-a096-408eb14e8654.png</td>\n",
              "      <td>94530394-3653-4f8f-8256-728ed54cf766.png</td>\n",
              "      <td>-1</td>\n",
              "    </tr>\n",
              "    <tr>\n",
              "      <th>19995</th>\n",
              "      <td>517b1d08-e416-4950-880e-a06f4ba0e2ff</td>\n",
              "      <td>dfa408b2-0c5d-427d-a2c7-d88f1d34cac2.png</td>\n",
              "      <td>867b7956-8aaf-4f71-bc0a-a3082c9b28fd.png</td>\n",
              "      <td>eccfcdd3-05ed-4e44-bc8c-65087baf22e1.png</td>\n",
              "      <td>-1</td>\n",
              "    </tr>\n",
              "    <tr>\n",
              "      <th>19998</th>\n",
              "      <td>8f2826c2-57b7-4f22-af87-968c317cfd21</td>\n",
              "      <td>5ec32093-1be0-44d1-9681-caef50b6e266.png</td>\n",
              "      <td>eda9cc8c-b7b1-40ce-a0c1-a211e3aed3d4.png</td>\n",
              "      <td>a35b95c5-c6b3-43b3-94d7-166cdf6f1c15.png</td>\n",
              "      <td>-1</td>\n",
              "    </tr>\n",
              "  </tbody>\n",
              "</table>\n",
              "<p>3052 rows × 5 columns</p>\n",
              "</div>"
            ],
            "text/plain": [
              "                                         id  ... predict\n",
              "10318  748aed78-18c9-4d06-8d29-38d139c0ab64  ...      -1\n",
              "10333  e4849f64-a990-4c10-8d3c-701b9d058b1e  ...      -1\n",
              "10360  180b08fa-c141-4430-a134-614b162726d1  ...      -1\n",
              "10376  f4459397-2999-46ef-8f98-c8e312189211  ...      -1\n",
              "10406  71637035-45dd-4f63-992f-19fc18b7d414  ...      -1\n",
              "...                                     ...  ...     ...\n",
              "19990  525a7f14-2a58-44c4-967f-57cee2eb8a79  ...      -1\n",
              "19991  c4dd630c-e49c-47c6-afd3-2e7c155f283b  ...      -1\n",
              "19993  7d70a1d8-6b42-4bbd-993b-5f0fed230134  ...      -1\n",
              "19995  517b1d08-e416-4950-880e-a06f4ba0e2ff  ...      -1\n",
              "19998  8f2826c2-57b7-4f22-af87-968c317cfd21  ...      -1\n",
              "\n",
              "[3052 rows x 5 columns]"
            ]
          },
          "metadata": {
            "tags": []
          },
          "execution_count": 37
        }
      ]
    },
    {
      "cell_type": "code",
      "metadata": {
        "id": "QyGX9kB0DFuV",
        "outputId": "5b53cbdd-0534-45f0-ec76-35a9fb6beb8e",
        "colab": {
          "base_uri": "https://localhost:8080/",
          "height": 67
        }
      },
      "source": [
        "test_datagen=ImageDataGenerator(rescale=1./255.)\n",
        "\n",
        "test_feature1=test_datagen.flow_from_dataframe(\n",
        "dataframe=submit_df,\n",
        "directory=\"/content/test cropped data\",\n",
        "x_col=\"feature1\",\n",
        "y_col=None,\n",
        "color_mode='grayscale',\n",
        "batch_size=32,\n",
        "seed=42,\n",
        "shuffle=False,\n",
        "class_mode=None,\n",
        "target_size=(img_h,img_w))\n",
        "\n",
        "test_feature2=test_datagen.flow_from_dataframe(\n",
        "dataframe=submit_df,\n",
        "directory=\"/content/test cropped data\",\n",
        "x_col=\"feature2\",\n",
        "y_col=None,\n",
        "batch_size=32,\n",
        "color_mode='grayscale',\n",
        "seed=42,\n",
        "shuffle=False,\n",
        "class_mode=None,\n",
        "target_size=(img_h,img_w))\n",
        "\n",
        "test_feature3=test_datagen.flow_from_dataframe(\n",
        "dataframe=submit_df,\n",
        "directory=\"/content/test cropped data\",\n",
        "x_col=\"feature3\",\n",
        "y_col=None,\n",
        "color_mode='grayscale',\n",
        "batch_size=32,\n",
        "seed=42,\n",
        "shuffle=False,\n",
        "class_mode=None,\n",
        "target_size=(img_h,img_w))"
      ],
      "execution_count": null,
      "outputs": [
        {
          "output_type": "stream",
          "text": [
            "Found 3052 validated image filenames.\n",
            "Found 3052 validated image filenames.\n",
            "Found 3052 validated image filenames.\n"
          ],
          "name": "stdout"
        }
      ]
    },
    {
      "cell_type": "code",
      "metadata": {
        "id": "TZ8oIgQjGAwQ",
        "outputId": "22c04d06-89ff-4b51-b075-98f942a3f0a4",
        "colab": {
          "base_uri": "https://localhost:8080/",
          "height": 50
        }
      },
      "source": [
        "# for nan\n",
        "# test_feature1_nan=test_datagen.flow_from_dataframe(\n",
        "# dataframe=submit_nan,\n",
        "# directory=\"/content/test cropped data\",\n",
        "# x_col=\"feature1\",\n",
        "# y_col=None,\n",
        "# color_mode='grayscale',\n",
        "# batch_size=32,\n",
        "# seed=42,\n",
        "# shuffle=False,\n",
        "# class_mode=None,\n",
        "# target_size=(img_h,img_w))\n",
        "\n",
        "test_feature2_nan=test_datagen.flow_from_dataframe(\n",
        "dataframe=submit_nan,\n",
        "directory=\"/content/test cropped data\",\n",
        "x_col=\"feature2\",\n",
        "y_col=None,\n",
        "batch_size=32,\n",
        "color_mode='grayscale',\n",
        "seed=42,\n",
        "shuffle=False,\n",
        "class_mode=None,\n",
        "target_size=(img_h,img_w))\n",
        "\n",
        "test_feature3_nan=test_datagen.flow_from_dataframe(\n",
        "dataframe=submit_nan,\n",
        "directory=\"/content/test cropped data\",\n",
        "x_col=\"feature3\",\n",
        "y_col=None,\n",
        "color_mode='grayscale',\n",
        "batch_size=32,\n",
        "seed=42,\n",
        "shuffle=False,\n",
        "class_mode=None,\n",
        "target_size=(img_h,img_w))"
      ],
      "execution_count": null,
      "outputs": [
        {
          "output_type": "stream",
          "text": [
            "Found 16948 validated image filenames.\n",
            "Found 16948 validated image filenames.\n"
          ],
          "name": "stdout"
        }
      ]
    },
    {
      "cell_type": "code",
      "metadata": {
        "id": "mFcsEzGnECZd"
      },
      "source": [
        "pred1 = model.predict(test_feature1)\n",
        "pred2 = model.predict(test_feature2)\n",
        "pred3 = model.predict(test_feature3)"
      ],
      "execution_count": null,
      "outputs": []
    },
    {
      "cell_type": "code",
      "metadata": {
        "id": "ojgWGcWMGmEh"
      },
      "source": [
        "# pred1_nan = model.predict(test_feature1_nan)\n",
        "pred2_nan = model.predict(test_feature2_nan)\n",
        "pred3_nan = model.predict(test_feature3_nan)"
      ],
      "execution_count": null,
      "outputs": []
    },
    {
      "cell_type": "code",
      "metadata": {
        "id": "FdVht75kEnnb"
      },
      "source": [
        "predicted_class_indices1 = np.argmax(pred1, axis=1)\n",
        "predicted_class_indices2 = np.argmax(pred2, axis=1)\n",
        "predicted_class_indices3 = np.argmax(pred3, axis=1)\n",
        "\n",
        "# pred NAN\n",
        "# predicted_class_indices1_nan = np.argmax(pred1, axis=1)\n",
        "predicted_class_indices2_nan = np.argmax(pred2_nan, axis=1)\n",
        "predicted_class_indices3_nan = np.argmax(pred3_nan, axis=1)"
      ],
      "execution_count": null,
      "outputs": []
    },
    {
      "cell_type": "code",
      "metadata": {
        "id": "SQTiPXHzEs6H",
        "outputId": "93c2ac39-3865-4a7e-a5f6-04ad917168bf",
        "colab": {
          "base_uri": "https://localhost:8080/",
          "height": 402
        }
      },
      "source": [
        "submit_df['feature1'] = predicted_class_indices1\n",
        "submit_df['feature2'] = predicted_class_indices2\n",
        "submit_df['feature3'] = predicted_class_indices3\n",
        "submit_df"
      ],
      "execution_count": null,
      "outputs": [
        {
          "output_type": "execute_result",
          "data": {
            "text/html": [
              "<div>\n",
              "<style scoped>\n",
              "    .dataframe tbody tr th:only-of-type {\n",
              "        vertical-align: middle;\n",
              "    }\n",
              "\n",
              "    .dataframe tbody tr th {\n",
              "        vertical-align: top;\n",
              "    }\n",
              "\n",
              "    .dataframe thead th {\n",
              "        text-align: right;\n",
              "    }\n",
              "</style>\n",
              "<table border=\"1\" class=\"dataframe\">\n",
              "  <thead>\n",
              "    <tr style=\"text-align: right;\">\n",
              "      <th></th>\n",
              "      <th>id</th>\n",
              "      <th>feature1</th>\n",
              "      <th>feature2</th>\n",
              "      <th>feature3</th>\n",
              "      <th>predict</th>\n",
              "    </tr>\n",
              "  </thead>\n",
              "  <tbody>\n",
              "    <tr>\n",
              "      <th>10318</th>\n",
              "      <td>748aed78-18c9-4d06-8d29-38d139c0ab64</td>\n",
              "      <td>0</td>\n",
              "      <td>9</td>\n",
              "      <td>3</td>\n",
              "      <td>-1</td>\n",
              "    </tr>\n",
              "    <tr>\n",
              "      <th>10333</th>\n",
              "      <td>e4849f64-a990-4c10-8d3c-701b9d058b1e</td>\n",
              "      <td>0</td>\n",
              "      <td>1</td>\n",
              "      <td>3</td>\n",
              "      <td>-1</td>\n",
              "    </tr>\n",
              "    <tr>\n",
              "      <th>10360</th>\n",
              "      <td>180b08fa-c141-4430-a134-614b162726d1</td>\n",
              "      <td>0</td>\n",
              "      <td>1</td>\n",
              "      <td>5</td>\n",
              "      <td>-1</td>\n",
              "    </tr>\n",
              "    <tr>\n",
              "      <th>10376</th>\n",
              "      <td>f4459397-2999-46ef-8f98-c8e312189211</td>\n",
              "      <td>0</td>\n",
              "      <td>8</td>\n",
              "      <td>5</td>\n",
              "      <td>-1</td>\n",
              "    </tr>\n",
              "    <tr>\n",
              "      <th>10406</th>\n",
              "      <td>71637035-45dd-4f63-992f-19fc18b7d414</td>\n",
              "      <td>0</td>\n",
              "      <td>5</td>\n",
              "      <td>5</td>\n",
              "      <td>-1</td>\n",
              "    </tr>\n",
              "    <tr>\n",
              "      <th>...</th>\n",
              "      <td>...</td>\n",
              "      <td>...</td>\n",
              "      <td>...</td>\n",
              "      <td>...</td>\n",
              "      <td>...</td>\n",
              "    </tr>\n",
              "    <tr>\n",
              "      <th>19990</th>\n",
              "      <td>525a7f14-2a58-44c4-967f-57cee2eb8a79</td>\n",
              "      <td>2</td>\n",
              "      <td>3</td>\n",
              "      <td>2</td>\n",
              "      <td>-1</td>\n",
              "    </tr>\n",
              "    <tr>\n",
              "      <th>19991</th>\n",
              "      <td>c4dd630c-e49c-47c6-afd3-2e7c155f283b</td>\n",
              "      <td>9</td>\n",
              "      <td>3</td>\n",
              "      <td>3</td>\n",
              "      <td>-1</td>\n",
              "    </tr>\n",
              "    <tr>\n",
              "      <th>19993</th>\n",
              "      <td>7d70a1d8-6b42-4bbd-993b-5f0fed230134</td>\n",
              "      <td>0</td>\n",
              "      <td>7</td>\n",
              "      <td>1</td>\n",
              "      <td>-1</td>\n",
              "    </tr>\n",
              "    <tr>\n",
              "      <th>19995</th>\n",
              "      <td>517b1d08-e416-4950-880e-a06f4ba0e2ff</td>\n",
              "      <td>3</td>\n",
              "      <td>0</td>\n",
              "      <td>9</td>\n",
              "      <td>-1</td>\n",
              "    </tr>\n",
              "    <tr>\n",
              "      <th>19998</th>\n",
              "      <td>8f2826c2-57b7-4f22-af87-968c317cfd21</td>\n",
              "      <td>7</td>\n",
              "      <td>9</td>\n",
              "      <td>0</td>\n",
              "      <td>-1</td>\n",
              "    </tr>\n",
              "  </tbody>\n",
              "</table>\n",
              "<p>3052 rows × 5 columns</p>\n",
              "</div>"
            ],
            "text/plain": [
              "                                         id  feature1  ...  feature3  predict\n",
              "10318  748aed78-18c9-4d06-8d29-38d139c0ab64         0  ...         3       -1\n",
              "10333  e4849f64-a990-4c10-8d3c-701b9d058b1e         0  ...         3       -1\n",
              "10360  180b08fa-c141-4430-a134-614b162726d1         0  ...         5       -1\n",
              "10376  f4459397-2999-46ef-8f98-c8e312189211         0  ...         5       -1\n",
              "10406  71637035-45dd-4f63-992f-19fc18b7d414         0  ...         5       -1\n",
              "...                                     ...       ...  ...       ...      ...\n",
              "19990  525a7f14-2a58-44c4-967f-57cee2eb8a79         2  ...         2       -1\n",
              "19991  c4dd630c-e49c-47c6-afd3-2e7c155f283b         9  ...         3       -1\n",
              "19993  7d70a1d8-6b42-4bbd-993b-5f0fed230134         0  ...         1       -1\n",
              "19995  517b1d08-e416-4950-880e-a06f4ba0e2ff         3  ...         9       -1\n",
              "19998  8f2826c2-57b7-4f22-af87-968c317cfd21         7  ...         0       -1\n",
              "\n",
              "[3052 rows x 5 columns]"
            ]
          },
          "metadata": {
            "tags": []
          },
          "execution_count": 43
        }
      ]
    },
    {
      "cell_type": "code",
      "metadata": {
        "id": "FtFAss7HHIQ-",
        "outputId": "077b75ce-fc9a-4e1d-a43a-2c1fb0fa0b04",
        "colab": {
          "base_uri": "https://localhost:8080/",
          "height": 603
        }
      },
      "source": [
        "# submit_nan['feature1'] = predicted_class_indices1\n",
        "submit_nan['feature2'] = predicted_class_indices2_nan\n",
        "submit_nan['feature3'] = predicted_class_indices3_nan\n",
        "submit_nan"
      ],
      "execution_count": null,
      "outputs": [
        {
          "output_type": "stream",
          "text": [
            "/usr/local/lib/python3.6/dist-packages/ipykernel_launcher.py:2: SettingWithCopyWarning: \n",
            "A value is trying to be set on a copy of a slice from a DataFrame.\n",
            "Try using .loc[row_indexer,col_indexer] = value instead\n",
            "\n",
            "See the caveats in the documentation: https://pandas.pydata.org/pandas-docs/stable/user_guide/indexing.html#returning-a-view-versus-a-copy\n",
            "  \n",
            "/usr/local/lib/python3.6/dist-packages/ipykernel_launcher.py:3: SettingWithCopyWarning: \n",
            "A value is trying to be set on a copy of a slice from a DataFrame.\n",
            "Try using .loc[row_indexer,col_indexer] = value instead\n",
            "\n",
            "See the caveats in the documentation: https://pandas.pydata.org/pandas-docs/stable/user_guide/indexing.html#returning-a-view-versus-a-copy\n",
            "  This is separate from the ipykernel package so we can avoid doing imports until\n"
          ],
          "name": "stderr"
        },
        {
          "output_type": "execute_result",
          "data": {
            "text/html": [
              "<div>\n",
              "<style scoped>\n",
              "    .dataframe tbody tr th:only-of-type {\n",
              "        vertical-align: middle;\n",
              "    }\n",
              "\n",
              "    .dataframe tbody tr th {\n",
              "        vertical-align: top;\n",
              "    }\n",
              "\n",
              "    .dataframe thead th {\n",
              "        text-align: right;\n",
              "    }\n",
              "</style>\n",
              "<table border=\"1\" class=\"dataframe\">\n",
              "  <thead>\n",
              "    <tr style=\"text-align: right;\">\n",
              "      <th></th>\n",
              "      <th>id</th>\n",
              "      <th>feature1</th>\n",
              "      <th>feature2</th>\n",
              "      <th>feature3</th>\n",
              "      <th>predict</th>\n",
              "    </tr>\n",
              "  </thead>\n",
              "  <tbody>\n",
              "    <tr>\n",
              "      <th>0</th>\n",
              "      <td>5339e74f-56f2-48f1-bab2-59d5f8aa030a</td>\n",
              "      <td>-1</td>\n",
              "      <td>8</td>\n",
              "      <td>1</td>\n",
              "      <td>-1</td>\n",
              "    </tr>\n",
              "    <tr>\n",
              "      <th>1</th>\n",
              "      <td>b4ed46c8-4bcb-46c9-b8af-f833d4351849</td>\n",
              "      <td>-1</td>\n",
              "      <td>8</td>\n",
              "      <td>1</td>\n",
              "      <td>-1</td>\n",
              "    </tr>\n",
              "    <tr>\n",
              "      <th>2</th>\n",
              "      <td>09a42f96-dd78-499c-9772-b4be5bbf04f7</td>\n",
              "      <td>-1</td>\n",
              "      <td>6</td>\n",
              "      <td>9</td>\n",
              "      <td>-1</td>\n",
              "    </tr>\n",
              "    <tr>\n",
              "      <th>3</th>\n",
              "      <td>baeeeb75-2845-4d33-a099-d0e32ec48078</td>\n",
              "      <td>-1</td>\n",
              "      <td>3</td>\n",
              "      <td>5</td>\n",
              "      <td>-1</td>\n",
              "    </tr>\n",
              "    <tr>\n",
              "      <th>4</th>\n",
              "      <td>e1d1881e-6273-4225-b5ca-3b91d79fe626</td>\n",
              "      <td>-1</td>\n",
              "      <td>7</td>\n",
              "      <td>9</td>\n",
              "      <td>-1</td>\n",
              "    </tr>\n",
              "    <tr>\n",
              "      <th>...</th>\n",
              "      <td>...</td>\n",
              "      <td>...</td>\n",
              "      <td>...</td>\n",
              "      <td>...</td>\n",
              "      <td>...</td>\n",
              "    </tr>\n",
              "    <tr>\n",
              "      <th>19992</th>\n",
              "      <td>58a7b16f-ac68-43c6-9478-d1db2df01c6d</td>\n",
              "      <td>-1</td>\n",
              "      <td>5</td>\n",
              "      <td>0</td>\n",
              "      <td>-1</td>\n",
              "    </tr>\n",
              "    <tr>\n",
              "      <th>19994</th>\n",
              "      <td>c5ed1d3b-f2bd-4a46-ae02-1473104bc40d</td>\n",
              "      <td>-1</td>\n",
              "      <td>8</td>\n",
              "      <td>6</td>\n",
              "      <td>-1</td>\n",
              "    </tr>\n",
              "    <tr>\n",
              "      <th>19996</th>\n",
              "      <td>e1fd0fe1-ca87-4797-91c5-9147918ffb04</td>\n",
              "      <td>-1</td>\n",
              "      <td>5</td>\n",
              "      <td>9</td>\n",
              "      <td>-1</td>\n",
              "    </tr>\n",
              "    <tr>\n",
              "      <th>19997</th>\n",
              "      <td>0713dc83-0cd3-4a80-9081-02d24edf78c6</td>\n",
              "      <td>-1</td>\n",
              "      <td>4</td>\n",
              "      <td>4</td>\n",
              "      <td>-1</td>\n",
              "    </tr>\n",
              "    <tr>\n",
              "      <th>19999</th>\n",
              "      <td>91824f78-f764-4205-80ae-dd83bbc274e5</td>\n",
              "      <td>-1</td>\n",
              "      <td>6</td>\n",
              "      <td>9</td>\n",
              "      <td>-1</td>\n",
              "    </tr>\n",
              "  </tbody>\n",
              "</table>\n",
              "<p>16948 rows × 5 columns</p>\n",
              "</div>"
            ],
            "text/plain": [
              "                                         id feature1  ...  feature3  predict\n",
              "0      5339e74f-56f2-48f1-bab2-59d5f8aa030a       -1  ...         1       -1\n",
              "1      b4ed46c8-4bcb-46c9-b8af-f833d4351849       -1  ...         1       -1\n",
              "2      09a42f96-dd78-499c-9772-b4be5bbf04f7       -1  ...         9       -1\n",
              "3      baeeeb75-2845-4d33-a099-d0e32ec48078       -1  ...         5       -1\n",
              "4      e1d1881e-6273-4225-b5ca-3b91d79fe626       -1  ...         9       -1\n",
              "...                                     ...      ...  ...       ...      ...\n",
              "19992  58a7b16f-ac68-43c6-9478-d1db2df01c6d       -1  ...         0       -1\n",
              "19994  c5ed1d3b-f2bd-4a46-ae02-1473104bc40d       -1  ...         6       -1\n",
              "19996  e1fd0fe1-ca87-4797-91c5-9147918ffb04       -1  ...         9       -1\n",
              "19997  0713dc83-0cd3-4a80-9081-02d24edf78c6       -1  ...         4       -1\n",
              "19999  91824f78-f764-4205-80ae-dd83bbc274e5       -1  ...         9       -1\n",
              "\n",
              "[16948 rows x 5 columns]"
            ]
          },
          "metadata": {
            "tags": []
          },
          "execution_count": 44
        }
      ]
    },
    {
      "cell_type": "markdown",
      "metadata": {
        "id": "T7_1DTzdE8Yp"
      },
      "source": [
        "แยก dataframe 11 ตางราง เป็น feature1 ที่ 0 ถึง 9 และ NaN"
      ]
    },
    {
      "cell_type": "code",
      "metadata": {
        "id": "fHBCDvhmE4eA",
        "outputId": "cdcdd9f7-c5d8-4753-9f82-59c2b52c43a4",
        "colab": {
          "base_uri": "https://localhost:8080/",
          "height": 195
        }
      },
      "source": [
        "# submit_nan = submit_df.loc[ submit_df[\"feature1\"] == \"-1\"]\n",
        "s0 = submit_df.loc[ submit_df['feature1'] == 0]\n",
        "s1 = submit_df.loc[ submit_df['feature1'] == 1]\n",
        "s2 = submit_df.loc[ submit_df['feature1'] == 2]\n",
        "s3 = submit_df.loc[ submit_df['feature1'] == 3]\n",
        "s4 = submit_df.loc[ submit_df['feature1'] == 4]\n",
        "s5 = submit_df.loc[ submit_df['feature1'] == 5]\n",
        "s6 = submit_df.loc[ submit_df['feature1'] == 6]\n",
        "s7 = submit_df.loc[ submit_df['feature1'] == 7]\n",
        "s8 = submit_df.loc[ submit_df['feature1'] == 8]\n",
        "s9 = submit_df.loc[ submit_df['feature1'] == 9]\n",
        "s9.head()"
      ],
      "execution_count": null,
      "outputs": [
        {
          "output_type": "execute_result",
          "data": {
            "text/html": [
              "<div>\n",
              "<style scoped>\n",
              "    .dataframe tbody tr th:only-of-type {\n",
              "        vertical-align: middle;\n",
              "    }\n",
              "\n",
              "    .dataframe tbody tr th {\n",
              "        vertical-align: top;\n",
              "    }\n",
              "\n",
              "    .dataframe thead th {\n",
              "        text-align: right;\n",
              "    }\n",
              "</style>\n",
              "<table border=\"1\" class=\"dataframe\">\n",
              "  <thead>\n",
              "    <tr style=\"text-align: right;\">\n",
              "      <th></th>\n",
              "      <th>id</th>\n",
              "      <th>feature1</th>\n",
              "      <th>feature2</th>\n",
              "      <th>feature3</th>\n",
              "      <th>predict</th>\n",
              "    </tr>\n",
              "  </thead>\n",
              "  <tbody>\n",
              "    <tr>\n",
              "      <th>14501</th>\n",
              "      <td>64c3c54d-3592-4609-b0a0-c111948b49f3</td>\n",
              "      <td>9</td>\n",
              "      <td>1</td>\n",
              "      <td>3</td>\n",
              "      <td>-1</td>\n",
              "    </tr>\n",
              "    <tr>\n",
              "      <th>18084</th>\n",
              "      <td>ce020299-c428-4381-9a16-55bb956c3ee3</td>\n",
              "      <td>9</td>\n",
              "      <td>7</td>\n",
              "      <td>2</td>\n",
              "      <td>-1</td>\n",
              "    </tr>\n",
              "    <tr>\n",
              "      <th>18085</th>\n",
              "      <td>0db8415c-817d-40fd-afe8-42fb5570705f</td>\n",
              "      <td>9</td>\n",
              "      <td>1</td>\n",
              "      <td>9</td>\n",
              "      <td>-1</td>\n",
              "    </tr>\n",
              "    <tr>\n",
              "      <th>18097</th>\n",
              "      <td>8d35b995-5042-4bb8-bd53-f6def42204f7</td>\n",
              "      <td>9</td>\n",
              "      <td>6</td>\n",
              "      <td>1</td>\n",
              "      <td>-1</td>\n",
              "    </tr>\n",
              "    <tr>\n",
              "      <th>18426</th>\n",
              "      <td>7be10642-1b17-4ed1-bbbf-0090ab1824b5</td>\n",
              "      <td>9</td>\n",
              "      <td>6</td>\n",
              "      <td>8</td>\n",
              "      <td>-1</td>\n",
              "    </tr>\n",
              "  </tbody>\n",
              "</table>\n",
              "</div>"
            ],
            "text/plain": [
              "                                         id  feature1  ...  feature3  predict\n",
              "14501  64c3c54d-3592-4609-b0a0-c111948b49f3         9  ...         3       -1\n",
              "18084  ce020299-c428-4381-9a16-55bb956c3ee3         9  ...         2       -1\n",
              "18085  0db8415c-817d-40fd-afe8-42fb5570705f         9  ...         9       -1\n",
              "18097  8d35b995-5042-4bb8-bd53-f6def42204f7         9  ...         1       -1\n",
              "18426  7be10642-1b17-4ed1-bbbf-0090ab1824b5         9  ...         8       -1\n",
              "\n",
              "[5 rows x 5 columns]"
            ]
          },
          "metadata": {
            "tags": []
          },
          "execution_count": 45
        }
      ]
    },
    {
      "cell_type": "code",
      "metadata": {
        "id": "rG3mFGYGFpfc",
        "outputId": "c2fb05fc-f4a7-4a73-dc92-b8dd2b2b61a9",
        "colab": {
          "base_uri": "https://localhost:8080/",
          "height": 402
        }
      },
      "source": [
        "submit_nan"
      ],
      "execution_count": null,
      "outputs": [
        {
          "output_type": "execute_result",
          "data": {
            "text/html": [
              "<div>\n",
              "<style scoped>\n",
              "    .dataframe tbody tr th:only-of-type {\n",
              "        vertical-align: middle;\n",
              "    }\n",
              "\n",
              "    .dataframe tbody tr th {\n",
              "        vertical-align: top;\n",
              "    }\n",
              "\n",
              "    .dataframe thead th {\n",
              "        text-align: right;\n",
              "    }\n",
              "</style>\n",
              "<table border=\"1\" class=\"dataframe\">\n",
              "  <thead>\n",
              "    <tr style=\"text-align: right;\">\n",
              "      <th></th>\n",
              "      <th>id</th>\n",
              "      <th>feature1</th>\n",
              "      <th>feature2</th>\n",
              "      <th>feature3</th>\n",
              "      <th>predict</th>\n",
              "    </tr>\n",
              "  </thead>\n",
              "  <tbody>\n",
              "    <tr>\n",
              "      <th>0</th>\n",
              "      <td>5339e74f-56f2-48f1-bab2-59d5f8aa030a</td>\n",
              "      <td>-1</td>\n",
              "      <td>8</td>\n",
              "      <td>1</td>\n",
              "      <td>-1</td>\n",
              "    </tr>\n",
              "    <tr>\n",
              "      <th>1</th>\n",
              "      <td>b4ed46c8-4bcb-46c9-b8af-f833d4351849</td>\n",
              "      <td>-1</td>\n",
              "      <td>8</td>\n",
              "      <td>1</td>\n",
              "      <td>-1</td>\n",
              "    </tr>\n",
              "    <tr>\n",
              "      <th>2</th>\n",
              "      <td>09a42f96-dd78-499c-9772-b4be5bbf04f7</td>\n",
              "      <td>-1</td>\n",
              "      <td>6</td>\n",
              "      <td>9</td>\n",
              "      <td>-1</td>\n",
              "    </tr>\n",
              "    <tr>\n",
              "      <th>3</th>\n",
              "      <td>baeeeb75-2845-4d33-a099-d0e32ec48078</td>\n",
              "      <td>-1</td>\n",
              "      <td>3</td>\n",
              "      <td>5</td>\n",
              "      <td>-1</td>\n",
              "    </tr>\n",
              "    <tr>\n",
              "      <th>4</th>\n",
              "      <td>e1d1881e-6273-4225-b5ca-3b91d79fe626</td>\n",
              "      <td>-1</td>\n",
              "      <td>7</td>\n",
              "      <td>9</td>\n",
              "      <td>-1</td>\n",
              "    </tr>\n",
              "    <tr>\n",
              "      <th>...</th>\n",
              "      <td>...</td>\n",
              "      <td>...</td>\n",
              "      <td>...</td>\n",
              "      <td>...</td>\n",
              "      <td>...</td>\n",
              "    </tr>\n",
              "    <tr>\n",
              "      <th>19992</th>\n",
              "      <td>58a7b16f-ac68-43c6-9478-d1db2df01c6d</td>\n",
              "      <td>-1</td>\n",
              "      <td>5</td>\n",
              "      <td>0</td>\n",
              "      <td>-1</td>\n",
              "    </tr>\n",
              "    <tr>\n",
              "      <th>19994</th>\n",
              "      <td>c5ed1d3b-f2bd-4a46-ae02-1473104bc40d</td>\n",
              "      <td>-1</td>\n",
              "      <td>8</td>\n",
              "      <td>6</td>\n",
              "      <td>-1</td>\n",
              "    </tr>\n",
              "    <tr>\n",
              "      <th>19996</th>\n",
              "      <td>e1fd0fe1-ca87-4797-91c5-9147918ffb04</td>\n",
              "      <td>-1</td>\n",
              "      <td>5</td>\n",
              "      <td>9</td>\n",
              "      <td>-1</td>\n",
              "    </tr>\n",
              "    <tr>\n",
              "      <th>19997</th>\n",
              "      <td>0713dc83-0cd3-4a80-9081-02d24edf78c6</td>\n",
              "      <td>-1</td>\n",
              "      <td>4</td>\n",
              "      <td>4</td>\n",
              "      <td>-1</td>\n",
              "    </tr>\n",
              "    <tr>\n",
              "      <th>19999</th>\n",
              "      <td>91824f78-f764-4205-80ae-dd83bbc274e5</td>\n",
              "      <td>-1</td>\n",
              "      <td>6</td>\n",
              "      <td>9</td>\n",
              "      <td>-1</td>\n",
              "    </tr>\n",
              "  </tbody>\n",
              "</table>\n",
              "<p>16948 rows × 5 columns</p>\n",
              "</div>"
            ],
            "text/plain": [
              "                                         id feature1  ...  feature3  predict\n",
              "0      5339e74f-56f2-48f1-bab2-59d5f8aa030a       -1  ...         1       -1\n",
              "1      b4ed46c8-4bcb-46c9-b8af-f833d4351849       -1  ...         1       -1\n",
              "2      09a42f96-dd78-499c-9772-b4be5bbf04f7       -1  ...         9       -1\n",
              "3      baeeeb75-2845-4d33-a099-d0e32ec48078       -1  ...         5       -1\n",
              "4      e1d1881e-6273-4225-b5ca-3b91d79fe626       -1  ...         9       -1\n",
              "...                                     ...      ...  ...       ...      ...\n",
              "19992  58a7b16f-ac68-43c6-9478-d1db2df01c6d       -1  ...         0       -1\n",
              "19994  c5ed1d3b-f2bd-4a46-ae02-1473104bc40d       -1  ...         6       -1\n",
              "19996  e1fd0fe1-ca87-4797-91c5-9147918ffb04       -1  ...         9       -1\n",
              "19997  0713dc83-0cd3-4a80-9081-02d24edf78c6       -1  ...         4       -1\n",
              "19999  91824f78-f764-4205-80ae-dd83bbc274e5       -1  ...         9       -1\n",
              "\n",
              "[16948 rows x 5 columns]"
            ]
          },
          "metadata": {
            "tags": []
          },
          "execution_count": 46
        }
      ]
    },
    {
      "cell_type": "code",
      "metadata": {
        "id": "MXhO1U4HKu-8",
        "outputId": "af290e57-4ab0-43d7-d4b8-7600e6447b7c",
        "colab": {
          "base_uri": "https://localhost:8080/",
          "height": 1000
        }
      },
      "source": [
        "submit_nan [\"predict\"] = submit_nan [\"feature2\"] + submit_nan[\"feature3\"]\n",
        "s0[\"predict\"] = s0['feature2'] * s0['feature3']\n",
        "s1[\"predict\"] = abs(s1['feature2'] - s1['feature3'])\n",
        "s2[\"predict\"] = (s2['feature2']+s2['feature3'])*abs(s2['feature2']-s2['feature3'])\n",
        "s3[\"predict\"] = abs( s3['feature3'] * (s3['feature3']+1) - s3['feature2']*(s3['feature2']-1))/ 2\n",
        "s4[\"predict\"] = 50+(s4['feature2'] - s4['feature3'])\n",
        "s5[\"predict\"] = s5[['feature2', 'feature3']].min(axis=1)\n",
        "s6[\"predict\"] = s6[['feature2', 'feature3']].max(axis=1)\n",
        "s7[\"predict\"] = ((s7['feature2']*s7['feature3'])%9)*11\n",
        "s8[\"predict\"] = (s8['feature2']**2 + 1)*s8['feature2'] + s8['feature3']*(s8['feature3'] +1)\n",
        "s9[\"predict\"] = 50 + s9['feature2']\n",
        "s9.head()"
      ],
      "execution_count": null,
      "outputs": [
        {
          "output_type": "stream",
          "text": [
            "/usr/local/lib/python3.6/dist-packages/ipykernel_launcher.py:1: SettingWithCopyWarning: \n",
            "A value is trying to be set on a copy of a slice from a DataFrame.\n",
            "Try using .loc[row_indexer,col_indexer] = value instead\n",
            "\n",
            "See the caveats in the documentation: https://pandas.pydata.org/pandas-docs/stable/user_guide/indexing.html#returning-a-view-versus-a-copy\n",
            "  \"\"\"Entry point for launching an IPython kernel.\n",
            "/usr/local/lib/python3.6/dist-packages/ipykernel_launcher.py:2: SettingWithCopyWarning: \n",
            "A value is trying to be set on a copy of a slice from a DataFrame.\n",
            "Try using .loc[row_indexer,col_indexer] = value instead\n",
            "\n",
            "See the caveats in the documentation: https://pandas.pydata.org/pandas-docs/stable/user_guide/indexing.html#returning-a-view-versus-a-copy\n",
            "  \n",
            "/usr/local/lib/python3.6/dist-packages/ipykernel_launcher.py:3: SettingWithCopyWarning: \n",
            "A value is trying to be set on a copy of a slice from a DataFrame.\n",
            "Try using .loc[row_indexer,col_indexer] = value instead\n",
            "\n",
            "See the caveats in the documentation: https://pandas.pydata.org/pandas-docs/stable/user_guide/indexing.html#returning-a-view-versus-a-copy\n",
            "  This is separate from the ipykernel package so we can avoid doing imports until\n",
            "/usr/local/lib/python3.6/dist-packages/ipykernel_launcher.py:4: SettingWithCopyWarning: \n",
            "A value is trying to be set on a copy of a slice from a DataFrame.\n",
            "Try using .loc[row_indexer,col_indexer] = value instead\n",
            "\n",
            "See the caveats in the documentation: https://pandas.pydata.org/pandas-docs/stable/user_guide/indexing.html#returning-a-view-versus-a-copy\n",
            "  after removing the cwd from sys.path.\n",
            "/usr/local/lib/python3.6/dist-packages/ipykernel_launcher.py:5: SettingWithCopyWarning: \n",
            "A value is trying to be set on a copy of a slice from a DataFrame.\n",
            "Try using .loc[row_indexer,col_indexer] = value instead\n",
            "\n",
            "See the caveats in the documentation: https://pandas.pydata.org/pandas-docs/stable/user_guide/indexing.html#returning-a-view-versus-a-copy\n",
            "  \"\"\"\n",
            "/usr/local/lib/python3.6/dist-packages/ipykernel_launcher.py:6: SettingWithCopyWarning: \n",
            "A value is trying to be set on a copy of a slice from a DataFrame.\n",
            "Try using .loc[row_indexer,col_indexer] = value instead\n",
            "\n",
            "See the caveats in the documentation: https://pandas.pydata.org/pandas-docs/stable/user_guide/indexing.html#returning-a-view-versus-a-copy\n",
            "  \n",
            "/usr/local/lib/python3.6/dist-packages/ipykernel_launcher.py:7: SettingWithCopyWarning: \n",
            "A value is trying to be set on a copy of a slice from a DataFrame.\n",
            "Try using .loc[row_indexer,col_indexer] = value instead\n",
            "\n",
            "See the caveats in the documentation: https://pandas.pydata.org/pandas-docs/stable/user_guide/indexing.html#returning-a-view-versus-a-copy\n",
            "  import sys\n",
            "/usr/local/lib/python3.6/dist-packages/ipykernel_launcher.py:8: SettingWithCopyWarning: \n",
            "A value is trying to be set on a copy of a slice from a DataFrame.\n",
            "Try using .loc[row_indexer,col_indexer] = value instead\n",
            "\n",
            "See the caveats in the documentation: https://pandas.pydata.org/pandas-docs/stable/user_guide/indexing.html#returning-a-view-versus-a-copy\n",
            "  \n",
            "/usr/local/lib/python3.6/dist-packages/ipykernel_launcher.py:9: SettingWithCopyWarning: \n",
            "A value is trying to be set on a copy of a slice from a DataFrame.\n",
            "Try using .loc[row_indexer,col_indexer] = value instead\n",
            "\n",
            "See the caveats in the documentation: https://pandas.pydata.org/pandas-docs/stable/user_guide/indexing.html#returning-a-view-versus-a-copy\n",
            "  if __name__ == '__main__':\n",
            "/usr/local/lib/python3.6/dist-packages/ipykernel_launcher.py:10: SettingWithCopyWarning: \n",
            "A value is trying to be set on a copy of a slice from a DataFrame.\n",
            "Try using .loc[row_indexer,col_indexer] = value instead\n",
            "\n",
            "See the caveats in the documentation: https://pandas.pydata.org/pandas-docs/stable/user_guide/indexing.html#returning-a-view-versus-a-copy\n",
            "  # Remove the CWD from sys.path while we load stuff.\n",
            "/usr/local/lib/python3.6/dist-packages/ipykernel_launcher.py:11: SettingWithCopyWarning: \n",
            "A value is trying to be set on a copy of a slice from a DataFrame.\n",
            "Try using .loc[row_indexer,col_indexer] = value instead\n",
            "\n",
            "See the caveats in the documentation: https://pandas.pydata.org/pandas-docs/stable/user_guide/indexing.html#returning-a-view-versus-a-copy\n",
            "  # This is added back by InteractiveShellApp.init_path()\n"
          ],
          "name": "stderr"
        },
        {
          "output_type": "execute_result",
          "data": {
            "text/html": [
              "<div>\n",
              "<style scoped>\n",
              "    .dataframe tbody tr th:only-of-type {\n",
              "        vertical-align: middle;\n",
              "    }\n",
              "\n",
              "    .dataframe tbody tr th {\n",
              "        vertical-align: top;\n",
              "    }\n",
              "\n",
              "    .dataframe thead th {\n",
              "        text-align: right;\n",
              "    }\n",
              "</style>\n",
              "<table border=\"1\" class=\"dataframe\">\n",
              "  <thead>\n",
              "    <tr style=\"text-align: right;\">\n",
              "      <th></th>\n",
              "      <th>id</th>\n",
              "      <th>feature1</th>\n",
              "      <th>feature2</th>\n",
              "      <th>feature3</th>\n",
              "      <th>predict</th>\n",
              "    </tr>\n",
              "  </thead>\n",
              "  <tbody>\n",
              "    <tr>\n",
              "      <th>14501</th>\n",
              "      <td>64c3c54d-3592-4609-b0a0-c111948b49f3</td>\n",
              "      <td>9</td>\n",
              "      <td>1</td>\n",
              "      <td>3</td>\n",
              "      <td>51</td>\n",
              "    </tr>\n",
              "    <tr>\n",
              "      <th>18084</th>\n",
              "      <td>ce020299-c428-4381-9a16-55bb956c3ee3</td>\n",
              "      <td>9</td>\n",
              "      <td>7</td>\n",
              "      <td>2</td>\n",
              "      <td>57</td>\n",
              "    </tr>\n",
              "    <tr>\n",
              "      <th>18085</th>\n",
              "      <td>0db8415c-817d-40fd-afe8-42fb5570705f</td>\n",
              "      <td>9</td>\n",
              "      <td>1</td>\n",
              "      <td>9</td>\n",
              "      <td>51</td>\n",
              "    </tr>\n",
              "    <tr>\n",
              "      <th>18097</th>\n",
              "      <td>8d35b995-5042-4bb8-bd53-f6def42204f7</td>\n",
              "      <td>9</td>\n",
              "      <td>6</td>\n",
              "      <td>1</td>\n",
              "      <td>56</td>\n",
              "    </tr>\n",
              "    <tr>\n",
              "      <th>18426</th>\n",
              "      <td>7be10642-1b17-4ed1-bbbf-0090ab1824b5</td>\n",
              "      <td>9</td>\n",
              "      <td>6</td>\n",
              "      <td>8</td>\n",
              "      <td>56</td>\n",
              "    </tr>\n",
              "  </tbody>\n",
              "</table>\n",
              "</div>"
            ],
            "text/plain": [
              "                                         id  feature1  ...  feature3  predict\n",
              "14501  64c3c54d-3592-4609-b0a0-c111948b49f3         9  ...         3       51\n",
              "18084  ce020299-c428-4381-9a16-55bb956c3ee3         9  ...         2       57\n",
              "18085  0db8415c-817d-40fd-afe8-42fb5570705f         9  ...         9       51\n",
              "18097  8d35b995-5042-4bb8-bd53-f6def42204f7         9  ...         1       56\n",
              "18426  7be10642-1b17-4ed1-bbbf-0090ab1824b5         9  ...         8       56\n",
              "\n",
              "[5 rows x 5 columns]"
            ]
          },
          "metadata": {
            "tags": []
          },
          "execution_count": 47
        }
      ]
    },
    {
      "cell_type": "code",
      "metadata": {
        "id": "oLdu2RQqd2Ki",
        "outputId": "1a79a3e0-cf0d-43fb-b01a-1c0f769ca889",
        "colab": {
          "base_uri": "https://localhost:8080/",
          "height": 402
        }
      },
      "source": [
        "submit_list = [submit_nan, s0, s1, s2, s3, s4, s5, s6, s7, s8, s9]\n",
        "submit = pd.concat(submit_list)\n",
        "submit['predict'] = submit['predict']%99\n",
        "submit = submit[['id', 'predict']]\n",
        "submit"
      ],
      "execution_count": null,
      "outputs": [
        {
          "output_type": "execute_result",
          "data": {
            "text/html": [
              "<div>\n",
              "<style scoped>\n",
              "    .dataframe tbody tr th:only-of-type {\n",
              "        vertical-align: middle;\n",
              "    }\n",
              "\n",
              "    .dataframe tbody tr th {\n",
              "        vertical-align: top;\n",
              "    }\n",
              "\n",
              "    .dataframe thead th {\n",
              "        text-align: right;\n",
              "    }\n",
              "</style>\n",
              "<table border=\"1\" class=\"dataframe\">\n",
              "  <thead>\n",
              "    <tr style=\"text-align: right;\">\n",
              "      <th></th>\n",
              "      <th>id</th>\n",
              "      <th>predict</th>\n",
              "    </tr>\n",
              "  </thead>\n",
              "  <tbody>\n",
              "    <tr>\n",
              "      <th>0</th>\n",
              "      <td>5339e74f-56f2-48f1-bab2-59d5f8aa030a</td>\n",
              "      <td>9.0</td>\n",
              "    </tr>\n",
              "    <tr>\n",
              "      <th>1</th>\n",
              "      <td>b4ed46c8-4bcb-46c9-b8af-f833d4351849</td>\n",
              "      <td>9.0</td>\n",
              "    </tr>\n",
              "    <tr>\n",
              "      <th>2</th>\n",
              "      <td>09a42f96-dd78-499c-9772-b4be5bbf04f7</td>\n",
              "      <td>15.0</td>\n",
              "    </tr>\n",
              "    <tr>\n",
              "      <th>3</th>\n",
              "      <td>baeeeb75-2845-4d33-a099-d0e32ec48078</td>\n",
              "      <td>8.0</td>\n",
              "    </tr>\n",
              "    <tr>\n",
              "      <th>4</th>\n",
              "      <td>e1d1881e-6273-4225-b5ca-3b91d79fe626</td>\n",
              "      <td>16.0</td>\n",
              "    </tr>\n",
              "    <tr>\n",
              "      <th>...</th>\n",
              "      <td>...</td>\n",
              "      <td>...</td>\n",
              "    </tr>\n",
              "    <tr>\n",
              "      <th>19843</th>\n",
              "      <td>1cb834fb-c727-492f-994f-2f5f5416205a</td>\n",
              "      <td>53.0</td>\n",
              "    </tr>\n",
              "    <tr>\n",
              "      <th>19878</th>\n",
              "      <td>675222c5-b03d-4b57-b2d7-7df8b94e124d</td>\n",
              "      <td>58.0</td>\n",
              "    </tr>\n",
              "    <tr>\n",
              "      <th>19930</th>\n",
              "      <td>3ef13836-c997-448d-9d9a-3797427fc7c5</td>\n",
              "      <td>51.0</td>\n",
              "    </tr>\n",
              "    <tr>\n",
              "      <th>19970</th>\n",
              "      <td>4d6f4f1b-38ba-4f3b-ac10-32a97dce8441</td>\n",
              "      <td>57.0</td>\n",
              "    </tr>\n",
              "    <tr>\n",
              "      <th>19991</th>\n",
              "      <td>c4dd630c-e49c-47c6-afd3-2e7c155f283b</td>\n",
              "      <td>53.0</td>\n",
              "    </tr>\n",
              "  </tbody>\n",
              "</table>\n",
              "<p>20000 rows × 2 columns</p>\n",
              "</div>"
            ],
            "text/plain": [
              "                                         id  predict\n",
              "0      5339e74f-56f2-48f1-bab2-59d5f8aa030a      9.0\n",
              "1      b4ed46c8-4bcb-46c9-b8af-f833d4351849      9.0\n",
              "2      09a42f96-dd78-499c-9772-b4be5bbf04f7     15.0\n",
              "3      baeeeb75-2845-4d33-a099-d0e32ec48078      8.0\n",
              "4      e1d1881e-6273-4225-b5ca-3b91d79fe626     16.0\n",
              "...                                     ...      ...\n",
              "19843  1cb834fb-c727-492f-994f-2f5f5416205a     53.0\n",
              "19878  675222c5-b03d-4b57-b2d7-7df8b94e124d     58.0\n",
              "19930  3ef13836-c997-448d-9d9a-3797427fc7c5     51.0\n",
              "19970  4d6f4f1b-38ba-4f3b-ac10-32a97dce8441     57.0\n",
              "19991  c4dd630c-e49c-47c6-afd3-2e7c155f283b     53.0\n",
              "\n",
              "[20000 rows x 2 columns]"
            ]
          },
          "metadata": {
            "tags": []
          },
          "execution_count": 48
        }
      ]
    },
    {
      "cell_type": "code",
      "metadata": {
        "id": "tXQIzUQfjZKn"
      },
      "source": [
        "submit.to_csv('submit.csv', index=False)"
      ],
      "execution_count": null,
      "outputs": []
    },
    {
      "cell_type": "code",
      "metadata": {
        "id": "HIi0kiaOAkbY"
      },
      "source": [
        ""
      ],
      "execution_count": null,
      "outputs": []
    }
  ]
}