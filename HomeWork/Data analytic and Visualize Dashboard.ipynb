{
  "nbformat": 4,
  "nbformat_minor": 0,
  "metadata": {
    "accelerator": "GPU",
    "colab": {
      "name": "22p21c0247_Sorayut_W5Q1_17102020.ipynb",
      "provenance": [],
      "collapsed_sections": [
        "R_Jm1gGjr7zg",
        "B3Q2JikFeT25",
        "eDZrp9Rwnk1t"
      ],
      "toc_visible": true
    },
    "kernelspec": {
      "display_name": "Python 3",
      "name": "python3"
    }
  },
  "cells": [
    {
      "cell_type": "code",
      "metadata": {
        "id": "dWZXMrinrq99"
      },
      "source": [
        "import pandas as pd\n",
        "import numpy as np\n",
        "import seaborn as sns\n",
        "import matplotlib.pyplot as plt"
      ],
      "execution_count": 191,
      "outputs": []
    },
    {
      "cell_type": "markdown",
      "metadata": {
        "id": "R_Jm1gGjr7zg"
      },
      "source": [
        "# Import data and Explore"
      ]
    },
    {
      "cell_type": "code",
      "metadata": {
        "id": "LBu5ObFar4C5",
        "outputId": "80869f37-1158-4d54-e49e-93e959702e05",
        "colab": {
          "base_uri": "https://localhost:8080/",
          "height": 70
        }
      },
      "source": [
        "df = pd.read_csv('/content/drive/My Drive/super AI Engineer/week5/Online Retail.csv')"
      ],
      "execution_count": 192,
      "outputs": [
        {
          "output_type": "stream",
          "text": [
            "/usr/local/lib/python3.6/dist-packages/IPython/core/interactiveshell.py:2718: DtypeWarning: Columns (0) have mixed types.Specify dtype option on import or set low_memory=False.\n",
            "  interactivity=interactivity, compiler=compiler, result=result)\n"
          ],
          "name": "stderr"
        }
      ]
    },
    {
      "cell_type": "code",
      "metadata": {
        "id": "WB-xVMuNsueS",
        "outputId": "e1f36280-2830-450d-a659-edd5fc82b248",
        "colab": {
          "base_uri": "https://localhost:8080/",
          "height": 195
        }
      },
      "source": [
        "df.head()"
      ],
      "execution_count": 193,
      "outputs": [
        {
          "output_type": "execute_result",
          "data": {
            "text/html": [
              "<div>\n",
              "<style scoped>\n",
              "    .dataframe tbody tr th:only-of-type {\n",
              "        vertical-align: middle;\n",
              "    }\n",
              "\n",
              "    .dataframe tbody tr th {\n",
              "        vertical-align: top;\n",
              "    }\n",
              "\n",
              "    .dataframe thead th {\n",
              "        text-align: right;\n",
              "    }\n",
              "</style>\n",
              "<table border=\"1\" class=\"dataframe\">\n",
              "  <thead>\n",
              "    <tr style=\"text-align: right;\">\n",
              "      <th></th>\n",
              "      <th>InvoiceNo</th>\n",
              "      <th>StockCode</th>\n",
              "      <th>Description</th>\n",
              "      <th>Quantity</th>\n",
              "      <th>InvoiceDate</th>\n",
              "      <th>UnitPrice</th>\n",
              "      <th>CustomerID</th>\n",
              "      <th>Country</th>\n",
              "    </tr>\n",
              "  </thead>\n",
              "  <tbody>\n",
              "    <tr>\n",
              "      <th>0</th>\n",
              "      <td>536365</td>\n",
              "      <td>85123A</td>\n",
              "      <td>WHITE HANGING HEART T-LIGHT HOLDER</td>\n",
              "      <td>6</td>\n",
              "      <td>12/1/2010 8:26</td>\n",
              "      <td>2.55</td>\n",
              "      <td>17850.0</td>\n",
              "      <td>United Kingdom</td>\n",
              "    </tr>\n",
              "    <tr>\n",
              "      <th>1</th>\n",
              "      <td>536365</td>\n",
              "      <td>71053</td>\n",
              "      <td>WHITE METAL LANTERN</td>\n",
              "      <td>6</td>\n",
              "      <td>12/1/2010 8:26</td>\n",
              "      <td>3.39</td>\n",
              "      <td>17850.0</td>\n",
              "      <td>United Kingdom</td>\n",
              "    </tr>\n",
              "    <tr>\n",
              "      <th>2</th>\n",
              "      <td>536365</td>\n",
              "      <td>84406B</td>\n",
              "      <td>CREAM CUPID HEARTS COAT HANGER</td>\n",
              "      <td>8</td>\n",
              "      <td>12/1/2010 8:26</td>\n",
              "      <td>2.75</td>\n",
              "      <td>17850.0</td>\n",
              "      <td>United Kingdom</td>\n",
              "    </tr>\n",
              "    <tr>\n",
              "      <th>3</th>\n",
              "      <td>536365</td>\n",
              "      <td>84029G</td>\n",
              "      <td>KNITTED UNION FLAG HOT WATER BOTTLE</td>\n",
              "      <td>6</td>\n",
              "      <td>12/1/2010 8:26</td>\n",
              "      <td>3.39</td>\n",
              "      <td>17850.0</td>\n",
              "      <td>United Kingdom</td>\n",
              "    </tr>\n",
              "    <tr>\n",
              "      <th>4</th>\n",
              "      <td>536365</td>\n",
              "      <td>84029E</td>\n",
              "      <td>RED WOOLLY HOTTIE WHITE HEART.</td>\n",
              "      <td>6</td>\n",
              "      <td>12/1/2010 8:26</td>\n",
              "      <td>3.39</td>\n",
              "      <td>17850.0</td>\n",
              "      <td>United Kingdom</td>\n",
              "    </tr>\n",
              "  </tbody>\n",
              "</table>\n",
              "</div>"
            ],
            "text/plain": [
              "  InvoiceNo StockCode  ... CustomerID         Country\n",
              "0    536365    85123A  ...    17850.0  United Kingdom\n",
              "1    536365     71053  ...    17850.0  United Kingdom\n",
              "2    536365    84406B  ...    17850.0  United Kingdom\n",
              "3    536365    84029G  ...    17850.0  United Kingdom\n",
              "4    536365    84029E  ...    17850.0  United Kingdom\n",
              "\n",
              "[5 rows x 8 columns]"
            ]
          },
          "metadata": {
            "tags": []
          },
          "execution_count": 193
        }
      ]
    },
    {
      "cell_type": "code",
      "metadata": {
        "id": "lJG4tekQsKjf",
        "outputId": "dc47d285-8579-4af7-ccad-66feabd5bd09",
        "colab": {
          "base_uri": "https://localhost:8080/",
          "height": 269
        }
      },
      "source": [
        "df.info()"
      ],
      "execution_count": 194,
      "outputs": [
        {
          "output_type": "stream",
          "text": [
            "<class 'pandas.core.frame.DataFrame'>\n",
            "RangeIndex: 531283 entries, 0 to 531282\n",
            "Data columns (total 8 columns):\n",
            " #   Column       Non-Null Count   Dtype  \n",
            "---  ------       --------------   -----  \n",
            " 0   InvoiceNo    531283 non-null  object \n",
            " 1   StockCode    531283 non-null  object \n",
            " 2   Description  530691 non-null  object \n",
            " 3   Quantity     531283 non-null  int64  \n",
            " 4   InvoiceDate  531283 non-null  object \n",
            " 5   UnitPrice    531283 non-null  float64\n",
            " 6   CustomerID   397924 non-null  float64\n",
            " 7   Country      531283 non-null  object \n",
            "dtypes: float64(2), int64(1), object(5)\n",
            "memory usage: 32.4+ MB\n"
          ],
          "name": "stdout"
        }
      ]
    },
    {
      "cell_type": "code",
      "metadata": {
        "id": "wOMw7TBSsOlH",
        "outputId": "0677335d-aba6-41bc-f129-5f091d8a4139",
        "colab": {
          "base_uri": "https://localhost:8080/",
          "height": 168
        }
      },
      "source": [
        "# check missing data\n",
        "df.isnull().sum()"
      ],
      "execution_count": 195,
      "outputs": [
        {
          "output_type": "execute_result",
          "data": {
            "text/plain": [
              "InvoiceNo           0\n",
              "StockCode           0\n",
              "Description       592\n",
              "Quantity            0\n",
              "InvoiceDate         0\n",
              "UnitPrice           0\n",
              "CustomerID     133359\n",
              "Country             0\n",
              "dtype: int64"
            ]
          },
          "metadata": {
            "tags": []
          },
          "execution_count": 195
        }
      ]
    },
    {
      "cell_type": "code",
      "metadata": {
        "id": "4vqkXrt9sfKT",
        "outputId": "2daef3ec-1a4d-4bf2-e42c-ae659dc7aa37",
        "colab": {
          "base_uri": "https://localhost:8080/",
          "height": 168
        }
      },
      "source": [
        "# check dubplicate\n",
        "df.nunique()"
      ],
      "execution_count": 196,
      "outputs": [
        {
          "output_type": "execute_result",
          "data": {
            "text/plain": [
              "InvoiceNo      20728\n",
              "StockCode       3941\n",
              "Description     4077\n",
              "Quantity         393\n",
              "InvoiceDate    19050\n",
              "UnitPrice       1292\n",
              "CustomerID      4339\n",
              "Country           38\n",
              "dtype: int64"
            ]
          },
          "metadata": {
            "tags": []
          },
          "execution_count": 196
        }
      ]
    },
    {
      "cell_type": "code",
      "metadata": {
        "id": "rr714lzQshs4",
        "outputId": "28f6f759-f214-4f0e-ce49-febc175fe137",
        "colab": {
          "base_uri": "https://localhost:8080/",
          "height": 284
        }
      },
      "source": [
        "df.describe()"
      ],
      "execution_count": 197,
      "outputs": [
        {
          "output_type": "execute_result",
          "data": {
            "text/html": [
              "<div>\n",
              "<style scoped>\n",
              "    .dataframe tbody tr th:only-of-type {\n",
              "        vertical-align: middle;\n",
              "    }\n",
              "\n",
              "    .dataframe tbody tr th {\n",
              "        vertical-align: top;\n",
              "    }\n",
              "\n",
              "    .dataframe thead th {\n",
              "        text-align: right;\n",
              "    }\n",
              "</style>\n",
              "<table border=\"1\" class=\"dataframe\">\n",
              "  <thead>\n",
              "    <tr style=\"text-align: right;\">\n",
              "      <th></th>\n",
              "      <th>Quantity</th>\n",
              "      <th>UnitPrice</th>\n",
              "      <th>CustomerID</th>\n",
              "    </tr>\n",
              "  </thead>\n",
              "  <tbody>\n",
              "    <tr>\n",
              "      <th>count</th>\n",
              "      <td>531283.000000</td>\n",
              "      <td>531283.000000</td>\n",
              "      <td>397924.000000</td>\n",
              "    </tr>\n",
              "    <tr>\n",
              "      <th>mean</th>\n",
              "      <td>10.655299</td>\n",
              "      <td>3.898954</td>\n",
              "      <td>15294.315171</td>\n",
              "    </tr>\n",
              "    <tr>\n",
              "      <th>std</th>\n",
              "      <td>156.830617</td>\n",
              "      <td>35.876279</td>\n",
              "      <td>1713.169877</td>\n",
              "    </tr>\n",
              "    <tr>\n",
              "      <th>min</th>\n",
              "      <td>1.000000</td>\n",
              "      <td>0.000000</td>\n",
              "      <td>12346.000000</td>\n",
              "    </tr>\n",
              "    <tr>\n",
              "      <th>25%</th>\n",
              "      <td>1.000000</td>\n",
              "      <td>1.250000</td>\n",
              "      <td>13969.000000</td>\n",
              "    </tr>\n",
              "    <tr>\n",
              "      <th>50%</th>\n",
              "      <td>3.000000</td>\n",
              "      <td>2.080000</td>\n",
              "      <td>15159.000000</td>\n",
              "    </tr>\n",
              "    <tr>\n",
              "      <th>75%</th>\n",
              "      <td>10.000000</td>\n",
              "      <td>4.130000</td>\n",
              "      <td>16795.000000</td>\n",
              "    </tr>\n",
              "    <tr>\n",
              "      <th>max</th>\n",
              "      <td>80995.000000</td>\n",
              "      <td>13541.330000</td>\n",
              "      <td>18287.000000</td>\n",
              "    </tr>\n",
              "  </tbody>\n",
              "</table>\n",
              "</div>"
            ],
            "text/plain": [
              "            Quantity      UnitPrice     CustomerID\n",
              "count  531283.000000  531283.000000  397924.000000\n",
              "mean       10.655299       3.898954   15294.315171\n",
              "std       156.830617      35.876279    1713.169877\n",
              "min         1.000000       0.000000   12346.000000\n",
              "25%         1.000000       1.250000   13969.000000\n",
              "50%         3.000000       2.080000   15159.000000\n",
              "75%        10.000000       4.130000   16795.000000\n",
              "max     80995.000000   13541.330000   18287.000000"
            ]
          },
          "metadata": {
            "tags": []
          },
          "execution_count": 197
        }
      ]
    },
    {
      "cell_type": "code",
      "metadata": {
        "id": "NKI8kLwksycz",
        "outputId": "b7a06ba2-d0b0-45d1-fe9b-dcab9611f4d8",
        "colab": {
          "base_uri": "https://localhost:8080/",
          "height": 195
        }
      },
      "source": [
        "df.head()"
      ],
      "execution_count": 198,
      "outputs": [
        {
          "output_type": "execute_result",
          "data": {
            "text/html": [
              "<div>\n",
              "<style scoped>\n",
              "    .dataframe tbody tr th:only-of-type {\n",
              "        vertical-align: middle;\n",
              "    }\n",
              "\n",
              "    .dataframe tbody tr th {\n",
              "        vertical-align: top;\n",
              "    }\n",
              "\n",
              "    .dataframe thead th {\n",
              "        text-align: right;\n",
              "    }\n",
              "</style>\n",
              "<table border=\"1\" class=\"dataframe\">\n",
              "  <thead>\n",
              "    <tr style=\"text-align: right;\">\n",
              "      <th></th>\n",
              "      <th>InvoiceNo</th>\n",
              "      <th>StockCode</th>\n",
              "      <th>Description</th>\n",
              "      <th>Quantity</th>\n",
              "      <th>InvoiceDate</th>\n",
              "      <th>UnitPrice</th>\n",
              "      <th>CustomerID</th>\n",
              "      <th>Country</th>\n",
              "    </tr>\n",
              "  </thead>\n",
              "  <tbody>\n",
              "    <tr>\n",
              "      <th>0</th>\n",
              "      <td>536365</td>\n",
              "      <td>85123A</td>\n",
              "      <td>WHITE HANGING HEART T-LIGHT HOLDER</td>\n",
              "      <td>6</td>\n",
              "      <td>12/1/2010 8:26</td>\n",
              "      <td>2.55</td>\n",
              "      <td>17850.0</td>\n",
              "      <td>United Kingdom</td>\n",
              "    </tr>\n",
              "    <tr>\n",
              "      <th>1</th>\n",
              "      <td>536365</td>\n",
              "      <td>71053</td>\n",
              "      <td>WHITE METAL LANTERN</td>\n",
              "      <td>6</td>\n",
              "      <td>12/1/2010 8:26</td>\n",
              "      <td>3.39</td>\n",
              "      <td>17850.0</td>\n",
              "      <td>United Kingdom</td>\n",
              "    </tr>\n",
              "    <tr>\n",
              "      <th>2</th>\n",
              "      <td>536365</td>\n",
              "      <td>84406B</td>\n",
              "      <td>CREAM CUPID HEARTS COAT HANGER</td>\n",
              "      <td>8</td>\n",
              "      <td>12/1/2010 8:26</td>\n",
              "      <td>2.75</td>\n",
              "      <td>17850.0</td>\n",
              "      <td>United Kingdom</td>\n",
              "    </tr>\n",
              "    <tr>\n",
              "      <th>3</th>\n",
              "      <td>536365</td>\n",
              "      <td>84029G</td>\n",
              "      <td>KNITTED UNION FLAG HOT WATER BOTTLE</td>\n",
              "      <td>6</td>\n",
              "      <td>12/1/2010 8:26</td>\n",
              "      <td>3.39</td>\n",
              "      <td>17850.0</td>\n",
              "      <td>United Kingdom</td>\n",
              "    </tr>\n",
              "    <tr>\n",
              "      <th>4</th>\n",
              "      <td>536365</td>\n",
              "      <td>84029E</td>\n",
              "      <td>RED WOOLLY HOTTIE WHITE HEART.</td>\n",
              "      <td>6</td>\n",
              "      <td>12/1/2010 8:26</td>\n",
              "      <td>3.39</td>\n",
              "      <td>17850.0</td>\n",
              "      <td>United Kingdom</td>\n",
              "    </tr>\n",
              "  </tbody>\n",
              "</table>\n",
              "</div>"
            ],
            "text/plain": [
              "  InvoiceNo StockCode  ... CustomerID         Country\n",
              "0    536365    85123A  ...    17850.0  United Kingdom\n",
              "1    536365     71053  ...    17850.0  United Kingdom\n",
              "2    536365    84406B  ...    17850.0  United Kingdom\n",
              "3    536365    84029G  ...    17850.0  United Kingdom\n",
              "4    536365    84029E  ...    17850.0  United Kingdom\n",
              "\n",
              "[5 rows x 8 columns]"
            ]
          },
          "metadata": {
            "tags": []
          },
          "execution_count": 198
        }
      ]
    },
    {
      "cell_type": "code",
      "metadata": {
        "id": "1mWjcoGxtDPH",
        "outputId": "e3a0abf9-d5fb-4aa8-a61b-e81bf4a5f8fb",
        "colab": {
          "base_uri": "https://localhost:8080/",
          "height": 279
        }
      },
      "source": [
        "df['Amount'] = df['Quantity'] * df['UnitPrice']\n",
        "df['InvoiceDate'] = pd.to_datetime(df['InvoiceDate'])\n",
        "df['Date'] = df['InvoiceDate'].dt.date\n",
        "# df['Month'] = df['Date'].apply(lambda x : x.replace(day=1))\n",
        "df['Month'] = df['InvoiceDate'].dt.month\n",
        "df.sample(n=5)"
      ],
      "execution_count": 199,
      "outputs": [
        {
          "output_type": "execute_result",
          "data": {
            "text/html": [
              "<div>\n",
              "<style scoped>\n",
              "    .dataframe tbody tr th:only-of-type {\n",
              "        vertical-align: middle;\n",
              "    }\n",
              "\n",
              "    .dataframe tbody tr th {\n",
              "        vertical-align: top;\n",
              "    }\n",
              "\n",
              "    .dataframe thead th {\n",
              "        text-align: right;\n",
              "    }\n",
              "</style>\n",
              "<table border=\"1\" class=\"dataframe\">\n",
              "  <thead>\n",
              "    <tr style=\"text-align: right;\">\n",
              "      <th></th>\n",
              "      <th>InvoiceNo</th>\n",
              "      <th>StockCode</th>\n",
              "      <th>Description</th>\n",
              "      <th>Quantity</th>\n",
              "      <th>InvoiceDate</th>\n",
              "      <th>UnitPrice</th>\n",
              "      <th>CustomerID</th>\n",
              "      <th>Country</th>\n",
              "      <th>Amount</th>\n",
              "      <th>Date</th>\n",
              "      <th>Month</th>\n",
              "    </tr>\n",
              "  </thead>\n",
              "  <tbody>\n",
              "    <tr>\n",
              "      <th>61289</th>\n",
              "      <td>541497</td>\n",
              "      <td>90214H</td>\n",
              "      <td>LETTER \"H\" BLING KEY RING</td>\n",
              "      <td>2</td>\n",
              "      <td>2011-01-18 15:19:00</td>\n",
              "      <td>0.83</td>\n",
              "      <td>NaN</td>\n",
              "      <td>United Kingdom</td>\n",
              "      <td>1.66</td>\n",
              "      <td>2011-01-18</td>\n",
              "      <td>1</td>\n",
              "    </tr>\n",
              "    <tr>\n",
              "      <th>308280</th>\n",
              "      <td>564666</td>\n",
              "      <td>22111</td>\n",
              "      <td>SCOTTIE DOG HOT WATER BOTTLE</td>\n",
              "      <td>3</td>\n",
              "      <td>2011-08-26 14:51:00</td>\n",
              "      <td>4.95</td>\n",
              "      <td>12492.0</td>\n",
              "      <td>Germany</td>\n",
              "      <td>14.85</td>\n",
              "      <td>2011-08-26</td>\n",
              "      <td>8</td>\n",
              "    </tr>\n",
              "    <tr>\n",
              "      <th>206522</th>\n",
              "      <td>555340</td>\n",
              "      <td>21868</td>\n",
              "      <td>POTTING SHED TEA MUG</td>\n",
              "      <td>6</td>\n",
              "      <td>2011-06-02 11:33:00</td>\n",
              "      <td>1.25</td>\n",
              "      <td>13334.0</td>\n",
              "      <td>United Kingdom</td>\n",
              "      <td>7.50</td>\n",
              "      <td>2011-06-02</td>\n",
              "      <td>6</td>\n",
              "    </tr>\n",
              "    <tr>\n",
              "      <th>189987</th>\n",
              "      <td>553549</td>\n",
              "      <td>22565</td>\n",
              "      <td>FELTCRAFT HAIRBANDS PINK AND WHITE</td>\n",
              "      <td>6</td>\n",
              "      <td>2011-05-17 16:09:00</td>\n",
              "      <td>1.63</td>\n",
              "      <td>NaN</td>\n",
              "      <td>United Kingdom</td>\n",
              "      <td>9.78</td>\n",
              "      <td>2011-05-17</td>\n",
              "      <td>5</td>\n",
              "    </tr>\n",
              "    <tr>\n",
              "      <th>63032</th>\n",
              "      <td>541595</td>\n",
              "      <td>85170D</td>\n",
              "      <td>SET/6 PINK BIRD T-LIGHT CANDLES</td>\n",
              "      <td>1</td>\n",
              "      <td>2011-01-19 16:08:00</td>\n",
              "      <td>2.10</td>\n",
              "      <td>14606.0</td>\n",
              "      <td>United Kingdom</td>\n",
              "      <td>2.10</td>\n",
              "      <td>2011-01-19</td>\n",
              "      <td>1</td>\n",
              "    </tr>\n",
              "  </tbody>\n",
              "</table>\n",
              "</div>"
            ],
            "text/plain": [
              "       InvoiceNo StockCode  ...        Date  Month\n",
              "61289     541497    90214H  ...  2011-01-18      1\n",
              "308280    564666     22111  ...  2011-08-26      8\n",
              "206522    555340     21868  ...  2011-06-02      6\n",
              "189987    553549     22565  ...  2011-05-17      5\n",
              "63032     541595    85170D  ...  2011-01-19      1\n",
              "\n",
              "[5 rows x 11 columns]"
            ]
          },
          "metadata": {
            "tags": []
          },
          "execution_count": 199
        }
      ]
    },
    {
      "cell_type": "code",
      "metadata": {
        "id": "QSIEb8zitrlt"
      },
      "source": [
        ""
      ],
      "execution_count": 199,
      "outputs": []
    },
    {
      "cell_type": "markdown",
      "metadata": {
        "id": "L_h6axPK0pyf"
      },
      "source": [
        "# Monthly sale Analysis"
      ]
    },
    {
      "cell_type": "code",
      "metadata": {
        "id": "TvZta51R6gXa",
        "outputId": "cb848186-5ddb-49b7-d20b-3a8973e15f1b",
        "colab": {
          "base_uri": "https://localhost:8080/",
          "height": 279
        }
      },
      "source": [
        "df.sample(n=5, random_state=2)"
      ],
      "execution_count": 200,
      "outputs": [
        {
          "output_type": "execute_result",
          "data": {
            "text/html": [
              "<div>\n",
              "<style scoped>\n",
              "    .dataframe tbody tr th:only-of-type {\n",
              "        vertical-align: middle;\n",
              "    }\n",
              "\n",
              "    .dataframe tbody tr th {\n",
              "        vertical-align: top;\n",
              "    }\n",
              "\n",
              "    .dataframe thead th {\n",
              "        text-align: right;\n",
              "    }\n",
              "</style>\n",
              "<table border=\"1\" class=\"dataframe\">\n",
              "  <thead>\n",
              "    <tr style=\"text-align: right;\">\n",
              "      <th></th>\n",
              "      <th>InvoiceNo</th>\n",
              "      <th>StockCode</th>\n",
              "      <th>Description</th>\n",
              "      <th>Quantity</th>\n",
              "      <th>InvoiceDate</th>\n",
              "      <th>UnitPrice</th>\n",
              "      <th>CustomerID</th>\n",
              "      <th>Country</th>\n",
              "      <th>Amount</th>\n",
              "      <th>Date</th>\n",
              "      <th>Month</th>\n",
              "    </tr>\n",
              "  </thead>\n",
              "  <tbody>\n",
              "    <tr>\n",
              "      <th>480778</th>\n",
              "      <td>578065</td>\n",
              "      <td>22430</td>\n",
              "      <td>ENAMEL WATERING CAN CREAM</td>\n",
              "      <td>1</td>\n",
              "      <td>2011-11-22 15:41:00</td>\n",
              "      <td>9.96</td>\n",
              "      <td>NaN</td>\n",
              "      <td>United Kingdom</td>\n",
              "      <td>9.96</td>\n",
              "      <td>2011-11-22</td>\n",
              "      <td>11</td>\n",
              "    </tr>\n",
              "    <tr>\n",
              "      <th>156395</th>\n",
              "      <td>550361</td>\n",
              "      <td>23233</td>\n",
              "      <td>WRAP POPPIES  DESIGN</td>\n",
              "      <td>25</td>\n",
              "      <td>2011-04-18 11:10:00</td>\n",
              "      <td>0.42</td>\n",
              "      <td>13082.0</td>\n",
              "      <td>United Kingdom</td>\n",
              "      <td>10.50</td>\n",
              "      <td>2011-04-18</td>\n",
              "      <td>4</td>\n",
              "    </tr>\n",
              "    <tr>\n",
              "      <th>395273</th>\n",
              "      <td>571654</td>\n",
              "      <td>22457</td>\n",
              "      <td>NATURAL SLATE HEART CHALKBOARD</td>\n",
              "      <td>1</td>\n",
              "      <td>2011-10-18 12:17:00</td>\n",
              "      <td>2.95</td>\n",
              "      <td>18118.0</td>\n",
              "      <td>United Kingdom</td>\n",
              "      <td>2.95</td>\n",
              "      <td>2011-10-18</td>\n",
              "      <td>10</td>\n",
              "    </tr>\n",
              "    <tr>\n",
              "      <th>402911</th>\n",
              "      <td>572225</td>\n",
              "      <td>22141</td>\n",
              "      <td>CHRISTMAS CRAFT TREE TOP ANGEL</td>\n",
              "      <td>12</td>\n",
              "      <td>2011-10-21 13:50:00</td>\n",
              "      <td>2.10</td>\n",
              "      <td>13157.0</td>\n",
              "      <td>United Kingdom</td>\n",
              "      <td>25.20</td>\n",
              "      <td>2011-10-21</td>\n",
              "      <td>10</td>\n",
              "    </tr>\n",
              "    <tr>\n",
              "      <th>447682</th>\n",
              "      <td>575736</td>\n",
              "      <td>23354</td>\n",
              "      <td>6 GIFT TAGS 50'S CHRISTMAS</td>\n",
              "      <td>12</td>\n",
              "      <td>2011-11-11 08:47:00</td>\n",
              "      <td>0.83</td>\n",
              "      <td>12697.0</td>\n",
              "      <td>Sweden</td>\n",
              "      <td>9.96</td>\n",
              "      <td>2011-11-11</td>\n",
              "      <td>11</td>\n",
              "    </tr>\n",
              "  </tbody>\n",
              "</table>\n",
              "</div>"
            ],
            "text/plain": [
              "       InvoiceNo StockCode  ...        Date  Month\n",
              "480778    578065     22430  ...  2011-11-22     11\n",
              "156395    550361     23233  ...  2011-04-18      4\n",
              "395273    571654     22457  ...  2011-10-18     10\n",
              "402911    572225     22141  ...  2011-10-21     10\n",
              "447682    575736     23354  ...  2011-11-11     11\n",
              "\n",
              "[5 rows x 11 columns]"
            ]
          },
          "metadata": {
            "tags": []
          },
          "execution_count": 200
        }
      ]
    },
    {
      "cell_type": "code",
      "metadata": {
        "id": "SGhiIoq_0zqI",
        "outputId": "285068b2-37db-46dc-d0d3-3b4419b55bd8",
        "colab": {
          "base_uri": "https://localhost:8080/",
          "height": 402
        }
      },
      "source": [
        "Month_sales = df.groupby('Month').agg({'Amount' : ['sum','count'], \n",
        "                                       'CustomerID' :  'nunique',\n",
        "                                       'InvoiceNo' : 'nunique'\n",
        "                                       })\n",
        "Month_sales.columns = ['รายรับรวม', 'จำนวนสินค้าที่ขายได้', 'จำนวนลูกค้าที่รู้จักมาซื้อของ', 'จำนวนการซื้อ']\n",
        "Month_sales['เงิน/ซื้อ1ครั้ง'] = Month_sales['รายรับรวม'] / Month_sales['จำนวนการซื้อ']\n",
        "Month_sales.reset_index(inplace=True)\n",
        "Month_sales"
      ],
      "execution_count": 201,
      "outputs": [
        {
          "output_type": "execute_result",
          "data": {
            "text/html": [
              "<div>\n",
              "<style scoped>\n",
              "    .dataframe tbody tr th:only-of-type {\n",
              "        vertical-align: middle;\n",
              "    }\n",
              "\n",
              "    .dataframe tbody tr th {\n",
              "        vertical-align: top;\n",
              "    }\n",
              "\n",
              "    .dataframe thead th {\n",
              "        text-align: right;\n",
              "    }\n",
              "</style>\n",
              "<table border=\"1\" class=\"dataframe\">\n",
              "  <thead>\n",
              "    <tr style=\"text-align: right;\">\n",
              "      <th></th>\n",
              "      <th>Month</th>\n",
              "      <th>รายรับรวม</th>\n",
              "      <th>จำนวนสินค้าที่ขายได้</th>\n",
              "      <th>จำนวนลูกค้าที่รู้จักมาซื้อของ</th>\n",
              "      <th>จำนวนการซื้อ</th>\n",
              "      <th>เงิน/ซื้อ1ครั้ง</th>\n",
              "    </tr>\n",
              "  </thead>\n",
              "  <tbody>\n",
              "    <tr>\n",
              "      <th>0</th>\n",
              "      <td>1</td>\n",
              "      <td>691364.560</td>\n",
              "      <td>34350</td>\n",
              "      <td>741</td>\n",
              "      <td>1120</td>\n",
              "      <td>617.289786</td>\n",
              "    </tr>\n",
              "    <tr>\n",
              "      <th>1</th>\n",
              "      <td>2</td>\n",
              "      <td>523631.890</td>\n",
              "      <td>27184</td>\n",
              "      <td>758</td>\n",
              "      <td>1126</td>\n",
              "      <td>465.037202</td>\n",
              "    </tr>\n",
              "    <tr>\n",
              "      <th>2</th>\n",
              "      <td>3</td>\n",
              "      <td>717639.360</td>\n",
              "      <td>35915</td>\n",
              "      <td>974</td>\n",
              "      <td>1531</td>\n",
              "      <td>468.738968</td>\n",
              "    </tr>\n",
              "    <tr>\n",
              "      <th>3</th>\n",
              "      <td>4</td>\n",
              "      <td>537808.621</td>\n",
              "      <td>29171</td>\n",
              "      <td>856</td>\n",
              "      <td>1318</td>\n",
              "      <td>408.049030</td>\n",
              "    </tr>\n",
              "    <tr>\n",
              "      <th>4</th>\n",
              "      <td>5</td>\n",
              "      <td>770536.020</td>\n",
              "      <td>36292</td>\n",
              "      <td>1056</td>\n",
              "      <td>1731</td>\n",
              "      <td>445.139237</td>\n",
              "    </tr>\n",
              "    <tr>\n",
              "      <th>5</th>\n",
              "      <td>6</td>\n",
              "      <td>761739.900</td>\n",
              "      <td>36056</td>\n",
              "      <td>991</td>\n",
              "      <td>1576</td>\n",
              "      <td>483.337500</td>\n",
              "    </tr>\n",
              "    <tr>\n",
              "      <th>6</th>\n",
              "      <td>7</td>\n",
              "      <td>719221.191</td>\n",
              "      <td>38716</td>\n",
              "      <td>949</td>\n",
              "      <td>1541</td>\n",
              "      <td>466.723680</td>\n",
              "    </tr>\n",
              "    <tr>\n",
              "      <th>7</th>\n",
              "      <td>8</td>\n",
              "      <td>759138.380</td>\n",
              "      <td>34564</td>\n",
              "      <td>935</td>\n",
              "      <td>1407</td>\n",
              "      <td>539.543980</td>\n",
              "    </tr>\n",
              "    <tr>\n",
              "      <th>8</th>\n",
              "      <td>9</td>\n",
              "      <td>1058590.172</td>\n",
              "      <td>49323</td>\n",
              "      <td>1266</td>\n",
              "      <td>1897</td>\n",
              "      <td>558.033828</td>\n",
              "    </tr>\n",
              "    <tr>\n",
              "      <th>9</th>\n",
              "      <td>10</td>\n",
              "      <td>1154979.300</td>\n",
              "      <td>59396</td>\n",
              "      <td>1364</td>\n",
              "      <td>2129</td>\n",
              "      <td>542.498497</td>\n",
              "    </tr>\n",
              "    <tr>\n",
              "      <th>10</th>\n",
              "      <td>11</td>\n",
              "      <td>1509496.330</td>\n",
              "      <td>83498</td>\n",
              "      <td>1665</td>\n",
              "      <td>2884</td>\n",
              "      <td>523.403721</td>\n",
              "    </tr>\n",
              "    <tr>\n",
              "      <th>11</th>\n",
              "      <td>12</td>\n",
              "      <td>1462538.820</td>\n",
              "      <td>66818</td>\n",
              "      <td>1265</td>\n",
              "      <td>2468</td>\n",
              "      <td>592.600818</td>\n",
              "    </tr>\n",
              "  </tbody>\n",
              "</table>\n",
              "</div>"
            ],
            "text/plain": [
              "    Month    รายรับรวม  ...  จำนวนการซื้อ  เงิน/ซื้อ1ครั้ง\n",
              "0       1   691364.560  ...          1120       617.289786\n",
              "1       2   523631.890  ...          1126       465.037202\n",
              "2       3   717639.360  ...          1531       468.738968\n",
              "3       4   537808.621  ...          1318       408.049030\n",
              "4       5   770536.020  ...          1731       445.139237\n",
              "5       6   761739.900  ...          1576       483.337500\n",
              "6       7   719221.191  ...          1541       466.723680\n",
              "7       8   759138.380  ...          1407       539.543980\n",
              "8       9  1058590.172  ...          1897       558.033828\n",
              "9      10  1154979.300  ...          2129       542.498497\n",
              "10     11  1509496.330  ...          2884       523.403721\n",
              "11     12  1462538.820  ...          2468       592.600818\n",
              "\n",
              "[12 rows x 6 columns]"
            ]
          },
          "metadata": {
            "tags": []
          },
          "execution_count": 201
        }
      ]
    },
    {
      "cell_type": "markdown",
      "metadata": {
        "id": "RskhVQMdOkXK"
      },
      "source": [
        "Content : ข้อมูลที่ show ควรมีอะไรบ้าง\n",
        "*   รายรับรวม\n",
        "*   จำนวนการซื้อ"
      ]
    },
    {
      "cell_type": "code",
      "metadata": {
        "id": "0Q1zXP1iHyVs",
        "outputId": "5acdb8fe-6e7e-466c-ca70-09976a50a7c5",
        "colab": {
          "base_uri": "https://localhost:8080/",
          "height": 523
        }
      },
      "source": [
        "# %matplotlib inline\n",
        "plt.figure(figsize=(8,8))\n",
        "plt.bar(Month_sales['Month'], Month_sales[\"รายรับรวม\"], width=0.5, color='#0504aa', alpha=0.7)\n",
        "# plt.plot(Month_sales['Month'], Month_sales['รายรับรวม'], 'red')\n",
        "# plt.xlim(min(Month_sales['Month']), max(Month_sales['Month']))\n",
        "# sns.barplot(x='Month', y='รายรับรวม', data=Month_sales, palette=\"muted\")\n",
        "plt.xlabel('Month',fontsize=15)\n",
        "plt.ylabel('Total amount',fontsize=15)\n",
        "plt.title('Month Comparison between Total amount and Month',fontsize=15)\n",
        "plt.xticks(fontsize=12)\n",
        "plt.yticks(fontsize=0)\n",
        "plt.grid(axis='y', alpha=0.75)\n",
        "plt.show()"
      ],
      "execution_count": 202,
      "outputs": [
        {
          "output_type": "display_data",
          "data": {
            "image/png": "[encoded data removed]",
            "text/plain": [
              "<Figure size 576x576 with 1 Axes>"
            ]
          },
          "metadata": {
            "tags": [],
            "needs_background": "light"
          }
        }
      ]
    },
    {
      "cell_type": "code",
      "metadata": {
        "id": "azTuq42CcUEu",
        "outputId": "9a933e96-4cb7-48b0-c995-dcc71aac13c8",
        "colab": {
          "base_uri": "https://localhost:8080/",
          "height": 525
        }
      },
      "source": [
        "plt.figure(figsize=(8,8))\n",
        "plt.bar(Month_sales['Month'], Month_sales['จำนวนการซื้อ'], width=0.5, color = '#DC4A36', alpha=0.8)\n",
        "# sns.barplot(x='Month', y='จำนวนการซื้อ', data=Month_sales)\n",
        "plt.xlabel('Month', fontsize=15)\n",
        "plt.ylabel('Number of buyying', fontsize=15)\n",
        "plt.title('Month Comparison between Number of Buyying and Month', fontsize=15)\n",
        "plt.xticks(Month_sales['Month'], fontsize=15)\n",
        "plt.yticks(fontsize=0)\n",
        "plt.grid(axis='y', alpha=0.7)\n",
        "plt.show()"
      ],
      "execution_count": 203,
      "outputs": [
        {
          "output_type": "display_data",
          "data": {
            "image/png": "[encoded data removed]",
            "text/plain": [
              "<Figure size 576x576 with 1 Axes>"
            ]
          },
          "metadata": {
            "tags": [],
            "needs_background": "light"
          }
        }
      ]
    },
    {
      "cell_type": "markdown",
      "metadata": {
        "id": "B3Q2JikFeT25"
      },
      "source": [
        "# Time analysis"
      ]
    },
    {
      "cell_type": "code",
      "metadata": {
        "id": "3Wm-U_sFeZe_",
        "outputId": "34dab250-4b7c-4886-d092-ea740cd8b9ab",
        "colab": {
          "base_uri": "https://localhost:8080/",
          "height": 279
        }
      },
      "source": [
        "df.head()"
      ],
      "execution_count": 204,
      "outputs": [
        {
          "output_type": "execute_result",
          "data": {
            "text/html": [
              "<div>\n",
              "<style scoped>\n",
              "    .dataframe tbody tr th:only-of-type {\n",
              "        vertical-align: middle;\n",
              "    }\n",
              "\n",
              "    .dataframe tbody tr th {\n",
              "        vertical-align: top;\n",
              "    }\n",
              "\n",
              "    .dataframe thead th {\n",
              "        text-align: right;\n",
              "    }\n",
              "</style>\n",
              "<table border=\"1\" class=\"dataframe\">\n",
              "  <thead>\n",
              "    <tr style=\"text-align: right;\">\n",
              "      <th></th>\n",
              "      <th>InvoiceNo</th>\n",
              "      <th>StockCode</th>\n",
              "      <th>Description</th>\n",
              "      <th>Quantity</th>\n",
              "      <th>InvoiceDate</th>\n",
              "      <th>UnitPrice</th>\n",
              "      <th>CustomerID</th>\n",
              "      <th>Country</th>\n",
              "      <th>Amount</th>\n",
              "      <th>Date</th>\n",
              "      <th>Month</th>\n",
              "    </tr>\n",
              "  </thead>\n",
              "  <tbody>\n",
              "    <tr>\n",
              "      <th>0</th>\n",
              "      <td>536365</td>\n",
              "      <td>85123A</td>\n",
              "      <td>WHITE HANGING HEART T-LIGHT HOLDER</td>\n",
              "      <td>6</td>\n",
              "      <td>2010-12-01 08:26:00</td>\n",
              "      <td>2.55</td>\n",
              "      <td>17850.0</td>\n",
              "      <td>United Kingdom</td>\n",
              "      <td>15.30</td>\n",
              "      <td>2010-12-01</td>\n",
              "      <td>12</td>\n",
              "    </tr>\n",
              "    <tr>\n",
              "      <th>1</th>\n",
              "      <td>536365</td>\n",
              "      <td>71053</td>\n",
              "      <td>WHITE METAL LANTERN</td>\n",
              "      <td>6</td>\n",
              "      <td>2010-12-01 08:26:00</td>\n",
              "      <td>3.39</td>\n",
              "      <td>17850.0</td>\n",
              "      <td>United Kingdom</td>\n",
              "      <td>20.34</td>\n",
              "      <td>2010-12-01</td>\n",
              "      <td>12</td>\n",
              "    </tr>\n",
              "    <tr>\n",
              "      <th>2</th>\n",
              "      <td>536365</td>\n",
              "      <td>84406B</td>\n",
              "      <td>CREAM CUPID HEARTS COAT HANGER</td>\n",
              "      <td>8</td>\n",
              "      <td>2010-12-01 08:26:00</td>\n",
              "      <td>2.75</td>\n",
              "      <td>17850.0</td>\n",
              "      <td>United Kingdom</td>\n",
              "      <td>22.00</td>\n",
              "      <td>2010-12-01</td>\n",
              "      <td>12</td>\n",
              "    </tr>\n",
              "    <tr>\n",
              "      <th>3</th>\n",
              "      <td>536365</td>\n",
              "      <td>84029G</td>\n",
              "      <td>KNITTED UNION FLAG HOT WATER BOTTLE</td>\n",
              "      <td>6</td>\n",
              "      <td>2010-12-01 08:26:00</td>\n",
              "      <td>3.39</td>\n",
              "      <td>17850.0</td>\n",
              "      <td>United Kingdom</td>\n",
              "      <td>20.34</td>\n",
              "      <td>2010-12-01</td>\n",
              "      <td>12</td>\n",
              "    </tr>\n",
              "    <tr>\n",
              "      <th>4</th>\n",
              "      <td>536365</td>\n",
              "      <td>84029E</td>\n",
              "      <td>RED WOOLLY HOTTIE WHITE HEART.</td>\n",
              "      <td>6</td>\n",
              "      <td>2010-12-01 08:26:00</td>\n",
              "      <td>3.39</td>\n",
              "      <td>17850.0</td>\n",
              "      <td>United Kingdom</td>\n",
              "      <td>20.34</td>\n",
              "      <td>2010-12-01</td>\n",
              "      <td>12</td>\n",
              "    </tr>\n",
              "  </tbody>\n",
              "</table>\n",
              "</div>"
            ],
            "text/plain": [
              "  InvoiceNo StockCode  ...        Date  Month\n",
              "0    536365    85123A  ...  2010-12-01     12\n",
              "1    536365     71053  ...  2010-12-01     12\n",
              "2    536365    84406B  ...  2010-12-01     12\n",
              "3    536365    84029G  ...  2010-12-01     12\n",
              "4    536365    84029E  ...  2010-12-01     12\n",
              "\n",
              "[5 rows x 11 columns]"
            ]
          },
          "metadata": {
            "tags": []
          },
          "execution_count": 204
        }
      ]
    },
    {
      "cell_type": "code",
      "metadata": {
        "id": "_-wJmrV5ekXp",
        "outputId": "eca0fe65-34dc-4c75-b88b-71ee3e038bf3",
        "colab": {
          "base_uri": "https://localhost:8080/",
          "height": 279
        }
      },
      "source": [
        "df['Hours'] = df['InvoiceDate'].dt.hour\n",
        "df.sample(5)"
      ],
      "execution_count": 205,
      "outputs": [
        {
          "output_type": "execute_result",
          "data": {
            "text/html": [
              "<div>\n",
              "<style scoped>\n",
              "    .dataframe tbody tr th:only-of-type {\n",
              "        vertical-align: middle;\n",
              "    }\n",
              "\n",
              "    .dataframe tbody tr th {\n",
              "        vertical-align: top;\n",
              "    }\n",
              "\n",
              "    .dataframe thead th {\n",
              "        text-align: right;\n",
              "    }\n",
              "</style>\n",
              "<table border=\"1\" class=\"dataframe\">\n",
              "  <thead>\n",
              "    <tr style=\"text-align: right;\">\n",
              "      <th></th>\n",
              "      <th>InvoiceNo</th>\n",
              "      <th>StockCode</th>\n",
              "      <th>Description</th>\n",
              "      <th>Quantity</th>\n",
              "      <th>InvoiceDate</th>\n",
              "      <th>UnitPrice</th>\n",
              "      <th>CustomerID</th>\n",
              "      <th>Country</th>\n",
              "      <th>Amount</th>\n",
              "      <th>Date</th>\n",
              "      <th>Month</th>\n",
              "      <th>Hours</th>\n",
              "    </tr>\n",
              "  </thead>\n",
              "  <tbody>\n",
              "    <tr>\n",
              "      <th>162336</th>\n",
              "      <td>550834</td>\n",
              "      <td>21980</td>\n",
              "      <td>PACK OF 12 RED RETROSPOT TISSUES</td>\n",
              "      <td>12</td>\n",
              "      <td>2011-04-21 10:51:00</td>\n",
              "      <td>0.29</td>\n",
              "      <td>14730.0</td>\n",
              "      <td>United Kingdom</td>\n",
              "      <td>3.48</td>\n",
              "      <td>2011-04-21</td>\n",
              "      <td>4</td>\n",
              "      <td>10</td>\n",
              "    </tr>\n",
              "    <tr>\n",
              "      <th>405529</th>\n",
              "      <td>572443</td>\n",
              "      <td>15056BL</td>\n",
              "      <td>EDWARDIAN PARASOL BLACK</td>\n",
              "      <td>60</td>\n",
              "      <td>2011-10-24 12:10:00</td>\n",
              "      <td>4.95</td>\n",
              "      <td>14145.0</td>\n",
              "      <td>United Kingdom</td>\n",
              "      <td>297.00</td>\n",
              "      <td>2011-10-24</td>\n",
              "      <td>10</td>\n",
              "      <td>12</td>\n",
              "    </tr>\n",
              "    <tr>\n",
              "      <th>526083</th>\n",
              "      <td>581219</td>\n",
              "      <td>22375</td>\n",
              "      <td>AIRLINE BAG VINTAGE JET SET BROWN</td>\n",
              "      <td>1</td>\n",
              "      <td>2011-12-08 09:28:00</td>\n",
              "      <td>8.29</td>\n",
              "      <td>NaN</td>\n",
              "      <td>United Kingdom</td>\n",
              "      <td>8.29</td>\n",
              "      <td>2011-12-08</td>\n",
              "      <td>12</td>\n",
              "      <td>9</td>\n",
              "    </tr>\n",
              "    <tr>\n",
              "      <th>126364</th>\n",
              "      <td>547372</td>\n",
              "      <td>21535</td>\n",
              "      <td>RED RETROSPOT SMALL MILK JUG</td>\n",
              "      <td>1</td>\n",
              "      <td>2011-03-22 13:46:00</td>\n",
              "      <td>2.55</td>\n",
              "      <td>16374.0</td>\n",
              "      <td>United Kingdom</td>\n",
              "      <td>2.55</td>\n",
              "      <td>2011-03-22</td>\n",
              "      <td>3</td>\n",
              "      <td>13</td>\n",
              "    </tr>\n",
              "    <tr>\n",
              "      <th>282977</th>\n",
              "      <td>562219</td>\n",
              "      <td>22652</td>\n",
              "      <td>TRAVEL SEWING KIT</td>\n",
              "      <td>10</td>\n",
              "      <td>2011-08-03 14:14:00</td>\n",
              "      <td>1.65</td>\n",
              "      <td>15089.0</td>\n",
              "      <td>United Kingdom</td>\n",
              "      <td>16.50</td>\n",
              "      <td>2011-08-03</td>\n",
              "      <td>8</td>\n",
              "      <td>14</td>\n",
              "    </tr>\n",
              "  </tbody>\n",
              "</table>\n",
              "</div>"
            ],
            "text/plain": [
              "       InvoiceNo StockCode  ... Month  Hours\n",
              "162336    550834     21980  ...     4     10\n",
              "405529    572443   15056BL  ...    10     12\n",
              "526083    581219     22375  ...    12      9\n",
              "126364    547372     21535  ...     3     13\n",
              "282977    562219     22652  ...     8     14\n",
              "\n",
              "[5 rows x 12 columns]"
            ]
          },
          "metadata": {
            "tags": []
          },
          "execution_count": 205
        }
      ]
    },
    {
      "cell_type": "code",
      "metadata": {
        "id": "OcbhqIX9e5YA",
        "outputId": "b5dd590d-9ff4-4a2d-e755-b23db6359028",
        "colab": {
          "base_uri": "https://localhost:8080/",
          "height": 491
        }
      },
      "source": [
        "Time_sales = df.groupby('Hours').agg({'Amount' : 'sum'})\n",
        "Time_sales.reset_index(inplace=True)\n",
        "Time_sales"
      ],
      "execution_count": 206,
      "outputs": [
        {
          "output_type": "execute_result",
          "data": {
            "text/html": [
              "<div>\n",
              "<style scoped>\n",
              "    .dataframe tbody tr th:only-of-type {\n",
              "        vertical-align: middle;\n",
              "    }\n",
              "\n",
              "    .dataframe tbody tr th {\n",
              "        vertical-align: top;\n",
              "    }\n",
              "\n",
              "    .dataframe thead th {\n",
              "        text-align: right;\n",
              "    }\n",
              "</style>\n",
              "<table border=\"1\" class=\"dataframe\">\n",
              "  <thead>\n",
              "    <tr style=\"text-align: right;\">\n",
              "      <th></th>\n",
              "      <th>Hours</th>\n",
              "      <th>Amount</th>\n",
              "    </tr>\n",
              "  </thead>\n",
              "  <tbody>\n",
              "    <tr>\n",
              "      <th>0</th>\n",
              "      <td>6</td>\n",
              "      <td>4.250</td>\n",
              "    </tr>\n",
              "    <tr>\n",
              "      <th>1</th>\n",
              "      <td>7</td>\n",
              "      <td>31059.210</td>\n",
              "    </tr>\n",
              "    <tr>\n",
              "      <th>2</th>\n",
              "      <td>8</td>\n",
              "      <td>283868.520</td>\n",
              "    </tr>\n",
              "    <tr>\n",
              "      <th>3</th>\n",
              "      <td>9</td>\n",
              "      <td>990267.821</td>\n",
              "    </tr>\n",
              "    <tr>\n",
              "      <th>4</th>\n",
              "      <td>10</td>\n",
              "      <td>1446742.701</td>\n",
              "    </tr>\n",
              "    <tr>\n",
              "      <th>5</th>\n",
              "      <td>11</td>\n",
              "      <td>1239954.440</td>\n",
              "    </tr>\n",
              "    <tr>\n",
              "      <th>6</th>\n",
              "      <td>12</td>\n",
              "      <td>1444245.880</td>\n",
              "    </tr>\n",
              "    <tr>\n",
              "      <th>7</th>\n",
              "      <td>13</td>\n",
              "      <td>1265736.300</td>\n",
              "    </tr>\n",
              "    <tr>\n",
              "      <th>8</th>\n",
              "      <td>14</td>\n",
              "      <td>1181812.371</td>\n",
              "    </tr>\n",
              "    <tr>\n",
              "      <th>9</th>\n",
              "      <td>15</td>\n",
              "      <td>1352972.180</td>\n",
              "    </tr>\n",
              "    <tr>\n",
              "      <th>10</th>\n",
              "      <td>16</td>\n",
              "      <td>754006.560</td>\n",
              "    </tr>\n",
              "    <tr>\n",
              "      <th>11</th>\n",
              "      <td>17</td>\n",
              "      <td>461603.491</td>\n",
              "    </tr>\n",
              "    <tr>\n",
              "      <th>12</th>\n",
              "      <td>18</td>\n",
              "      <td>144813.050</td>\n",
              "    </tr>\n",
              "    <tr>\n",
              "      <th>13</th>\n",
              "      <td>19</td>\n",
              "      <td>50665.010</td>\n",
              "    </tr>\n",
              "    <tr>\n",
              "      <th>14</th>\n",
              "      <td>20</td>\n",
              "      <td>18932.760</td>\n",
              "    </tr>\n",
              "  </tbody>\n",
              "</table>\n",
              "</div>"
            ],
            "text/plain": [
              "    Hours       Amount\n",
              "0       6        4.250\n",
              "1       7    31059.210\n",
              "2       8   283868.520\n",
              "3       9   990267.821\n",
              "4      10  1446742.701\n",
              "5      11  1239954.440\n",
              "6      12  1444245.880\n",
              "7      13  1265736.300\n",
              "8      14  1181812.371\n",
              "9      15  1352972.180\n",
              "10     16   754006.560\n",
              "11     17   461603.491\n",
              "12     18   144813.050\n",
              "13     19    50665.010\n",
              "14     20    18932.760"
            ]
          },
          "metadata": {
            "tags": []
          },
          "execution_count": 206
        }
      ]
    },
    {
      "cell_type": "code",
      "metadata": {
        "id": "uR7q9As3gYaW",
        "outputId": "6d3bd188-9112-48b6-f7d0-50fb1c4c65ec",
        "colab": {
          "base_uri": "https://localhost:8080/",
          "height": 525
        }
      },
      "source": [
        "plt.figure(figsize=(8,8))\n",
        "# plt.scatter(Time_sales['Hours'], Time_sales['Amount'], color='#BC3912')\n",
        "# plt.plot(Time_sales['Hours'], Time_sales['Amount'])\n",
        "# plt.bar(Time_sales['Hours'], Time_sales['Amount'], color='#3BD93F', alpha=0.7)\n",
        "sns.barplot(x='Hours', y='Amount', data=Time_sales, palette=\"rocket\")\n",
        "plt.title('Amount in each hours', fontsize=15)\n",
        "plt.xlabel('Hours', fontsize=15)\n",
        "plt.ylabel('Amount', fontsize=15)\n",
        "plt.xticks(fontsize=15)\n",
        "plt.yticks(fontsize=0)\n",
        "plt.grid(axis='both', alpha=0.3)\n",
        "plt.show()"
      ],
      "execution_count": 207,
      "outputs": [
        {
          "output_type": "display_data",
          "data": {
            "image/png": "[encoded data removed]",
            "text/plain": [
              "<Figure size 576x576 with 1 Axes>"
            ]
          },
          "metadata": {
            "tags": [],
            "needs_background": "light"
          }
        }
      ]
    },
    {
      "cell_type": "markdown",
      "metadata": {
        "id": "eDZrp9Rwnk1t"
      },
      "source": [
        "# Country comparison"
      ]
    },
    {
      "cell_type": "code",
      "metadata": {
        "id": "TVElIWJzhFOH",
        "outputId": "1648f999-f67b-4e16-f0fc-fd9f5bd16e37",
        "colab": {
          "base_uri": "https://localhost:8080/",
          "height": 195
        }
      },
      "source": [
        "Country_sales = df.groupby(by=['Country'])[['Amount']].sum()\\\n",
        "                        .reset_index()\\\n",
        "                        .sort_values(by='Amount', ascending=False)\n",
        "Country_sales.head()"
      ],
      "execution_count": 208,
      "outputs": [
        {
          "output_type": "execute_result",
          "data": {
            "text/html": [
              "<div>\n",
              "<style scoped>\n",
              "    .dataframe tbody tr th:only-of-type {\n",
              "        vertical-align: middle;\n",
              "    }\n",
              "\n",
              "    .dataframe tbody tr th {\n",
              "        vertical-align: top;\n",
              "    }\n",
              "\n",
              "    .dataframe thead th {\n",
              "        text-align: right;\n",
              "    }\n",
              "</style>\n",
              "<table border=\"1\" class=\"dataframe\">\n",
              "  <thead>\n",
              "    <tr style=\"text-align: right;\">\n",
              "      <th></th>\n",
              "      <th>Country</th>\n",
              "      <th>Amount</th>\n",
              "    </tr>\n",
              "  </thead>\n",
              "  <tbody>\n",
              "    <tr>\n",
              "      <th>36</th>\n",
              "      <td>United Kingdom</td>\n",
              "      <td>9.025222e+06</td>\n",
              "    </tr>\n",
              "    <tr>\n",
              "      <th>24</th>\n",
              "      <td>Netherlands</td>\n",
              "      <td>2.854463e+05</td>\n",
              "    </tr>\n",
              "    <tr>\n",
              "      <th>10</th>\n",
              "      <td>EIRE</td>\n",
              "      <td>2.834540e+05</td>\n",
              "    </tr>\n",
              "    <tr>\n",
              "      <th>14</th>\n",
              "      <td>Germany</td>\n",
              "      <td>2.288671e+05</td>\n",
              "    </tr>\n",
              "    <tr>\n",
              "      <th>13</th>\n",
              "      <td>France</td>\n",
              "      <td>2.097151e+05</td>\n",
              "    </tr>\n",
              "  </tbody>\n",
              "</table>\n",
              "</div>"
            ],
            "text/plain": [
              "           Country        Amount\n",
              "36  United Kingdom  9.025222e+06\n",
              "24     Netherlands  2.854463e+05\n",
              "10            EIRE  2.834540e+05\n",
              "14         Germany  2.288671e+05\n",
              "13          France  2.097151e+05"
            ]
          },
          "metadata": {
            "tags": []
          },
          "execution_count": 208
        }
      ]
    },
    {
      "cell_type": "code",
      "metadata": {
        "id": "WhUEX8vCnwGl",
        "outputId": "53bda8b6-498a-4bdb-98bb-a34524f21896",
        "colab": {
          "base_uri": "https://localhost:8080/",
          "height": 497
        }
      },
      "source": [
        "plt.figure(figsize=(8,8))\n",
        "sns.barplot(y = 'Country', x='Amount', data = Country_sales)\n",
        "plt.show()"
      ],
      "execution_count": 209,
      "outputs": [
        {
          "output_type": "display_data",
          "data": {
            "image/png": "[encoded data removed]",
            "text/plain": [
              "<Figure size 576x576 with 1 Axes>"
            ]
          },
          "metadata": {
            "tags": [],
            "needs_background": "light"
          }
        }
      ]
    },
    {
      "cell_type": "code",
      "metadata": {
        "id": "1GBr2o-MtMWp"
      },
      "source": [
        "Country_sales_no_uk = Country_sales[Country_sales['Country']!= 'United Kingdom']"
      ],
      "execution_count": 210,
      "outputs": []
    },
    {
      "cell_type": "code",
      "metadata": {
        "id": "22CdbjSzx7BJ",
        "outputId": "e7b5c6b5-5bac-4260-f464-c42dbb7d365e",
        "colab": {
          "base_uri": "https://localhost:8080/",
          "height": 497
        }
      },
      "source": [
        "plt.figure(figsize=(12,8))\n",
        "sns.barplot(y = 'Country', x='Amount', data = Country_sales_no_uk)\n",
        "plt.show()"
      ],
      "execution_count": 211,
      "outputs": [
        {
          "output_type": "display_data",
          "data": {
            "image/png": "[encoded data removed]",
            "text/plain": [
              "<Figure size 864x576 with 1 Axes>"
            ]
          },
          "metadata": {
            "tags": [],
            "needs_background": "light"
          }
        }
      ]
    },
    {
      "cell_type": "code",
      "metadata": {
        "id": "5YRpVU8EyBwz"
      },
      "source": [
        ""
      ],
      "execution_count": 211,
      "outputs": []
    },
    {
      "cell_type": "markdown",
      "metadata": {
        "id": "YIGNvBfvyzYZ"
      },
      "source": [
        "# Good customer"
      ]
    },
    {
      "cell_type": "code",
      "metadata": {
        "id": "kwNxlMUky1wO",
        "outputId": "b235a041-04f7-4a61-c12b-f302ee50c8e5",
        "colab": {
          "base_uri": "https://localhost:8080/",
          "height": 279
        }
      },
      "source": [
        "df.head()"
      ],
      "execution_count": 212,
      "outputs": [
        {
          "output_type": "execute_result",
          "data": {
            "text/html": [
              "<div>\n",
              "<style scoped>\n",
              "    .dataframe tbody tr th:only-of-type {\n",
              "        vertical-align: middle;\n",
              "    }\n",
              "\n",
              "    .dataframe tbody tr th {\n",
              "        vertical-align: top;\n",
              "    }\n",
              "\n",
              "    .dataframe thead th {\n",
              "        text-align: right;\n",
              "    }\n",
              "</style>\n",
              "<table border=\"1\" class=\"dataframe\">\n",
              "  <thead>\n",
              "    <tr style=\"text-align: right;\">\n",
              "      <th></th>\n",
              "      <th>InvoiceNo</th>\n",
              "      <th>StockCode</th>\n",
              "      <th>Description</th>\n",
              "      <th>Quantity</th>\n",
              "      <th>InvoiceDate</th>\n",
              "      <th>UnitPrice</th>\n",
              "      <th>CustomerID</th>\n",
              "      <th>Country</th>\n",
              "      <th>Amount</th>\n",
              "      <th>Date</th>\n",
              "      <th>Month</th>\n",
              "      <th>Hours</th>\n",
              "    </tr>\n",
              "  </thead>\n",
              "  <tbody>\n",
              "    <tr>\n",
              "      <th>0</th>\n",
              "      <td>536365</td>\n",
              "      <td>85123A</td>\n",
              "      <td>WHITE HANGING HEART T-LIGHT HOLDER</td>\n",
              "      <td>6</td>\n",
              "      <td>2010-12-01 08:26:00</td>\n",
              "      <td>2.55</td>\n",
              "      <td>17850.0</td>\n",
              "      <td>United Kingdom</td>\n",
              "      <td>15.30</td>\n",
              "      <td>2010-12-01</td>\n",
              "      <td>12</td>\n",
              "      <td>8</td>\n",
              "    </tr>\n",
              "    <tr>\n",
              "      <th>1</th>\n",
              "      <td>536365</td>\n",
              "      <td>71053</td>\n",
              "      <td>WHITE METAL LANTERN</td>\n",
              "      <td>6</td>\n",
              "      <td>2010-12-01 08:26:00</td>\n",
              "      <td>3.39</td>\n",
              "      <td>17850.0</td>\n",
              "      <td>United Kingdom</td>\n",
              "      <td>20.34</td>\n",
              "      <td>2010-12-01</td>\n",
              "      <td>12</td>\n",
              "      <td>8</td>\n",
              "    </tr>\n",
              "    <tr>\n",
              "      <th>2</th>\n",
              "      <td>536365</td>\n",
              "      <td>84406B</td>\n",
              "      <td>CREAM CUPID HEARTS COAT HANGER</td>\n",
              "      <td>8</td>\n",
              "      <td>2010-12-01 08:26:00</td>\n",
              "      <td>2.75</td>\n",
              "      <td>17850.0</td>\n",
              "      <td>United Kingdom</td>\n",
              "      <td>22.00</td>\n",
              "      <td>2010-12-01</td>\n",
              "      <td>12</td>\n",
              "      <td>8</td>\n",
              "    </tr>\n",
              "    <tr>\n",
              "      <th>3</th>\n",
              "      <td>536365</td>\n",
              "      <td>84029G</td>\n",
              "      <td>KNITTED UNION FLAG HOT WATER BOTTLE</td>\n",
              "      <td>6</td>\n",
              "      <td>2010-12-01 08:26:00</td>\n",
              "      <td>3.39</td>\n",
              "      <td>17850.0</td>\n",
              "      <td>United Kingdom</td>\n",
              "      <td>20.34</td>\n",
              "      <td>2010-12-01</td>\n",
              "      <td>12</td>\n",
              "      <td>8</td>\n",
              "    </tr>\n",
              "    <tr>\n",
              "      <th>4</th>\n",
              "      <td>536365</td>\n",
              "      <td>84029E</td>\n",
              "      <td>RED WOOLLY HOTTIE WHITE HEART.</td>\n",
              "      <td>6</td>\n",
              "      <td>2010-12-01 08:26:00</td>\n",
              "      <td>3.39</td>\n",
              "      <td>17850.0</td>\n",
              "      <td>United Kingdom</td>\n",
              "      <td>20.34</td>\n",
              "      <td>2010-12-01</td>\n",
              "      <td>12</td>\n",
              "      <td>8</td>\n",
              "    </tr>\n",
              "  </tbody>\n",
              "</table>\n",
              "</div>"
            ],
            "text/plain": [
              "  InvoiceNo StockCode  ... Month  Hours\n",
              "0    536365    85123A  ...    12      8\n",
              "1    536365     71053  ...    12      8\n",
              "2    536365    84406B  ...    12      8\n",
              "3    536365    84029G  ...    12      8\n",
              "4    536365    84029E  ...    12      8\n",
              "\n",
              "[5 rows x 12 columns]"
            ]
          },
          "metadata": {
            "tags": []
          },
          "execution_count": 212
        }
      ]
    },
    {
      "cell_type": "code",
      "metadata": {
        "id": "UpHBrG-dy3kc",
        "outputId": "1ecc7645-8509-40f8-dfbe-bfcdd494d000",
        "colab": {
          "base_uri": "https://localhost:8080/",
          "height": 402
        }
      },
      "source": [
        "Customer = df.groupby('CustomerID').agg({'Amount' : ['sum','count'], \n",
        "                                       'InvoiceNo' : 'nunique'\n",
        "                                       })\n",
        "Customer.columns = ['ซื้อรวม', 'จำนวนสินค้าที่ซื้อ', 'จำนวนการมาซื้อ']\n",
        "Customer['เงิน/ซื้อ1ครั้ง'] = Customer['ซื้อรวม'] / Customer['จำนวนการมาซื้อ']\n",
        "Customer.reset_index(inplace=True)\n",
        "Customer"
      ],
      "execution_count": 213,
      "outputs": [
        {
          "output_type": "execute_result",
          "data": {
            "text/html": [
              "<div>\n",
              "<style scoped>\n",
              "    .dataframe tbody tr th:only-of-type {\n",
              "        vertical-align: middle;\n",
              "    }\n",
              "\n",
              "    .dataframe tbody tr th {\n",
              "        vertical-align: top;\n",
              "    }\n",
              "\n",
              "    .dataframe thead th {\n",
              "        text-align: right;\n",
              "    }\n",
              "</style>\n",
              "<table border=\"1\" class=\"dataframe\">\n",
              "  <thead>\n",
              "    <tr style=\"text-align: right;\">\n",
              "      <th></th>\n",
              "      <th>CustomerID</th>\n",
              "      <th>ซื้อรวม</th>\n",
              "      <th>จำนวนสินค้าที่ซื้อ</th>\n",
              "      <th>จำนวนการมาซื้อ</th>\n",
              "      <th>เงิน/ซื้อ1ครั้ง</th>\n",
              "    </tr>\n",
              "  </thead>\n",
              "  <tbody>\n",
              "    <tr>\n",
              "      <th>0</th>\n",
              "      <td>12346.0</td>\n",
              "      <td>77183.60</td>\n",
              "      <td>1</td>\n",
              "      <td>1</td>\n",
              "      <td>77183.600000</td>\n",
              "    </tr>\n",
              "    <tr>\n",
              "      <th>1</th>\n",
              "      <td>12347.0</td>\n",
              "      <td>4310.00</td>\n",
              "      <td>182</td>\n",
              "      <td>7</td>\n",
              "      <td>615.714286</td>\n",
              "    </tr>\n",
              "    <tr>\n",
              "      <th>2</th>\n",
              "      <td>12348.0</td>\n",
              "      <td>1797.24</td>\n",
              "      <td>31</td>\n",
              "      <td>4</td>\n",
              "      <td>449.310000</td>\n",
              "    </tr>\n",
              "    <tr>\n",
              "      <th>3</th>\n",
              "      <td>12349.0</td>\n",
              "      <td>1757.55</td>\n",
              "      <td>73</td>\n",
              "      <td>1</td>\n",
              "      <td>1757.550000</td>\n",
              "    </tr>\n",
              "    <tr>\n",
              "      <th>4</th>\n",
              "      <td>12350.0</td>\n",
              "      <td>334.40</td>\n",
              "      <td>17</td>\n",
              "      <td>1</td>\n",
              "      <td>334.400000</td>\n",
              "    </tr>\n",
              "    <tr>\n",
              "      <th>...</th>\n",
              "      <td>...</td>\n",
              "      <td>...</td>\n",
              "      <td>...</td>\n",
              "      <td>...</td>\n",
              "      <td>...</td>\n",
              "    </tr>\n",
              "    <tr>\n",
              "      <th>4334</th>\n",
              "      <td>18280.0</td>\n",
              "      <td>180.60</td>\n",
              "      <td>10</td>\n",
              "      <td>1</td>\n",
              "      <td>180.600000</td>\n",
              "    </tr>\n",
              "    <tr>\n",
              "      <th>4335</th>\n",
              "      <td>18281.0</td>\n",
              "      <td>80.82</td>\n",
              "      <td>7</td>\n",
              "      <td>1</td>\n",
              "      <td>80.820000</td>\n",
              "    </tr>\n",
              "    <tr>\n",
              "      <th>4336</th>\n",
              "      <td>18282.0</td>\n",
              "      <td>178.05</td>\n",
              "      <td>12</td>\n",
              "      <td>2</td>\n",
              "      <td>89.025000</td>\n",
              "    </tr>\n",
              "    <tr>\n",
              "      <th>4337</th>\n",
              "      <td>18283.0</td>\n",
              "      <td>2094.88</td>\n",
              "      <td>756</td>\n",
              "      <td>16</td>\n",
              "      <td>130.930000</td>\n",
              "    </tr>\n",
              "    <tr>\n",
              "      <th>4338</th>\n",
              "      <td>18287.0</td>\n",
              "      <td>1837.28</td>\n",
              "      <td>70</td>\n",
              "      <td>3</td>\n",
              "      <td>612.426667</td>\n",
              "    </tr>\n",
              "  </tbody>\n",
              "</table>\n",
              "<p>4339 rows × 5 columns</p>\n",
              "</div>"
            ],
            "text/plain": [
              "      CustomerID   ซื้อรวม  จำนวนสินค้าที่ซื้อ  จำนวนการมาซื้อ  เงิน/ซื้อ1ครั้ง\n",
              "0        12346.0  77183.60                   1               1     77183.600000\n",
              "1        12347.0   4310.00                 182               7       615.714286\n",
              "2        12348.0   1797.24                  31               4       449.310000\n",
              "3        12349.0   1757.55                  73               1      1757.550000\n",
              "4        12350.0    334.40                  17               1       334.400000\n",
              "...          ...       ...                 ...             ...              ...\n",
              "4334     18280.0    180.60                  10               1       180.600000\n",
              "4335     18281.0     80.82                   7               1        80.820000\n",
              "4336     18282.0    178.05                  12               2        89.025000\n",
              "4337     18283.0   2094.88                 756              16       130.930000\n",
              "4338     18287.0   1837.28                  70               3       612.426667\n",
              "\n",
              "[4339 rows x 5 columns]"
            ]
          },
          "metadata": {
            "tags": []
          },
          "execution_count": 213
        }
      ]
    },
    {
      "cell_type": "code",
      "metadata": {
        "id": "ebAxCsTb0Yti",
        "outputId": "63323965-54d6-48c6-fe4a-9d2ec9ca275a",
        "colab": {
          "base_uri": "https://localhost:8080/",
          "height": 528
        }
      },
      "source": [
        "plt.figure(figsize=(8,8))\n",
        "sns.scatterplot(y='ซื้อรวม', x='CustomerID', data=Customer)\n",
        "plt.xlabel('Customer', fontsize=15)\n",
        "plt.ylabel('total buyying', fontsize=15)\n",
        "plt.title('Best spended Customer', fontsize=15)\n",
        "plt.xticks(fontsize=0)\n",
        "plt.plot()"
      ],
      "execution_count": 214,
      "outputs": [
        {
          "output_type": "execute_result",
          "data": {
            "text/plain": [
              "[]"
            ]
          },
          "metadata": {
            "tags": []
          },
          "execution_count": 214
        },
        {
          "output_type": "display_data",
          "data": {
            "image/png": "[encoded data removed]",
            "text/plain": [
              "<Figure size 576x576 with 1 Axes>"
            ]
          },
          "metadata": {
            "tags": [],
            "needs_background": "light"
          }
        }
      ]
    },
    {
      "cell_type": "code",
      "metadata": {
        "id": "OXdhaWc50_Sf",
        "outputId": "e10fa8f2-ae1e-40c4-b630-321ed5fd569c",
        "colab": {
          "base_uri": "https://localhost:8080/",
          "height": 528
        }
      },
      "source": [
        "plt.figure(figsize=(8,8))\n",
        "sns.scatterplot(y='จำนวนการมาซื้อ', x='CustomerID', data=Customer)\n",
        "plt.xlabel('Customer', fontsize=15)\n",
        "plt.ylabel('buyying frequency', fontsize=15)\n",
        "plt.title('Best frequency Customer', fontsize=15)\n",
        "plt.xticks(fontsize=0)\n",
        "plt.plot()"
      ],
      "execution_count": 215,
      "outputs": [
        {
          "output_type": "execute_result",
          "data": {
            "text/plain": [
              "[]"
            ]
          },
          "metadata": {
            "tags": []
          },
          "execution_count": 215
        },
        {
          "output_type": "display_data",
          "data": {
            "image/png": "[encoded data removed]",
            "text/plain": [
              "<Figure size 576x576 with 1 Axes>"
            ]
          },
          "metadata": {
            "tags": [],
            "needs_background": "light"
          }
        }
      ]
    },
    {
      "cell_type": "markdown",
      "metadata": {
        "id": "FrJB8zxu367t"
      },
      "source": [
        "# Best product"
      ]
    },
    {
      "cell_type": "code",
      "metadata": {
        "id": "eL9Tge7ELXpJ",
        "outputId": "f76ad17a-4f90-43e4-d7d5-4dfc16561c8c",
        "colab": {
          "base_uri": "https://localhost:8080/",
          "height": 279
        }
      },
      "source": [
        "df.head()"
      ],
      "execution_count": 223,
      "outputs": [
        {
          "output_type": "execute_result",
          "data": {
            "text/html": [
              "<div>\n",
              "<style scoped>\n",
              "    .dataframe tbody tr th:only-of-type {\n",
              "        vertical-align: middle;\n",
              "    }\n",
              "\n",
              "    .dataframe tbody tr th {\n",
              "        vertical-align: top;\n",
              "    }\n",
              "\n",
              "    .dataframe thead th {\n",
              "        text-align: right;\n",
              "    }\n",
              "</style>\n",
              "<table border=\"1\" class=\"dataframe\">\n",
              "  <thead>\n",
              "    <tr style=\"text-align: right;\">\n",
              "      <th></th>\n",
              "      <th>InvoiceNo</th>\n",
              "      <th>StockCode</th>\n",
              "      <th>Description</th>\n",
              "      <th>Quantity</th>\n",
              "      <th>InvoiceDate</th>\n",
              "      <th>UnitPrice</th>\n",
              "      <th>CustomerID</th>\n",
              "      <th>Country</th>\n",
              "      <th>Amount</th>\n",
              "      <th>Date</th>\n",
              "      <th>Month</th>\n",
              "      <th>Hours</th>\n",
              "    </tr>\n",
              "  </thead>\n",
              "  <tbody>\n",
              "    <tr>\n",
              "      <th>0</th>\n",
              "      <td>536365</td>\n",
              "      <td>85123A</td>\n",
              "      <td>WHITE HANGING HEART T-LIGHT HOLDER</td>\n",
              "      <td>6</td>\n",
              "      <td>2010-12-01 08:26:00</td>\n",
              "      <td>2.55</td>\n",
              "      <td>17850.0</td>\n",
              "      <td>United Kingdom</td>\n",
              "      <td>15.30</td>\n",
              "      <td>2010-12-01</td>\n",
              "      <td>12</td>\n",
              "      <td>8</td>\n",
              "    </tr>\n",
              "    <tr>\n",
              "      <th>1</th>\n",
              "      <td>536365</td>\n",
              "      <td>71053</td>\n",
              "      <td>WHITE METAL LANTERN</td>\n",
              "      <td>6</td>\n",
              "      <td>2010-12-01 08:26:00</td>\n",
              "      <td>3.39</td>\n",
              "      <td>17850.0</td>\n",
              "      <td>United Kingdom</td>\n",
              "      <td>20.34</td>\n",
              "      <td>2010-12-01</td>\n",
              "      <td>12</td>\n",
              "      <td>8</td>\n",
              "    </tr>\n",
              "    <tr>\n",
              "      <th>2</th>\n",
              "      <td>536365</td>\n",
              "      <td>84406B</td>\n",
              "      <td>CREAM CUPID HEARTS COAT HANGER</td>\n",
              "      <td>8</td>\n",
              "      <td>2010-12-01 08:26:00</td>\n",
              "      <td>2.75</td>\n",
              "      <td>17850.0</td>\n",
              "      <td>United Kingdom</td>\n",
              "      <td>22.00</td>\n",
              "      <td>2010-12-01</td>\n",
              "      <td>12</td>\n",
              "      <td>8</td>\n",
              "    </tr>\n",
              "    <tr>\n",
              "      <th>3</th>\n",
              "      <td>536365</td>\n",
              "      <td>84029G</td>\n",
              "      <td>KNITTED UNION FLAG HOT WATER BOTTLE</td>\n",
              "      <td>6</td>\n",
              "      <td>2010-12-01 08:26:00</td>\n",
              "      <td>3.39</td>\n",
              "      <td>17850.0</td>\n",
              "      <td>United Kingdom</td>\n",
              "      <td>20.34</td>\n",
              "      <td>2010-12-01</td>\n",
              "      <td>12</td>\n",
              "      <td>8</td>\n",
              "    </tr>\n",
              "    <tr>\n",
              "      <th>4</th>\n",
              "      <td>536365</td>\n",
              "      <td>84029E</td>\n",
              "      <td>RED WOOLLY HOTTIE WHITE HEART.</td>\n",
              "      <td>6</td>\n",
              "      <td>2010-12-01 08:26:00</td>\n",
              "      <td>3.39</td>\n",
              "      <td>17850.0</td>\n",
              "      <td>United Kingdom</td>\n",
              "      <td>20.34</td>\n",
              "      <td>2010-12-01</td>\n",
              "      <td>12</td>\n",
              "      <td>8</td>\n",
              "    </tr>\n",
              "  </tbody>\n",
              "</table>\n",
              "</div>"
            ],
            "text/plain": [
              "  InvoiceNo StockCode  ... Month  Hours\n",
              "0    536365    85123A  ...    12      8\n",
              "1    536365     71053  ...    12      8\n",
              "2    536365    84406B  ...    12      8\n",
              "3    536365    84029G  ...    12      8\n",
              "4    536365    84029E  ...    12      8\n",
              "\n",
              "[5 rows x 12 columns]"
            ]
          },
          "metadata": {
            "tags": []
          },
          "execution_count": 223
        }
      ]
    },
    {
      "cell_type": "code",
      "metadata": {
        "id": "_60DJ-M139j7",
        "outputId": "fdea607a-1ed8-42ba-b1ff-32e4aa74b72b",
        "colab": {
          "base_uri": "https://localhost:8080/",
          "height": 343
        }
      },
      "source": [
        "Best_Product = df.groupby('Description')[['Amount', 'Quantity']].sum()\n",
        "Best_Product.columns = ['รายรับรวม', 'จำนวนสินค้าที่ขายได้']\n",
        "Best_Product.reset_index(inplace=True)\n",
        "Best_Product = Best_Product.sort_values(by='รายรับรวม', ascending=False)[0:10]\n",
        "Best_Product"
      ],
      "execution_count": 254,
      "outputs": [
        {
          "output_type": "execute_result",
          "data": {
            "text/html": [
              "<div>\n",
              "<style scoped>\n",
              "    .dataframe tbody tr th:only-of-type {\n",
              "        vertical-align: middle;\n",
              "    }\n",
              "\n",
              "    .dataframe tbody tr th {\n",
              "        vertical-align: top;\n",
              "    }\n",
              "\n",
              "    .dataframe thead th {\n",
              "        text-align: right;\n",
              "    }\n",
              "</style>\n",
              "<table border=\"1\" class=\"dataframe\">\n",
              "  <thead>\n",
              "    <tr style=\"text-align: right;\">\n",
              "      <th></th>\n",
              "      <th>Description</th>\n",
              "      <th>รายรับรวม</th>\n",
              "      <th>จำนวนสินค้าที่ขายได้</th>\n",
              "    </tr>\n",
              "  </thead>\n",
              "  <tbody>\n",
              "    <tr>\n",
              "      <th>1072</th>\n",
              "      <td>DOTCOM POSTAGE</td>\n",
              "      <td>206248.77</td>\n",
              "      <td>708</td>\n",
              "    </tr>\n",
              "    <tr>\n",
              "      <th>2867</th>\n",
              "      <td>REGENCY CAKESTAND 3 TIER</td>\n",
              "      <td>174484.74</td>\n",
              "      <td>13890</td>\n",
              "    </tr>\n",
              "    <tr>\n",
              "      <th>2401</th>\n",
              "      <td>PAPER CRAFT , LITTLE BIRDIE</td>\n",
              "      <td>168469.60</td>\n",
              "      <td>80995</td>\n",
              "    </tr>\n",
              "    <tr>\n",
              "      <th>3860</th>\n",
              "      <td>WHITE HANGING HEART T-LIGHT HOLDER</td>\n",
              "      <td>106292.77</td>\n",
              "      <td>37895</td>\n",
              "    </tr>\n",
              "    <tr>\n",
              "      <th>2427</th>\n",
              "      <td>PARTY BUNTING</td>\n",
              "      <td>99504.33</td>\n",
              "      <td>18299</td>\n",
              "    </tr>\n",
              "    <tr>\n",
              "      <th>1827</th>\n",
              "      <td>JUMBO BAG RED RETROSPOT</td>\n",
              "      <td>94340.05</td>\n",
              "      <td>48478</td>\n",
              "    </tr>\n",
              "    <tr>\n",
              "      <th>2065</th>\n",
              "      <td>MEDIUM CERAMIC TOP STORAGE JAR</td>\n",
              "      <td>81700.92</td>\n",
              "      <td>78033</td>\n",
              "    </tr>\n",
              "    <tr>\n",
              "      <th>2205</th>\n",
              "      <td>Manual</td>\n",
              "      <td>78112.82</td>\n",
              "      <td>7231</td>\n",
              "    </tr>\n",
              "    <tr>\n",
              "      <th>2706</th>\n",
              "      <td>POSTAGE</td>\n",
              "      <td>78101.88</td>\n",
              "      <td>3150</td>\n",
              "    </tr>\n",
              "    <tr>\n",
              "      <th>2755</th>\n",
              "      <td>RABBIT NIGHT LIGHT</td>\n",
              "      <td>66964.99</td>\n",
              "      <td>30788</td>\n",
              "    </tr>\n",
              "  </tbody>\n",
              "</table>\n",
              "</div>"
            ],
            "text/plain": [
              "                             Description  รายรับรวม  จำนวนสินค้าที่ขายได้\n",
              "1072                      DOTCOM POSTAGE  206248.77                   708\n",
              "2867            REGENCY CAKESTAND 3 TIER  174484.74                 13890\n",
              "2401         PAPER CRAFT , LITTLE BIRDIE  168469.60                 80995\n",
              "3860  WHITE HANGING HEART T-LIGHT HOLDER  106292.77                 37895\n",
              "2427                       PARTY BUNTING   99504.33                 18299\n",
              "1827             JUMBO BAG RED RETROSPOT   94340.05                 48478\n",
              "2065      MEDIUM CERAMIC TOP STORAGE JAR   81700.92                 78033\n",
              "2205                              Manual   78112.82                  7231\n",
              "2706                             POSTAGE   78101.88                  3150\n",
              "2755                  RABBIT NIGHT LIGHT   66964.99                 30788"
            ]
          },
          "metadata": {
            "tags": []
          },
          "execution_count": 254
        }
      ]
    },
    {
      "cell_type": "code",
      "metadata": {
        "id": "yQdmT_3s4uYL",
        "outputId": "836b27f2-0ca9-441c-cc9a-f0e0057707e2",
        "colab": {
          "base_uri": "https://localhost:8080/",
          "height": 520
        }
      },
      "source": [
        "plt.figure(figsize=(8,8))\n",
        "sns.barplot(x='รายรับรวม', y='Description', data=Best_Product)\n",
        "plt.xlabel('Product name', fontsize=15)\n",
        "plt.ylabel('Total amount', fontsize=15)\n",
        "plt.title('Total amount and Product name', fontsize=15)\n",
        "plt.show()"
      ],
      "execution_count": 255,
      "outputs": [
        {
          "output_type": "display_data",
          "data": {
            "image/png": "[encoded data removed]",
            "text/plain": [
              "<Figure size 576x576 with 1 Axes>"
            ]
          },
          "metadata": {
            "tags": [],
            "needs_background": "light"
          }
        }
      ]
    },
    {
      "cell_type": "markdown",
      "metadata": {
        "id": "HC_6pL2m61WH"
      },
      "source": [
        "# Dashboard"
      ]
    },
    {
      "cell_type": "code",
      "metadata": {
        "id": "NOc5MGKqLEjq",
        "outputId": "79262649-4935-4492-c97a-e1ab82a2a45e",
        "colab": {
          "base_uri": "https://localhost:8080/",
          "height": 753
        }
      },
      "source": [
        "fig, axes = plt.subplots(4,2,figsize=(20,15))\n",
        "gs = axes[1, 1].get_gridspec()\n",
        "for a in axes[1:, -1]:\n",
        "    a.remove()\n",
        "axbig = fig.add_subplot(gs[1:, -1])\n",
        "\n",
        "# กราฟ 1\n",
        "axes[0,0].bar(Month_sales['Month'], Month_sales[\"รายรับรวม\"], width=0.5, color='#E7E11A', alpha=1)\n",
        "axes[0,0].set_xlabel('Month',fontsize=10)\n",
        "axes[0,0].set_ylabel('Total amount',fontsize=10)\n",
        "axes[0,0].set_title('Month Comparison between Total amount and Month',fontsize=12)\n",
        "axes[0,0].grid(axis='y', alpha=0.75)\n",
        "\n",
        "# กราฟ 2\n",
        "axes[1,0].bar(Month_sales['Month'], Month_sales['จำนวนการซื้อ'], width=0.5, color = '#DC4A36', alpha=0.8)\n",
        "# sns.barplot(x='Month', y='จำนวนการซื้อ', data=Month_sales)\n",
        "axes[1,0].set_xlabel('Month', fontsize=10)\n",
        "axes[1,0].set_ylabel('Number of buyying', fontsize=10)\n",
        "axes[1,0].set_title('Month Comparison between Number of Buyying and Month', fontsize=12)\n",
        "axes[1,0].grid(axis='y', alpha=0.7)\n",
        "\n",
        "# กราฟ 3\n",
        "sns.barplot(x='Hours', y='Amount', data=Time_sales, palette=\"viridis\", ax=axes[2,0])\n",
        "axes[2,0].set_title('Amount in each hours', fontsize=15)\n",
        "axes[2,0].set_xlabel('Hours', fontsize=15)\n",
        "axes[2,0].set_ylabel('Amount', fontsize=15)\n",
        "axes[2,0].grid(axis='both', alpha=0.3)\n",
        "\n",
        "# กราฟ 4\n",
        "sns.barplot(y = 'Country', x='Amount', data = Country_sales_no_uk, ax=axbig)\n",
        "axbig.set_title('Country (not include UK)', fontsize=12)\n",
        "\n",
        "# กราฟ 5\n",
        "sns.scatterplot(y='ซื้อรวม', x='CustomerID', data=Customer, ax=axes[0,1])\n",
        "axes[0,1].set_xlabel('Customer', fontsize=10)\n",
        "axes[0,1].set_ylabel('total buyying', fontsize=10)\n",
        "axes[0,1].set_title('Best spended Customer', fontsize=12)\n",
        "\n",
        "# กราฟ 6 \n",
        "sns.barplot(x='รายรับรวม', y='Description', data=Best_Product, ax=axes[3,0])\n",
        "axes[3,0].set_xlabel('Product name', fontsize=10)\n",
        "axes[3,0].set_ylabel('Total amount', fontsize=10)\n",
        "axes[3,0].set_title('Total amount and Product name', fontsize=12)"
      ],
      "execution_count": 312,
      "outputs": [
        {
          "output_type": "execute_result",
          "data": {
            "text/plain": [
              "Text(0.5, 1.0, 'Total amount and Product name')"
            ]
          },
          "metadata": {
            "tags": []
          },
          "execution_count": 312
        },
        {
          "output_type": "display_data",
          "data": {
            "image/png": "[encoded data removed]",
            "text/plain": [
              "<Figure size 1440x1080 with 6 Axes>"
            ]
          },
          "metadata": {
            "tags": [],
            "needs_background": "light"
          }
        }
      ]
    },
    {
      "cell_type": "code",
      "metadata": {
        "id": "VE9DspKOSaal"
      },
      "source": [
        ""
      ],
      "execution_count": null,
      "outputs": []
    }
  ]
}